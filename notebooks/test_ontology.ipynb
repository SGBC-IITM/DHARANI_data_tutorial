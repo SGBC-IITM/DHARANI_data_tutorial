{
 "cells": [
  {
   "cell_type": "markdown",
   "metadata": {},
   "source": [
    "## check ontology helper"
   ]
  },
  {
   "cell_type": "code",
   "execution_count": 1,
   "metadata": {},
   "outputs": [],
   "source": [
    "import sys\n",
    "sys.path.append('..')\n",
    "from ontology_handling import TreeHelper"
   ]
  },
  {
   "cell_type": "code",
   "execution_count": 2,
   "metadata": {},
   "outputs": [],
   "source": [
    "ontohelper_dharani = TreeHelper(ontoname='dharani')"
   ]
  },
  {
   "cell_type": "code",
   "execution_count": 3,
   "metadata": {},
   "outputs": [
    {
     "name": "stdout",
     "output_type": "stream",
     "text": [
      "[lvl] id (acronym) name\n",
      "---------------------\n",
      " [0] 1 (Br) Brain\n",
      "   [1] 2 (FB) Forebrain\n",
      "     [2] 3 (Tel) Telencephalon\n",
      "       [3] 4 (Ctx) Cerebral cortex\n",
      "         [*] 5 (SGL-CTX) Subpial granular layer, cerebral cortex\n",
      "         [*] 6 (MZ-CTX) Marginal zone, cerebral cortex\n",
      "         [*] 7 (CP-CTX) Cortical plate, cerebral cortex\n",
      "         [*] 8 (SP-CTX) Subplate zone, cerebral cortex\n",
      "         [*] 9 (IZ-CTX) Intermediate zone, cerebral cortex\n",
      "         [*] 10 (SVZ-CTX) Subventricular zone, cerebral cortex\n",
      "         [*] 11 (VZ-CTX) Ventricular zone, cerebral cortex\n",
      "         [4] 12 (FCtx) Frontal cortex\n",
      "           [*] 13 (SGL-FCTx) Subpial granular layer, frontal cortex\n",
      "           [*] 14 (MZ-FCTx) Marginal zone, frontal cortex\n",
      "           [*] 15 (CP-FCTx) Cortical plate, frontal cortex\n",
      "           [*] 16 (SP-FCTx) Subplate zone, frontal cortex\n",
      "           [*] 17 (IZ-FCTx) Intermediate zone, frontal cortex\n",
      "           [*] 18 (SVZ-FCTx) Subventricular zone, frontal cortex\n",
      "           [*] 19 (VZ-FCTx) Ventricular zone, frontal cortex\n",
      "         [4] 20 (CeS) Central sulcus\n",
      "         [4] 21 (ORB) Orbital cortex\n",
      "           [*] 22 (SGL-ORB) Subpial granular layer, orbital cortex\n",
      "           [*] 23 (MZ-ORB) Marginal zone, orbital cortex\n",
      "           [*] 24 (CP-ORB) Cortical plate, orbital cortex\n",
      "           [*] 25 (SP-ORB) Subplate zone, orbital cortex\n",
      "           [*] 26 (IZ-ORB) Intermediate zone, orbital cortex\n",
      "           [*] 27 (SVZ-ORB) Subventricular zone, orbital cortex\n",
      "           [*] 28 (VZ-ORB) Ventricular zone, orbital cortex\n",
      "         [4] 29 (PAR) Parietal cortex\n",
      "           [*] 30 (SGL-PAR) Subpial granular layer, parietal cortex\n",
      "           [*] 31 (MZ-PAR) Marginal zone, parietal cortex\n",
      "           [*] 32 (CP-PAR) Cortical plate, parietal cortex\n",
      "           [*] 33 (SP-PAR) Subplate zone, parietal cortex\n",
      "           [*] 34 (IZ-PAR) Intermediate zone, parietal cortex\n",
      "           [*] 35 (SVZ-PAR) Subventricular zone, parietal cortex\n",
      "           [*] 36 (VZ-PAR) Ventricular zone, parietal cortex\n",
      "         [4] 37 (POS) Parieto-occipital sulcus\n",
      "         [4] 38 (OCC) Occipital cortex\n",
      "           [*] 39 (SGL-OCC) Subpial granular layer, occipital cortex\n",
      "           [*] 40 (MZ-OCC) Marginal zone, occipital cortex\n",
      "           [*] 41 (CP-OCC) Cortical plate, occipital cortex\n",
      "           [*] 42 (SP-OCC) Subplate zone, occipital cortex\n",
      "           [*] 43 (IZ-OCC) Intermediate zone, occipital cortex\n",
      "           [*] 44 (SVZ-OCC) Subventricular zone, occipital cortex\n",
      "           [*] 45 (VZ-OCC) Ventricular zone, occipital cortex\n",
      "         [4] 46 (CaS) Calcarine sulcus\n",
      "         [4] 47 (TEMP) Temporal cortex\n",
      "           [*] 48 (SGL-TEMP) Subpial granular layer, temporal cortex\n",
      "           [*] 49 (MZ-TEMP) Marginal zone, temporal cortex\n",
      "           [*] 50 (CP-TEMP) Cortical plate, temporal cortex\n",
      "           [*] 51 (SP-TEMP) Subplate zone, temporal cortex\n",
      "           [*] 52 (IZ-TEMP) Intermediate zone, temporal cortex\n",
      "           [*] 53 (SVZ-TEMP) Subventricular zone, temporal cortex\n",
      "           [*] 54 (VZ-TEMP) Ventricular zone, temporal cortex\n",
      "         [4] 55 (PARG) Parahippocampal gyrus\n",
      "           [5] 56 (ENT) Entorhinal cortex\n",
      "             [*] 57 (SGL-ENT) Subpial granular layer, entorhinal cortex\n",
      "             [*] 58 (MZ-ENT) Marginal zone, entorhinal cortex\n",
      "             [*] 59 (CP-ENT) Cortical plate, entorhinal cortex\n",
      "             [*] 60 (SP-ENT) Subplate zone, entorhinal cortex\n",
      "             [*] 61 (IZ-ENT) Intermediate zone, entorhinal cortex\n",
      "             [*] 62 (SVZ-ENT) Subventricular zone, entorhinal cortex\n",
      "             [*] 63 (VZ-ENT) Ventricular zone, entorhinal cortex\n",
      "         [4] 65 (ArCTx) Archicortex\n",
      "         [4] 64 (AlCTx) Allocortex\n",
      "           [5] 66 (HPF) Hippocampal formation\n",
      "             [*] 67 (SGL-HPF) Subpial granular layer, hippocampal formation\n",
      "             [*] 68 (MZ-HPF) Marginal zone, hippocampal formation\n",
      "             [*] 69 (CP-HPF) Cortical plate, hippocampal formation\n",
      "             [*] 70 (SP-HPF) Subplate zone, hippocampal formation\n",
      "             [*] 71 (IZ-HPF) Intermediate zone, hippocampal formation\n",
      "             [*] 72 (SVZ-HPF) Subventricular zone, hippocampal formation\n",
      "             [*] 73 (VZ-HPF) Ventricular zone, hippocampal formation\n",
      "             [6] 74 (HIP) Hippocampus\n",
      "               [*] 75 (SGL-HIP) Subpial granular layer, hippocampus\n",
      "               [*] 76 (MZ-HIP) Marginal zone, hippocampus\n",
      "               [*] 77 (CP-HIP) Cortical plate, hippocampus\n",
      "               [*] 78 (SP-HIP) Subplate zone, hippocampus\n",
      "               [*] 79 (IZ-HIP) Intermediate zone, hippocampus\n",
      "               [*] 80 (SVZ-HIP) Subventricular zone, hippocampus\n",
      "               [*] 81 (VZ-HIP) Ventricular zone, hippocampus\n",
      "               [7] 82 (DG) Dentate gyrus\n",
      "               [7] 83 (CA) Ammon's horn\n",
      "                 [8] 386 (CA1) CA1 field of hippocampus\n",
      "                   [*] 420 (SP-CA1) Subplate zone, CA1 field\n",
      "                   [*] 421 (IZ-CA1) Intermediate zone, CA1 field\n",
      "                 [8] 387 (CA2) CA2 field of hippocampus\n",
      "                   [*] 422 (SP-CA2) Subplate zone, CA2 field\n",
      "                   [*] 423 (IZ-CA2) Intermediate zone, CA2 field\n",
      "                 [8] 388 (CA3) CA3 field of hippocampus\n",
      "                   [*] 424 (SP-CA3) Subplate zone, CA3 field\n",
      "                   [*] 425 (IZ-CA3) Intermediate zone, CA3 field\n",
      "                 [8] 389 (CA4) CA4 field of hippocampus\n",
      "                   [*] 426 (SP-CA4) Subplate zone, CA4 field\n",
      "                   [*] 427 (IZ-CA4) Intermediate zone, CA4 field\n",
      "               [7] 84 (IG) Induseum griseum\n",
      "             [6] 85 (SUB) Subiculum\n",
      "               [*] 86 (SGL-SUB) Subpial granular layer, subiculum\n",
      "               [*] 87 (MZ-SUB) Marginal zone, subiculum\n",
      "               [*] 88 (CP-SUB) Cortical plate, subiculum\n",
      "               [*] 89 (SP-SUB) Subplate zone, subiculum\n",
      "               [*] 90 (IZ-SUB) Intermediate zone, subiculum\n",
      "               [*] 91 (SVZ-SUB) Subventricular zone, subiculum\n",
      "               [*] 92 (VZ-SUB) Ventricular zone, subiculum\n",
      "             [6] 93 (PRESUB) Presubiculum\n",
      "               [*] 94 (SGL-PRESUB) Subpial granular layer, presubiculum\n",
      "               [*] 95 (MZ-PRESUB) Marginal zone, presubiculum\n",
      "               [*] 96 (CP-PRESUB) Cortical plate, presubiculum\n",
      "               [*] 97 (SP-PRESUB) Subplate zone, presubiculum\n",
      "               [*] 98 (IZ-PRESUB) Intermediate zone, presubiculum\n",
      "               [*] 99 (SVZ-PRESUB) Subventricular zone, presubiculum\n",
      "               [*] 100 (VZ-PRESUB) Ventricular zone, presubiculum\n",
      "             [6] 101 (PARA) Parasubiculum\n",
      "               [*] 102 (SGL-PARA) Subpial granular layer, parasubiculum\n",
      "               [*] 103 (MZ-PARA) Marginal zone, parasubiculum\n",
      "               [*] 104 (CP-PARA) Cortical plate, parasubiculum\n",
      "               [*] 105 (SP-PARA) Subplate zone, parasubiculum\n",
      "               [*] 106 (IZ-PARA) Intermediate zone, parasubiculum\n",
      "               [*] 107 (SVZ-PARA) Subventricular zone, parasubiculum\n",
      "               [*] 108 (VZ-PARA) Ventricular zone, parasubiculum\n",
      "             [6] 109 (POST) Postsubiculum\n",
      "               [*] 110 (SGL-POST) Subpial granular layer, postsubiculum\n",
      "               [*] 111 (MZ-POST) Marginal zone, postsubiculum\n",
      "               [*] 112 (CP-POST) Cortical plate, postsubiculum\n",
      "               [*] 113 (SP-POST) Subplate zone, postsubiculum\n",
      "               [*] 114 (IZ-POST) Intermediate zone, postsubiculum\n",
      "               [*] 115 (SVZ-POST) Subventricular zone, postsubiculum\n",
      "               [*] 116 (VZ-POST) Ventricular zone, postsubiculum\n",
      "         [4] 117 (LF) Lateral fissure\n",
      "         [4] 118 (INS) Insula\n",
      "           [*] 500 (SGL-INS) Subpial granular layer, insula\n",
      "           [*] 501 (MZ-INS) Marginal zone, insula\n",
      "           [*] 502 (CP-INS) Cortical plate, insula\n",
      "           [*] 503 (SP-INS) Subplate zone, insula\n",
      "           [*] 504 (IZ-INS) Intermediate zone, insula\n",
      "           [*] 505 (SVZ-INS) Subventricular zone, insula\n",
      "           [*] 506 (VZ-INS) Ventricular zone, insula\n",
      "         [4] 120 (CING) Cingulate cortex\n",
      "           [*] 121 (SGL-CING) Subpial granular layer, cingulate cortex\n",
      "           [*] 122 (MZ-CING) Marginal zone, cingulate cortex\n",
      "           [*] 123 (CP-CING) Cortical plate, cingulate cortex\n",
      "           [*] 124 (SP-CING) Subplate zone, cingulate cortex\n",
      "           [*] 125 (IZ-CING) Intermediate zone, cingulate cortex\n",
      "           [*] 126 (SVZ-CING) Subventricular zone, cingulate cortex\n",
      "           [*] 127 (VZ-CING) Ventricular zone, cingulate cortex\n",
      "           [5] 128 (CINGs) Cingulate sulcus\n",
      "           [5] 129 (CINGg) Cingulate gyrus\n",
      "         [4] 130 (TT) Tenia tecta\n",
      "         [4] 131 (CLA) Claustrum\n",
      "         [4] 132 (EP) Endopiriform nucleus\n",
      "         [4] 133 (OLFb) Olfactory bulb\n",
      "         [4] 134 (OLF) Olfactory cortex\n",
      "       [3] 135 (AMY) Amygdala\n",
      "         [4] 136 (BLA) Basolateral complex of the amygdala\n",
      "           [5] 286 (BL) Basal nucleus of the amygdala\n",
      "             [6] 433 (BLd) Basal nucleus of the amygdala, dorsal part\n",
      "             [6] 434 (BLdl) Basal nucleus of the amygdala, dorsolateral part\n",
      "             [6] 435 (BLi) Basal nucleus of the amygdala, intermediate part\n",
      "             [6] 436 (BLvl) Basal nucleus of the amygdala, ventrolateral part\n",
      "           [5] 287 (BM) Basomedial nucleus of the amygdala\n",
      "             [6] 437 (BMmg) Basomedial nucleus of the amygdala, magnocellular part\n",
      "             [6] 438 (BMpv) Basomedial nucleus of the amygdala, parvocellular part\n",
      "           [5] 288 (LA) Lateral nucleus of the amygdala\n",
      "         [4] 137 (CMX) Corticomedial complex of the amygdala\n",
      "           [5] 289 (AAA) Anterior amygdaloid area\n",
      "           [5] 290 (COA) Cortical nucleus of the amygdala\n",
      "             [6] 291 (COAa) Cortical nucleus of the amygdala, anterior part\n",
      "             [6] 292 (COAp) Cortical nucleus of the amygdala, posterior part\n",
      "         [4] 293 (PAC) Periamygdaloid cortex\n",
      "         [4] 294 (MEA) Medial nucleus of the amygdala\n",
      "         [4] 295 (CEA) Central nucleus of the amygdala\n",
      "         [4] 138 (AHi) Amygdalo-hippocampal area\n",
      "         [4] 393 (AStr) Amygdalo-striatal area\n",
      "         [4] 296 (IA) Intercalated cell groups of the amygdala\n",
      "         [4] 297 (PLA) Paralaminar nucleus of the amygdala\n",
      "       [3] 140 (BN) Basal nuclei\n",
      "         [4] 141 (Str) Striatum\n",
      "           [5] 142 (Cau) Caudate nucleus\n",
      "           [5] 143 (Put) Putamen\n",
      "           [5] 144 (NAc) Nucleus accumbens\n",
      "         [4] 145 (GP) Globus pallidus\n",
      "           [5] 146 (GPl) Globus pallidus lateral segment\n",
      "           [5] 147 (GPm) Globus pallidus medial segment\n",
      "         [4] 148 (BFB) Basal forebrain\n",
      "           [5] 149 (SEP) Septum\n",
      "             [6] 150 (LS) Lateral septal nucleus\n",
      "             [6] 151 (MS) Medial septal nucleus\n",
      "           [5] 153 (SI) Substantia innominata\n",
      "           [5] 154 (NDB) Nucleus of the diagonal band\n",
      "           [5] 313 (BNM) Basal nucleus of Meynert\n",
      "         [4] 152 (BST) Bed nucleus of the stria terminalis\n",
      "         [4] 155 (OT) Olfactory tubercle\n",
      "           [5] 439 (IsCj) Islands of Calleja\n",
      "     [2] 159 (Di) Diencephalon\n",
      "       [3] 160 (TH) Thalamus\n",
      "         [4] 254 (DOR) Dorsal complex of the thalamus\n",
      "           [5] 161 (MD) Medial dorsal nucleus of the thalamus\n",
      "           [5] 459 (FA) Nucleus fasciculosus of the thalamus\n",
      "           [5] 162 (LD) Lateral dorsal nucleus of the thalamus\n",
      "           [5] 416 (LP) Lateral posterior nucleus of the thalamus\n",
      "           [5] 255 (SFO) Subfornical organ\n",
      "         [4] 260 (PVTH) Periventricular complex of the thalamus\n",
      "           [5] 171 (Pf) Parafascicular nucleus of the thalamus\n",
      "           [5] 333 (PVT) Paraventricular nucleus of the thalamus\n",
      "           [5] 391 (PT) Paratenial nucleus of the thalamus\n",
      "           [5] 170 (RE) Nucleus reuniens\n",
      "         [4] 256 (ANT) Anterior complex of the thalamus\n",
      "           [5] 163 (AD) Anterodorsal nucleus of the thalamus\n",
      "           [5] 164 (AM) Anteromedial nucleus of the thalamus\n",
      "           [5] 165 (AV) Anteroventral nucleus of the thalamus\n",
      "         [4] 257 (CTH) Central complex of the thalamus\n",
      "           [5] 258 (CMT) Centromedian nucleus of the thalamus\n",
      "           [5] 166 (CL) Central lateral nucleus of the thalamus\n",
      "           [5] 395 (CM) Central medial nucleus of the thalamus\n",
      "           [5] 390 (RH) Rhomboid nucleus of the thalamus\n",
      "         [4] 259 (POT) Posterior complex of the thalamus\n",
      "           [5] 167 (LGN) Lateral geniculate nucleus\n",
      "           [5] 419 (PGN) Pregeniculate nucleus\n",
      "           [5] 168 (MGN) Medial geniculate nucleus\n",
      "           [5] 400 (SGN) Suprageniculate nucleus\n",
      "           [5] 432 (SbGN) Subgeniculate nucleus\n",
      "           [5] 405 (NL) Nucleus limitans of the thalamus\n",
      "           [5] 169 (PULV) Pulvinar nucleus of the thalamus\n",
      "         [4] 282 (VEN) Ventral complex of the thalamus\n",
      "           [5] 329 (VA) Ventral anterior nucleus of the thalamus\n",
      "           [5] 330 (VL) Ventral lateral nucleus of the thalamus\n",
      "           [5] 383 (VM) Ventral medial nucleus of the thalamus\n",
      "           [5] 331 (VPL) Ventral posterolateral nucleus of the thalamus\n",
      "           [5] 332 (VPM) Ventral posteromedial nucleus of the thalamus\n",
      "           [5] 401 (VPI) Ventral posteroinferior nucleus of the thalamus\n",
      "           [5] 402 (VMB) Ventral medial basal nucleus of the thalamus\n",
      "           [5] 380 (SPF) Subparafascicular nucleus\n",
      "             [6] 381 (SPFm) Subparafascicular nucleus, magnocellular part\n",
      "             [6] 382 (SPFp) Subparafascicular nucleus, parvocellular part\n",
      "           [5] 174 (ZI) Zona incerta\n",
      "           [5] 175 (FF) Field of Forel\n",
      "         [4] 172 (H) Habenula\n",
      "           [5] 394 (LH) Lateral habenula\n",
      "           [5] 399 (MH) Medial habenula\n",
      "         [4] 173 (EPI) Epithalamus\n",
      "         [4] 176 (RT) Reticular nucleus of the thalamus\n",
      "       [3] 177 (HY) Hypothalamus\n",
      "         [4] 413 (AHA) Anterior hypothalamic area\n",
      "         [4] 384 (AHN) Anterior hypothalamic nucleus\n",
      "         [4] 178 (SON) Supraoptic nucleus of the hypothalamus\n",
      "         [4] 179 (SCH) Suprachiasmatic nucleus of the hypothalamus\n",
      "         [4] 418 (RCH) Retrochiasmatic nucleus of the hypothalamus\n",
      "         [4] 180 (PVH) Paraventricular nucleus of the hypothalamus\n",
      "         [4] 181 (ARH) Arcuate nucleus of the hypothalamus\n",
      "         [4] 182 (VMH) Ventromedial nucleus of the hypothalamus\n",
      "         [4] 183 (DMH) Dorsomedial nucleus of the hypothalamus\n",
      "         [4] 184 (LHA) Lateral hypothalamic area\n",
      "         [4] 185 (M) Mammillary body\n",
      "           [5] 407 (LMN) Lateral mammillary nucleus\n",
      "           [5] 408 (MMN) Medial mammillary nucleus\n",
      "         [4] 298 (SUM) Supramammillary area\n",
      "         [4] 299 (PMM) Premammillary area\n",
      "         [4] 409 (PMd) Dorsal premammillary nucleus\n",
      "         [4] 410 (PMv) Ventral premammillary nucleus\n",
      "         [4] 306 (TMM) Tuberomammillary nucleus\n",
      "         [4] 186 (PO) Preoptic area\n",
      "           [5] 300 (LPO) Lateral preoptic area\n",
      "           [5] 301 (MEPO) Medial preoptic area\n",
      "         [4] 187 (MPO) Medial preoptic nucleus\n",
      "         [4] 411 (MgPO) Magnocellular preoptic nucleus\n",
      "         [4] 412 (TU) Tuberal area\n",
      "         [4] 302 (LTN) Lateral tuberal nucleus\n",
      "         [4] 303 (PeF) Perifornical nucleus\n",
      "         [4] 304 (PVPO) Preoptic periventricular nucleus\n",
      "         [4] 307 (PHN) Posterior hypothalamic nucleus\n",
      "         [4] 308 (DHA) Dorsal hypothalamic area\n",
      "         [4] 309 (PHM) Posteromedial hypothalamic nucleus\n",
      "         [4] 188 (Sth) Subthalamus\n",
      "         [4] 189 (Pit) Pituitary gland\n",
      "         [4] 190 (Inf) Infundibulum\n",
      "         [4] 191 (ME) Median eminence\n",
      "         [4] 280 (PIN) Pineal gland\n",
      "   [1] 440 (BS) Brainstem\n",
      "     [2] 192 (MB) Midbrain\n",
      "       [3] 203 (Prt) Pretectum\n",
      "         [4] 322 (APT) Anterior pretectal nucleus\n",
      "         [4] 323 (MPT) Medial pretectal nucleus\n",
      "         [4] 324 (PPT) Posterior pretectal nucleus\n",
      "         [4] 325 (NOT) Nucleus of the optic tract\n",
      "         [4] 326 (OPT) Olivary pretectal nucleus\n",
      "       [3] 193 (Tct) Tectum\n",
      "         [4] 194 (SC) Superior colliculus\n",
      "         [4] 195 (IC) Inferior colliculus\n",
      "           [5] 318 (ICc) Inferior colliculus, central nucleus\n",
      "           [5] 319 (ICe) Inferior colliculus, external nucleus\n",
      "           [5] 385 (ICd) Inferior colliculus, dorsal nucleus\n",
      "       [3] 196 (Tgt) Tegmentum\n",
      "         [4] 320 (PBN) Parabigeminal nucleus\n",
      "         [4] 321 (NPC) Nucleus of the posterior commissure\n",
      "         [4] 197 (SN) Substantia nigra\n",
      "           [5] 198 (SNc) Substantia nigra pars compacta\n",
      "           [5] 199 (SNr) Substantia nigra pars reticulata\n",
      "         [4] 200 (R) Red nucleus\n",
      "         [4] 285 (PAG) Periaqueductal gray\n",
      "         [4] 444 (INC) Interstitial nucleus of Cajal\n",
      "         [4] 403 (EW) Edinger-Westphal nucleus\n",
      "         [4] 404 (ND) Nucleus of Darkschewitsch\n",
      "         [4] 263 (III) Oculomotor nuclear complex\n",
      "         [4] 262 (IV) Trochlear nucleus\n",
      "         [4] 261 (V) Mesencephalic nucleus\n",
      "         [4] 201 (VTA) Ventral tegmental area\n",
      "         [4] 428 (RR) Retrorubral area\n",
      "         [4] 449 (PnVTA) Paranigral nucleus of the VTA\n",
      "         [4] 283 (INT) Interpeduncular nucleus\n",
      "           [5] 450 (IPNdl) Interpeduncular nucleu, dorsolateral part\n",
      "           [5] 451 (IPNdm) Interpeduncular nucleu, dorsomedial part\n",
      "           [5] 452 (IPNc) Interpeduncular nucleu, caudal part\n",
      "           [5] 454 (RbN) Rhabdoid nucleus\n",
      "         [4] 453 (PaP) Parapeduncular nucleus\n",
      "       [3] 377 (Ret-MB) Reticular formation, Midbrain\n",
      "     [2] 204 (HB) Hindbrain\n",
      "       [3] 205 (P) Pons\n",
      "         [4] 429 (CGP) Central gray of the pons\n",
      "         [4] 264 (NLLd) Nucleus of the lateral lemniscus, dorsal\n",
      "         [4] 265 (NLLv) Nucleus of the lateral lemniscus, ventral\n",
      "         [4] 266 (PSV) Principal sensory nucleus of the trigeminal\n",
      "         [4] 206 (PB) Parabrachial nucleus\n",
      "           [5] 464 (PBl) Parabrachial nucleus, lateral part\n",
      "           [5] 465 (PBm) Parabrachial nucleus, medial part\n",
      "         [4] 207 (SO) Superior olive\n",
      "         [4] 208 (PG) Pontine gray\n",
      "         [4] 267 (DTN) Dorsal tegmental nucleus\n",
      "         [4] 268 (RTN) Reticular tegmental nucleus\n",
      "         [4] 269 (Vn) Trigeminal motor nucleus\n",
      "         [4] 209 (LC) Locus coeruleus\n",
      "         [4] 372 (Ret-P) Reticular formation, Pons\n",
      "       [3] 211 (Med) Medulla\n",
      "         [4] 378 (Ret-Med) Reticular formation, Medulla\n",
      "         [4] 374 (CN) Cochlear nuclei\n",
      "         [4] 375 (DCN) Dorsal cochlear nucleus\n",
      "         [4] 376 (VCN) Ventral cochlear nucleus\n",
      "         [4] 314 (CUN) Cuneate nucleus\n",
      "         [4] 315 (GR) Gracile nucleus\n",
      "         [4] 316 (AP) Area postrema\n",
      "         [4] 270 (SOL) Solitary nucleus\n",
      "           [5] 271 (X-sens) Dorsal sensory nucleus X\n",
      "           [5] 272 (COM) Commissural nucleus\n",
      "         [4] 273 (SPV) Spinal nucleus of the trigeminal\n",
      "         [4] 274 (VIn) Abducens nucleus\n",
      "         [4] 275 (VIIn) Facial motor nucleus\n",
      "         [4] 276 (VNC) Vestibular nuclear complex\n",
      "         [4] 277 (AMB) Nucleus ambiguus\n",
      "         [4] 278 (Xn) Dorsal motor nucleus\n",
      "         [4] 373 (XIn) Accessory nucleus\n",
      "         [4] 279 (XIIn) Hypoglossal nucleus\n",
      "         [4] 212 (IO) Inferior olive\n",
      "         [4] 213 (NR) Nucleus of Roller\n",
      "         [4] 214 (PRP) Nucleus prepositus\n",
      "         [4] 305 (LRN) Lateral reticular nucleus\n",
      "         [4] 336 (ARM) Arcuate nucleus of the medulla\n",
      "         [4] 430 (INM) Intercalated nucleus of the medulla\n",
      "     [2] 210 (Raphe) Raphe nuclei\n",
      "       [3] 448 (DR) Dorsal raphe nucleus\n",
      "       [3] 445 (RLI) Rostral linear raphe nucleus\n",
      "       [3] 446 (CLI) Caudal linear raphe nucleus\n",
      "       [3] 447 (MrN) Median raphe nucleus\n",
      "       [3] 460 (RM) Raphe magnus nucleus\n",
      "       [3] 461 (RIP) Raphe interpositus nucleus\n",
      "       [3] 462 (RPA) Raphe pallidus nucleus\n",
      "       [3] 463 (RO) Raphe obscurus nucleus\n",
      "   [1] 215 (CB) Cerebellum\n",
      "     [2] 216 (CBX) Cerebellar cortex\n",
      "       [3] 218 (VERM) Vermis\n",
      "         [4] 348 (CBX-Ant) Anterior lobe of cerebellum (H_V)\n",
      "           [5] 349 (LING) Lingula (I-II)\n",
      "           [5] 350 (CENT) Centralis (III)\n",
      "           [5] 351 (CUL) Culmen (IV-V)\n",
      "         [4] 352 (CBX-Cent) Central lobe of cerebellum\n",
      "           [5] 353 (DEC) Declive (VI)\n",
      "           [5] 354 (FOL) Folium (VIIa)\n",
      "           [5] 355 (TUB) Tuber (VIIb)\n",
      "           [5] 356 (PYR) Pyramis (VIII)\n",
      "         [4] 357 (UVU) Uvula (IX)\n",
      "         [4] 358 (NOD) Nodulus (X)\n",
      "       [3] 219 (HEM) Cerebellar hemispheres\n",
      "         [4] 359 (SIM) Simplex lobule (HVI)\n",
      "         [4] 360 (AN) Ansiform lobule (HVIIA)\n",
      "           [5] 361 (CRUSI) Ansiform lobule, crus I\n",
      "           [5] 362 (CRUSII) Anisform lobule, crus II\n",
      "         [4] 363 (PRM) Paramedian lobules (HVIIB)\n",
      "         [4] 364 (BVL) Biventral lobule (HVIII)\n",
      "         [4] 365 (FLO) Flocculus (HX)\n",
      "         [4] 366 (PFLO) Parafloccculus (HIX)\n",
      "     [2] 217 (CBN) Cerebellar nuclei\n",
      "       [3] 220 (FN) Fastigial nucleus\n",
      "       [3] 221 (IP) Interposed nucleus\n",
      "       [3] 222 (DN) Dentate nucleus\n",
      "     [2] 223 (TRI) Germinal trigone\n",
      " [0] 231 (SP) Spinal cord\n",
      "   [1] 317 (DGSC) Dorsal gray of the spinal cord\n",
      "   [1] 367 (DH) Dorsal horn\n",
      "   [1] 368 (IH) Intermediate gray of the spinal cord\n",
      "   [1] 369 (CG) Central gray of the spinal cord\n",
      "   [1] 370 (VG) Ventral gray of the spinal cord\n",
      "   [1] 371 (VH) Ventral horn\n",
      " [0] 5000 (dev) Developmental (transient) structures\n",
      "   [1] 158 (GE) Ganglionic eminence\n",
      "   [1] 442 (Mss) Migratory streams\n",
      "     [2] 441 (Ms-g) Migratory stream, general\n",
      "     [2] 156 (Lms) Lateral migratory stream\n",
      "     [2] 157 (Rms) Rostral migratory stream\n",
      "   [1] 1023 (ftctxn) Frontal neuroepithelium\n",
      "   [1] 1022 (orbn) Orbitofrontal neuroepithelium\n",
      "   [1] 1015 (cingn) Cingulate neuroepithelium\n",
      "   [1] 1021 (parn) Parietal lobe neuroepithelium and subventricular zone\n",
      "   [1] 1019 (tempn) Temporal lobe neuroepithelium\n",
      "   [1] 1018 (phipn) Parahippocampal neuroepithelium\n",
      "   [1] 1016 (hipg) Hippocampal glioepithelium/ependyma\n",
      "   [1] 1020 (ocn) Occipital lobe neuroepithelium and subventricular zone\n",
      "   [1] 1024 (acbn) Accumbent neuroepithelium\n",
      "   [1] 1000 (dne) Diencephalic neuroepithelium\n",
      "   [1] 1001 (tg) Thalamic glioepithelium/ependyma\n",
      "   [1] 1002 (eg) Epithalamic glioepithelium/ependyma\n",
      "   [1] 1003 (hg) Hypothalamic glioepithelium/ependyma\n",
      "   [1] 1004 (mg) Mammillary glioepithelium/ependyma\n",
      "   [1] 1005 (prgl) Preoptic glioepithelium/ependyma\n",
      "   [1] 1006 (mn) Mesencephalic neuroepithelium\n",
      "   [1] 1025 (rhn) Rhombencephalic neuroepithelium\n",
      "   [1] 1007 (meg) Medullary glioepithelium/ependyma\n",
      "   [1] 1008 (pcbn) Precerebellar neuroepithelium\n",
      "   [1] 1009 (CBXext) External germinal layer, cerebellum\n",
      "   [1] 1010 (CB-g) Cerebellar glioepithelium/ependym\n",
      "   [1] 1013 (str-g) Strionuclear glioepithelium\n",
      "   [1] 1014 (cc-gli) Callosal glioepithelium\n",
      "   [1] 1026 (tcet) Transient cell zone in the external capsule\n",
      "   [1] 1027 (tcete) Transient cell zone in the extreme capsule\n",
      "   [1] 1028 (cs) Calossal sling\n",
      " [0] 3000 (ft) Fiber tracts\n",
      "   [1] 455 (III) Oculomotor nerve\n",
      "   [1] 468 (IV) Trochlear nerve\n",
      "   [1] 469 (V) Trigeminal nerve\n",
      "   [1] 466 (VI) Abducens nerve\n",
      "   [1] 467 (VII) Facial nerve\n",
      "   [1] 232 (cortf) Corticofugal tract\n",
      "     [2] 242 (cp) Cerebral peduncle\n",
      "     [2] 233 (corts) Corticospinal tract\n",
      "     [2] 234 (corts-l) Lateral corticospinal tract\n",
      "     [2] 281 (pyrd) Pyramidal decussation\n",
      "     [2] 236 (int) Internal capsule\n",
      "   [1] 235 (mfb) Medial forebrain bundle\n",
      "     [2] 247 (fx) Fornix\n",
      "     [2] 339 (fi) Fimbria\n",
      "     [2] 344 (fc) Fasciola cinereum\n",
      "     [2] 245 (stt) Stria terminalis\n",
      "     [2] 246 (stm) Stria medullaris\n",
      "     [2] 284 (mth) Mammillothalamic tract\n",
      "     [2] 396 (pmt) Principal mammillary tract\n",
      "     [2] 397 (smd) Supramammillary decussation\n",
      "     [2] 398 (mp) Mammillary peduncle\n",
      "     [2] 310 (hi) Habenulo-interpenduncular tract\n",
      "     [2] 312 (mtg) Mammillotegmental tract\n",
      "   [1] 243 (ac) Anterior commissure\n",
      "   [1] 244 (ext) External capsule\n",
      "   [1] 415 (lml) Lateral medullary lamina\n",
      "   [1] 417 (emlth) External medullary lamina of the thalamus\n",
      "   [1] 337 (al) Ansa lenticularis\n",
      "   [1] 338 (Unc-f) Uncinate fasciculus (forebrain)\n",
      "   [1] 252 (olfp) Olfactory penduncle\n",
      "   [1] 237 (cor) Corona radiata\n",
      "     [2] 345 (audr) Auditory radiation\n",
      "     [2] 340 (visr) Visual radiation\n",
      "   [1] 238 (cc) Corpus callosum\n",
      "     [2] 239 (cc-g) Corpus callosum, genu\n",
      "     [2] 240 (cc-b) Corpus callosum, body\n",
      "     [2] 241 (cc-s) Corpus callosum, splenium\n",
      "   [1] 251 (ot) Optic tract\n",
      "     [2] 249 (och) Optic chiasm\n",
      "   [1] 334 (im) Internal medullary lamina of the thalamus\n",
      "   [1] 414 (mml) Medial medullary lamina\n",
      "   [1] 248 (pc) Posterior commissure\n",
      "   [1] 431 (scc) Superior colliculus commissure\n",
      "   [1] 343 (bic) Brachium of the inferior colliculus\n",
      "   [1] 327 (ll) Lateral lemniscus\n",
      "   [1] 341 (ml) Medial lemniscus\n",
      "   [1] 342 (tb) Trapezoid body\n",
      "   [1] 311 (df) Dorsal funiculus\n",
      "   [1] 346 (lf) Lateral funiculus\n",
      "   [1] 347 (vf) Ventral funiculus\n",
      "   [1] 457 (dtgx) Dorsal tegmental decussation\n",
      "   [1] 456 (vtgx) Ventral tegmental decussation\n",
      "   [1] 250 (cpb) Cerebellar peduncles\n",
      "   [1] 458 (scpx) Superior cerebellar peduncle decussation\n",
      "   [1] 253 (wmf) White matter fibers\n",
      " [0] 6000 (Vs) Ventricles\n",
      "   [1] 225 (3V) Third ventricle\n",
      "   [1] 226 (LV) Lateral ventricle\n",
      "   [1] 227 (Aq) Aqueduct\n",
      "   [1] 228 (4V) Fourth ventricle\n",
      "   [1] 443 (IpF) Interpeduncular fossa\n",
      "   [1] 229 (Chp) Choroid plexus\n",
      "   [1] 230 (CC) Central canal\n"
     ]
    }
   ],
   "source": [
    "ontohelper_dharani.print_tree()"
   ]
  },
  {
   "cell_type": "code",
   "execution_count": 4,
   "metadata": {},
   "outputs": [
    {
     "data": {
      "text/plain": [
       "496"
      ]
     },
     "execution_count": 4,
     "metadata": {},
     "output_type": "execute_result"
    }
   ],
   "source": [
    "len(ontohelper_dharani)"
   ]
  },
  {
   "cell_type": "markdown",
   "metadata": {},
   "source": [
    "### search"
   ]
  },
  {
   "cell_type": "code",
   "execution_count": 5,
   "metadata": {},
   "outputs": [],
   "source": [
    "for ontoid, rec in ontohelper_dharani.onto_lookup.items():\n",
    "    res = ontohelper_dharani.search(rec.name)\n",
    "    matched = False\n",
    "    errors = []\n",
    "    for elt in res:\n",
    "        if elt[2]!=ontoid and not matched:\n",
    "            errors.append(elt)\n",
    "        else:\n",
    "            matched = True\n",
    "        \n",
    "    if not matched: print('*',end='')\n",
    "    if len(errors)>0:\n",
    "        print(ontoid,rec.name,errors)\n",
    "    "
   ]
  },
  {
   "cell_type": "code",
   "execution_count": 6,
   "metadata": {},
   "outputs": [
    {
     "data": {
      "text/plain": [
       "[('orbital cortex', 90.32258064516128, 21)]"
      ]
     },
     "execution_count": 6,
     "metadata": {},
     "output_type": "execute_result"
    }
   ],
   "source": [
    "ontohelper_dharani.search('orbital neocortex')"
   ]
  },
  {
   "cell_type": "code",
   "execution_count": 7,
   "metadata": {},
   "outputs": [
    {
     "data": {
      "text/plain": [
       "[('subplate zone, ca1 field', 100.0, 420),\n",
       " ('intermediate zone, ca1 field', 100.0, 421)]"
      ]
     },
     "execution_count": 7,
     "metadata": {},
     "output_type": "execute_result"
    }
   ],
   "source": [
    "ontohelper_dharani.search('ca1',partial=True)"
   ]
  },
  {
   "cell_type": "markdown",
   "metadata": {},
   "source": [
    "### subtrees (groups)"
   ]
  },
  {
   "cell_type": "code",
   "execution_count": 8,
   "metadata": {},
   "outputs": [
    {
     "data": {
      "text/plain": [
       "{'HPF': ['HPF'],\n",
       " 'AMY_BN': ['AMY', 'BN'],\n",
       " 'Mig': ['Lms', 'Rms', 'GE'],\n",
       " 'HY': ['HY'],\n",
       " 'TH': ['TH'],\n",
       " 'MB': ['MB'],\n",
       " 'HB': ['HB'],\n",
       " 'BS': ['BS'],\n",
       " 'CB': ['CB'],\n",
       " 'dev': ['dev'],\n",
       " 'ft': ['ft'],\n",
       " 'Vs': ['Vs'],\n",
       " 'Ctx': ['Ctx']}"
      ]
     },
     "execution_count": 8,
     "metadata": {},
     "output_type": "execute_result"
    }
   ],
   "source": [
    "ontohelper_dharani.groups"
   ]
  },
  {
   "cell_type": "code",
   "execution_count": 9,
   "metadata": {},
   "outputs": [
    {
     "name": "stdout",
     "output_type": "stream",
     "text": [
      "[lvl] id (acronym) name\n",
      "---------------------\n",
      " [0] 440 (BS) Brainstem\n",
      "   [1] 192 (MB) Midbrain\n",
      "     [2] 203 (Prt) Pretectum\n",
      "       [3] 322 (APT) Anterior pretectal nucleus\n",
      "       [3] 323 (MPT) Medial pretectal nucleus\n",
      "       [3] 324 (PPT) Posterior pretectal nucleus\n",
      "       [3] 325 (NOT) Nucleus of the optic tract\n",
      "       [3] 326 (OPT) Olivary pretectal nucleus\n",
      "     [2] 193 (Tct) Tectum\n",
      "       [3] 194 (SC) Superior colliculus\n",
      "       [3] 195 (IC) Inferior colliculus\n",
      "         [4] 318 (ICc) Inferior colliculus, central nucleus\n",
      "         [4] 319 (ICe) Inferior colliculus, external nucleus\n",
      "         [4] 385 (ICd) Inferior colliculus, dorsal nucleus\n",
      "     [2] 196 (Tgt) Tegmentum\n",
      "       [3] 320 (PBN) Parabigeminal nucleus\n",
      "       [3] 321 (NPC) Nucleus of the posterior commissure\n",
      "       [3] 197 (SN) Substantia nigra\n",
      "         [4] 198 (SNc) Substantia nigra pars compacta\n",
      "         [4] 199 (SNr) Substantia nigra pars reticulata\n",
      "       [3] 200 (R) Red nucleus\n",
      "       [3] 285 (PAG) Periaqueductal gray\n",
      "       [3] 444 (INC) Interstitial nucleus of Cajal\n",
      "       [3] 403 (EW) Edinger-Westphal nucleus\n",
      "       [3] 404 (ND) Nucleus of Darkschewitsch\n",
      "       [3] 263 (III) Oculomotor nuclear complex\n",
      "       [3] 262 (IV) Trochlear nucleus\n",
      "       [3] 261 (V) Mesencephalic nucleus\n",
      "       [3] 201 (VTA) Ventral tegmental area\n",
      "       [3] 428 (RR) Retrorubral area\n",
      "       [3] 449 (PnVTA) Paranigral nucleus of the VTA\n",
      "       [3] 283 (INT) Interpeduncular nucleus\n",
      "         [4] 450 (IPNdl) Interpeduncular nucleu, dorsolateral part\n",
      "         [4] 451 (IPNdm) Interpeduncular nucleu, dorsomedial part\n",
      "         [4] 452 (IPNc) Interpeduncular nucleu, caudal part\n",
      "         [4] 454 (RbN) Rhabdoid nucleus\n",
      "       [3] 453 (PaP) Parapeduncular nucleus\n",
      "     [2] 377 (Ret-MB) Reticular formation, Midbrain\n",
      "   [1] 204 (HB) Hindbrain\n",
      "     [2] 205 (P) Pons\n",
      "       [3] 429 (CGP) Central gray of the pons\n",
      "       [3] 264 (NLLd) Nucleus of the lateral lemniscus, dorsal\n",
      "       [3] 265 (NLLv) Nucleus of the lateral lemniscus, ventral\n",
      "       [3] 266 (PSV) Principal sensory nucleus of the trigeminal\n",
      "       [3] 206 (PB) Parabrachial nucleus\n",
      "         [4] 464 (PBl) Parabrachial nucleus, lateral part\n",
      "         [4] 465 (PBm) Parabrachial nucleus, medial part\n",
      "       [3] 207 (SO) Superior olive\n",
      "       [3] 208 (PG) Pontine gray\n",
      "       [3] 267 (DTN) Dorsal tegmental nucleus\n",
      "       [3] 268 (RTN) Reticular tegmental nucleus\n",
      "       [3] 269 (Vn) Trigeminal motor nucleus\n",
      "       [3] 209 (LC) Locus coeruleus\n",
      "       [3] 372 (Ret-P) Reticular formation, Pons\n",
      "     [2] 211 (Med) Medulla\n",
      "       [3] 378 (Ret-Med) Reticular formation, Medulla\n",
      "       [3] 374 (CN) Cochlear nuclei\n",
      "       [3] 375 (DCN) Dorsal cochlear nucleus\n",
      "       [3] 376 (VCN) Ventral cochlear nucleus\n",
      "       [3] 314 (CUN) Cuneate nucleus\n",
      "       [3] 315 (GR) Gracile nucleus\n",
      "       [3] 316 (AP) Area postrema\n",
      "       [3] 270 (SOL) Solitary nucleus\n",
      "         [4] 271 (X-sens) Dorsal sensory nucleus X\n",
      "         [4] 272 (COM) Commissural nucleus\n",
      "       [3] 273 (SPV) Spinal nucleus of the trigeminal\n",
      "       [3] 274 (VIn) Abducens nucleus\n",
      "       [3] 275 (VIIn) Facial motor nucleus\n",
      "       [3] 276 (VNC) Vestibular nuclear complex\n",
      "       [3] 277 (AMB) Nucleus ambiguus\n",
      "       [3] 278 (Xn) Dorsal motor nucleus\n",
      "       [3] 373 (XIn) Accessory nucleus\n",
      "       [3] 279 (XIIn) Hypoglossal nucleus\n",
      "       [3] 212 (IO) Inferior olive\n",
      "       [3] 213 (NR) Nucleus of Roller\n",
      "       [3] 214 (PRP) Nucleus prepositus\n",
      "       [3] 305 (LRN) Lateral reticular nucleus\n",
      "       [3] 336 (ARM) Arcuate nucleus of the medulla\n",
      "       [3] 430 (INM) Intercalated nucleus of the medulla\n",
      "   [1] 210 (Raphe) Raphe nuclei\n",
      "     [2] 448 (DR) Dorsal raphe nucleus\n",
      "     [2] 445 (RLI) Rostral linear raphe nucleus\n",
      "     [2] 446 (CLI) Caudal linear raphe nucleus\n",
      "     [2] 447 (MrN) Median raphe nucleus\n",
      "     [2] 460 (RM) Raphe magnus nucleus\n",
      "     [2] 461 (RIP) Raphe interpositus nucleus\n",
      "     [2] 462 (RPA) Raphe pallidus nucleus\n",
      "     [2] 463 (RO) Raphe obscurus nucleus\n"
     ]
    }
   ],
   "source": [
    "ontohelper_dharani.print_subtree('BS')"
   ]
  },
  {
   "cell_type": "markdown",
   "metadata": {},
   "source": [
    "## Special functions"
   ]
  },
  {
   "cell_type": "code",
   "execution_count": 10,
   "metadata": {},
   "outputs": [],
   "source": [
    "logicalareas = ontohelper_dharani.get_ids_of_cortical_areas()"
   ]
  },
  {
   "cell_type": "code",
   "execution_count": 11,
   "metadata": {},
   "outputs": [
    {
     "data": {
      "text/plain": [
       "defaultdict(list,\n",
       "            {'-FCTx': [13, 14, 15, 16, 17, 18, 19],\n",
       "             '-ORB': [22, 23, 24, 25, 26, 27, 28],\n",
       "             '-PAR': [30, 31, 32, 33, 34, 35, 36],\n",
       "             '-OCC': [39, 40, 41, 42, 43, 44, 45],\n",
       "             '-TEMP': [48, 49, 50, 51, 52, 53, 54],\n",
       "             '-ENT': [57, 58, 59, 60, 61, 62, 63],\n",
       "             '-INS': [500, 501, 502, 503, 504, 505, 506],\n",
       "             '-CING': [121, 122, 123, 124, 125, 126, 127]})"
      ]
     },
     "execution_count": 11,
     "metadata": {},
     "output_type": "execute_result"
    }
   ],
   "source": [
    "logicalareas"
   ]
  },
  {
   "cell_type": "code",
   "execution_count": 12,
   "metadata": {},
   "outputs": [],
   "source": [
    "bylev = ontohelper_dharani.get_ids_by_level(1)"
   ]
  },
  {
   "cell_type": "code",
   "execution_count": 13,
   "metadata": {},
   "outputs": [
    {
     "data": {
      "text/plain": [
       "[2,\n",
       " 440,\n",
       " 215,\n",
       " 317,\n",
       " 367,\n",
       " 368,\n",
       " 369,\n",
       " 370,\n",
       " 371,\n",
       " 158,\n",
       " 442,\n",
       " 1023,\n",
       " 1022,\n",
       " 1015,\n",
       " 1021,\n",
       " 1019,\n",
       " 1018,\n",
       " 1016,\n",
       " 1020,\n",
       " 1024,\n",
       " 1000,\n",
       " 1001,\n",
       " 1002,\n",
       " 1003,\n",
       " 1004,\n",
       " 1005,\n",
       " 1006,\n",
       " 1025,\n",
       " 1007,\n",
       " 1008,\n",
       " 1009,\n",
       " 1010,\n",
       " 1013,\n",
       " 1014,\n",
       " 1026,\n",
       " 1027,\n",
       " 1028,\n",
       " 455,\n",
       " 468,\n",
       " 469,\n",
       " 466,\n",
       " 467,\n",
       " 232,\n",
       " 235,\n",
       " 243,\n",
       " 244,\n",
       " 415,\n",
       " 417,\n",
       " 337,\n",
       " 338,\n",
       " 252,\n",
       " 237,\n",
       " 238,\n",
       " 251,\n",
       " 334,\n",
       " 414,\n",
       " 248,\n",
       " 431,\n",
       " 343,\n",
       " 327,\n",
       " 341,\n",
       " 342,\n",
       " 311,\n",
       " 346,\n",
       " 347,\n",
       " 457,\n",
       " 456,\n",
       " 250,\n",
       " 458,\n",
       " 253,\n",
       " 225,\n",
       " 226,\n",
       " 227,\n",
       " 228,\n",
       " 443,\n",
       " 229,\n",
       " 230]"
      ]
     },
     "execution_count": 13,
     "metadata": {},
     "output_type": "execute_result"
    }
   ],
   "source": [
    "bylev"
   ]
  },
  {
   "cell_type": "code",
   "execution_count": 14,
   "metadata": {},
   "outputs": [
    {
     "data": {
      "text/plain": [
       "[1, 2, 3, 4, 21]"
      ]
     },
     "execution_count": 14,
     "metadata": {},
     "output_type": "execute_result"
    }
   ],
   "source": [
    "ancestorids=ontohelper_dharani.get_ancestor_ids(22)\n",
    "ancestorids"
   ]
  },
  {
   "cell_type": "code",
   "execution_count": 15,
   "metadata": {},
   "outputs": [
    {
     "data": {
      "text/plain": [
       "NodeRecord(acronym='SGL-ORB', name='Subpial granular layer, orbital cortex', level=5, parentid=21, color_hex_triplet='#b8a98a')"
      ]
     },
     "execution_count": 15,
     "metadata": {},
     "output_type": "execute_result"
    }
   ],
   "source": [
    "ontohelper_dharani.onto_lookup[22]"
   ]
  },
  {
   "cell_type": "code",
   "execution_count": 16,
   "metadata": {},
   "outputs": [],
   "source": [
    "nd = ontohelper_dharani._get_node_by_ontoid(21)"
   ]
  },
  {
   "cell_type": "code",
   "execution_count": 17,
   "metadata": {},
   "outputs": [
    {
     "data": {
      "text/plain": [
       "{'id': 21,\n",
       " 'name': 'Orbital cortex',\n",
       " 'acronym': 'ORB',\n",
       " 'definition (description)': 'Note: may include only the orbital gyrus. Both terms (orbito-frontal ctx and orbital gyrus) appear in coronal and saggital plates, but only the orbital gyrus is listed in the glossary. The orbital sulcus seems to develop at a later g.w.',\n",
       " 'type (gray matter/fiber tract/CNS cavity/developmental/other)': 'G',\n",
       " 'parent_structure_id': 4,\n",
       " 'color_hex_triplet': 'CFE4C2'}"
      ]
     },
     "execution_count": 17,
     "metadata": {},
     "output_type": "execute_result"
    }
   ],
   "source": [
    "ontohelper_dharani._get_node_data(nd)"
   ]
  },
  {
   "cell_type": "code",
   "execution_count": 18,
   "metadata": {},
   "outputs": [
    {
     "name": "stdout",
     "output_type": "stream",
     "text": [
      " id : 21\n",
      " name : Orbital cortex\n",
      " acronym : ORB\n",
      " definition (description) : Note: may include only the orbital gyrus. Both terms (orbito-frontal ctx and orbital gyrus) appear in coronal and saggital plates, but only the orbital gyrus is listed in the glossary. The orbital sulcus seems to develop at a later g.w.\n",
      " type (gray matter/fiber tract/CNS cavity/developmental/other) : G\n",
      " parent_structure_id : 4\n",
      " color_hex_triplet : CFE4C2\n",
      "\t id : 22\n",
      "\t name : Subpial granular layer, orbital cortex\n",
      "\t acronym : SGL-ORB\n",
      "\t definition (description) : Needs a definition\n",
      "\t type (gray matter/fiber tract/CNS cavity/developmental/other) : D\n",
      "\t parent_structure_id : 21\n",
      "\t color_hex_triplet : b8a98a\n",
      "\t id : 23\n",
      "\t name : Marginal zone, orbital cortex\n",
      "\t acronym : MZ-ORB\n",
      "\t definition (description) : See Kostovic et al. 2018\n",
      "\t type (gray matter/fiber tract/CNS cavity/developmental/other) : D\n",
      "\t parent_structure_id : 21\n",
      "\t color_hex_triplet : de895e\n",
      "\t id : 24\n",
      "\t name : Cortical plate, orbital cortex\n",
      "\t acronym : CP-ORB\n",
      "\t definition (description) : See Kostovic et al. 2018\n",
      "\t type (gray matter/fiber tract/CNS cavity/developmental/other) : D\n",
      "\t parent_structure_id : 21\n",
      "\t color_hex_triplet : f6ca72\n",
      "\t id : 25\n",
      "\t name : Subplate zone, orbital cortex\n",
      "\t acronym : SP-ORB\n",
      "\t definition (description) : See Kostovic et al. 2018\n",
      "\t type (gray matter/fiber tract/CNS cavity/developmental/other) : D\n",
      "\t parent_structure_id : 21\n",
      "\t color_hex_triplet : eafe89\n",
      "\t id : 26\n",
      "\t name : Intermediate zone, orbital cortex\n",
      "\t acronym : IZ-ORB\n",
      "\t definition (description) : See Kostovic et al. 2018\n",
      "\t type (gray matter/fiber tract/CNS cavity/developmental/other) : D\n",
      "\t parent_structure_id : 21\n",
      "\t color_hex_triplet : bcf1ce\n",
      "\t id : 27\n",
      "\t name : Subventricular zone, orbital cortex\n",
      "\t acronym : SVZ-ORB\n",
      "\t definition (description) : See Kostovic et al. 2018\n",
      "\t type (gray matter/fiber tract/CNS cavity/developmental/other) : D\n",
      "\t parent_structure_id : 21\n",
      "\t color_hex_triplet : dbabf2\n",
      "\t id : 28\n",
      "\t name : Ventricular zone, orbital cortex\n",
      "\t acronym : VZ-ORB\n",
      "\t definition (description) : See Kostovic et al. 2018\n",
      "\t type (gray matter/fiber tract/CNS cavity/developmental/other) : D\n",
      "\t parent_structure_id : 21\n",
      "\t color_hex_triplet : e670be\n"
     ]
    }
   ],
   "source": [
    "def show_node(node,lev = 0):\n",
    "    if lev > 1:\n",
    "        return\n",
    "    \n",
    "    for k,v in node.items():\n",
    "        \n",
    "        if k!='children':\n",
    "            print(\"\".join([\"\\t\"]*lev), k, \":\", v)\n",
    "        else:\n",
    "            for ch in node['children']:\n",
    "                show_node(ch,lev+1)\n",
    "        \n",
    "show_node(nd)"
   ]
  },
  {
   "cell_type": "code",
   "execution_count": 19,
   "metadata": {},
   "outputs": [
    {
     "data": {
      "text/plain": [
       "NodeRecord(acronym='CC', name='Central canal', level=1, parentid=6000, color_hex_triplet='#231F21')"
      ]
     },
     "execution_count": 19,
     "metadata": {},
     "output_type": "execute_result"
    }
   ],
   "source": [
    "ontohelper_dharani.onto_lookup[230]"
   ]
  },
  {
   "cell_type": "code",
   "execution_count": 20,
   "metadata": {},
   "outputs": [],
   "source": [
    "layeredareas=ontohelper_dharani.get_ids_of_layered_areas()"
   ]
  },
  {
   "cell_type": "code",
   "execution_count": 21,
   "metadata": {},
   "outputs": [
    {
     "data": {
      "text/plain": [
       "defaultdict(list,\n",
       "            {'SGL-': [13,\n",
       "              22,\n",
       "              30,\n",
       "              39,\n",
       "              48,\n",
       "              57,\n",
       "              67,\n",
       "              75,\n",
       "              86,\n",
       "              94,\n",
       "              102,\n",
       "              110,\n",
       "              500,\n",
       "              121],\n",
       "             'MZ-': [14,\n",
       "              23,\n",
       "              31,\n",
       "              40,\n",
       "              49,\n",
       "              58,\n",
       "              68,\n",
       "              76,\n",
       "              87,\n",
       "              95,\n",
       "              103,\n",
       "              111,\n",
       "              501,\n",
       "              122],\n",
       "             'CP-': [15,\n",
       "              24,\n",
       "              32,\n",
       "              41,\n",
       "              50,\n",
       "              59,\n",
       "              69,\n",
       "              77,\n",
       "              88,\n",
       "              96,\n",
       "              104,\n",
       "              112,\n",
       "              502,\n",
       "              123],\n",
       "             'SP-': [16,\n",
       "              25,\n",
       "              33,\n",
       "              42,\n",
       "              51,\n",
       "              60,\n",
       "              70,\n",
       "              78,\n",
       "              420,\n",
       "              422,\n",
       "              424,\n",
       "              426,\n",
       "              89,\n",
       "              97,\n",
       "              105,\n",
       "              113,\n",
       "              503,\n",
       "              124],\n",
       "             'IZ-': [17,\n",
       "              26,\n",
       "              34,\n",
       "              43,\n",
       "              52,\n",
       "              61,\n",
       "              71,\n",
       "              79,\n",
       "              421,\n",
       "              423,\n",
       "              425,\n",
       "              427,\n",
       "              90,\n",
       "              98,\n",
       "              106,\n",
       "              114,\n",
       "              504,\n",
       "              125],\n",
       "             'SVZ-': [18,\n",
       "              27,\n",
       "              35,\n",
       "              44,\n",
       "              53,\n",
       "              62,\n",
       "              72,\n",
       "              80,\n",
       "              91,\n",
       "              99,\n",
       "              107,\n",
       "              115,\n",
       "              505,\n",
       "              126],\n",
       "             'VZ-': [19,\n",
       "              28,\n",
       "              36,\n",
       "              45,\n",
       "              54,\n",
       "              63,\n",
       "              73,\n",
       "              81,\n",
       "              92,\n",
       "              100,\n",
       "              108,\n",
       "              116,\n",
       "              506,\n",
       "              127]})"
      ]
     },
     "execution_count": 21,
     "metadata": {},
     "output_type": "execute_result"
    }
   ],
   "source": [
    "layeredareas"
   ]
  },
  {
   "cell_type": "code",
   "execution_count": 22,
   "metadata": {},
   "outputs": [
    {
     "data": {
      "text/plain": [
       "NodeRecord(acronym='SGL-ORB', name='Subpial granular layer, orbital cortex', level=5, parentid=21, color_hex_triplet='#b8a98a')"
      ]
     },
     "execution_count": 22,
     "metadata": {},
     "output_type": "execute_result"
    }
   ],
   "source": [
    "ontohelper_dharani.onto_lookup[22]"
   ]
  },
  {
   "cell_type": "code",
   "execution_count": 23,
   "metadata": {},
   "outputs": [
    {
     "data": {
      "text/plain": [
       "NodeRecord(acronym='SGL-CTX', name='Subpial granular layer, cerebral cortex', level=4, parentid=4, color_hex_triplet='#b8a98a')"
      ]
     },
     "execution_count": 23,
     "metadata": {},
     "output_type": "execute_result"
    }
   ],
   "source": [
    "ontohelper_dharani.onto_lookup[5]"
   ]
  },
  {
   "cell_type": "code",
   "execution_count": 24,
   "metadata": {},
   "outputs": [
    {
     "data": {
      "text/plain": [
       "'Ctx'"
      ]
     },
     "execution_count": 24,
     "metadata": {},
     "output_type": "execute_result"
    }
   ],
   "source": [
    "ontohelper_dharani.get_group_by_acronym('ORB')"
   ]
  },
  {
   "cell_type": "code",
   "execution_count": 25,
   "metadata": {},
   "outputs": [],
   "source": [
    "ungroupedids = []\n",
    "for id,rec in ontohelper_dharani.onto_lookup.items():\n",
    "    if ontohelper_dharani.get_group_by_acronym(rec.acronym) is None:\n",
    "        ungroupedids.append(id)"
   ]
  },
  {
   "cell_type": "code",
   "execution_count": 26,
   "metadata": {},
   "outputs": [
    {
     "data": {
      "text/plain": [
       "[NodeRecord(acronym='Br', name='Brain', level=0, parentid=0, color_hex_triplet='#F6FAF4'),\n",
       " NodeRecord(acronym='FB', name='Forebrain', level=1, parentid=1, color_hex_triplet='#EFF6EA'),\n",
       " NodeRecord(acronym='Tel', name='Telencephalon', level=2, parentid=2, color_hex_triplet='#EFF6EA'),\n",
       " NodeRecord(acronym='Di', name='Diencephalon', level=2, parentid=2, color_hex_triplet='#FFF3F3'),\n",
       " NodeRecord(acronym='SP', name='Spinal cord', level=0, parentid=0, color_hex_triplet='#C0C1C2'),\n",
       " NodeRecord(acronym='DGSC', name='Dorsal gray of the spinal cord', level=1, parentid=231, color_hex_triplet='#AFB0B1'),\n",
       " NodeRecord(acronym='DH', name='Dorsal horn', level=1, parentid=231, color_hex_triplet='#AFB0B1'),\n",
       " NodeRecord(acronym='IH', name='Intermediate gray of the spinal cord', level=1, parentid=231, color_hex_triplet='#B1B2B3'),\n",
       " NodeRecord(acronym='CG', name='Central gray of the spinal cord', level=1, parentid=231, color_hex_triplet='#ACADAE'),\n",
       " NodeRecord(acronym='VG', name='Ventral gray of the spinal cord', level=1, parentid=231, color_hex_triplet='#ADAEAF'),\n",
       " NodeRecord(acronym='VH', name='Ventral horn', level=1, parentid=231, color_hex_triplet='#B3B4B5')]"
      ]
     },
     "execution_count": 26,
     "metadata": {},
     "output_type": "execute_result"
    }
   ],
   "source": [
    "[ontohelper_dharani.onto_lookup[id] for id in ungroupedids]"
   ]
  },
  {
   "cell_type": "code",
   "execution_count": null,
   "metadata": {},
   "outputs": [],
   "source": []
  },
  {
   "cell_type": "markdown",
   "metadata": {},
   "source": [
    "## Fuzzy match into Allen ontology"
   ]
  },
  {
   "cell_type": "code",
   "execution_count": 27,
   "metadata": {},
   "outputs": [],
   "source": [
    "ontohelper_allen = TreeHelper('allen_devhuman')"
   ]
  },
  {
   "cell_type": "code",
   "execution_count": 28,
   "metadata": {},
   "outputs": [
    {
     "data": {
      "text/plain": [
       "3315"
      ]
     },
     "execution_count": 28,
     "metadata": {},
     "output_type": "execute_result"
    }
   ],
   "source": [
    "len(ontohelper_allen)"
   ]
  },
  {
   "cell_type": "code",
   "execution_count": 29,
   "metadata": {},
   "outputs": [],
   "source": [
    "\n",
    "def nameupdate(name):\n",
    "    expansions = {\n",
    "        'SG':'subpial granular layer',\n",
    "        'MZ': 'marginal zone',\n",
    "        'CP': 'cortical plate',\n",
    "        'SP': 'subplate zone',\n",
    "        'IZ': 'intermediate zone',\n",
    "        'SZ': 'subventricular zone',\n",
    "        'VZ': 'ventricular zone',\n",
    "        'Hipp': 'hippocampus',\n",
    "        # 'GE': 'ganglionic eminence',\n",
    "    }\n",
    "    if ' in ' in name:\n",
    "        for acr,exp in expansions.items():\n",
    "            name = name.replace(acr,exp)\n",
    "        name = name.replace(' in ', ', ')\n",
    "        \n",
    "    if 'neocortex' in name:\n",
    "        name = name.replace('neocortex','cortex')\n",
    "    return name\n",
    "\n",
    "updated_allen_dict = {k:nameupdate(v.name) for k,v in ontohelper_allen.onto_lookup.items()}\n",
    "\n",
    "ontohelper_allen.search_dict = updated_allen_dict\n"
   ]
  },
  {
   "cell_type": "code",
   "execution_count": 30,
   "metadata": {},
   "outputs": [
    {
     "data": {
      "text/plain": [
       "[('subiculum', 100.0, 10302)]"
      ]
     },
     "execution_count": 30,
     "metadata": {},
     "output_type": "execute_result"
    }
   ],
   "source": [
    "ontohelper_allen.search('subiculum')"
   ]
  },
  {
   "cell_type": "code",
   "execution_count": 31,
   "metadata": {},
   "outputs": [
    {
     "name": "stderr",
     "output_type": "stream",
     "text": [
      " 13%|█▎        | 66/496 [00:00<00:00, 605.51it/s]"
     ]
    },
    {
     "name": "stdout",
     "output_type": "stream",
     "text": [
      "forebrain [('forebrain (prosencephalon)', 100.0, 10156), ('basal forebrain', 100.0, 10349)]\n",
      "subpial granular layer, cerebral cortex [('subpial granular layer, perirhinal cortex', 90.0, 13213), ('subpial granular layer, parietal cortex', 89.74358974358975, 11593), ('subpial granular layer, temporal cortex', 89.74358974358975, 11598), ('subpial granular layer, frontal cortex', 88.31168831168831, 11581), ('subpial granular layer, periallocortex', 88.31168831168831, 12974)]\n",
      "marginal zone, cerebral cortex [('marginal zone, perirhinal cortex', 87.09677419354838, 11645), ('marginal zone, parietal cortex', 86.66666666666667, 10511), ('marginal zone, temporal cortex', 86.66666666666667, 10512)]\n",
      "cortical plate, cerebral cortex [('cortical plate, perirhinal cortex', 87.5, 11746), ('cortical plate, parietal cortex', 87.09677419354838, 10518), ('cortical plate, temporal cortex', 87.09677419354838, 10519), ('cortical plate, frontal cortex', 85.24590163934427, 10516), ('cortical plate, periallocortex', 85.24590163934427, 10521)]\n",
      "subplate zone, cerebral cortex [('subplate zone, perirhinal cortex', 87.09677419354838, 11790), ('subplate zone, parietal cortex', 86.66666666666667, 10525), ('subplate zone, temporal cortex', 86.66666666666667, 10526)]\n",
      "intermediate zone, cerebral cortex [('intermediate zone, perirhinal cortex', 88.57142857142857, 11878), ('intermediate zone, parietal cortex', 88.23529411764706, 10532), ('intermediate zone, temporal cortex', 88.23529411764706, 10533), ('intermediate zone, frontal cortex', 86.56716417910448, 10530), ('intermediate zone, periallocortex', 86.56716417910448, 10535)]\n",
      "subventricular zone, cerebral cortex [('subventricular zone, parietal cortex', 88.88888888888889, 10539), ('subventricular zone, temporal cortex', 88.88888888888889, 10540), ('subventricular zone, frontal cortex', 87.32394366197182, 10537), ('subventricular zone, periallocortex', 87.32394366197182, 10541)]\n",
      "ventricular zone, cerebral cortex [('ventricular zone, perirhinal cortex', 88.23529411764706, 12019), ('ventricular zone, parietal cortex', 87.87878787878788, 10545), ('ventricular zone, temporal cortex', 87.87878787878788, 10546), ('ventricular zone, frontal cortex', 86.15384615384616, 10543), ('ventricular zone, periallocortex', 86.15384615384616, 10548)]\n",
      "orbital cortex [('subpial granular layer, orbital frontal cortex', 100.0, 11583), ('marginal zone, orbital frontal cortex', 100.0, 11608), ('cortical plate, orbital frontal cortex', 100.0, 11652), ('outer cortical plate, orbital frontal cortex', 100.0, 11653), ('inner cortical plate, orbital frontal cortex', 100.0, 11654)]\n",
      "subpial granular layer, orbital cortex [('subpial granular layer, parietal cortex', 93.5064935064935, 11593), ('subpial granular layer, occipital cortex', 92.3076923076923, 11588), ('subpial granular layer, frontal cortex', 92.10526315789474, 11581), ('subpial granular layer, entorhinal cortex', 91.13924050632912, 12975), ('subpial granular layer, temporal cortex', 90.9090909090909, 11598)]\n",
      "marginal zone, orbital cortex [('marginal zone, parietal cortex', 91.52542372881356, 10511), ('marginal zone, occipital cortex', 90.0, 10510), ('marginal zone, frontal cortex', 89.65517241379311, 10509), ('marginal zone, entorhinal cortex', 88.52459016393442, 11641), ('marginal zone, temporal cortex', 88.13559322033898, 10512)]\n",
      "cortical plate, orbital cortex [('cortical plate, parietal cortex', 91.80327868852459, 10518), ('cortical plate, occipital cortex', 90.32258064516128, 10517), ('cortical plate, frontal cortex', 90.0, 10516), ('cortical plate, entorhinal cortex', 88.88888888888889, 11742), ('cortical plate, temporal cortex', 88.52459016393442, 10519)]\n",
      "subplate zone, orbital cortex [('subplate zone, parietal cortex', 91.52542372881356, 10525), ('subplate zone, occipital cortex', 90.0, 10524), ('subplate zone, frontal cortex', 89.65517241379311, 10523), ('subplate zone, entorhinal cortex', 88.52459016393442, 11789), ('subplate zone, temporal cortex', 88.13559322033898, 10526)]\n",
      "intermediate zone, orbital cortex [('intermediate zone, parietal cortex', 92.53731343283582, 10532), ('intermediate zone, occipital cortex', 91.17647058823529, 10531), ('intermediate zone, frontal cortex', 90.9090909090909, 10530), ('intermediate zone, entorhinal cortex', 89.85507246376811, 11877), ('intermediate zone, temporal cortex', 89.55223880597015, 10533)]\n",
      "subventricular zone, orbital cortex [('subventricular zone, parietal cortex', 92.95774647887323, 10539), ('subventricular zone, occipital cortex', 91.66666666666666, 10538), ('subventricular zone, frontal cortex', 91.42857142857143, 10537), ('subventricular zone, temporal cortex', 90.14084507042254, 10540), ('subventricular zone, orbital frontal cortex', 89.74358974358975, 11885)]\n",
      "ventricular zone, orbital cortex [('ventricular zone, parietal cortex', 92.3076923076923, 10545), ('ventricular zone, occipital cortex', 90.9090909090909, 10544), ('ventricular zone, frontal cortex', 90.625, 10543), ('ventricular zone, entorhinal cortex', 89.55223880597015, 13192), ('ventricular zone, temporal cortex', 89.23076923076923, 10546)]\n",
      "subventricular zone, entorhinal cortex [('ventricular zone, entorhinal cortex', 95.89041095890411, 13192), ('subventricular zone, temporal cortex', 89.1891891891892, 10540), ('subventricular zone, frontal cortex', 87.67123287671232, 10537), ('subventricular zone, periallocortex', 87.67123287671232, 10541), ('ventricular zone, perirhinal cortex', 87.67123287671232, 12019)]\n",
      "subventricular zone, hippocampal formation [('subventricular zone', 100.0, 10536), ('ventricular zone', 100.0, 10542)]\n",
      "hippocampus [('cortical plate, rostral hippocampus', 100.0, 11736), ('cortical plate, caudal hippocampus', 100.0, 11737), ('hippocampus (hippocampal formation)', 100.0, 10294)]\n",
      "cortical plate, hippocampus [('cortical plate, caudal hippocampus', 88.52459016393442, 11737), ('cortical plate, rostral hippocampus', 87.09677419354838, 11736)]\n",
      "subventricular zone, hippocampus [('subventricular zone', 100.0, 10536), ('ventricular zone', 100.0, 10542)]\n",
      "ca1 field of hippocampus [('head of hippocampus', 91.89189189189189, 12171), ('body of hippocampus', 91.42857142857143, 12173)]\n",
      "ca2 field of hippocampus [('head of hippocampus', 91.89189189189189, 12171), ('body of hippocampus', 91.42857142857143, 12173)]\n",
      "ca3 field of hippocampus [('head of hippocampus', 91.89189189189189, 12171), ('body of hippocampus', 91.42857142857143, 12173)]\n",
      "ca4 field of hippocampus [('head of hippocampus', 91.89189189189189, 12171), ('body of hippocampus', 91.42857142857143, 12173)]\n",
      "presubiculum [('prosubiculum', 91.66666666666666, 10303), ('subiculum', 85.71428571428572, 10302)]\n",
      "marginal zone, presubiculum [('subiculum', 100.0, 10302), ('marginal zone, presubicular cortex', 92.5925925925926, 11640), ('marginal zone, caudal presubicular cortex (postsubiculum)', 92.5925925925926, 13092), ('prosubiculum', 91.66666666666666, 10303)]\n",
      "cortical plate, presubiculum [('cortical plate', 100.0, 10515), ('subiculum', 100.0, 10302), ('cortical plate, presubicular cortex', 92.85714285714286, 11741), ('cortical plate, rostral presubicular cortex', 92.85714285714286, 13106), ('cortical plate, caudal presubicular cortex (postsubiculum)', 92.85714285714286, 13107)]\n",
      "subplate zone, presubiculum [('subplate zone', 100.0, 10522), ('subiculum', 100.0, 10302), ('subplate zone, presubicular cortex', 92.5925925925926, 11788), ('subplate zone, caudal presubicular cortex (postsubiculum)', 92.5925925925926, 13122), ('prosubiculum', 91.66666666666666, 10303)]\n",
      "intermediate zone, presubiculum [('subiculum', 100.0, 10302), ('intermediate zone, presubicular cortex', 93.5483870967742, 11876), ('intermediate zone, caudal presubicular cortex', 93.5483870967742, 13139), ('prosubiculum', 91.66666666666666, 10303)]\n",
      "subventricular zone, presubiculum [('subventricular zone', 100.0, 10536), ('ventricular zone', 100.0, 10542), ('subiculum', 100.0, 10302), ('prosubiculum', 91.66666666666666, 10303)]\n",
      "ventricular zone, presubiculum [('ventricular zone', 100.0, 10542), ('subiculum', 100.0, 10302), ('ventricular zone, presubicular cortex', 93.33333333333333, 12017), ('ventricular zone, caudal presubicular cortex', 93.33333333333333, 13191), ('prosubiculum', 91.66666666666666, 10303)]\n",
      "marginal zone, parasubiculum [('subiculum', 100.0, 10302), ('marginal zone, parasubicular cortex', 92.85714285714286, 13278)]\n",
      "cortical plate, parasubiculum [('subiculum', 100.0, 10302), ('cortical plate, parasubicular cortex', 93.10344827586206, 13280)]\n",
      "subplate zone, parasubiculum [('subplate zone', 100.0, 10522), ('subiculum', 100.0, 10302), ('subplate zone, parasubicular cortex', 92.85714285714286, 13285)]\n"
     ]
    },
    {
     "name": "stderr",
     "output_type": "stream",
     "text": [
      " 26%|██▌       | 127/496 [00:01<00:03, 106.22it/s]"
     ]
    },
    {
     "name": "stdout",
     "output_type": "stream",
     "text": [
      "subventricular zone, parasubiculum [('subventricular zone', 100.0, 10536), ('ventricular zone', 100.0, 10542), ('subiculum', 100.0, 10302)]\n",
      "ventricular zone, parasubiculum [('ventricular zone', 100.0, 10542), ('subiculum', 100.0, 10302)]\n",
      "cortical plate, postsubiculum [('cortical plate', 100.0, 10515), ('subiculum', 100.0, 10302)]\n",
      "subplate zone, postsubiculum [('subplate zone', 100.0, 10522), ('subiculum', 100.0, 10302)]\n",
      "subventricular zone, postsubiculum [('subventricular zone', 100.0, 10536), ('ventricular zone', 100.0, 10542), ('subiculum', 100.0, 10302)]\n",
      "ventricular zone, postsubiculum [('ventricular zone', 100.0, 10542), ('subiculum', 100.0, 10302)]\n",
      "marginal zone, insula [('marginal zone', 100.0, 10508), ('marginal zone, insular cortex', 95.23809523809523, 11634), ('marginal zone, dysgranular insular cortex', 95.23809523809523, 11635), ('marginal zone, granular insular cortex', 95.23809523809523, 11636), ('marginal zone, agranular insular cortex', 95.23809523809523, 13279)]\n",
      "cortical plate, insula [('cortical plate, insular cortex', 95.45454545454545, 11728), ('cortical plate, agranular insular cortex', 95.45454545454545, 13281), ('cortical plate, agranular insular cortex', 95.45454545454545, 146034622)]\n",
      "subplate zone, insula [('subplate zone', 100.0, 10522), ('subplate zone, insular cortex', 95.23809523809523, 11783), ('subplate zone, dysgranular insular cortex', 95.23809523809523, 11784), ('subplate zone, granular insular cortex', 95.23809523809523, 11785), ('subplate zone, agranular insular cortex', 95.23809523809523, 13286)]\n",
      "subventricular zone, insula [('subventricular zone', 100.0, 10536), ('ventricular zone', 100.0, 10542), ('subventricular zone, subgenual cingulate cortex', 92.3076923076923, 13288), ('subventricular zone, midcingulate cortex', 90.56603773584906, 11986), ('subventricular zone, frontal polar cortex', 90.19607843137256, 11905)]\n",
      "ventricular zone, insula [('ventricular zone', 100.0, 10542), ('ventricular zone, presubicular cortex', 91.66666666666666, 12017), ('ventricular zone, caudal presubicular cortex', 91.66666666666666, 13191), ('ventricular zone, subicular cortex', 91.66666666666666, 12016), ('ventricular zone, rostral subicular cortex', 91.66666666666666, 13188)]\n"
     ]
    },
    {
     "name": "stderr",
     "output_type": "stream",
     "text": [
      " 31%|███▏      | 156/496 [00:01<00:03, 111.01it/s]"
     ]
    },
    {
     "name": "stdout",
     "output_type": "stream",
     "text": [
      "olfactory cortex [('subpial granular layer, olfactory entorhinal cortex', 100.0, 12976), ('marginal zone, olfactory entorhinal cortex', 100.0, 11642), ('cortical plate, olfactory entorhinal cortex', 100.0, 11743)]\n",
      "amygdala [('extended amygdala', 100.0, 10383), ('sublenticular extended amygdala', 100.0, 10387)]\n",
      "basomedial nucleus of the amygdala [('medial nucleus', 100.0, 10376), ('median nucleus', 92.85714285714286, 12411)]\n",
      "basomedial nucleus of the amygdala, parvocellular part [('medial nucleus', 100.0, 10376), ('median nucleus', 92.85714285714286, 12411)]\n",
      "lateral nucleus of the amygdala [('lateral nucleus', 100.0, 10367), ('lateral nucleus', 100.0, 12410)]\n"
     ]
    },
    {
     "name": "stderr",
     "output_type": "stream",
     "text": [
      " 47%|████▋     | 234/496 [00:01<00:01, 138.77it/s]"
     ]
    },
    {
     "name": "stdout",
     "output_type": "stream",
     "text": [
      "dorsal complex of the thalamus [('thalamus', 100.0, 10390), ('dorsal thalamus', 100.0, 10391)]\n",
      "nucleus fasciculosus of the thalamus [('thalamus', 100.0, 10390), ('fasciculosus nucleus of thalamus', 100.0, 13047)]\n",
      "lateral dorsal nucleus of the thalamus [('lateral dorsal nucleus of thalamus', 94.44444444444444, 10396), ('central dorsal nucleus of thalamus', 86.11111111111111, 13331), ('anterodorsal nucleus of thalamus', 85.71428571428572, 10393)]\n",
      "lateral posterior nucleus of the thalamus [('lateral posterior nucleus of thalamus', 94.87179487179486, 10408), ('ventral posterior nucleus of thalamus', 87.17948717948718, 10423)]\n",
      "periventricular complex of the thalamus [('thalamus', 100.0, 10390), ('periventricular area of thalamus', 91.52542372881356, 13046)]\n",
      "parafascicular nucleus of the thalamus [('parafascicular nucleus of thalamus', 94.44444444444444, 10450), ('subparafascicular nucleus of thalamus', 90.66666666666666, 13054)]\n",
      "paraventricular nucleus of the thalamus [('paraventricular nucleus of hypothalamus', 92.3076923076923, 10476), ('reticular nucleus of thalamus', 85.29411764705883, 10464)]\n",
      "paratenial nucleus of the thalamus [('parataenial nucleus of thalamus', 92.3076923076923, 10404), ('paracentral nucleus of thalamus', 86.15384615384616, 10446)]\n",
      "anterior complex of the thalamus [('thalamus', 100.0, 10390), ('anterior nuclear complex of thalamus', 93.33333333333333, 10392)]\n",
      "anterodorsal nucleus of the thalamus [('anterodorsal nucleus of thalamus', 94.11764705882352, 10393), ('lateral dorsal nucleus of thalamus', 85.71428571428572, 10396), ('anteromedial nucleus of thalamus', 85.29411764705883, 10394)]\n",
      "anteromedial nucleus of the thalamus [('anteromedial nucleus of thalamus', 94.11764705882352, 10394), ('interanteromedial nucleus of thalamus', 87.67123287671232, 13048), ('anterodorsal nucleus of thalamus', 85.29411764705883, 10393), ('centromedian nucleus of thalamus', 85.29411764705883, 10449)]\n",
      "centromedian nucleus of the thalamus [('centromedian nucleus of thalamus', 94.11764705882352, 10449), ('central medial nucleus of thalamus', 85.71428571428572, 10445), ('anteromedial nucleus of thalamus', 85.29411764705883, 10394)]\n",
      "central medial nucleus of the thalamus [('central medial nucleus of thalamus', 94.44444444444444, 10445), ('ventral medial nucleus of thalamus', 91.66666666666666, 10427), ('central lateral nucleus of the thalamus', 90.9090909090909, 10444), ('central dorsal nucleus of thalamus', 86.11111111111111, 13331), ('centromedian nucleus of thalamus', 85.71428571428572, 10449)]\n",
      "rhomboid nucleus of the thalamus [('thalamus', 100.0, 10390), ('rhomboid (central) nucleus of thalamus', 93.33333333333333, 10447)]\n",
      "posterior complex of the thalamus [('thalamus', 100.0, 10390), ('posterior nuclear complex of thalamus', 93.54838709677419, 10428)]\n",
      "medial geniculate nucleus [('medial geniculate nuclei', 93.87755102040816, 10434), ('dorsal medial geniculate nucleus', 87.71929824561404, 10435), ('lateral geniculate nucleus', 86.27450980392157, 10429), ('medial pericuneate nucleus', 86.27450980392157, 12527), ('ventral medial geniculate nucleus', 86.20689655172413, 10438)]\n",
      "suprageniculate nucleus [('pregeniculate nucleus', 90.9090909090909, 13042), ('supragenual nucleus', 85.71428571428572, 12662)]\n",
      "nucleus limitans of the thalamus [('thalamus', 100.0, 10390), ('limitans nucleus', 100.0, 13043)]\n",
      "pulvinar nucleus of the thalamus [('thalamus', 100.0, 10390), ('pulvinar of thalamus', 100.0, 10409)]\n",
      "ventral complex of the thalamus [('thalamus', 100.0, 10390), ('ventral thalamus', 100.0, 10461)]\n",
      "ventral anterior nucleus of the thalamus [('ventral anterior nucleus of thalamus', 94.73684210526316, 10417), ('central lateral nucleus of the thalamus', 88.60759493670886, 10444), ('ventral posterior nucleus of thalamus', 88.31168831168831, 10423), ('ventral lateral nucleus of thalamus', 85.33333333333333, 10420)]\n",
      "ventral lateral nucleus of the thalamus [('central lateral nucleus of the thalamus', 97.43589743589743, 10444), ('ventral lateral nucleus of thalamus', 94.5945945945946, 10420), ('ventral anterior nucleus of thalamus', 85.33333333333333, 10417)]\n",
      "ventral medial nucleus of the thalamus [('ventral medial nucleus of thalamus', 94.44444444444444, 10427), ('central medial nucleus of thalamus', 91.66666666666666, 10445), ('central lateral nucleus of the thalamus', 88.31168831168831, 10444)]\n",
      "ventral posterolateral nucleus of the thalamus [('central lateral nucleus of the thalamus', 89.41176470588236, 10444), ('ventral posterior nucleus of thalamus', 86.74698795180723, 10423), ('ventral lateral nucleus of thalamus', 86.41975308641976, 10420)]\n",
      "ventral posteromedial nucleus of the thalamus [('ventral medial nucleus of thalamus', 86.07594936708861, 10427), ('central lateral nucleus of the thalamus', 85.71428571428572, 10444), ('ventral posterior nucleus of thalamus', 85.36585365853658, 10423)]\n",
      "habenula [('habenular nuclei', 100.0, 10452), ('lateral habenular nucleus', 100.0, 10453), ('medial habenular nucleus', 100.0, 10456)]\n"
     ]
    },
    {
     "name": "stderr",
     "output_type": "stream",
     "text": [
      " 55%|█████▌    | 275/496 [00:02<00:01, 137.05it/s]"
     ]
    },
    {
     "name": "stdout",
     "output_type": "stream",
     "text": [
      "supraoptic nucleus of the hypothalamus [('hypothalamus', 100.0, 10467), ('supraoptic nucleus', 100.0, 10481)]\n",
      "suprachiasmatic nucleus of the hypothalamus [('hypothalamus', 100.0, 10467), ('suprachiasmatic nucleus', 100.0, 10480)]\n",
      "retrochiasmatic nucleus of the hypothalamus [('hypothalamus', 100.0, 10467), ('retrochiasmatic nucleus', 100.0, 15536)]\n",
      "dorsomedial nucleus of the hypothalamus [('hypothalamus', 100.0, 10467), ('dorsomedial nucleus', 100.0, 12409), ('dorsomedial nucleus of Pr5', 91.66666666666667, 12445)]\n",
      "lateral hypothalamic area [('anterior hypothalamic area', 86.27450980392157, 266441551), ('dorsal hypothalamic area', 85.71428571428572, 13335)]\n",
      "ventral premammillary nucleus [('premammillary nulceus', 95.23809523809523, 13072), ('supramammillary nucleus', 90.9090909090909, 10497), ('red nucleus', 90.9090909090909, 12247)]\n",
      "preoptic area [('medial preoptic area', 100.0, 266441547), ('lateral preoptic area', 100.0, 10471)]\n",
      "preoptic periventricular nucleus [('paraventricular nucleus', 91.30434782608697, 10457), ('periventricular nucleus, preoptic portion', 90.32258064516128, 10469), ('periventricular nucleus, supraoptic portion', 90.32258064516128, 10474), ('periventricular nucleus, tuberal portion', 90.32258064516128, 10484)]\n",
      "midbrain [('midbrain (mesencephalon)', 100.0, 10648), ('midbrain tegmentum', 100.0, 12195)]\n",
      "nucleus of the optic tract [('optic tract', 100.0, 10589), ('nucleus of the optic tract  (lentiform nucleus)', 100.0, 12185), ('lateral terminal nucleus of accessory optic tract', 91.66666666666667, 13236)]\n",
      "tectum [('taenia tectum', 100.0, 10305), ('midbrain tectum', 100.0, 12291)]\n"
     ]
    },
    {
     "name": "stderr",
     "output_type": "stream",
     "text": [
      " 62%|██████▎   | 310/496 [00:02<00:01, 134.50it/s]"
     ]
    },
    {
     "name": "stdout",
     "output_type": "stream",
     "text": [
      "inferior colliculus, external nucleus [('nucleus U', 94.11764705882352, 12242), ('nucleus K', 94.11764705882352, 12522), ('nucleus L', 94.11764705882352, 12523), ('nucleus Y', 94.11764705882352, 12652)]\n",
      "tegmentum [('midbrain tegmentum', 100.0, 12195), ('other nuclei, midbrain tegmentum', 100.0, 12277), ('paracollicular tegmentum', 100.0, 12282), ('pontine tegmentum', 100.0, 12416)]\n",
      "nucleus of the posterior commissure [('magnocellular nucleus of the posterior commissure', 100.0, 12279), ('posterior commissure', 100.0, 10567), ('interstitial nucleus of posterior limb of anterior commissure', 93.93939393939394, 10388), ('interstitial nucleus of posterior commissure', 93.93939393939394, 12194)]\n",
      "substantia nigra pars compacta [('substantia nigra', 100.0, 12251), ('substantia nigra, compact part', 93.33333333333333, 12252)]\n",
      "substantia nigra pars reticulata [('substantia nigra', 100.0, 12251), ('substantia nigra, reticular part', 90.625, 12259)]\n",
      "periaqueductal gray [('periaqueductal gray substance', 100.0, 12209), ('periaqueductal gray substance, dorsolateral portion', 100.0, 12210), ('periaqueductal gray substance,dorsomedial division', 100.0, 12211), ('periaqueductal gray substance, dorsolateral division', 100.0, 12212), ('periaqueductal gray substance, lateral division', 100.0, 12213)]\n",
      "mesencephalic nucleus [('mesencephalic trigeminal nucleus', 100.0, 12208), ('central mesencephalic nucleus', 100.0, 15549)]\n",
      "interpeduncular nucleu, dorsomedial part [('interpeduncular nucleus', 95.65217391304348, 12270), ('interpeduncular nucleus, dorsomedial subnucleus', 93.5064935064935, 12273)]\n",
      "interpeduncular nucleu, caudal part [('interpeduncular nucleus', 95.65217391304348, 12270), ('interpeduncular nucleus, caudal subnucleus', 92.53731343283582, 12272)]\n"
     ]
    },
    {
     "name": "stderr",
     "output_type": "stream",
     "text": [
      " 70%|██████▉   | 345/496 [00:02<00:01, 134.24it/s]"
     ]
    },
    {
     "name": "stdout",
     "output_type": "stream",
     "text": [
      "nucleus of the lateral lemniscus, dorsal [('lateral nucleus', 100.0, 10367), ('dorsal nucleus', 100.0, 12407), ('lateral nucleus', 100.0, 12410), ('dorsal nucleus of lateral lemniscus', 93.33333333333333, 12455)]\n",
      "nucleus of the lateral lemniscus, ventral [('lateral nucleus', 100.0, 10367), ('lateral nucleus', 100.0, 12410), ('ventral nucleus of lateral lemniscus', 93.50649350649351, 12457)]\n",
      "parabrachial nucleus [('subparabrachial nucleus', 93.02325581395348, 12491), ('parabrachial nuclei', 92.3076923076923, 12481), ('medial parabrachial nucleus', 85.1063829787234, 12487), ('pararaphales nucleus', 85.0, 12655)]\n",
      "parabrachial nucleus, lateral part [('lateral parabrachial nucleus, central part', 100.0, 12483), ('lateral parabrachial nucleus, dorsal part', 100.0, 12484), ('lateral parabrachial nucleus, external part', 100.0, 12485), ('lateral parabrachial nucleus, superior part', 100.0, 12486), ('lateral parabrachial nucleus', 90.3225806451613, 12482)]\n",
      "reticular tegmental nucleus [('reticulotegmental nucleus', 92.3076923076923, 12414), ('reticulotegmental nucleus', 92.3076923076923, 12497)]\n",
      "spinal nucleus of the trigeminal [('spinal trigeminal nucleus', 100.0, 12572), ('spinal nucleus of trigeminal nerve, oral subnucleus', 93.33333333333333, 12447), ('layer 1 (marginal layer) of caudal spinal trigeminal nucleus', 93.33333333333333, 12574), ('layer 2 (gelatenous layer) of caudal spinal trigeminal nucleus', 93.33333333333333, 12575), ('layer 3/4 (magnocellular layer) of caudal spinal trigeminal nucleus', 93.33333333333333, 12576)]\n",
      "lateral reticular nucleus [('lateral reticular nuclei', 93.87755102040816, 12632), ('lateral vestibular nucleus', 90.19607843137256, 12449), ('lateral geniculate nucleus', 86.27450980392157, 10429), ('dorsal reticular nucleus', 85.71428571428572, 12617)]\n"
     ]
    },
    {
     "name": "stderr",
     "output_type": "stream",
     "text": [
      " 78%|███████▊  | 386/496 [00:03<00:00, 113.99it/s]"
     ]
    },
    {
     "name": "stdout",
     "output_type": "stream",
     "text": [
      "anterior lobe of cerebellum (h_v) [('cerebellum', 100.0, 10656), ('anterior lobe', 100.0, 12838)]\n",
      "cerebellar nuclei [('precerebellar nuclei', 91.89189189189189, 12595), ('cerebellar deep nuclei', 87.17948717948718, 10660)]\n",
      "interposed nucleus [('nucleus U', 94.11764705882352, 12242), ('nucleus K', 94.11764705882352, 12522), ('nucleus L', 94.11764705882352, 12523), ('nucleus Y', 94.11764705882352, 12652)]\n"
     ]
    },
    {
     "name": "stderr",
     "output_type": "stream",
     "text": [
      " 83%|████████▎ | 413/496 [00:03<00:00, 97.24it/s] "
     ]
    },
    {
     "name": "stdout",
     "output_type": "stream",
     "text": [
      "ganglionic eminence [('lateral ganglionic eminence', 100.0, 10551), ('medial ganglionic eminence', 100.0, 10550)]\n",
      "migratory streams [('migratory streams, hindbrain', 100.0, 12722), ('caudal (posterior) extramural migratory stream', 96.96969696969697, 12724), ('intramural migratory stream', 96.96969696969697, 12725)]\n",
      "parietal lobe neuroepithelium and subventricular zone [('subventricular zone', 100.0, 10536), ('parietal lobe', 100.0, 12131)]\n",
      "occipital lobe neuroepithelium and subventricular zone [('subventricular zone', 100.0, 10536), ('occipital lobe', 100.0, 12148)]\n"
     ]
    },
    {
     "name": "stderr",
     "output_type": "stream",
     "text": [
      " 91%|█████████▏| 453/496 [00:03<00:00, 106.25it/s]"
     ]
    },
    {
     "name": "stdout",
     "output_type": "stream",
     "text": [
      "fiber tracts [('forebrain commissural fiber tracts', 100.0, 10558), ('forebrain ipsilateral fiber tracts', 100.0, 10568)]\n",
      "external medullary lamina of the thalamus [('external medullary lamina of thalamus', 94.87179487179486, 12038), ('internal medullary lamina of thalamus', 89.74358974358975, 12063)]\n",
      "internal medullary lamina of the thalamus [('internal medullary lamina of thalamus', 94.87179487179486, 12063), ('external medullary lamina of thalamus', 89.74358974358975, 12038)]\n"
     ]
    },
    {
     "name": "stderr",
     "output_type": "stream",
     "text": [
      "100%|██████████| 496/496 [00:04<00:00, 123.83it/s]\n"
     ]
    }
   ],
   "source": [
    "from collections import defaultdict\n",
    "from tqdm import tqdm\n",
    "\n",
    "matches = defaultdict(list)\n",
    "\n",
    "for dh_id,rec in tqdm(ontohelper_dharani.onto_lookup.items()):\n",
    "    query = rec.name.lower()# .replace(',', ' in')\n",
    "    ret = ontohelper_allen.search(query)\n",
    "    \n",
    "    matches[dh_id].extend(ret)\n",
    "\n",
    "    if len(matches[dh_id])>1:\n",
    "        print(query,matches[dh_id])"
   ]
  },
  {
   "cell_type": "code",
   "execution_count": 32,
   "metadata": {},
   "outputs": [
    {
     "name": "stdout",
     "output_type": "stream",
     "text": [
      "2 Forebrain --- [('forebrain (prosencephalon)', 100.0, 10156), ('basal forebrain', 100.0, 10349)]\n",
      "5 Subpial granular layer, cerebral cortex --- [('subpial granular layer, perirhinal cortex', 90.0, 13213), ('subpial granular layer, parietal cortex', 89.74358974358975, 11593), ('subpial granular layer, temporal cortex', 89.74358974358975, 11598), ('subpial granular layer, frontal cortex', 88.31168831168831, 11581), ('subpial granular layer, periallocortex', 88.31168831168831, 12974)]\n",
      "6 Marginal zone, cerebral cortex --- [('marginal zone, perirhinal cortex', 87.09677419354838, 11645), ('marginal zone, parietal cortex', 86.66666666666667, 10511), ('marginal zone, temporal cortex', 86.66666666666667, 10512)]\n",
      "7 Cortical plate, cerebral cortex --- [('cortical plate, perirhinal cortex', 87.5, 11746), ('cortical plate, parietal cortex', 87.09677419354838, 10518), ('cortical plate, temporal cortex', 87.09677419354838, 10519), ('cortical plate, frontal cortex', 85.24590163934427, 10516), ('cortical plate, periallocortex', 85.24590163934427, 10521)]\n",
      "8 Subplate zone, cerebral cortex --- [('subplate zone, perirhinal cortex', 87.09677419354838, 11790), ('subplate zone, parietal cortex', 86.66666666666667, 10525), ('subplate zone, temporal cortex', 86.66666666666667, 10526)]\n",
      "9 Intermediate zone, cerebral cortex --- [('intermediate zone, perirhinal cortex', 88.57142857142857, 11878), ('intermediate zone, parietal cortex', 88.23529411764706, 10532), ('intermediate zone, temporal cortex', 88.23529411764706, 10533), ('intermediate zone, frontal cortex', 86.56716417910448, 10530), ('intermediate zone, periallocortex', 86.56716417910448, 10535)]\n",
      "10 Subventricular zone, cerebral cortex --- [('subventricular zone, parietal cortex', 88.88888888888889, 10539), ('subventricular zone, temporal cortex', 88.88888888888889, 10540), ('subventricular zone, frontal cortex', 87.32394366197182, 10537), ('subventricular zone, periallocortex', 87.32394366197182, 10541)]\n",
      "11 Ventricular zone, cerebral cortex --- [('ventricular zone, perirhinal cortex', 88.23529411764706, 12019), ('ventricular zone, parietal cortex', 87.87878787878788, 10545), ('ventricular zone, temporal cortex', 87.87878787878788, 10546), ('ventricular zone, frontal cortex', 86.15384615384616, 10543), ('ventricular zone, periallocortex', 86.15384615384616, 10548)]\n",
      "21 Orbital cortex --- [('subpial granular layer, orbital frontal cortex', 100.0, 11583), ('marginal zone, orbital frontal cortex', 100.0, 11608), ('cortical plate, orbital frontal cortex', 100.0, 11652), ('outer cortical plate, orbital frontal cortex', 100.0, 11653), ('inner cortical plate, orbital frontal cortex', 100.0, 11654)]\n",
      "22 Subpial granular layer, orbital cortex --- [('subpial granular layer, parietal cortex', 93.5064935064935, 11593), ('subpial granular layer, occipital cortex', 92.3076923076923, 11588), ('subpial granular layer, frontal cortex', 92.10526315789474, 11581), ('subpial granular layer, entorhinal cortex', 91.13924050632912, 12975), ('subpial granular layer, temporal cortex', 90.9090909090909, 11598)]\n",
      "23 Marginal zone, orbital cortex --- [('marginal zone, parietal cortex', 91.52542372881356, 10511), ('marginal zone, occipital cortex', 90.0, 10510), ('marginal zone, frontal cortex', 89.65517241379311, 10509), ('marginal zone, entorhinal cortex', 88.52459016393442, 11641), ('marginal zone, temporal cortex', 88.13559322033898, 10512)]\n",
      "24 Cortical plate, orbital cortex --- [('cortical plate, parietal cortex', 91.80327868852459, 10518), ('cortical plate, occipital cortex', 90.32258064516128, 10517), ('cortical plate, frontal cortex', 90.0, 10516), ('cortical plate, entorhinal cortex', 88.88888888888889, 11742), ('cortical plate, temporal cortex', 88.52459016393442, 10519)]\n",
      "25 Subplate zone, orbital cortex --- [('subplate zone, parietal cortex', 91.52542372881356, 10525), ('subplate zone, occipital cortex', 90.0, 10524), ('subplate zone, frontal cortex', 89.65517241379311, 10523), ('subplate zone, entorhinal cortex', 88.52459016393442, 11789), ('subplate zone, temporal cortex', 88.13559322033898, 10526)]\n",
      "26 Intermediate zone, orbital cortex --- [('intermediate zone, parietal cortex', 92.53731343283582, 10532), ('intermediate zone, occipital cortex', 91.17647058823529, 10531), ('intermediate zone, frontal cortex', 90.9090909090909, 10530), ('intermediate zone, entorhinal cortex', 89.85507246376811, 11877), ('intermediate zone, temporal cortex', 89.55223880597015, 10533)]\n",
      "27 Subventricular zone, orbital cortex --- [('subventricular zone, parietal cortex', 92.95774647887323, 10539), ('subventricular zone, occipital cortex', 91.66666666666666, 10538), ('subventricular zone, frontal cortex', 91.42857142857143, 10537), ('subventricular zone, temporal cortex', 90.14084507042254, 10540), ('subventricular zone, orbital frontal cortex', 89.74358974358975, 11885)]\n",
      "28 Ventricular zone, orbital cortex --- [('ventricular zone, parietal cortex', 92.3076923076923, 10545), ('ventricular zone, occipital cortex', 90.9090909090909, 10544), ('ventricular zone, frontal cortex', 90.625, 10543), ('ventricular zone, entorhinal cortex', 89.55223880597015, 13192), ('ventricular zone, temporal cortex', 89.23076923076923, 10546)]\n",
      "37 Parieto-occipital sulcus --- []\n",
      "46 Calcarine sulcus --- []\n",
      "62 Subventricular zone, entorhinal cortex --- [('ventricular zone, entorhinal cortex', 95.89041095890411, 13192), ('subventricular zone, temporal cortex', 89.1891891891892, 10540), ('subventricular zone, frontal cortex', 87.67123287671232, 10537), ('subventricular zone, periallocortex', 87.67123287671232, 10541), ('ventricular zone, perirhinal cortex', 87.67123287671232, 12019)]\n",
      "69 Cortical plate, hippocampal formation --- []\n",
      "72 Subventricular zone, hippocampal formation --- [('subventricular zone', 100.0, 10536), ('ventricular zone', 100.0, 10542)]\n",
      "74 Hippocampus --- [('cortical plate, rostral hippocampus', 100.0, 11736), ('cortical plate, caudal hippocampus', 100.0, 11737), ('hippocampus (hippocampal formation)', 100.0, 10294)]\n",
      "77 Cortical plate, hippocampus --- [('cortical plate, caudal hippocampus', 88.52459016393442, 11737), ('cortical plate, rostral hippocampus', 87.09677419354838, 11736)]\n",
      "80 Subventricular zone, hippocampus --- [('subventricular zone', 100.0, 10536), ('ventricular zone', 100.0, 10542)]\n",
      "83 Ammon's horn --- []\n",
      "386 CA1 field of hippocampus --- [('head of hippocampus', 91.89189189189189, 12171), ('body of hippocampus', 91.42857142857143, 12173)]\n",
      "387 CA2 field of hippocampus --- [('head of hippocampus', 91.89189189189189, 12171), ('body of hippocampus', 91.42857142857143, 12173)]\n",
      "388 CA3 field of hippocampus --- [('head of hippocampus', 91.89189189189189, 12171), ('body of hippocampus', 91.42857142857143, 12173)]\n",
      "389 CA4 field of hippocampus --- [('head of hippocampus', 91.89189189189189, 12171), ('body of hippocampus', 91.42857142857143, 12173)]\n",
      "93 Presubiculum --- [('prosubiculum', 91.66666666666666, 10303), ('subiculum', 85.71428571428572, 10302)]\n",
      "95 Marginal zone, presubiculum --- [('subiculum', 100.0, 10302), ('marginal zone, presubicular cortex', 92.5925925925926, 11640), ('marginal zone, caudal presubicular cortex (postsubiculum)', 92.5925925925926, 13092), ('prosubiculum', 91.66666666666666, 10303)]\n",
      "96 Cortical plate, presubiculum --- [('cortical plate', 100.0, 10515), ('subiculum', 100.0, 10302), ('cortical plate, presubicular cortex', 92.85714285714286, 11741), ('cortical plate, rostral presubicular cortex', 92.85714285714286, 13106), ('cortical plate, caudal presubicular cortex (postsubiculum)', 92.85714285714286, 13107)]\n",
      "97 Subplate zone, presubiculum --- [('subplate zone', 100.0, 10522), ('subiculum', 100.0, 10302), ('subplate zone, presubicular cortex', 92.5925925925926, 11788), ('subplate zone, caudal presubicular cortex (postsubiculum)', 92.5925925925926, 13122), ('prosubiculum', 91.66666666666666, 10303)]\n",
      "98 Intermediate zone, presubiculum --- [('subiculum', 100.0, 10302), ('intermediate zone, presubicular cortex', 93.5483870967742, 11876), ('intermediate zone, caudal presubicular cortex', 93.5483870967742, 13139), ('prosubiculum', 91.66666666666666, 10303)]\n",
      "99 Subventricular zone, presubiculum --- [('subventricular zone', 100.0, 10536), ('ventricular zone', 100.0, 10542), ('subiculum', 100.0, 10302), ('prosubiculum', 91.66666666666666, 10303)]\n",
      "100 Ventricular zone, presubiculum --- [('ventricular zone', 100.0, 10542), ('subiculum', 100.0, 10302), ('ventricular zone, presubicular cortex', 93.33333333333333, 12017), ('ventricular zone, caudal presubicular cortex', 93.33333333333333, 13191), ('prosubiculum', 91.66666666666666, 10303)]\n",
      "103 Marginal zone, parasubiculum --- [('subiculum', 100.0, 10302), ('marginal zone, parasubicular cortex', 92.85714285714286, 13278)]\n",
      "104 Cortical plate, parasubiculum --- [('subiculum', 100.0, 10302), ('cortical plate, parasubicular cortex', 93.10344827586206, 13280)]\n",
      "105 Subplate zone, parasubiculum --- [('subplate zone', 100.0, 10522), ('subiculum', 100.0, 10302), ('subplate zone, parasubicular cortex', 92.85714285714286, 13285)]\n",
      "107 Subventricular zone, parasubiculum --- [('subventricular zone', 100.0, 10536), ('ventricular zone', 100.0, 10542), ('subiculum', 100.0, 10302)]\n",
      "108 Ventricular zone, parasubiculum --- [('ventricular zone', 100.0, 10542), ('subiculum', 100.0, 10302)]\n",
      "112 Cortical plate, postsubiculum --- [('cortical plate', 100.0, 10515), ('subiculum', 100.0, 10302)]\n",
      "113 Subplate zone, postsubiculum --- [('subplate zone', 100.0, 10522), ('subiculum', 100.0, 10302)]\n",
      "115 Subventricular zone, postsubiculum --- [('subventricular zone', 100.0, 10536), ('ventricular zone', 100.0, 10542), ('subiculum', 100.0, 10302)]\n",
      "116 Ventricular zone, postsubiculum --- [('ventricular zone', 100.0, 10542), ('subiculum', 100.0, 10302)]\n",
      "501 Marginal zone, insula --- [('marginal zone', 100.0, 10508), ('marginal zone, insular cortex', 95.23809523809523, 11634), ('marginal zone, dysgranular insular cortex', 95.23809523809523, 11635), ('marginal zone, granular insular cortex', 95.23809523809523, 11636), ('marginal zone, agranular insular cortex', 95.23809523809523, 13279)]\n",
      "502 Cortical plate, insula --- [('cortical plate, insular cortex', 95.45454545454545, 11728), ('cortical plate, agranular insular cortex', 95.45454545454545, 13281), ('cortical plate, agranular insular cortex', 95.45454545454545, 146034622)]\n",
      "503 Subplate zone, insula --- [('subplate zone', 100.0, 10522), ('subplate zone, insular cortex', 95.23809523809523, 11783), ('subplate zone, dysgranular insular cortex', 95.23809523809523, 11784), ('subplate zone, granular insular cortex', 95.23809523809523, 11785), ('subplate zone, agranular insular cortex', 95.23809523809523, 13286)]\n",
      "505 Subventricular zone, insula --- [('subventricular zone', 100.0, 10536), ('ventricular zone', 100.0, 10542), ('subventricular zone, subgenual cingulate cortex', 92.3076923076923, 13288), ('subventricular zone, midcingulate cortex', 90.56603773584906, 11986), ('subventricular zone, frontal polar cortex', 90.19607843137256, 11905)]\n",
      "506 Ventricular zone, insula --- [('ventricular zone', 100.0, 10542), ('ventricular zone, presubicular cortex', 91.66666666666666, 12017), ('ventricular zone, caudal presubicular cortex', 91.66666666666666, 13191), ('ventricular zone, subicular cortex', 91.66666666666666, 12016), ('ventricular zone, rostral subicular cortex', 91.66666666666666, 13188)]\n",
      "130 Tenia tecta --- []\n",
      "134 Olfactory cortex --- [('subpial granular layer, olfactory entorhinal cortex', 100.0, 12976), ('marginal zone, olfactory entorhinal cortex', 100.0, 11642), ('cortical plate, olfactory entorhinal cortex', 100.0, 11743)]\n",
      "135 Amygdala --- [('extended amygdala', 100.0, 10383), ('sublenticular extended amygdala', 100.0, 10387)]\n",
      "136 Basolateral complex of the amygdala --- []\n",
      "286 Basal nucleus of the amygdala --- []\n",
      "435 Basal nucleus of the amygdala, intermediate part --- []\n",
      "287 Basomedial nucleus of the amygdala --- [('medial nucleus', 100.0, 10376), ('median nucleus', 92.85714285714286, 12411)]\n",
      "438 Basomedial nucleus of the amygdala, parvocellular part --- [('medial nucleus', 100.0, 10376), ('median nucleus', 92.85714285714286, 12411)]\n",
      "288 Lateral nucleus of the amygdala --- [('lateral nucleus', 100.0, 10367), ('lateral nucleus', 100.0, 12410)]\n",
      "137 Corticomedial complex of the amygdala --- []\n",
      "290 Cortical nucleus of the amygdala --- []\n",
      "293 Periamygdaloid cortex --- []\n",
      "295 Central nucleus of the amygdala --- []\n",
      "296 Intercalated cell groups of the amygdala --- []\n",
      "254 Dorsal complex of the thalamus --- [('thalamus', 100.0, 10390), ('dorsal thalamus', 100.0, 10391)]\n",
      "459 Nucleus fasciculosus of the thalamus --- [('thalamus', 100.0, 10390), ('fasciculosus nucleus of thalamus', 100.0, 13047)]\n",
      "162 Lateral dorsal nucleus of the thalamus --- [('lateral dorsal nucleus of thalamus', 94.44444444444444, 10396), ('central dorsal nucleus of thalamus', 86.11111111111111, 13331), ('anterodorsal nucleus of thalamus', 85.71428571428572, 10393)]\n",
      "416 Lateral posterior nucleus of the thalamus --- [('lateral posterior nucleus of thalamus', 94.87179487179486, 10408), ('ventral posterior nucleus of thalamus', 87.17948717948718, 10423)]\n",
      "260 Periventricular complex of the thalamus --- [('thalamus', 100.0, 10390), ('periventricular area of thalamus', 91.52542372881356, 13046)]\n",
      "171 Parafascicular nucleus of the thalamus --- [('parafascicular nucleus of thalamus', 94.44444444444444, 10450), ('subparafascicular nucleus of thalamus', 90.66666666666666, 13054)]\n",
      "333 Paraventricular nucleus of the thalamus --- [('paraventricular nucleus of hypothalamus', 92.3076923076923, 10476), ('reticular nucleus of thalamus', 85.29411764705883, 10464)]\n",
      "391 Paratenial nucleus of the thalamus --- [('parataenial nucleus of thalamus', 92.3076923076923, 10404), ('paracentral nucleus of thalamus', 86.15384615384616, 10446)]\n",
      "170 Nucleus reuniens --- []\n",
      "256 Anterior complex of the thalamus --- [('thalamus', 100.0, 10390), ('anterior nuclear complex of thalamus', 93.33333333333333, 10392)]\n",
      "163 Anterodorsal nucleus of the thalamus --- [('anterodorsal nucleus of thalamus', 94.11764705882352, 10393), ('lateral dorsal nucleus of thalamus', 85.71428571428572, 10396), ('anteromedial nucleus of thalamus', 85.29411764705883, 10394)]\n",
      "164 Anteromedial nucleus of the thalamus --- [('anteromedial nucleus of thalamus', 94.11764705882352, 10394), ('interanteromedial nucleus of thalamus', 87.67123287671232, 13048), ('anterodorsal nucleus of thalamus', 85.29411764705883, 10393), ('centromedian nucleus of thalamus', 85.29411764705883, 10449)]\n",
      "258 Centromedian nucleus of the thalamus --- [('centromedian nucleus of thalamus', 94.11764705882352, 10449), ('central medial nucleus of thalamus', 85.71428571428572, 10445), ('anteromedial nucleus of thalamus', 85.29411764705883, 10394)]\n",
      "395 Central medial nucleus of the thalamus --- [('central medial nucleus of thalamus', 94.44444444444444, 10445), ('ventral medial nucleus of thalamus', 91.66666666666666, 10427), ('central lateral nucleus of the thalamus', 90.9090909090909, 10444), ('central dorsal nucleus of thalamus', 86.11111111111111, 13331), ('centromedian nucleus of thalamus', 85.71428571428572, 10449)]\n",
      "390 Rhomboid nucleus of the thalamus --- [('thalamus', 100.0, 10390), ('rhomboid (central) nucleus of thalamus', 93.33333333333333, 10447)]\n",
      "259 Posterior complex of the thalamus --- [('thalamus', 100.0, 10390), ('posterior nuclear complex of thalamus', 93.54838709677419, 10428)]\n",
      "168 Medial geniculate nucleus --- [('medial geniculate nuclei', 93.87755102040816, 10434), ('dorsal medial geniculate nucleus', 87.71929824561404, 10435), ('lateral geniculate nucleus', 86.27450980392157, 10429), ('medial pericuneate nucleus', 86.27450980392157, 12527), ('ventral medial geniculate nucleus', 86.20689655172413, 10438)]\n",
      "400 Suprageniculate nucleus --- [('pregeniculate nucleus', 90.9090909090909, 13042), ('supragenual nucleus', 85.71428571428572, 12662)]\n",
      "405 Nucleus limitans of the thalamus --- [('thalamus', 100.0, 10390), ('limitans nucleus', 100.0, 13043)]\n",
      "169 Pulvinar nucleus of the thalamus --- [('thalamus', 100.0, 10390), ('pulvinar of thalamus', 100.0, 10409)]\n",
      "282 Ventral complex of the thalamus --- [('thalamus', 100.0, 10390), ('ventral thalamus', 100.0, 10461)]\n",
      "329 Ventral anterior nucleus of the thalamus --- [('ventral anterior nucleus of thalamus', 94.73684210526316, 10417), ('central lateral nucleus of the thalamus', 88.60759493670886, 10444), ('ventral posterior nucleus of thalamus', 88.31168831168831, 10423), ('ventral lateral nucleus of thalamus', 85.33333333333333, 10420)]\n",
      "330 Ventral lateral nucleus of the thalamus --- [('central lateral nucleus of the thalamus', 97.43589743589743, 10444), ('ventral lateral nucleus of thalamus', 94.5945945945946, 10420), ('ventral anterior nucleus of thalamus', 85.33333333333333, 10417)]\n",
      "383 Ventral medial nucleus of the thalamus --- [('ventral medial nucleus of thalamus', 94.44444444444444, 10427), ('central medial nucleus of thalamus', 91.66666666666666, 10445), ('central lateral nucleus of the thalamus', 88.31168831168831, 10444)]\n",
      "331 Ventral posterolateral nucleus of the thalamus --- [('central lateral nucleus of the thalamus', 89.41176470588236, 10444), ('ventral posterior nucleus of thalamus', 86.74698795180723, 10423), ('ventral lateral nucleus of thalamus', 86.41975308641976, 10420)]\n",
      "332 Ventral posteromedial nucleus of the thalamus --- [('ventral medial nucleus of thalamus', 86.07594936708861, 10427), ('central lateral nucleus of the thalamus', 85.71428571428572, 10444), ('ventral posterior nucleus of thalamus', 85.36585365853658, 10423)]\n",
      "380 Subparafascicular nucleus --- []\n",
      "175 Field of Forel --- []\n",
      "172 Habenula --- [('habenular nuclei', 100.0, 10452), ('lateral habenular nucleus', 100.0, 10453), ('medial habenular nucleus', 100.0, 10456)]\n",
      "178 Supraoptic nucleus of the hypothalamus --- [('hypothalamus', 100.0, 10467), ('supraoptic nucleus', 100.0, 10481)]\n",
      "179 Suprachiasmatic nucleus of the hypothalamus --- [('hypothalamus', 100.0, 10467), ('suprachiasmatic nucleus', 100.0, 10480)]\n",
      "418 Retrochiasmatic nucleus of the hypothalamus --- [('hypothalamus', 100.0, 10467), ('retrochiasmatic nucleus', 100.0, 15536)]\n",
      "183 Dorsomedial nucleus of the hypothalamus --- [('hypothalamus', 100.0, 10467), ('dorsomedial nucleus', 100.0, 12409), ('dorsomedial nucleus of Pr5', 91.66666666666667, 12445)]\n",
      "184 Lateral hypothalamic area --- [('anterior hypothalamic area', 86.27450980392157, 266441551), ('dorsal hypothalamic area', 85.71428571428572, 13335)]\n",
      "410 Ventral premammillary nucleus --- [('premammillary nulceus', 95.23809523809523, 13072), ('supramammillary nucleus', 90.9090909090909, 10497), ('red nucleus', 90.9090909090909, 12247)]\n",
      "186 Preoptic area --- [('medial preoptic area', 100.0, 266441547), ('lateral preoptic area', 100.0, 10471)]\n",
      "412 Tuberal area --- []\n",
      "304 Preoptic periventricular nucleus --- [('paraventricular nucleus', 91.30434782608697, 10457), ('periventricular nucleus, preoptic portion', 90.32258064516128, 10469), ('periventricular nucleus, supraoptic portion', 90.32258064516128, 10474), ('periventricular nucleus, tuberal portion', 90.32258064516128, 10484)]\n",
      "189 Pituitary gland --- []\n",
      "280 Pineal gland --- []\n",
      "192 Midbrain --- [('midbrain (mesencephalon)', 100.0, 10648), ('midbrain tegmentum', 100.0, 12195)]\n",
      "203 Pretectum --- []\n",
      "325 Nucleus of the optic tract --- [('optic tract', 100.0, 10589), ('nucleus of the optic tract  (lentiform nucleus)', 100.0, 12185), ('lateral terminal nucleus of accessory optic tract', 91.66666666666667, 13236)]\n",
      "193 Tectum --- [('taenia tectum', 100.0, 10305), ('midbrain tectum', 100.0, 12291)]\n",
      "318 Inferior colliculus, central nucleus --- []\n",
      "319 Inferior colliculus, external nucleus --- [('nucleus U', 94.11764705882352, 12242), ('nucleus K', 94.11764705882352, 12522), ('nucleus L', 94.11764705882352, 12523), ('nucleus Y', 94.11764705882352, 12652)]\n",
      "196 Tegmentum --- [('midbrain tegmentum', 100.0, 12195), ('other nuclei, midbrain tegmentum', 100.0, 12277), ('paracollicular tegmentum', 100.0, 12282), ('pontine tegmentum', 100.0, 12416)]\n",
      "321 Nucleus of the posterior commissure --- [('magnocellular nucleus of the posterior commissure', 100.0, 12279), ('posterior commissure', 100.0, 10567), ('interstitial nucleus of posterior limb of anterior commissure', 93.93939393939394, 10388), ('interstitial nucleus of posterior commissure', 93.93939393939394, 12194)]\n",
      "198 Substantia nigra pars compacta --- [('substantia nigra', 100.0, 12251), ('substantia nigra, compact part', 93.33333333333333, 12252)]\n",
      "199 Substantia nigra pars reticulata --- [('substantia nigra', 100.0, 12251), ('substantia nigra, reticular part', 90.625, 12259)]\n",
      "285 Periaqueductal gray --- [('periaqueductal gray substance', 100.0, 12209), ('periaqueductal gray substance, dorsolateral portion', 100.0, 12210), ('periaqueductal gray substance,dorsomedial division', 100.0, 12211), ('periaqueductal gray substance, dorsolateral division', 100.0, 12212), ('periaqueductal gray substance, lateral division', 100.0, 12213)]\n",
      "263 Oculomotor nuclear complex --- []\n",
      "261 Mesencephalic nucleus --- [('mesencephalic trigeminal nucleus', 100.0, 12208), ('central mesencephalic nucleus', 100.0, 15549)]\n",
      "428 Retrorubral area --- []\n",
      "451 Interpeduncular nucleu, dorsomedial part --- [('interpeduncular nucleus', 95.65217391304348, 12270), ('interpeduncular nucleus, dorsomedial subnucleus', 93.5064935064935, 12273)]\n",
      "452 Interpeduncular nucleu, caudal part --- [('interpeduncular nucleus', 95.65217391304348, 12270), ('interpeduncular nucleus, caudal subnucleus', 92.53731343283582, 12272)]\n",
      "264 Nucleus of the lateral lemniscus, dorsal --- [('lateral nucleus', 100.0, 10367), ('dorsal nucleus', 100.0, 12407), ('lateral nucleus', 100.0, 12410), ('dorsal nucleus of lateral lemniscus', 93.33333333333333, 12455)]\n",
      "265 Nucleus of the lateral lemniscus, ventral --- [('lateral nucleus', 100.0, 10367), ('lateral nucleus', 100.0, 12410), ('ventral nucleus of lateral lemniscus', 93.50649350649351, 12457)]\n",
      "206 Parabrachial nucleus --- [('subparabrachial nucleus', 93.02325581395348, 12491), ('parabrachial nuclei', 92.3076923076923, 12481), ('medial parabrachial nucleus', 85.1063829787234, 12487), ('pararaphales nucleus', 85.0, 12655)]\n",
      "464 Parabrachial nucleus, lateral part --- [('lateral parabrachial nucleus, central part', 100.0, 12483), ('lateral parabrachial nucleus, dorsal part', 100.0, 12484), ('lateral parabrachial nucleus, external part', 100.0, 12485), ('lateral parabrachial nucleus, superior part', 100.0, 12486), ('lateral parabrachial nucleus', 90.3225806451613, 12482)]\n",
      "208 Pontine gray --- []\n",
      "268 Reticular tegmental nucleus --- [('reticulotegmental nucleus', 92.3076923076923, 12414), ('reticulotegmental nucleus', 92.3076923076923, 12497)]\n",
      "269 Trigeminal motor nucleus --- []\n",
      "211 Medulla --- []\n",
      "273 Spinal nucleus of the trigeminal --- [('spinal trigeminal nucleus', 100.0, 12572), ('spinal nucleus of trigeminal nerve, oral subnucleus', 93.33333333333333, 12447), ('layer 1 (marginal layer) of caudal spinal trigeminal nucleus', 93.33333333333333, 12574), ('layer 2 (gelatenous layer) of caudal spinal trigeminal nucleus', 93.33333333333333, 12575), ('layer 3/4 (magnocellular layer) of caudal spinal trigeminal nucleus', 93.33333333333333, 12576)]\n",
      "276 Vestibular nuclear complex --- []\n",
      "305 Lateral reticular nucleus --- [('lateral reticular nuclei', 93.87755102040816, 12632), ('lateral vestibular nucleus', 90.19607843137256, 12449), ('lateral geniculate nucleus', 86.27450980392157, 10429), ('dorsal reticular nucleus', 85.71428571428572, 12617)]\n",
      "445 Rostral linear raphe nucleus --- []\n",
      "446 Caudal linear raphe nucleus --- []\n",
      "348 Anterior lobe of cerebellum (H_V) --- [('cerebellum', 100.0, 10656), ('anterior lobe', 100.0, 12838)]\n",
      "349 Lingula (I-II) --- []\n",
      "350 Centralis (III) --- []\n",
      "351 Culmen (IV-V) --- []\n",
      "353 Declive (VI) --- []\n",
      "354 Folium (VIIa) --- []\n",
      "355 Tuber (VIIb) --- []\n",
      "356 Pyramis (VIII) --- []\n",
      "357 Uvula (IX) --- []\n",
      "358 Nodulus (X) --- []\n",
      "359 Simplex lobule (HVI) --- []\n",
      "360 Ansiform lobule (HVIIA) --- []\n",
      "361 Ansiform lobule, crus I --- []\n",
      "362 Anisform lobule, crus II --- []\n",
      "364 Biventral lobule (HVIII) --- []\n",
      "365 Flocculus (HX) --- []\n",
      "366 Parafloccculus (HIX) --- []\n",
      "217 Cerebellar nuclei --- [('precerebellar nuclei', 91.89189189189189, 12595), ('cerebellar deep nuclei', 87.17948717948718, 10660)]\n",
      "221 Interposed nucleus --- [('nucleus U', 94.11764705882352, 12242), ('nucleus K', 94.11764705882352, 12522), ('nucleus L', 94.11764705882352, 12523), ('nucleus Y', 94.11764705882352, 12652)]\n",
      "223 Germinal trigone --- []\n",
      "367 Dorsal horn --- []\n",
      "371 Ventral horn --- []\n",
      "5000 Developmental (transient) structures --- []\n",
      "158 Ganglionic eminence --- [('lateral ganglionic eminence', 100.0, 10551), ('medial ganglionic eminence', 100.0, 10550)]\n",
      "442 Migratory streams --- [('migratory streams, hindbrain', 100.0, 12722), ('caudal (posterior) extramural migratory stream', 96.96969696969697, 12724), ('intramural migratory stream', 96.96969696969697, 12725)]\n",
      "441 Migratory stream, general --- []\n",
      "1023 Frontal neuroepithelium --- []\n",
      "1022 Orbitofrontal neuroepithelium --- []\n",
      "1015 Cingulate neuroepithelium --- []\n",
      "1021 Parietal lobe neuroepithelium and subventricular zone --- [('subventricular zone', 100.0, 10536), ('parietal lobe', 100.0, 12131)]\n",
      "1018 Parahippocampal neuroepithelium --- []\n",
      "1016 Hippocampal glioepithelium/ependyma --- []\n",
      "1020 Occipital lobe neuroepithelium and subventricular zone --- [('subventricular zone', 100.0, 10536), ('occipital lobe', 100.0, 12148)]\n",
      "1024 Accumbent neuroepithelium --- []\n",
      "1001 Thalamic glioepithelium/ependyma --- []\n",
      "1003 Hypothalamic glioepithelium/ependyma --- []\n",
      "1004 Mammillary glioepithelium/ependyma --- []\n",
      "1005 Preoptic glioepithelium/ependyma --- []\n",
      "1006 Mesencephalic neuroepithelium --- []\n",
      "1025 Rhombencephalic neuroepithelium --- []\n",
      "1007 Medullary glioepithelium/ependyma --- []\n",
      "1008 Precerebellar neuroepithelium --- []\n",
      "1010 Cerebellar glioepithelium/ependym --- []\n",
      "1013 Strionuclear glioepithelium --- []\n",
      "1014 Callosal glioepithelium --- []\n",
      "3000 Fiber tracts --- [('forebrain commissural fiber tracts', 100.0, 10558), ('forebrain ipsilateral fiber tracts', 100.0, 10568)]\n",
      "455 Oculomotor nerve --- []\n",
      "468 Trochlear nerve --- []\n",
      "469 Trigeminal nerve --- []\n",
      "466 Abducens nerve --- []\n",
      "467 Facial nerve --- []\n",
      "232 Corticofugal tract --- []\n",
      "344 Fasciola cinereum --- []\n",
      "246 Stria medullaris --- []\n",
      "396 Principal mammillary tract --- []\n",
      "397 Supramammillary decussation --- []\n",
      "310 Habenulo-interpenduncular tract --- []\n",
      "415 Lateral medullary lamina --- []\n",
      "417 External medullary lamina of the thalamus --- [('external medullary lamina of thalamus', 94.87179487179486, 12038), ('internal medullary lamina of thalamus', 89.74358974358975, 12063)]\n",
      "340 Visual radiation --- []\n",
      "239 Corpus callosum, genu --- []\n",
      "240 Corpus callosum, body --- []\n",
      "241 Corpus callosum, splenium --- []\n",
      "334 Internal medullary lamina of the thalamus --- [('internal medullary lamina of thalamus', 94.87179487179486, 12063), ('external medullary lamina of thalamus', 89.74358974358975, 12038)]\n",
      "414 Medial medullary lamina --- []\n",
      "311 Dorsal funiculus --- []\n",
      "346 Lateral funiculus --- []\n",
      "347 Ventral funiculus --- []\n",
      "250 Cerebellar peduncles --- []\n",
      "458 Superior cerebellar peduncle decussation --- []\n",
      "253 White matter fibers --- []\n",
      "229 Choroid plexus --- []\n",
      "230 Central canal --- []\n"
     ]
    }
   ],
   "source": [
    "for k,v in matches.items():\n",
    "    name = ontohelper_dharani.onto_lookup[k].name\n",
    "    if len(v)==1:\n",
    "        pass\n",
    "        # print('*',k,name,v)\n",
    "    else:\n",
    "        print(k,name,'---', v)\n",
    "    "
   ]
  },
  {
   "cell_type": "code",
   "execution_count": 41,
   "metadata": {},
   "outputs": [
    {
     "data": {
      "text/plain": [
       "[('prefrontopontine fibers', 100.0, 12042),\n",
       " ('frontopontine fibers', 100.0, 12048),\n",
       " ('parietopontine fibers', 100.0, 12055),\n",
       " ('occipitopontine fibers', 100.0, 12056),\n",
       " ('temporopontine fibers', 100.0, 12061)]"
      ]
     },
     "execution_count": 41,
     "metadata": {},
     "output_type": "execute_result"
    }
   ],
   "source": [
    "ontohelper_allen.search('pontine',partial=True)"
   ]
  },
  {
   "cell_type": "code",
   "execution_count": 42,
   "metadata": {},
   "outputs": [
    {
     "name": "stdout",
     "output_type": "stream",
     "text": [
      "10462 NodeRecord(acronym='FF', name='nucleus of the field of Forel', level=6, parentid=10461, color_hex_triplet='#B67BB4')\n",
      "15550 NodeRecord(acronym='CTF', name='central tegmental field', level=5, parentid=12277, color_hex_triplet='#6CA9BF')\n",
      "12289 NodeRecord(acronym='RRF', name='retrorubral field', level=5, parentid=12277, color_hex_triplet='#5298AE')\n"
     ]
    }
   ],
   "source": [
    "for ontoid, rec in ontohelper_allen.onto_lookup.items():\n",
    "    if 'field' in rec.name.lower():\n",
    "        print(ontoid, rec)"
   ]
  },
  {
   "cell_type": "code",
   "execution_count": 43,
   "metadata": {},
   "outputs": [
    {
     "data": {
      "text/plain": [
       "NodeRecord(acronym='CPhipc', name='CP in caudal hippocampus', level=7, parentid=11735, color_hex_triplet='#5D457F')"
      ]
     },
     "execution_count": 43,
     "metadata": {},
     "output_type": "execute_result"
    }
   ],
   "source": [
    "ontohelper_allen.onto_lookup[11737]"
   ]
  },
  {
   "cell_type": "code",
   "execution_count": 44,
   "metadata": {},
   "outputs": [
    {
     "data": {
      "text/plain": [
       "NodeRecord(acronym='CPhip', name='CP in hippocampal proper', level=6, parentid=10520, color_hex_triplet='#5D457F')"
      ]
     },
     "execution_count": 44,
     "metadata": {},
     "output_type": "execute_result"
    }
   ],
   "source": [
    "ontohelper_allen.onto_lookup[11735]"
   ]
  },
  {
   "cell_type": "code",
   "execution_count": 45,
   "metadata": {},
   "outputs": [
    {
     "data": {
      "text/plain": [
       "NodeRecord(acronym='IPNdl', name='Interpeduncular nucleu, dorsolateral part', level=5, parentid=283, color_hex_triplet='#8EBDCD')"
      ]
     },
     "execution_count": 45,
     "metadata": {},
     "output_type": "execute_result"
    }
   ],
   "source": [
    "ontohelper_dharani.onto_lookup[450]"
   ]
  },
  {
   "cell_type": "code",
   "execution_count": null,
   "metadata": {},
   "outputs": [],
   "source": []
  }
 ],
 "metadata": {
  "kernelspec": {
   "display_name": "dharani_env",
   "language": "python",
   "name": "python3"
  },
  "language_info": {
   "codemirror_mode": {
    "name": "ipython",
    "version": 3
   },
   "file_extension": ".py",
   "mimetype": "text/x-python",
   "name": "python",
   "nbconvert_exporter": "python",
   "pygments_lexer": "ipython3",
   "version": "3.8.10"
  }
 },
 "nbformat": 4,
 "nbformat_minor": 2
}
