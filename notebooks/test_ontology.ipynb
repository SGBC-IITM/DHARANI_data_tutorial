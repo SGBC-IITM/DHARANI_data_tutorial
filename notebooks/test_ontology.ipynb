{
 "cells": [
  {
   "cell_type": "markdown",
   "metadata": {},
   "source": [
    "## check ontology helper"
   ]
  },
  {
   "cell_type": "code",
   "execution_count": 1,
   "metadata": {},
   "outputs": [],
   "source": [
    "import sys\n",
    "sys.path.append('..')\n",
    "from ontology_handling import TreeHelper"
   ]
  },
  {
   "cell_type": "code",
   "execution_count": 2,
   "metadata": {},
   "outputs": [],
   "source": [
    "ontohelper_dharani = TreeHelper(ontoname='dharani')"
   ]
  },
  {
   "cell_type": "code",
   "execution_count": 3,
   "metadata": {},
   "outputs": [
    {
     "name": "stdout",
     "output_type": "stream",
     "text": [
      "[lvl] id (acronym) name\n",
      "---------------------\n",
      " [0] 1 (Br) Brain\n",
      "   [1] 2 (FB) Forebrain\n",
      "     [2] 3 (Tel) Telencephalon\n",
      "       [3] 4 (Ctx) Cerebral cortex\n",
      "         [*] 5 (SGL-CTX) Subpial granular layer, cerebral cortex\n",
      "         [*] 6 (MZ-CTX) Marginal zone, cerebral cortex\n",
      "         [*] 7 (CP-CTX) Cortical plate, cerebral cortex\n",
      "         [*] 8 (SP-CTX) Subplate zone, cerebral cortex\n",
      "         [*] 9 (IZ-CTX) Intermediate zone, cerebral cortex\n",
      "         [*] 10 (SVZ-CTX) Subventricular zone, cerebral cortex\n",
      "         [*] 11 (VZ-CTX) Ventricular zone, cerebral cortex\n",
      "         [4] 12 (FCtx) Frontal cortex\n",
      "           [*] 13 (SGL-FCTx) Subpial granular layer, frontal cortex\n",
      "           [*] 14 (MZ-FCTx) Marginal zone, frontal cortex\n",
      "           [*] 15 (CP-FCTx) Cortical plate, frontal cortex\n",
      "           [*] 16 (SP-FCTx) Subplate zone, frontal cortex\n",
      "           [*] 17 (IZ-FCTx) Intermediate zone, frontal cortex\n",
      "           [*] 18 (SVZ-FCTx) Subventricular zone, frontal cortex\n",
      "           [*] 19 (VZ-FCTx) Ventricular zone, frontal cortex\n",
      "         [4] 20 (CeS) Central sulcus\n",
      "         [4] 21 (ORB) Orbital cortex\n",
      "           [*] 22 (SGL-ORB) Subpial granular layer, orbital cortex\n",
      "           [*] 23 (MZ-ORB) Marginal zone, orbital cortex\n",
      "           [*] 24 (CP-ORB) Cortical plate, orbital cortex\n",
      "           [*] 25 (SP-ORB) Subplate zone, orbital cortex\n",
      "           [*] 26 (IZ-ORB) Intermediate zone, orbital cortex\n",
      "           [*] 27 (SVZ-ORB) Subventricular zone, orbital cortex\n",
      "           [*] 28 (VZ-ORB) Ventricular zone, orbital cortex\n",
      "         [4] 29 (PAR) Parietal cortex\n",
      "           [*] 30 (SGL-PAR) Subpial granular layer, parietal cortex\n",
      "           [*] 31 (MZ-PAR) Marginal zone, parietal cortex\n",
      "           [*] 32 (CP-PAR) Cortical plate, parietal cortex\n",
      "           [*] 33 (SP-PAR) Subplate zone, parietal cortex\n",
      "           [*] 34 (IZ-PAR) Intermediate zone, parietal cortex\n",
      "           [*] 35 (SVZ-PAR) Subventricular zone, parietal cortex\n",
      "           [*] 36 (VZ-PAR) Ventricular zone, parietal cortex\n",
      "         [4] 37 (POS) Parieto-occipital sulcus\n",
      "         [4] 38 (OCC) Occipital cortex\n",
      "           [*] 39 (SGL-OCC) Subpial granular layer, occipital cortex\n",
      "           [*] 40 (MZ-OCC) Marginal zone, occipital cortex\n",
      "           [*] 41 (CP-OCC) Cortical plate, occipital cortex\n",
      "           [*] 42 (SP-OCC) Subplate zone, occipital cortex\n",
      "           [*] 43 (IZ-OCC) Intermediate zone, occipital cortex\n",
      "           [*] 44 (SVZ-OCC) Subventricular zone, occipital cortex\n",
      "           [*] 45 (VZ-OCC) Ventricular zone, occipital cortex\n",
      "         [4] 46 (CaS) Calcarine sulcus\n",
      "         [4] 47 (TEMP) Temporal cortex\n",
      "           [*] 48 (SGL-TEMP) Subpial granular layer, temporal cortex\n",
      "           [*] 49 (MZ-TEMP) Marginal zone, temporal cortex\n",
      "           [*] 50 (CP-TEMP) Cortical plate, temporal cortex\n",
      "           [*] 51 (SP-TEMP) Subplate zone, temporal cortex\n",
      "           [*] 52 (IZ-TEMP) Intermediate zone, temporal cortex\n",
      "           [*] 53 (SVZ-TEMP) Subventricular zone, temporal cortex\n",
      "           [*] 54 (VZ-TEMP) Ventricular zone, temporal cortex\n",
      "         [4] 55 (PARG) Parahippocampal gyrus\n",
      "           [5] 56 (ENT) Entorhinal cortex\n",
      "             [*] 57 (SGL-ENT) Subpial granular layer, entorhinal cortex\n",
      "             [*] 58 (MZ-ENT) Marginal zone, entorhinal cortex\n",
      "             [*] 59 (CP-ENT) Cortical plate, entorhinal cortex\n",
      "             [*] 60 (SP-ENT) Subplate zone, entorhinal cortex\n",
      "             [*] 61 (IZ-ENT) Intermediate zone, entorhinal cortex\n",
      "             [*] 62 (SVZ-ENT) Subventricular zone, entorhinal cortex\n",
      "             [*] 63 (VZ-ENT) Ventricular zone, entorhinal cortex\n",
      "         [4] 65 (ArCTx) Archicortex\n",
      "         [4] 64 (AlCTx) Allocortex\n",
      "           [5] 66 (HPF) Hippocampal formation\n",
      "             [*] 67 (SGL-HPF) Subpial granular layer, hippocampal formation\n",
      "             [*] 68 (MZ-HPF) Marginal zone, hippocampal formation\n",
      "             [*] 69 (CP-HPF) Cortical plate, hippocampal formation\n",
      "             [*] 70 (SP-HPF) Subplate zone, hippocampal formation\n",
      "             [*] 71 (IZ-HPF) Intermediate zone, hippocampal formation\n",
      "             [*] 72 (SVZ-HPF) Subventricular zone, hippocampal formation\n",
      "             [*] 73 (VZ-HPF) Ventricular zone, hippocampal formation\n",
      "             [6] 74 (HIP) Hippocampus\n",
      "               [*] 75 (SGL-HIP) Subpial granular layer, hippocampus\n",
      "               [*] 76 (MZ-HIP) Marginal zone, hippocampus\n",
      "               [*] 77 (CP-HIP) Cortical plate, hippocampus\n",
      "               [*] 78 (SP-HIP) Subplate zone, hippocampus\n",
      "               [*] 79 (IZ-HIP) Intermediate zone, hippocampus\n",
      "               [*] 80 (SVZ-HIP) Subventricular zone, hippocampus\n",
      "               [*] 81 (VZ-HIP) Ventricular zone, hippocampus\n",
      "               [7] 82 (DG) Dentate gyrus\n",
      "               [7] 83 (CA) Ammon's horn\n",
      "                 [8] 386 (CA1) CA1 field of hippocampus\n",
      "                   [*] 420 (SP-CA1) Subplate zone, CA1 field\n",
      "                   [*] 421 (IZ-CA1) Intermediate zone, CA1 field\n",
      "                 [8] 387 (CA2) CA2 field of hippocampus\n",
      "                   [*] 422 (SP-CA2) Subplate zone, CA2 field\n",
      "                   [*] 423 (IZ-CA2) Intermediate zone, CA2 field\n",
      "                 [8] 388 (CA3) CA3 field of hippocampus\n",
      "                   [*] 424 (SP-CA3) Subplate zone, CA3 field\n",
      "                   [*] 425 (IZ-CA3) Intermediate zone, CA3 field\n",
      "                 [8] 389 (CA4) CA4 field of hippocampus\n",
      "                   [*] 426 (SP-CA4) Subplate zone, CA4 field\n",
      "                   [*] 427 (IZ-CA4) Intermediate zone, CA4 field\n",
      "               [7] 84 (IG) Induseum griseum\n",
      "             [6] 85 (SUB) Subiculum\n",
      "               [*] 86 (SGL-SUB) Subpial granular layer, subiculum\n",
      "               [*] 87 (MZ-SUB) Marginal zone, subiculum\n",
      "               [*] 88 (CP-SUB) Cortical plate, subiculum\n",
      "               [*] 89 (SP-SUB) Subplate zone, subiculum\n",
      "               [*] 90 (IZ-SUB) Intermediate zone, subiculum\n",
      "               [*] 91 (SVZ-SUB) Subventricular zone, subiculum\n",
      "               [*] 92 (VZ-SUB) Ventricular zone, subiculum\n",
      "             [6] 93 (PRESUB) Presubiculum\n",
      "               [*] 94 (SGL-PRESUB) Subpial granular layer, presubiculum\n",
      "               [*] 95 (MZ-PRESUB) Marginal zone, presubiculum\n",
      "               [*] 96 (CP-PRESUB) Cortical plate, presubiculum\n",
      "               [*] 97 (SP-PRESUB) Subplate zone, presubiculum\n",
      "               [*] 98 (IZ-PRESUB) Intermediate zone, presubiculum\n",
      "               [*] 99 (SVZ-PRESUB) Subventricular zone, presubiculum\n",
      "               [*] 100 (VZ-PRESUB) Ventricular zone, presubiculum\n",
      "             [6] 101 (PARA) Parasubiculum\n",
      "               [*] 102 (SGL-PARA) Subpial granular layer, parasubiculum\n",
      "               [*] 103 (MZ-PARA) Marginal zone, parasubiculum\n",
      "               [*] 104 (CP-PARA) Cortical plate, parasubiculum\n",
      "               [*] 105 (SP-PARA) Subplate zone, parasubiculum\n",
      "               [*] 106 (IZ-PARA) Intermediate zone, parasubiculum\n",
      "               [*] 107 (SVZ-PARA) Subventricular zone, parasubiculum\n",
      "               [*] 108 (VZ-PARA) Ventricular zone, parasubiculum\n",
      "             [6] 109 (POST) Postsubiculum\n",
      "               [*] 110 (SGL-POST) Subpial granular layer, postsubiculum\n",
      "               [*] 111 (MZ-POST) Marginal zone, postsubiculum\n",
      "               [*] 112 (CP-POST) Cortical plate, postsubiculum\n",
      "               [*] 113 (SP-POST) Subplate zone, postsubiculum\n",
      "               [*] 114 (IZ-POST) Intermediate zone, postsubiculum\n",
      "               [*] 115 (SVZ-POST) Subventricular zone, postsubiculum\n",
      "               [*] 116 (VZ-POST) Ventricular zone, postsubiculum\n",
      "         [4] 117 (LF) Lateral fissure\n",
      "         [4] 118 (INS) Insula\n",
      "           [*] 500 (SGL-INS) Subpial granular layer, insula\n",
      "           [*] 501 (MZ-INS) Marginal zone, insula\n",
      "           [*] 502 (CP-INS) Cortical plate, insula\n",
      "           [*] 503 (SP-INS) Subplate zone, insula\n",
      "           [*] 504 (IZ-INS) Intermediate zone, insula\n",
      "           [*] 505 (SVZ-INS) Subventricular zone, insula\n",
      "           [*] 506 (VZ-INS) Ventricular zone, insula\n",
      "         [4] 120 (CING) Cingulate cortex\n",
      "           [*] 121 (SGL-CING) Subpial granular layer, cingulate cortex\n",
      "           [*] 122 (MZ-CING) Marginal zone, cingulate cortex\n",
      "           [*] 123 (CP-CING) Cortical plate, cingulate cortex\n",
      "           [*] 124 (SP-CING) Subplate zone, cingulate cortex\n",
      "           [*] 125 (IZ-CING) Intermediate zone, cingulate cortex\n",
      "           [*] 126 (SVZ-CING) Subventricular zone, cingulate cortex\n",
      "           [*] 127 (VZ-CING) Ventricular zone, cingulate cortex\n",
      "           [5] 128 (CINGs) Cingulate sulcus\n",
      "           [5] 129 (CINGg) Cingulate gyrus\n",
      "         [4] 130 (TT) Tenia tecta\n",
      "         [4] 131 (CLA) Claustrum\n",
      "         [4] 132 (EP) Endopiriform nucleus\n",
      "         [4] 133 (OLFb) Olfactory bulb\n",
      "         [4] 134 (OLF) Olfactory cortex\n",
      "       [3] 135 (AMY) Amygdala\n",
      "         [4] 136 (BLA) Basolateral complex of the amygdala\n",
      "           [5] 286 (BL) Basal nucleus of the amygdala\n",
      "             [6] 433 (BLd) Basal nucleus of the amygdala, dorsal part\n",
      "             [6] 434 (BLdl) Basal nucleus of the amygdala, dorsolateral part\n",
      "             [6] 435 (BLi) Basal nucleus of the amygdala, intermediate part\n",
      "             [6] 436 (BLvl) Basal nucleus of the amygdala, ventrolateral part\n",
      "           [5] 287 (BM) Basomedial nucleus of the amygdala\n",
      "             [6] 437 (BMmg) Basomedial nucleus of the amygdala, magnocellular part\n",
      "             [6] 438 (BMpv) Basomedial nucleus of the amygdala, parvocellular part\n",
      "           [5] 288 (LA) Lateral nucleus of the amygdala\n",
      "         [4] 137 (CMX) Corticomedial complex of the amygdala\n",
      "           [5] 289 (AAA) Anterior amygdaloid area\n",
      "           [5] 290 (COA) Cortical nucleus of the amygdala\n",
      "             [6] 291 (COAa) Cortical nucleus of the amygdala, anterior part\n",
      "             [6] 292 (COAp) Cortical nucleus of the amygdala, posterior part\n",
      "         [4] 293 (PAC) Periamygdaloid cortex\n",
      "         [4] 294 (MEA) Medial nucleus of the amygdala\n",
      "         [4] 295 (CEA) Central nucleus of the amygdala\n",
      "         [4] 138 (AHi) Amygdalo-hippocampal area\n",
      "         [4] 393 (AStr) Amygdalo-striatal area\n",
      "         [4] 296 (IA) Intercalated cell groups of the amygdala\n",
      "         [4] 297 (PLA) Paralaminar nucleus of the amygdala\n",
      "       [3] 140 (BN) Basal nuclei\n",
      "         [4] 141 (Str) Striatum\n",
      "           [5] 142 (Cau) Caudate nucleus\n",
      "           [5] 143 (Put) Putamen\n",
      "           [5] 144 (NAc) Nucleus accumbens\n",
      "         [4] 145 (GP) Globus pallidus\n",
      "           [5] 146 (GPl) Globus pallidus lateral segment\n",
      "           [5] 147 (GPm) Globus pallidus medial segment\n",
      "         [4] 148 (BFB) Basal forebrain\n",
      "           [5] 149 (SEP) Septum\n",
      "             [6] 150 (LS) Lateral septal nucleus\n",
      "             [6] 151 (MS) Medial septal nucleus\n",
      "           [5] 153 (SI) Substantia innominata\n",
      "           [5] 154 (NDB) Nucleus of the diagonal band\n",
      "           [5] 313 (BNM) Basal nucleus of Meynert\n",
      "         [4] 152 (BST) Bed nucleus of the stria terminalis\n",
      "         [4] 155 (OT) Olfactory tubercle\n",
      "           [5] 439 (IsCj) Islands of Calleja\n",
      "     [2] 159 (Di) Diencephalon\n",
      "       [3] 160 (TH) Thalamus\n",
      "         [4] 254 (DOR) Dorsal complex of the thalamus\n",
      "           [5] 161 (MD) Medial dorsal nucleus of the thalamus\n",
      "           [5] 459 (FA) Nucleus fasciculosus of the thalamus\n",
      "           [5] 162 (LD) Lateral dorsal nucleus of the thalamus\n",
      "           [5] 416 (LP) Lateral posterior nucleus of the thalamus\n",
      "           [5] 255 (SFO) Subfornical organ\n",
      "         [4] 260 (PVTH) Periventricular complex of the thalamus\n",
      "           [5] 171 (Pf) Parafascicular nucleus of the thalamus\n",
      "           [5] 333 (PVT) Paraventricular nucleus of the thalamus\n",
      "           [5] 391 (PT) Paratenial nucleus of the thalamus\n",
      "           [5] 170 (RE) Nucleus reuniens\n",
      "         [4] 256 (ANT) Anterior complex of the thalamus\n",
      "           [5] 163 (AD) Anterodorsal nucleus of the thalamus\n",
      "           [5] 164 (AM) Anteromedial nucleus of the thalamus\n",
      "           [5] 165 (AV) Anteroventral nucleus of the thalamus\n",
      "         [4] 257 (CTH) Central complex of the thalamus\n",
      "           [5] 258 (CMT) Centromedian nucleus of the thalamus\n",
      "           [5] 166 (CL) Central lateral nucleus of the thalamus\n",
      "           [5] 395 (CM) Central medial nucleus of the thalamus\n",
      "           [5] 390 (RH) Rhomboid nucleus of the thalamus\n",
      "         [4] 259 (POT) Posterior complex of the thalamus\n",
      "           [5] 167 (LGN) Lateral geniculate nucleus\n",
      "           [5] 419 (PGN) Pregeniculate nucleus\n",
      "           [5] 168 (MGN) Medial geniculate nucleus\n",
      "           [5] 400 (SGN) Suprageniculate nucleus\n",
      "           [5] 432 (SbGN) Subgeniculate nucleus\n",
      "           [5] 405 (NL) Nucleus limitans of the thalamus\n",
      "           [5] 169 (PULV) Pulvinar nucleus of the thalamus\n",
      "         [4] 282 (VEN) Ventral complex of the thalamus\n",
      "           [5] 329 (VA) Ventral anterior nucleus of the thalamus\n",
      "           [5] 330 (VL) Ventral lateral nucleus of the thalamus\n",
      "           [5] 383 (VM) Ventral medial nucleus of the thalamus\n",
      "           [5] 331 (VPL) Ventral posterolateral nucleus of the thalamus\n",
      "           [5] 332 (VPM) Ventral posteromedial nucleus of the thalamus\n",
      "           [5] 401 (VPI) Ventral posteroinferior nucleus of the thalamus\n",
      "           [5] 402 (VMB) Ventral medial basal nucleus of the thalamus\n",
      "           [5] 380 (SPF) Subparafascicular nucleus\n",
      "             [6] 381 (SPFm) Subparafascicular nucleus, magnocellular part\n",
      "             [6] 382 (SPFp) Subparafascicular nucleus, parvocellular part\n",
      "           [5] 174 (ZI) Zona incerta\n",
      "           [5] 175 (FF) Field of Forel\n",
      "         [4] 172 (H) Habenula\n",
      "           [5] 394 (LH) Lateral habenula\n",
      "           [5] 399 (MH) Medial habenula\n",
      "         [4] 173 (EPI) Epithalamus\n",
      "         [4] 176 (RT) Reticular nucleus of the thalamus\n",
      "       [3] 177 (HY) Hypothalamus\n",
      "         [4] 413 (AHA) Anterior hypothalamic area\n",
      "         [4] 384 (AHN) Anterior hypothalamic nucleus\n",
      "         [4] 178 (SON) Supraoptic nucleus of the hypothalamus\n",
      "         [4] 179 (SCH) Suprachiasmatic nucleus of the hypothalamus\n",
      "         [4] 418 (RCH) Retrochiasmatic nucleus of the hypothalamus\n",
      "         [4] 180 (PVH) Paraventricular nucleus of the hypothalamus\n",
      "         [4] 181 (ARH) Arcuate nucleus of the hypothalamus\n",
      "         [4] 182 (VMH) Ventromedial nucleus of the hypothalamus\n",
      "         [4] 183 (DMH) Dorsomedial nucleus of the hypothalamus\n",
      "         [4] 184 (LHA) Lateral hypothalamic area\n",
      "         [4] 185 (M) Mammillary body\n",
      "           [5] 407 (LMN) Lateral mammillary nucleus\n",
      "           [5] 408 (MMN) Medial mammillary nucleus\n",
      "         [4] 298 (SUM) Supramammillary area\n",
      "         [4] 299 (PMM) Premammillary area\n",
      "         [4] 409 (PMd) Dorsal premammillary nucleus\n",
      "         [4] 410 (PMv) Ventral premammillary nucleus\n",
      "         [4] 306 (TMM) Tuberomammillary nucleus\n",
      "         [4] 186 (PO) Preoptic area\n",
      "           [5] 300 (LPO) Lateral preoptic area\n",
      "           [5] 301 (MEPO) Medial preoptic area\n",
      "         [4] 187 (MPO) Medial preoptic nucleus\n",
      "         [4] 411 (MgPO) Magnocellular preoptic nucleus\n",
      "         [4] 412 (TU) Tuberal area\n",
      "         [4] 302 (LTN) Lateral tuberal nucleus\n",
      "         [4] 303 (PeF) Perifornical nucleus\n",
      "         [4] 304 (PVPO) Preoptic periventricular nucleus\n",
      "         [4] 307 (PHN) Posterior hypothalamic nucleus\n",
      "         [4] 308 (DHA) Dorsal hypothalamic area\n",
      "         [4] 309 (PHM) Posteromedial hypothalamic nucleus\n",
      "         [4] 188 (Sth) Subthalamus\n",
      "         [4] 189 (Pit) Pituitary gland\n",
      "         [4] 190 (Inf) Infundibulum\n",
      "         [4] 191 (ME) Median eminence\n",
      "         [4] 280 (PIN) Pineal gland\n",
      "   [1] 440 (BS) Brainstem\n",
      "     [2] 192 (MB) Midbrain\n",
      "       [3] 203 (Prt) Pretectum\n",
      "         [4] 322 (APT) Anterior pretectal nucleus\n",
      "         [4] 323 (MPT) Medial pretectal nucleus\n",
      "         [4] 324 (PPT) Posterior pretectal nucleus\n",
      "         [4] 325 (NOT) Nucleus of the optic tract\n",
      "         [4] 326 (OPT) Olivary pretectal nucleus\n",
      "       [3] 193 (Tct) Tectum\n",
      "         [4] 194 (SC) Superior colliculus\n",
      "         [4] 195 (IC) Inferior colliculus\n",
      "           [5] 318 (ICc) Inferior colliculus, central nucleus\n",
      "           [5] 319 (ICe) Inferior colliculus, external nucleus\n",
      "           [5] 385 (ICd) Inferior colliculus, dorsal nucleus\n",
      "       [3] 196 (Tgt) Tegmentum\n",
      "         [4] 320 (PBN) Parabigeminal nucleus\n",
      "         [4] 321 (NPC) Nucleus of the posterior commissure\n",
      "         [4] 197 (SN) Substantia nigra\n",
      "           [5] 198 (SNc) Substantia nigra pars compacta\n",
      "           [5] 199 (SNr) Substantia nigra pars reticulata\n",
      "         [4] 200 (R) Red nucleus\n",
      "         [4] 285 (PAG) Periaqueductal gray\n",
      "         [4] 444 (INC) Interstitial nucleus of Cajal\n",
      "         [4] 403 (EW) Edinger-Westphal nucleus\n",
      "         [4] 404 (ND) Nucleus of Darkschewitsch\n",
      "         [4] 263 (III) Oculomotor nuclear complex\n",
      "         [4] 262 (IV) Trochlear nucleus\n",
      "         [4] 261 (V) Mesencephalic nucleus\n",
      "         [4] 201 (VTA) Ventral tegmental area\n",
      "         [4] 428 (RR) Retrorubral area\n",
      "         [4] 449 (PnVTA) Paranigral nucleus of the VTA\n",
      "         [4] 283 (INT) Interpeduncular nucleus\n",
      "           [5] 450 (IPNdl) Interpeduncular nucleu, dorsolateral part\n",
      "           [5] 451 (IPNdm) Interpeduncular nucleu, dorsomedial part\n",
      "           [5] 452 (IPNc) Interpeduncular nucleu, caudal part\n",
      "           [5] 454 (RbN) Rhabdoid nucleus\n",
      "         [4] 453 (PaP) Parapeduncular nucleus\n",
      "       [3] 377 (Ret-MB) Reticular formation, Midbrain\n",
      "     [2] 204 (HB) Hindbrain\n",
      "       [3] 205 (P) Pons\n",
      "         [4] 429 (CGP) Central gray of the pons\n",
      "         [4] 264 (NLLd) Nucleus of the lateral lemniscus, dorsal\n",
      "         [4] 265 (NLLv) Nucleus of the lateral lemniscus, ventral\n",
      "         [4] 266 (PSV) Principal sensory nucleus of the trigeminal\n",
      "         [4] 206 (PB) Parabrachial nucleus\n",
      "           [5] 464 (PBl) Parabrachial nucleus, lateral part\n",
      "           [5] 465 (PBm) Parabrachial nucleus, medial part\n",
      "         [4] 207 (SO) Superior olive\n",
      "         [4] 208 (PG) Pontine gray\n",
      "         [4] 267 (DTN) Dorsal tegmental nucleus\n",
      "         [4] 268 (RTN) Reticular tegmental nucleus\n",
      "         [4] 269 (Vn) Trigeminal motor nucleus\n",
      "         [4] 209 (LC) Locus coeruleus\n",
      "         [4] 372 (Ret-P) Reticular formation, Pons\n",
      "       [3] 211 (Med) Medulla\n",
      "         [4] 378 (Ret-Med) Reticular formation, Medulla\n",
      "         [4] 374 (CN) Cochlear nuclei\n",
      "         [4] 375 (DCN) Dorsal cochlear nucleus\n",
      "         [4] 376 (VCN) Ventral cochlear nucleus\n",
      "         [4] 314 (CUN) Cuneate nucleus\n",
      "         [4] 315 (GR) Gracile nucleus\n",
      "         [4] 316 (AP) Area postrema\n",
      "         [4] 270 (SOL) Solitary nucleus\n",
      "           [5] 271 (X-sens) Dorsal sensory nucleus X\n",
      "           [5] 272 (COM) Commissural nucleus\n",
      "         [4] 273 (SPV) Spinal nucleus of the trigeminal\n",
      "         [4] 274 (VIn) Abducens nucleus\n",
      "         [4] 275 (VIIn) Facial motor nucleus\n",
      "         [4] 276 (VNC) Vestibular nuclear complex\n",
      "         [4] 277 (AMB) Nucleus ambiguus\n",
      "         [4] 278 (Xn) Dorsal motor nucleus\n",
      "         [4] 373 (XIn) Accessory nucleus\n",
      "         [4] 279 (XIIn) Hypoglossal nucleus\n",
      "         [4] 212 (IO) Inferior olive\n",
      "         [4] 213 (NR) Nucleus of Roller\n",
      "         [4] 214 (PRP) Nucleus prepositus\n",
      "         [4] 305 (LRN) Lateral reticular nucleus\n",
      "         [4] 336 (ARM) Arcuate nucleus of the medulla\n",
      "         [4] 430 (INM) Intercalated nucleus of the medulla\n",
      "     [2] 210 (Raphe) Raphe nuclei\n",
      "       [3] 448 (DR) Dorsal raphe nucleus\n",
      "       [3] 445 (RLI) Rostral linear raphe nucleus\n",
      "       [3] 446 (CLI) Caudal linear raphe nucleus\n",
      "       [3] 447 (MrN) Median raphe nucleus\n",
      "       [3] 460 (RM) Raphe magnus nucleus\n",
      "       [3] 461 (RIP) Raphe interpositus nucleus\n",
      "       [3] 462 (RPA) Raphe pallidus nucleus\n",
      "       [3] 463 (RO) Raphe obscurus nucleus\n",
      "   [1] 215 (CB) Cerebellum\n",
      "     [2] 216 (CBX) Cerebellar cortex\n",
      "       [3] 218 (VERM) Vermis\n",
      "         [4] 348 (CBX-Ant) Anterior lobe of cerebellum (H_V)\n",
      "           [5] 349 (LING) Lingula (I-II)\n",
      "           [5] 350 (CENT) Centralis (III)\n",
      "           [5] 351 (CUL) Culmen (IV-V)\n",
      "         [4] 352 (CBX-Cent) Central lobe of cerebellum\n",
      "           [5] 353 (DEC) Declive (VI)\n",
      "           [5] 354 (FOL) Folium (VIIa)\n",
      "           [5] 355 (TUB) Tuber (VIIb)\n",
      "           [5] 356 (PYR) Pyramis (VIII)\n",
      "         [4] 357 (UVU) Uvula (IX)\n",
      "         [4] 358 (NOD) Nodulus (X)\n",
      "       [3] 219 (HEM) Cerebellar hemispheres\n",
      "         [4] 359 (SIM) Simplex lobule (HVI)\n",
      "         [4] 360 (AN) Ansiform lobule (HVIIA)\n",
      "           [5] 361 (CRUSI) Ansiform lobule, crus I\n",
      "           [5] 362 (CRUSII) Anisform lobule, crus II\n",
      "         [4] 363 (PRM) Paramedian lobules (HVIIB)\n",
      "         [4] 364 (BVL) Biventral lobule (HVIII)\n",
      "         [4] 365 (FLO) Flocculus (HX)\n",
      "         [4] 366 (PFLO) Parafloccculus (HIX)\n",
      "     [2] 217 (CBN) Cerebellar nuclei\n",
      "       [3] 220 (FN) Fastigial nucleus\n",
      "       [3] 221 (IP) Interposed nucleus\n",
      "       [3] 222 (DN) Dentate nucleus\n",
      "     [2] 223 (TRI) Germinal trigone\n",
      " [0] 231 (SP) Spinal cord\n",
      "   [1] 317 (DGSC) Dorsal gray of the spinal cord\n",
      "   [1] 367 (DH) Dorsal horn\n",
      "   [1] 368 (IH) Intermediate gray of the spinal cord\n",
      "   [1] 369 (CG) Central gray of the spinal cord\n",
      "   [1] 370 (VG) Ventral gray of the spinal cord\n",
      "   [1] 371 (VH) Ventral horn\n",
      " [0] 5000 (dev) Developmental (transient) structures\n",
      "   [1] 158 (GE) Ganglionic eminence\n",
      "   [1] 442 (Mss) Migratory streams\n",
      "     [2] 441 (Ms-g) Migratory stream, general\n",
      "     [2] 156 (Lms) Lateral migratory stream\n",
      "     [2] 157 (Rms) Rostral migratory stream\n",
      "   [1] 1023 (ftctxn) Frontal neuroepithelium\n",
      "   [1] 1022 (orbn) Orbitofrontal neuroepithelium\n",
      "   [1] 1015 (cingn) Cingulate neuroepithelium\n",
      "   [1] 1021 (parn) Parietal lobe neuroepithelium and subventricular zone\n",
      "   [1] 1019 (tempn) Temporal lobe neuroepithelium\n",
      "   [1] 1018 (phipn) Parahippocampal neuroepithelium\n",
      "   [1] 1016 (hipg) Hippocampal glioepithelium/ependyma\n",
      "   [1] 1020 (ocn) Occipital lobe neuroepithelium and subventricular zone\n",
      "   [1] 1024 (acbn) Accumbent neuroepithelium\n",
      "   [1] 1000 (dne) Diencephalic neuroepithelium\n",
      "   [1] 1001 (tg) Thalamic glioepithelium/ependyma\n",
      "   [1] 1002 (eg) Epithalamic glioepithelium/ependyma\n",
      "   [1] 1003 (hg) Hypothalamic glioepithelium/ependyma\n",
      "   [1] 1004 (mg) Mammillary glioepithelium/ependyma\n",
      "   [1] 1005 (prgl) Preoptic glioepithelium/ependyma\n",
      "   [1] 1006 (mn) Mesencephalic neuroepithelium\n",
      "   [1] 1025 (rhn) Rhombencephalic neuroepithelium\n",
      "   [1] 1007 (meg) Medullary glioepithelium/ependyma\n",
      "   [1] 1008 (pcbn) Precerebellar neuroepithelium\n",
      "   [1] 1009 (CBXext) External germinal layer, cerebellum\n",
      "   [1] 1010 (CB-g) Cerebellar glioepithelium/ependym\n",
      "   [1] 1013 (str-g) Strionuclear glioepithelium\n",
      "   [1] 1014 (cc-gli) Callosal glioepithelium\n",
      "   [1] 1026 (tcet) Transient cell zone in the external capsule\n",
      "   [1] 1027 (tcete) Transient cell zone in the extreme capsule\n",
      "   [1] 1028 (cs) Calossal sling\n",
      " [0] 3000 (ft) Fiber tracts\n",
      "   [1] 455 (III) Oculomotor nerve\n",
      "   [1] 468 (IV) Trochlear nerve\n",
      "   [1] 469 (V) Trigeminal nerve\n",
      "   [1] 466 (VI) Abducens nerve\n",
      "   [1] 467 (VII) Facial nerve\n",
      "   [1] 232 (cortf) Corticofugal tract\n",
      "     [2] 242 (cp) Cerebral peduncle\n",
      "     [2] 233 (corts) Corticospinal tract\n",
      "     [2] 234 (corts-l) Lateral corticospinal tract\n",
      "     [2] 281 (pyrd) Pyramidal decussation\n",
      "     [2] 236 (int) Internal capsule\n",
      "   [1] 235 (mfb) Medial forebrain bundle\n",
      "     [2] 247 (fx) Fornix\n",
      "     [2] 339 (fi) Fimbria\n",
      "     [2] 344 (fc) Fasciola cinereum\n",
      "     [2] 245 (stt) Stria terminalis\n",
      "     [2] 246 (stm) Stria medullaris\n",
      "     [2] 284 (mth) Mammillothalamic tract\n",
      "     [2] 396 (pmt) Principal mammillary tract\n",
      "     [2] 397 (smd) Supramammillary decussation\n",
      "     [2] 398 (mp) Mammillary peduncle\n",
      "     [2] 310 (hi) Habenulo-interpenduncular tract\n",
      "     [2] 312 (mtg) Mammillotegmental tract\n",
      "   [1] 243 (ac) Anterior commissure\n",
      "   [1] 244 (ext) External capsule\n",
      "   [1] 415 (lml) Lateral medullary lamina\n",
      "   [1] 417 (emlth) External medullary lamina of the thalamus\n",
      "   [1] 337 (al) Ansa lenticularis\n",
      "   [1] 338 (Unc-f) Uncinate fasciculus (forebrain)\n",
      "   [1] 252 (olfp) Olfactory penduncle\n",
      "   [1] 237 (cor) Corona radiata\n",
      "     [2] 345 (audr) Auditory radiation\n",
      "     [2] 340 (visr) Visual radiation\n",
      "   [1] 238 (cc) Corpus callosum\n",
      "     [2] 239 (cc-g) Corpus callosum, genu\n",
      "     [2] 240 (cc-b) Corpus callosum, body\n",
      "     [2] 241 (cc-s) Corpus callosum, splenium\n",
      "   [1] 251 (ot) Optic tract\n",
      "     [2] 249 (och) Optic chiasm\n",
      "   [1] 334 (im) Internal medullary lamina of the thalamus\n",
      "   [1] 414 (mml) Medial medullary lamina\n",
      "   [1] 248 (pc) Posterior commissure\n",
      "   [1] 431 (scc) Superior colliculus commissure\n",
      "   [1] 343 (bic) Brachium of the inferior colliculus\n",
      "   [1] 327 (ll) Lateral lemniscus\n",
      "   [1] 341 (ml) Medial lemniscus\n",
      "   [1] 342 (tb) Trapezoid body\n",
      "   [1] 311 (df) Dorsal funiculus\n",
      "   [1] 346 (lf) Lateral funiculus\n",
      "   [1] 347 (vf) Ventral funiculus\n",
      "   [1] 457 (dtgx) Dorsal tegmental decussation\n",
      "   [1] 456 (vtgx) Ventral tegmental decussation\n",
      "   [1] 250 (cpb) Cerebellar peduncles\n",
      "   [1] 458 (scpx) Superior cerebellar peduncle decussation\n",
      "   [1] 253 (wmf) White matter fibers\n",
      " [0] 6000 (Vs) Ventricles\n",
      "   [1] 225 (3V) Third ventricle\n",
      "   [1] 226 (LV) Lateral ventricle\n",
      "   [1] 227 (Aq) Aqueduct\n",
      "   [1] 228 (4V) Fourth ventricle\n",
      "   [1] 443 (IpF) Interpeduncular fossa\n",
      "   [1] 229 (Chp) Choroid plexus\n",
      "   [1] 230 (CC) Central canal\n"
     ]
    }
   ],
   "source": [
    "ontohelper_dharani.print_tree()"
   ]
  },
  {
   "cell_type": "code",
   "execution_count": 4,
   "metadata": {},
   "outputs": [
    {
     "data": {
      "text/plain": [
       "496"
      ]
     },
     "execution_count": 4,
     "metadata": {},
     "output_type": "execute_result"
    }
   ],
   "source": [
    "len(ontohelper_dharani)"
   ]
  },
  {
   "cell_type": "markdown",
   "metadata": {},
   "source": [
    "### search"
   ]
  },
  {
   "cell_type": "code",
   "execution_count": 5,
   "metadata": {},
   "outputs": [],
   "source": [
    "for ontoid, rec in ontohelper_dharani.onto_lookup.items():\n",
    "    res = ontohelper_dharani.search(rec.name)\n",
    "    matched = False\n",
    "    errors = []\n",
    "    for elt in res:\n",
    "        if elt[2]!=ontoid and not matched:\n",
    "            errors.append(elt)\n",
    "        else:\n",
    "            matched = True\n",
    "        \n",
    "    if not matched: print('*',end='')\n",
    "    if len(errors)>0:\n",
    "        print(ontoid,rec.name,errors)\n",
    "    "
   ]
  },
  {
   "cell_type": "code",
   "execution_count": 6,
   "metadata": {},
   "outputs": [
    {
     "data": {
      "text/plain": [
       "[('orbital cortex', 90.32258064516128, 21)]"
      ]
     },
     "execution_count": 6,
     "metadata": {},
     "output_type": "execute_result"
    }
   ],
   "source": [
    "ontohelper_dharani.search('orbital neocortex')"
   ]
  },
  {
   "cell_type": "code",
   "execution_count": 7,
   "metadata": {},
   "outputs": [
    {
     "data": {
      "text/plain": [
       "[('subplate zone, ca1 field', 100.0, 420),\n",
       " ('intermediate zone, ca1 field', 100.0, 421)]"
      ]
     },
     "execution_count": 7,
     "metadata": {},
     "output_type": "execute_result"
    }
   ],
   "source": [
    "ontohelper_dharani.search('ca1',partial=True)"
   ]
  },
  {
   "cell_type": "markdown",
   "metadata": {},
   "source": [
    "### subtrees (groups)"
   ]
  },
  {
   "cell_type": "code",
   "execution_count": 8,
   "metadata": {},
   "outputs": [
    {
     "data": {
      "text/plain": [
       "{'HPF': ['HPF', 'HIP'],\n",
       " 'AMY_BN': ['AMY', 'BN', 'CN'],\n",
       " 'Mig': ['Lms', 'Rms', 'GE', 'FTS'],\n",
       " 'HY': ['HY', 'HTH'],\n",
       " 'TH': ['TH', 'THM'],\n",
       " 'MB': ['MB', 'M'],\n",
       " 'HB': ['HB', 'H'],\n",
       " 'BS': ['BS'],\n",
       " 'CB': ['CB'],\n",
       " 'dev': ['dev'],\n",
       " 'ft': ['ft', 'FWM'],\n",
       " 'Vs': ['Vs', 'FV'],\n",
       " 'Ctx': ['Ctx', 'FGM']}"
      ]
     },
     "execution_count": 8,
     "metadata": {},
     "output_type": "execute_result"
    }
   ],
   "source": [
    "ontohelper_dharani.groups"
   ]
  },
  {
   "cell_type": "code",
   "execution_count": 9,
   "metadata": {},
   "outputs": [
    {
     "name": "stdout",
     "output_type": "stream",
     "text": [
      "[lvl] id (acronym) name\n",
      "---------------------\n",
      " [0] 440 (BS) Brainstem\n",
      "   [1] 192 (MB) Midbrain\n",
      "     [2] 203 (Prt) Pretectum\n",
      "       [3] 322 (APT) Anterior pretectal nucleus\n",
      "       [3] 323 (MPT) Medial pretectal nucleus\n",
      "       [3] 324 (PPT) Posterior pretectal nucleus\n",
      "       [3] 325 (NOT) Nucleus of the optic tract\n",
      "       [3] 326 (OPT) Olivary pretectal nucleus\n",
      "     [2] 193 (Tct) Tectum\n",
      "       [3] 194 (SC) Superior colliculus\n",
      "       [3] 195 (IC) Inferior colliculus\n",
      "         [4] 318 (ICc) Inferior colliculus, central nucleus\n",
      "         [4] 319 (ICe) Inferior colliculus, external nucleus\n",
      "         [4] 385 (ICd) Inferior colliculus, dorsal nucleus\n",
      "     [2] 196 (Tgt) Tegmentum\n",
      "       [3] 320 (PBN) Parabigeminal nucleus\n",
      "       [3] 321 (NPC) Nucleus of the posterior commissure\n",
      "       [3] 197 (SN) Substantia nigra\n",
      "         [4] 198 (SNc) Substantia nigra pars compacta\n",
      "         [4] 199 (SNr) Substantia nigra pars reticulata\n",
      "       [3] 200 (R) Red nucleus\n",
      "       [3] 285 (PAG) Periaqueductal gray\n",
      "       [3] 444 (INC) Interstitial nucleus of Cajal\n",
      "       [3] 403 (EW) Edinger-Westphal nucleus\n",
      "       [3] 404 (ND) Nucleus of Darkschewitsch\n",
      "       [3] 263 (III) Oculomotor nuclear complex\n",
      "       [3] 262 (IV) Trochlear nucleus\n",
      "       [3] 261 (V) Mesencephalic nucleus\n",
      "       [3] 201 (VTA) Ventral tegmental area\n",
      "       [3] 428 (RR) Retrorubral area\n",
      "       [3] 449 (PnVTA) Paranigral nucleus of the VTA\n",
      "       [3] 283 (INT) Interpeduncular nucleus\n",
      "         [4] 450 (IPNdl) Interpeduncular nucleu, dorsolateral part\n",
      "         [4] 451 (IPNdm) Interpeduncular nucleu, dorsomedial part\n",
      "         [4] 452 (IPNc) Interpeduncular nucleu, caudal part\n",
      "         [4] 454 (RbN) Rhabdoid nucleus\n",
      "       [3] 453 (PaP) Parapeduncular nucleus\n",
      "     [2] 377 (Ret-MB) Reticular formation, Midbrain\n",
      "   [1] 204 (HB) Hindbrain\n",
      "     [2] 205 (P) Pons\n",
      "       [3] 429 (CGP) Central gray of the pons\n",
      "       [3] 264 (NLLd) Nucleus of the lateral lemniscus, dorsal\n",
      "       [3] 265 (NLLv) Nucleus of the lateral lemniscus, ventral\n",
      "       [3] 266 (PSV) Principal sensory nucleus of the trigeminal\n",
      "       [3] 206 (PB) Parabrachial nucleus\n",
      "         [4] 464 (PBl) Parabrachial nucleus, lateral part\n",
      "         [4] 465 (PBm) Parabrachial nucleus, medial part\n",
      "       [3] 207 (SO) Superior olive\n",
      "       [3] 208 (PG) Pontine gray\n",
      "       [3] 267 (DTN) Dorsal tegmental nucleus\n",
      "       [3] 268 (RTN) Reticular tegmental nucleus\n",
      "       [3] 269 (Vn) Trigeminal motor nucleus\n",
      "       [3] 209 (LC) Locus coeruleus\n",
      "       [3] 372 (Ret-P) Reticular formation, Pons\n",
      "     [2] 211 (Med) Medulla\n",
      "       [3] 378 (Ret-Med) Reticular formation, Medulla\n",
      "       [3] 374 (CN) Cochlear nuclei\n",
      "       [3] 375 (DCN) Dorsal cochlear nucleus\n",
      "       [3] 376 (VCN) Ventral cochlear nucleus\n",
      "       [3] 314 (CUN) Cuneate nucleus\n",
      "       [3] 315 (GR) Gracile nucleus\n",
      "       [3] 316 (AP) Area postrema\n",
      "       [3] 270 (SOL) Solitary nucleus\n",
      "         [4] 271 (X-sens) Dorsal sensory nucleus X\n",
      "         [4] 272 (COM) Commissural nucleus\n",
      "       [3] 273 (SPV) Spinal nucleus of the trigeminal\n",
      "       [3] 274 (VIn) Abducens nucleus\n",
      "       [3] 275 (VIIn) Facial motor nucleus\n",
      "       [3] 276 (VNC) Vestibular nuclear complex\n",
      "       [3] 277 (AMB) Nucleus ambiguus\n",
      "       [3] 278 (Xn) Dorsal motor nucleus\n",
      "       [3] 373 (XIn) Accessory nucleus\n",
      "       [3] 279 (XIIn) Hypoglossal nucleus\n",
      "       [3] 212 (IO) Inferior olive\n",
      "       [3] 213 (NR) Nucleus of Roller\n",
      "       [3] 214 (PRP) Nucleus prepositus\n",
      "       [3] 305 (LRN) Lateral reticular nucleus\n",
      "       [3] 336 (ARM) Arcuate nucleus of the medulla\n",
      "       [3] 430 (INM) Intercalated nucleus of the medulla\n",
      "   [1] 210 (Raphe) Raphe nuclei\n",
      "     [2] 448 (DR) Dorsal raphe nucleus\n",
      "     [2] 445 (RLI) Rostral linear raphe nucleus\n",
      "     [2] 446 (CLI) Caudal linear raphe nucleus\n",
      "     [2] 447 (MrN) Median raphe nucleus\n",
      "     [2] 460 (RM) Raphe magnus nucleus\n",
      "     [2] 461 (RIP) Raphe interpositus nucleus\n",
      "     [2] 462 (RPA) Raphe pallidus nucleus\n",
      "     [2] 463 (RO) Raphe obscurus nucleus\n"
     ]
    }
   ],
   "source": [
    "ontohelper_dharani.print_subtree('BS')"
   ]
  },
  {
   "cell_type": "code",
   "execution_count": 10,
   "metadata": {},
   "outputs": [
    {
     "data": {
      "text/plain": [
       "[440, 192, 204, 210, 448, 445, 446, 447, 460, 461, 462, 463]"
      ]
     },
     "execution_count": 10,
     "metadata": {},
     "output_type": "execute_result"
    }
   ],
   "source": [
    "ontohelper_dharani.ontoids_by_group['BS']"
   ]
  },
  {
   "cell_type": "markdown",
   "metadata": {},
   "source": [
    "many ids are missed - this is because 'HB'(204) is a group by itself, and also a child of 'BS'. Similarly 'MB'(192)"
   ]
  },
  {
   "cell_type": "markdown",
   "metadata": {},
   "source": [
    "## Special functions"
   ]
  },
  {
   "cell_type": "code",
   "execution_count": 11,
   "metadata": {},
   "outputs": [],
   "source": [
    "logicalareas = ontohelper_dharani.get_ids_of_cortical_areas()"
   ]
  },
  {
   "cell_type": "code",
   "execution_count": 12,
   "metadata": {},
   "outputs": [
    {
     "data": {
      "text/plain": [
       "defaultdict(list,\n",
       "            {'-FCTx': [13, 14, 15, 16, 17, 18, 19],\n",
       "             '-ORB': [22, 23, 24, 25, 26, 27, 28],\n",
       "             '-PAR': [30, 31, 32, 33, 34, 35, 36],\n",
       "             '-OCC': [39, 40, 41, 42, 43, 44, 45],\n",
       "             '-TEMP': [48, 49, 50, 51, 52, 53, 54],\n",
       "             '-ENT': [57, 58, 59, 60, 61, 62, 63],\n",
       "             '-INS': [500, 501, 502, 503, 504, 505, 506],\n",
       "             '-CING': [121, 122, 123, 124, 125, 126, 127]})"
      ]
     },
     "execution_count": 12,
     "metadata": {},
     "output_type": "execute_result"
    }
   ],
   "source": [
    "logicalareas"
   ]
  },
  {
   "cell_type": "code",
   "execution_count": 13,
   "metadata": {},
   "outputs": [],
   "source": [
    "bylev = ontohelper_dharani.get_ids_by_level(1)"
   ]
  },
  {
   "cell_type": "code",
   "execution_count": 14,
   "metadata": {},
   "outputs": [
    {
     "data": {
      "text/plain": [
       "[2,\n",
       " 440,\n",
       " 215,\n",
       " 317,\n",
       " 367,\n",
       " 368,\n",
       " 369,\n",
       " 370,\n",
       " 371,\n",
       " 158,\n",
       " 442,\n",
       " 1023,\n",
       " 1022,\n",
       " 1015,\n",
       " 1021,\n",
       " 1019,\n",
       " 1018,\n",
       " 1016,\n",
       " 1020,\n",
       " 1024,\n",
       " 1000,\n",
       " 1001,\n",
       " 1002,\n",
       " 1003,\n",
       " 1004,\n",
       " 1005,\n",
       " 1006,\n",
       " 1025,\n",
       " 1007,\n",
       " 1008,\n",
       " 1009,\n",
       " 1010,\n",
       " 1013,\n",
       " 1014,\n",
       " 1026,\n",
       " 1027,\n",
       " 1028,\n",
       " 455,\n",
       " 468,\n",
       " 469,\n",
       " 466,\n",
       " 467,\n",
       " 232,\n",
       " 235,\n",
       " 243,\n",
       " 244,\n",
       " 415,\n",
       " 417,\n",
       " 337,\n",
       " 338,\n",
       " 252,\n",
       " 237,\n",
       " 238,\n",
       " 251,\n",
       " 334,\n",
       " 414,\n",
       " 248,\n",
       " 431,\n",
       " 343,\n",
       " 327,\n",
       " 341,\n",
       " 342,\n",
       " 311,\n",
       " 346,\n",
       " 347,\n",
       " 457,\n",
       " 456,\n",
       " 250,\n",
       " 458,\n",
       " 253,\n",
       " 225,\n",
       " 226,\n",
       " 227,\n",
       " 228,\n",
       " 443,\n",
       " 229,\n",
       " 230]"
      ]
     },
     "execution_count": 14,
     "metadata": {},
     "output_type": "execute_result"
    }
   ],
   "source": [
    "bylev"
   ]
  },
  {
   "cell_type": "code",
   "execution_count": 15,
   "metadata": {},
   "outputs": [
    {
     "data": {
      "text/plain": [
       "[1, 2, 3, 4, 21]"
      ]
     },
     "execution_count": 15,
     "metadata": {},
     "output_type": "execute_result"
    }
   ],
   "source": [
    "ancestorids=ontohelper_dharani.get_ancestor_ids(22)\n",
    "ancestorids"
   ]
  },
  {
   "cell_type": "code",
   "execution_count": 16,
   "metadata": {},
   "outputs": [
    {
     "data": {
      "text/plain": [
       "NodeRecord(acronym='SGL-ORB', name='Subpial granular layer, orbital cortex', level=5, parentid=21, color_hex_triplet='#b8a98a')"
      ]
     },
     "execution_count": 16,
     "metadata": {},
     "output_type": "execute_result"
    }
   ],
   "source": [
    "ontohelper_dharani.onto_lookup[22]"
   ]
  },
  {
   "cell_type": "code",
   "execution_count": 17,
   "metadata": {},
   "outputs": [],
   "source": [
    "nd = ontohelper_dharani._get_node_by_ontoid(21)"
   ]
  },
  {
   "cell_type": "code",
   "execution_count": 18,
   "metadata": {},
   "outputs": [
    {
     "data": {
      "text/plain": [
       "{'id': 21,\n",
       " 'name': 'Orbital cortex',\n",
       " 'acronym': 'ORB',\n",
       " 'definition (description)': 'Note: may include only the orbital gyrus. Both terms (orbito-frontal ctx and orbital gyrus) appear in coronal and saggital plates, but only the orbital gyrus is listed in the glossary. The orbital sulcus seems to develop at a later g.w.',\n",
       " 'type (gray matter/fiber tract/CNS cavity/developmental/other)': 'G',\n",
       " 'parent_structure_id': 4,\n",
       " 'color_hex_triplet': 'CFE4C2',\n",
       " 'text': 'Orbital cortex'}"
      ]
     },
     "execution_count": 18,
     "metadata": {},
     "output_type": "execute_result"
    }
   ],
   "source": [
    "ontohelper_dharani._get_node_data(nd)"
   ]
  },
  {
   "cell_type": "code",
   "execution_count": 19,
   "metadata": {},
   "outputs": [
    {
     "name": "stdout",
     "output_type": "stream",
     "text": [
      " id : 21\n",
      " name : Orbital cortex\n",
      " acronym : ORB\n",
      " definition (description) : Note: may include only the orbital gyrus. Both terms (orbito-frontal ctx and orbital gyrus) appear in coronal and saggital plates, but only the orbital gyrus is listed in the glossary. The orbital sulcus seems to develop at a later g.w.\n",
      " type (gray matter/fiber tract/CNS cavity/developmental/other) : G\n",
      " parent_structure_id : 4\n",
      " color_hex_triplet : CFE4C2\n",
      "\t id : 22\n",
      "\t name : Subpial granular layer, orbital cortex\n",
      "\t acronym : SGL-ORB\n",
      "\t definition (description) : Needs a definition\n",
      "\t type (gray matter/fiber tract/CNS cavity/developmental/other) : D\n",
      "\t parent_structure_id : 21\n",
      "\t color_hex_triplet : b8a98a\n",
      "\t text : Subpial granular layer, orbital cortex\n",
      "\t id : 23\n",
      "\t name : Marginal zone, orbital cortex\n",
      "\t acronym : MZ-ORB\n",
      "\t definition (description) : See Kostovic et al. 2018\n",
      "\t type (gray matter/fiber tract/CNS cavity/developmental/other) : D\n",
      "\t parent_structure_id : 21\n",
      "\t color_hex_triplet : de895e\n",
      "\t text : Marginal zone, orbital cortex\n",
      "\t id : 24\n",
      "\t name : Cortical plate, orbital cortex\n",
      "\t acronym : CP-ORB\n",
      "\t definition (description) : See Kostovic et al. 2018\n",
      "\t type (gray matter/fiber tract/CNS cavity/developmental/other) : D\n",
      "\t parent_structure_id : 21\n",
      "\t color_hex_triplet : f6ca72\n",
      "\t text : Cortical plate, orbital cortex\n",
      "\t id : 25\n",
      "\t name : Subplate zone, orbital cortex\n",
      "\t acronym : SP-ORB\n",
      "\t definition (description) : See Kostovic et al. 2018\n",
      "\t type (gray matter/fiber tract/CNS cavity/developmental/other) : D\n",
      "\t parent_structure_id : 21\n",
      "\t color_hex_triplet : eafe89\n",
      "\t text : Subplate zone, orbital cortex\n",
      "\t id : 26\n",
      "\t name : Intermediate zone, orbital cortex\n",
      "\t acronym : IZ-ORB\n",
      "\t definition (description) : See Kostovic et al. 2018\n",
      "\t type (gray matter/fiber tract/CNS cavity/developmental/other) : D\n",
      "\t parent_structure_id : 21\n",
      "\t color_hex_triplet : bcf1ce\n",
      "\t text : Intermediate zone, orbital cortex\n",
      "\t id : 27\n",
      "\t name : Subventricular zone, orbital cortex\n",
      "\t acronym : SVZ-ORB\n",
      "\t definition (description) : See Kostovic et al. 2018\n",
      "\t type (gray matter/fiber tract/CNS cavity/developmental/other) : D\n",
      "\t parent_structure_id : 21\n",
      "\t color_hex_triplet : dbabf2\n",
      "\t text : Subventricular zone, orbital cortex\n",
      "\t id : 28\n",
      "\t name : Ventricular zone, orbital cortex\n",
      "\t acronym : VZ-ORB\n",
      "\t definition (description) : See Kostovic et al. 2018\n",
      "\t type (gray matter/fiber tract/CNS cavity/developmental/other) : D\n",
      "\t parent_structure_id : 21\n",
      "\t color_hex_triplet : e670be\n",
      "\t text : Ventricular zone, orbital cortex\n",
      " text : Orbital cortex\n"
     ]
    }
   ],
   "source": [
    "def show_node(node,lev = 0):\n",
    "    if lev > 1:\n",
    "        return\n",
    "    \n",
    "    for k,v in node.items():\n",
    "        \n",
    "        if k!='children':\n",
    "            print(\"\".join([\"\\t\"]*lev), k, \":\", v)\n",
    "        else:\n",
    "            for ch in node['children']:\n",
    "                show_node(ch,lev+1)\n",
    "        \n",
    "show_node(nd)"
   ]
  },
  {
   "cell_type": "code",
   "execution_count": 20,
   "metadata": {},
   "outputs": [
    {
     "data": {
      "text/plain": [
       "NodeRecord(acronym='CC', name='Central canal', level=1, parentid=6000, color_hex_triplet='#231F21')"
      ]
     },
     "execution_count": 20,
     "metadata": {},
     "output_type": "execute_result"
    }
   ],
   "source": [
    "ontohelper_dharani.onto_lookup[230]"
   ]
  },
  {
   "cell_type": "code",
   "execution_count": 21,
   "metadata": {},
   "outputs": [],
   "source": [
    "layeredareas=ontohelper_dharani.get_ids_of_layered_areas()"
   ]
  },
  {
   "cell_type": "code",
   "execution_count": 22,
   "metadata": {},
   "outputs": [
    {
     "data": {
      "text/plain": [
       "defaultdict(list,\n",
       "            {'SGL-': [13,\n",
       "              22,\n",
       "              30,\n",
       "              39,\n",
       "              48,\n",
       "              57,\n",
       "              67,\n",
       "              75,\n",
       "              86,\n",
       "              94,\n",
       "              102,\n",
       "              110,\n",
       "              500,\n",
       "              121],\n",
       "             'MZ-': [14,\n",
       "              23,\n",
       "              31,\n",
       "              40,\n",
       "              49,\n",
       "              58,\n",
       "              68,\n",
       "              76,\n",
       "              87,\n",
       "              95,\n",
       "              103,\n",
       "              111,\n",
       "              501,\n",
       "              122],\n",
       "             'CP-': [15,\n",
       "              24,\n",
       "              32,\n",
       "              41,\n",
       "              50,\n",
       "              59,\n",
       "              69,\n",
       "              77,\n",
       "              88,\n",
       "              96,\n",
       "              104,\n",
       "              112,\n",
       "              502,\n",
       "              123],\n",
       "             'SP-': [16,\n",
       "              25,\n",
       "              33,\n",
       "              42,\n",
       "              51,\n",
       "              60,\n",
       "              70,\n",
       "              78,\n",
       "              420,\n",
       "              422,\n",
       "              424,\n",
       "              426,\n",
       "              89,\n",
       "              97,\n",
       "              105,\n",
       "              113,\n",
       "              503,\n",
       "              124],\n",
       "             'IZ-': [17,\n",
       "              26,\n",
       "              34,\n",
       "              43,\n",
       "              52,\n",
       "              61,\n",
       "              71,\n",
       "              79,\n",
       "              421,\n",
       "              423,\n",
       "              425,\n",
       "              427,\n",
       "              90,\n",
       "              98,\n",
       "              106,\n",
       "              114,\n",
       "              504,\n",
       "              125],\n",
       "             'SVZ-': [18,\n",
       "              27,\n",
       "              35,\n",
       "              44,\n",
       "              53,\n",
       "              62,\n",
       "              72,\n",
       "              80,\n",
       "              91,\n",
       "              99,\n",
       "              107,\n",
       "              115,\n",
       "              505,\n",
       "              126],\n",
       "             'VZ-': [19,\n",
       "              28,\n",
       "              36,\n",
       "              45,\n",
       "              54,\n",
       "              63,\n",
       "              73,\n",
       "              81,\n",
       "              92,\n",
       "              100,\n",
       "              108,\n",
       "              116,\n",
       "              506,\n",
       "              127]})"
      ]
     },
     "execution_count": 22,
     "metadata": {},
     "output_type": "execute_result"
    }
   ],
   "source": [
    "layeredareas"
   ]
  },
  {
   "cell_type": "code",
   "execution_count": 23,
   "metadata": {},
   "outputs": [
    {
     "data": {
      "text/plain": [
       "NodeRecord(acronym='SGL-ORB', name='Subpial granular layer, orbital cortex', level=5, parentid=21, color_hex_triplet='#b8a98a')"
      ]
     },
     "execution_count": 23,
     "metadata": {},
     "output_type": "execute_result"
    }
   ],
   "source": [
    "ontohelper_dharani.onto_lookup[22]"
   ]
  },
  {
   "cell_type": "code",
   "execution_count": 24,
   "metadata": {},
   "outputs": [
    {
     "data": {
      "text/plain": [
       "NodeRecord(acronym='SGL-CTX', name='Subpial granular layer, cerebral cortex', level=4, parentid=4, color_hex_triplet='#b8a98a')"
      ]
     },
     "execution_count": 24,
     "metadata": {},
     "output_type": "execute_result"
    }
   ],
   "source": [
    "ontohelper_dharani.onto_lookup[5]"
   ]
  },
  {
   "cell_type": "code",
   "execution_count": 25,
   "metadata": {},
   "outputs": [
    {
     "data": {
      "text/plain": [
       "'Ctx'"
      ]
     },
     "execution_count": 25,
     "metadata": {},
     "output_type": "execute_result"
    }
   ],
   "source": [
    "ontohelper_dharani.get_group_by_acronym('ORB')"
   ]
  },
  {
   "cell_type": "code",
   "execution_count": 26,
   "metadata": {},
   "outputs": [
    {
     "data": {
      "text/plain": [
       "[185,\n",
       " 407,\n",
       " 408,\n",
       " 192,\n",
       " 203,\n",
       " 322,\n",
       " 323,\n",
       " 324,\n",
       " 325,\n",
       " 326,\n",
       " 193,\n",
       " 194,\n",
       " 195,\n",
       " 318,\n",
       " 319,\n",
       " 385,\n",
       " 196,\n",
       " 320,\n",
       " 321,\n",
       " 197,\n",
       " 198,\n",
       " 199,\n",
       " 200,\n",
       " 285,\n",
       " 444,\n",
       " 403,\n",
       " 404,\n",
       " 263,\n",
       " 262,\n",
       " 261,\n",
       " 201,\n",
       " 428,\n",
       " 449,\n",
       " 283,\n",
       " 450,\n",
       " 451,\n",
       " 452,\n",
       " 454,\n",
       " 453,\n",
       " 377]"
      ]
     },
     "execution_count": 26,
     "metadata": {},
     "output_type": "execute_result"
    }
   ],
   "source": [
    "ontohelper_dharani.ontoids_by_group['MB']"
   ]
  },
  {
   "cell_type": "code",
   "execution_count": 27,
   "metadata": {},
   "outputs": [
    {
     "data": {
      "text/plain": [
       "NodeRecord(acronym='M', name='Mammillary body', level=4, parentid=177, color_hex_triplet='#B48EBC')"
      ]
     },
     "execution_count": 27,
     "metadata": {},
     "output_type": "execute_result"
    }
   ],
   "source": [
    "ontohelper_dharani.onto_lookup[185]"
   ]
  },
  {
   "cell_type": "code",
   "execution_count": 28,
   "metadata": {},
   "outputs": [],
   "source": [
    "ungroupedids = []\n",
    "for id,rec in ontohelper_dharani.onto_lookup.items():\n",
    "    if ontohelper_dharani.get_group_by_acronym(rec.acronym) is None:\n",
    "        ungroupedids.append(id)"
   ]
  },
  {
   "cell_type": "code",
   "execution_count": 29,
   "metadata": {},
   "outputs": [
    {
     "data": {
      "text/plain": [
       "[NodeRecord(acronym='Br', name='Brain', level=0, parentid=0, color_hex_triplet='#F6FAF4'),\n",
       " NodeRecord(acronym='FB', name='Forebrain', level=1, parentid=1, color_hex_triplet='#EFF6EA'),\n",
       " NodeRecord(acronym='Tel', name='Telencephalon', level=2, parentid=2, color_hex_triplet='#EFF6EA'),\n",
       " NodeRecord(acronym='Di', name='Diencephalon', level=2, parentid=2, color_hex_triplet='#FFF3F3'),\n",
       " NodeRecord(acronym='SP', name='Spinal cord', level=0, parentid=0, color_hex_triplet='#C0C1C2'),\n",
       " NodeRecord(acronym='DGSC', name='Dorsal gray of the spinal cord', level=1, parentid=231, color_hex_triplet='#AFB0B1'),\n",
       " NodeRecord(acronym='DH', name='Dorsal horn', level=1, parentid=231, color_hex_triplet='#AFB0B1'),\n",
       " NodeRecord(acronym='IH', name='Intermediate gray of the spinal cord', level=1, parentid=231, color_hex_triplet='#B1B2B3'),\n",
       " NodeRecord(acronym='CG', name='Central gray of the spinal cord', level=1, parentid=231, color_hex_triplet='#ACADAE'),\n",
       " NodeRecord(acronym='VG', name='Ventral gray of the spinal cord', level=1, parentid=231, color_hex_triplet='#ADAEAF'),\n",
       " NodeRecord(acronym='VH', name='Ventral horn', level=1, parentid=231, color_hex_triplet='#B3B4B5')]"
      ]
     },
     "execution_count": 29,
     "metadata": {},
     "output_type": "execute_result"
    }
   ],
   "source": [
    "[ontohelper_dharani.onto_lookup[id] for id in ungroupedids]"
   ]
  },
  {
   "cell_type": "markdown",
   "metadata": {},
   "source": [
    "## Searchable tree display (jstree)"
   ]
  },
  {
   "cell_type": "markdown",
   "metadata": {},
   "source": [
    "Shows the Dharani ontology as an embedded jstree (https://www.jstree.com/) with a search box"
   ]
  },
  {
   "cell_type": "code",
   "execution_count": 30,
   "metadata": {},
   "outputs": [],
   "source": [
    "from IPython.display import display, HTML\n",
    "import json"
   ]
  },
  {
   "cell_type": "code",
   "execution_count": 31,
   "metadata": {},
   "outputs": [],
   "source": [
    "tree_data = json.dumps(ontohelper_dharani.treenom)"
   ]
  },
  {
   "cell_type": "code",
   "execution_count": 32,
   "metadata": {},
   "outputs": [
    {
     "data": {
      "text/html": [
       "\n",
       "    <link rel=\"stylesheet\" href=\"https://cdnjs.cloudflare.com/ajax/libs/jstree/3.3.12/themes/default/style.min.css\" />\n",
       "    <script src=\"https://cdnjs.cloudflare.com/ajax/libs/jquery/3.6.0/jquery.min.js\"></script>\n",
       "    <script src=\"https://cdnjs.cloudflare.com/ajax/libs/jstree/3.3.12/jstree.min.js\"></script>\n",
       "    "
      ],
      "text/plain": [
       "<IPython.core.display.HTML object>"
      ]
     },
     "metadata": {},
     "output_type": "display_data"
    }
   ],
   "source": [
    "if 'html_head' not in locals():\n",
    "    html_head=\"\"\"\n",
    "    <link rel=\"stylesheet\" href=\"https://cdnjs.cloudflare.com/ajax/libs/jstree/3.3.12/themes/default/style.min.css\" />\n",
    "    <script src=\"https://cdnjs.cloudflare.com/ajax/libs/jquery/3.6.0/jquery.min.js\"></script>\n",
    "    <script src=\"https://cdnjs.cloudflare.com/ajax/libs/jstree/3.3.12/jstree.min.js\"></script>\n",
    "    \"\"\"\n",
    "\n",
    "    display(HTML(html_head))"
   ]
  },
  {
   "cell_type": "code",
   "execution_count": 33,
   "metadata": {},
   "outputs": [],
   "source": [
    "html_code = \"\"\"\n",
    "    <input type=\"text\" id=\"search_input\" placeholder=\"Search tree...\" style=\"margin-bottom:10px;width:200px;padding:5px;\"/>\n",
    "    <div id=\"jstree_demo\"></div>\n",
    "\n",
    "    <script>\n",
    "        $(document).ready(function() {\n",
    "            // Initialize jstree with search plugin\n",
    "            $('#jstree_demo').jstree({\n",
    "                \n",
    "                'core': {\n",
    "                    'multiple' : false,\n",
    "                    'animation' : 0,\n",
    "                    'themes': {'icons':false,},\n",
    "                    'data': %s,\n",
    "                },                \n",
    "                'plugins': ['search'],\n",
    "                'search': {\n",
    "                    'show_only_matches':true,\n",
    "                    'show_only_matches_children':true,\n",
    "                }\n",
    "            });\n",
    "            \n",
    "            // Bind search input to jstree search function\n",
    "            $('#search_input').on('keyup', function() {\n",
    "                var searchValue = $(this).val();\n",
    "                $('#jstree_demo').jstree(true).search(searchValue);\n",
    "            });\n",
    "        });\n",
    "    </script>\n",
    "\"\"\""
   ]
  },
  {
   "cell_type": "markdown",
   "metadata": {},
   "source": [
    "Note: if the below cell does not show two elements (brain, spinal cord), restart the notebook and retry"
   ]
  },
  {
   "cell_type": "code",
   "execution_count": 34,
   "metadata": {},
   "outputs": [
    {
     "data": {
      "text/html": [
       "\n",
       "    <input type=\"text\" id=\"search_input\" placeholder=\"Search tree...\" style=\"margin-bottom:10px;width:200px;padding:5px;\"/>\n",
       "    <div id=\"jstree_demo\"></div>\n",
       "\n",
       "    <script>\n",
       "        $(document).ready(function() {\n",
       "            // Initialize jstree with search plugin\n",
       "            $('#jstree_demo').jstree({\n",
       "                \n",
       "                'core': {\n",
       "                    'multiple' : false,\n",
       "                    'animation' : 0,\n",
       "                    'themes': {'icons':false,},\n",
       "                    'data': [{\"id\": 1, \"name\": \"Brain\", \"acronym\": \"Br\", \"type (gray matter/fiber tract/CNS cavity/developmental/other)\": \"G\", \"parent_structure_id\": 0, \"color_hex_triplet\": \"F6FAF4\", \"children\": [{\"id\": 2, \"name\": \"Forebrain\", \"acronym\": \"FB\", \"type (gray matter/fiber tract/CNS cavity/developmental/other)\": \"G\", \"parent_structure_id\": 1, \"color_hex_triplet\": \"EFF6EA\", \"children\": [{\"id\": 3, \"name\": \"Telencephalon\", \"acronym\": \"Tel\", \"definition (description)\": \"Note: term based on comparative embryology.\", \"type (gray matter/fiber tract/CNS cavity/developmental/other)\": \"G\", \"parent_structure_id\": 2, \"color_hex_triplet\": \"EFF6EA\", \"children\": [{\"id\": 4, \"name\": \"Cerebral cortex\", \"acronym\": \"Ctx\", \"definition (description)\": \"The largest structure in the human brain that is composed of a cell sparse layer I and cellular layers (II-VI) that vary in composition in specific regions of the neocortex or allocortex. The neocortex is subdivided into frontal, parietal, occipital, and temporal lobes, and the paracentral lobule. The primordium of cortical layers II-VI is the cortical plate.\", \"type (gray matter/fiber tract/CNS cavity/developmental/other)\": \"G\", \"parent_structure_id\": 3, \"color_hex_triplet\": \"E6F1DF\", \"children\": [{\"id\": 5, \"name\": \"Subpial granular layer, cerebral cortex\", \"acronym\": \"SGL-CTX\", \"definition (description)\": \"Needs a definition\", \"type (gray matter/fiber tract/CNS cavity/developmental/other)\": \"D\", \"parent_structure_id\": 4, \"color_hex_triplet\": \"b8a98a\", \"children\": [], \"text\": \"Subpial granular layer, cerebral cortex\"}, {\"id\": 6, \"name\": \"Marginal zone, cerebral cortex\", \"acronym\": \"MZ-CTX\", \"definition (description)\": \"Note: the outermost layer of the cerebral cortex, which appears from embryonic day 55. In the adult brain it would be called ependymal zone. See Bryston et al. 2008.\", \"type (gray matter/fiber tract/CNS cavity/developmental/other)\": \"D\", \"parent_structure_id\": 4, \"color_hex_triplet\": \"de895e\", \"children\": [], \"text\": \"Marginal zone, cerebral cortex\"}, {\"id\": 7, \"name\": \"Cortical plate, cerebral cortex\", \"acronym\": \"CP-CTX\", \"definition (description)\": \"See Bryston et al. 2008.\", \"type (gray matter/fiber tract/CNS cavity/developmental/other)\": \"D\", \"parent_structure_id\": 4, \"color_hex_triplet\": \"f6ca72\", \"children\": [], \"text\": \"Cortical plate, cerebral cortex\"}, {\"id\": 8, \"name\": \"Subplate zone, cerebral cortex\", \"acronym\": \"SP-CTX\", \"definition (description)\": \"Note: transitory layer in cerebral cortex, which appears in the human embryo from E55 on. See Bryston et al. 2008.\", \"type (gray matter/fiber tract/CNS cavity/developmental/other)\": \"D\", \"parent_structure_id\": 4, \"color_hex_triplet\": \"eafe89\", \"children\": [], \"text\": \"Subplate zone, cerebral cortex\"}, {\"id\": 9, \"name\": \"Intermediate zone, cerebral cortex\", \"acronym\": \"IZ-CTX\", \"definition (description)\": \"Note: transitory layer in cerebral cortex, which appears in the human embryo from E55 on. See Bryston et al. 2008.\", \"type (gray matter/fiber tract/CNS cavity/developmental/other)\": \"D\", \"parent_structure_id\": 4, \"color_hex_triplet\": \"bcf1ce\", \"children\": [], \"text\": \"Intermediate zone, cerebral cortex\"}, {\"id\": 10, \"name\": \"Subventricular zone, cerebral cortex\", \"acronym\": \"SVZ-CTX\", \"definition (description)\": \"Note: specification of the cortical ventricular zone, which becomes visible from gestationary week 14 on in the human embryo. In the adult it would be called subependyma zone. See Bryston et al. 2008.\", \"type (gray matter/fiber tract/CNS cavity/developmental/other)\": \"D\", \"parent_structure_id\": 4, \"color_hex_triplet\": \"dbabf2\", \"children\": [], \"text\": \"Subventricular zone, cerebral cortex\"}, {\"id\": 11, \"name\": \"Ventricular zone, cerebral cortex\", \"acronym\": \"VZ-CTX\", \"definition (description)\": \"Note: proliferative zone for the cerebral cortex. See Bryston et al 2008. Ganglionic eminence is considered a part of it (see Allen Brain hierarchy).\", \"type (gray matter/fiber tract/CNS cavity/developmental/other)\": \"D\", \"parent_structure_id\": 4, \"color_hex_triplet\": \"e670be\", \"children\": [], \"text\": \"Ventricular zone, cerebral cortex\"}, {\"id\": 12, \"name\": \"Frontal cortex\", \"acronym\": \"FCtx\", \"definition (description)\": \"Note: this is the \\\"agranular\\\" frontal cortex, dorsally located. The abbreviation was provided by the collator. It includes the precentral gyrus, i.e., the future primary cortex.\", \"type (gray matter/fiber tract/CNS cavity/developmental/other)\": \"G\", \"parent_structure_id\": 4, \"color_hex_triplet\": \"CFE4C2\", \"children\": [{\"id\": 13, \"name\": \"Subpial granular layer, frontal cortex\", \"acronym\": \"SGL-FCTx\", \"definition (description)\": \"Needs a definition\", \"type (gray matter/fiber tract/CNS cavity/developmental/other)\": \"D\", \"parent_structure_id\": 12, \"color_hex_triplet\": \"b8a98a\", \"children\": [], \"text\": \"Subpial granular layer, frontal cortex\"}, {\"id\": 14, \"name\": \"Marginal zone, frontal cortex\", \"acronym\": \"MZ-FCTx\", \"definition (description)\": \"See Kostovic et al. 2018\", \"type (gray matter/fiber tract/CNS cavity/developmental/other)\": \"D\", \"parent_structure_id\": 12, \"color_hex_triplet\": \"de895e\", \"children\": [], \"text\": \"Marginal zone, frontal cortex\"}, {\"id\": 15, \"name\": \"Cortical plate, frontal cortex\", \"acronym\": \"CP-FCTx\", \"definition (description)\": \"See Kostovic et al. 2018\", \"type (gray matter/fiber tract/CNS cavity/developmental/other)\": \"D\", \"parent_structure_id\": 12, \"color_hex_triplet\": \"f6ca72\", \"children\": [], \"text\": \"Cortical plate, frontal cortex\"}, {\"id\": 16, \"name\": \"Subplate zone, frontal cortex\", \"acronym\": \"SP-FCTx\", \"definition (description)\": \"See Kostovic et al. 2018\", \"type (gray matter/fiber tract/CNS cavity/developmental/other)\": \"D\", \"parent_structure_id\": 12, \"color_hex_triplet\": \"eafe89\", \"children\": [], \"text\": \"Subplate zone, frontal cortex\"}, {\"id\": 17, \"name\": \"Intermediate zone, frontal cortex\", \"acronym\": \"IZ-FCTx\", \"definition (description)\": \"See Kostovic et al. 2018\", \"type (gray matter/fiber tract/CNS cavity/developmental/other)\": \"D\", \"parent_structure_id\": 12, \"color_hex_triplet\": \"bcf1ce\", \"children\": [], \"text\": \"Intermediate zone, frontal cortex\"}, {\"id\": 18, \"name\": \"Subventricular zone, frontal cortex\", \"acronym\": \"SVZ-FCTx\", \"definition (description)\": \"See Kostovic et al. 2018\", \"type (gray matter/fiber tract/CNS cavity/developmental/other)\": \"D\", \"parent_structure_id\": 12, \"color_hex_triplet\": \"dbabf2\", \"children\": [], \"text\": \"Subventricular zone, frontal cortex\"}, {\"id\": 19, \"name\": \"Ventricular zone, frontal cortex\", \"acronym\": \"VZ-FCTx\", \"definition (description)\": \"See Kostovic et al. 2018\", \"type (gray matter/fiber tract/CNS cavity/developmental/other)\": \"D\", \"parent_structure_id\": 12, \"color_hex_triplet\": \"e670be\", \"children\": [], \"text\": \"Ventricular zone, frontal cortex\"}], \"text\": \"Frontal cortex\"}, {\"id\": 20, \"name\": \"Central sulcus\", \"acronym\": \"CeS\", \"definition (description)\": \"Large vertically oriented neocortical fissure between the precentral gyrus and the postcentral gyrus in the paracentral lobule. The central sulcus divides the motor cortex (precentral gyrus) from the somatosensory cortex (postcentral gyrus).\", \"type (gray matter/fiber tract/CNS cavity/developmental/other)\": \"G\", \"parent_structure_id\": 4, \"color_hex_triplet\": \"CFE4C2\", \"children\": [], \"text\": \"Central sulcus\"}, {\"id\": 21, \"name\": \"Orbital cortex\", \"acronym\": \"ORB\", \"definition (description)\": \"Note: may include only the orbital gyrus. Both terms (orbito-frontal ctx and orbital gyrus) appear in coronal and saggital plates, but only the orbital gyrus is listed in the glossary. The orbital sulcus seems to develop at a later g.w.\", \"type (gray matter/fiber tract/CNS cavity/developmental/other)\": \"G\", \"parent_structure_id\": 4, \"color_hex_triplet\": \"CFE4C2\", \"children\": [{\"id\": 22, \"name\": \"Subpial granular layer, orbital cortex\", \"acronym\": \"SGL-ORB\", \"definition (description)\": \"Needs a definition\", \"type (gray matter/fiber tract/CNS cavity/developmental/other)\": \"D\", \"parent_structure_id\": 21, \"color_hex_triplet\": \"b8a98a\", \"children\": [], \"text\": \"Subpial granular layer, orbital cortex\"}, {\"id\": 23, \"name\": \"Marginal zone, orbital cortex\", \"acronym\": \"MZ-ORB\", \"definition (description)\": \"See Kostovic et al. 2018\", \"type (gray matter/fiber tract/CNS cavity/developmental/other)\": \"D\", \"parent_structure_id\": 21, \"color_hex_triplet\": \"de895e\", \"children\": [], \"text\": \"Marginal zone, orbital cortex\"}, {\"id\": 24, \"name\": \"Cortical plate, orbital cortex\", \"acronym\": \"CP-ORB\", \"definition (description)\": \"See Kostovic et al. 2018\", \"type (gray matter/fiber tract/CNS cavity/developmental/other)\": \"D\", \"parent_structure_id\": 21, \"color_hex_triplet\": \"f6ca72\", \"children\": [], \"text\": \"Cortical plate, orbital cortex\"}, {\"id\": 25, \"name\": \"Subplate zone, orbital cortex\", \"acronym\": \"SP-ORB\", \"definition (description)\": \"See Kostovic et al. 2018\", \"type (gray matter/fiber tract/CNS cavity/developmental/other)\": \"D\", \"parent_structure_id\": 21, \"color_hex_triplet\": \"eafe89\", \"children\": [], \"text\": \"Subplate zone, orbital cortex\"}, {\"id\": 26, \"name\": \"Intermediate zone, orbital cortex\", \"acronym\": \"IZ-ORB\", \"definition (description)\": \"See Kostovic et al. 2018\", \"type (gray matter/fiber tract/CNS cavity/developmental/other)\": \"D\", \"parent_structure_id\": 21, \"color_hex_triplet\": \"bcf1ce\", \"children\": [], \"text\": \"Intermediate zone, orbital cortex\"}, {\"id\": 27, \"name\": \"Subventricular zone, orbital cortex\", \"acronym\": \"SVZ-ORB\", \"definition (description)\": \"See Kostovic et al. 2018\", \"type (gray matter/fiber tract/CNS cavity/developmental/other)\": \"D\", \"parent_structure_id\": 21, \"color_hex_triplet\": \"dbabf2\", \"children\": [], \"text\": \"Subventricular zone, orbital cortex\"}, {\"id\": 28, \"name\": \"Ventricular zone, orbital cortex\", \"acronym\": \"VZ-ORB\", \"definition (description)\": \"See Kostovic et al. 2018\", \"type (gray matter/fiber tract/CNS cavity/developmental/other)\": \"D\", \"parent_structure_id\": 21, \"color_hex_triplet\": \"e670be\", \"children\": [], \"text\": \"Ventricular zone, orbital cortex\"}], \"text\": \"Orbital cortex\"}, {\"id\": 29, \"name\": \"Parietal cortex\", \"acronym\": \"PAR\", \"definition (description)\": \"Note: it includes the postcentral gyrus, i.e., the future primary somatosensory cortex.\", \"type (gray matter/fiber tract/CNS cavity/developmental/other)\": \"G\", \"parent_structure_id\": 4, \"color_hex_triplet\": \"CFE4C2\", \"children\": [{\"id\": 30, \"name\": \"Subpial granular layer, parietal cortex\", \"acronym\": \"SGL-PAR\", \"definition (description)\": \"Needs a definition\", \"type (gray matter/fiber tract/CNS cavity/developmental/other)\": \"D\", \"parent_structure_id\": 29, \"color_hex_triplet\": \"b8a98a\", \"children\": [], \"text\": \"Subpial granular layer, parietal cortex\"}, {\"id\": 31, \"name\": \"Marginal zone, parietal cortex\", \"acronym\": \"MZ-PAR\", \"definition (description)\": \"See Kostovic et al. 2018\", \"type (gray matter/fiber tract/CNS cavity/developmental/other)\": \"D\", \"parent_structure_id\": 29, \"color_hex_triplet\": \"de895e\", \"children\": [], \"text\": \"Marginal zone, parietal cortex\"}, {\"id\": 32, \"name\": \"Cortical plate, parietal cortex\", \"acronym\": \"CP-PAR\", \"definition (description)\": \"See Kostovic et al. 2018\", \"type (gray matter/fiber tract/CNS cavity/developmental/other)\": \"D\", \"parent_structure_id\": 29, \"color_hex_triplet\": \"f6ca72\", \"children\": [], \"text\": \"Cortical plate, parietal cortex\"}, {\"id\": 33, \"name\": \"Subplate zone, parietal cortex\", \"acronym\": \"SP-PAR\", \"definition (description)\": \"See Kostovic et al. 2018\", \"type (gray matter/fiber tract/CNS cavity/developmental/other)\": \"D\", \"parent_structure_id\": 29, \"color_hex_triplet\": \"eafe89\", \"children\": [], \"text\": \"Subplate zone, parietal cortex\"}, {\"id\": 34, \"name\": \"Intermediate zone, parietal cortex\", \"acronym\": \"IZ-PAR\", \"definition (description)\": \"See Kostovic et al. 2018\", \"type (gray matter/fiber tract/CNS cavity/developmental/other)\": \"D\", \"parent_structure_id\": 29, \"color_hex_triplet\": \"bcf1ce\", \"children\": [], \"text\": \"Intermediate zone, parietal cortex\"}, {\"id\": 35, \"name\": \"Subventricular zone, parietal cortex\", \"acronym\": \"SVZ-PAR\", \"definition (description)\": \"See Kostovic et al. 2018\", \"type (gray matter/fiber tract/CNS cavity/developmental/other)\": \"D\", \"parent_structure_id\": 29, \"color_hex_triplet\": \"dbabf2\", \"children\": [], \"text\": \"Subventricular zone, parietal cortex\"}, {\"id\": 36, \"name\": \"Ventricular zone, parietal cortex\", \"acronym\": \"VZ-PAR\", \"definition (description)\": \"See Kostovic et al. 2018\", \"type (gray matter/fiber tract/CNS cavity/developmental/other)\": \"D\", \"parent_structure_id\": 29, \"color_hex_triplet\": \"e670be\", \"children\": [], \"text\": \"Ventricular zone, parietal cortex\"}], \"text\": \"Parietal cortex\"}, {\"id\": 37, \"name\": \"Parieto-occipital sulcus\", \"acronym\": \"POS\", \"definition (description)\": \"Fissure that partially separates the parietal lobe and the occipital lobe. Note: shown also in Plates, but there is no Plate with the specific layers of it.\", \"type (gray matter/fiber tract/CNS cavity/developmental/other)\": \"G\", \"parent_structure_id\": 4, \"color_hex_triplet\": \"CFE4C2\", \"children\": [], \"text\": \"Parieto-occipital sulcus\"}, {\"id\": 38, \"name\": \"Occipital cortex\", \"acronym\": \"OCC\", \"definition (description)\": \"The most posterior region of the cerebral cortex, partially separated from the parietal lobe by the  parietooccipital sulcus. It contains several visual areas with direct projections from the retina, by way of the lateral geniculate body, or indirect projection by way of the pulvinar. The distinctive primary visual projection area, the striate cortex, lies along the wall of the calcarine sulcus.\", \"type (gray matter/fiber tract/CNS cavity/developmental/other)\": \"G\", \"parent_structure_id\": 4, \"color_hex_triplet\": \"CFE4C2\", \"children\": [{\"id\": 39, \"name\": \"Subpial granular layer, occipital cortex\", \"acronym\": \"SGL-OCC\", \"definition (description)\": \"Needs a definition\", \"type (gray matter/fiber tract/CNS cavity/developmental/other)\": \"D\", \"parent_structure_id\": 38, \"color_hex_triplet\": \"b8a98a\", \"children\": [], \"text\": \"Subpial granular layer, occipital cortex\"}, {\"id\": 40, \"name\": \"Marginal zone, occipital cortex\", \"acronym\": \"MZ-OCC\", \"definition (description)\": \"See Kostovic et al. 2018\", \"type (gray matter/fiber tract/CNS cavity/developmental/other)\": \"D\", \"parent_structure_id\": 38, \"color_hex_triplet\": \"de895e\", \"children\": [], \"text\": \"Marginal zone, occipital cortex\"}, {\"id\": 41, \"name\": \"Cortical plate, occipital cortex\", \"acronym\": \"CP-OCC\", \"definition (description)\": \"See Kostovic et al. 2018\", \"type (gray matter/fiber tract/CNS cavity/developmental/other)\": \"D\", \"parent_structure_id\": 38, \"color_hex_triplet\": \"f6ca72\", \"children\": [], \"text\": \"Cortical plate, occipital cortex\"}, {\"id\": 42, \"name\": \"Subplate zone, occipital cortex\", \"acronym\": \"SP-OCC\", \"definition (description)\": \"See Kostovic et al. 2018\", \"type (gray matter/fiber tract/CNS cavity/developmental/other)\": \"D\", \"parent_structure_id\": 38, \"color_hex_triplet\": \"eafe89\", \"children\": [], \"text\": \"Subplate zone, occipital cortex\"}, {\"id\": 43, \"name\": \"Intermediate zone, occipital cortex\", \"acronym\": \"IZ-OCC\", \"definition (description)\": \"See Kostovic et al. 2018\", \"type (gray matter/fiber tract/CNS cavity/developmental/other)\": \"D\", \"parent_structure_id\": 38, \"color_hex_triplet\": \"bcf1ce\", \"children\": [], \"text\": \"Intermediate zone, occipital cortex\"}, {\"id\": 44, \"name\": \"Subventricular zone, occipital cortex\", \"acronym\": \"SVZ-OCC\", \"definition (description)\": \"See Kostovic et al. 2018\", \"type (gray matter/fiber tract/CNS cavity/developmental/other)\": \"D\", \"parent_structure_id\": 38, \"color_hex_triplet\": \"dbabf2\", \"children\": [], \"text\": \"Subventricular zone, occipital cortex\"}, {\"id\": 45, \"name\": \"Ventricular zone, occipital cortex\", \"acronym\": \"VZ-OCC\", \"definition (description)\": \"See Kostovic et al. 2018\", \"type (gray matter/fiber tract/CNS cavity/developmental/other)\": \"D\", \"parent_structure_id\": 38, \"color_hex_triplet\": \"e670be\", \"children\": [], \"text\": \"Ventricular zone, occipital cortex\"}], \"text\": \"Occipital cortex\"}, {\"id\": 46, \"name\": \"Calcarine sulcus\", \"acronym\": \"CaS\", \"definition (description)\": \"Cortical fissure that extends from the parietooccipital sulcus anteriorly to the occipital pole posteriorly. Along its wall is located the primary visual projection area, the striate cortex. Note: present both in Plates and Glossary. Not sure it has the same STF as the occipital lobe.\", \"type (gray matter/fiber tract/CNS cavity/developmental/other)\": \"G\", \"parent_structure_id\": 4, \"color_hex_triplet\": \"CFE4C2\", \"children\": [], \"text\": \"Calcarine sulcus\"}, {\"id\": 47, \"name\": \"Temporal cortex\", \"acronym\": \"TEMP\", \"definition (description)\": \"Lateral portion of the cerebral hemispheres. It is separated by the lateral fissure from the frontal lobe anteriorly and the paracentral lobule dorsally, but is continuous with the parietal lobe dorsally and the occipital lobe posteriorly. Two horizontal fissures, the superior and middle temporal sulci, divide the temporal lobe into three convolutions, the superior, middle and inferior gyri. The primary auditory area lies buried in the floor of the lateral fissure in the anterior transverse gyrus (Heschl\\u2019s gyrus). Note: this is the definition of the adult temporal lobe.\", \"type (gray matter/fiber tract/CNS cavity/developmental/other)\": \"G\", \"parent_structure_id\": 4, \"color_hex_triplet\": \"CFE4C2\", \"children\": [{\"id\": 48, \"name\": \"Subpial granular layer, temporal cortex\", \"acronym\": \"SGL-TEMP\", \"definition (description)\": \"Needs a definition\", \"type (gray matter/fiber tract/CNS cavity/developmental/other)\": \"D\", \"parent_structure_id\": 47, \"color_hex_triplet\": \"b8a98a\", \"children\": [], \"text\": \"Subpial granular layer, temporal cortex\"}, {\"id\": 49, \"name\": \"Marginal zone, temporal cortex\", \"acronym\": \"MZ-TEMP\", \"type (gray matter/fiber tract/CNS cavity/developmental/other)\": \"D\", \"parent_structure_id\": 47, \"color_hex_triplet\": \"de895e\", \"children\": [], \"text\": \"Marginal zone, temporal cortex\"}, {\"id\": 50, \"name\": \"Cortical plate, temporal cortex\", \"acronym\": \"CP-TEMP\", \"definition (description)\": \"Needs a definition\", \"type (gray matter/fiber tract/CNS cavity/developmental/other)\": \"D\", \"parent_structure_id\": 47, \"color_hex_triplet\": \"f6ca72\", \"children\": [], \"text\": \"Cortical plate, temporal cortex\"}, {\"id\": 51, \"name\": \"Subplate zone, temporal cortex\", \"acronym\": \"SP-TEMP\", \"definition (description)\": \"Needs a definition\", \"type (gray matter/fiber tract/CNS cavity/developmental/other)\": \"D\", \"parent_structure_id\": 47, \"color_hex_triplet\": \"eafe89\", \"children\": [], \"text\": \"Subplate zone, temporal cortex\"}, {\"id\": 52, \"name\": \"Intermediate zone, temporal cortex\", \"acronym\": \"IZ-TEMP\", \"definition (description)\": \"Needs a definition\", \"type (gray matter/fiber tract/CNS cavity/developmental/other)\": \"D\", \"parent_structure_id\": 47, \"color_hex_triplet\": \"bcf1ce\", \"children\": [], \"text\": \"Intermediate zone, temporal cortex\"}, {\"id\": 53, \"name\": \"Subventricular zone, temporal cortex\", \"acronym\": \"SVZ-TEMP\", \"definition (description)\": \"Needs a definition\", \"type (gray matter/fiber tract/CNS cavity/developmental/other)\": \"D\", \"parent_structure_id\": 47, \"color_hex_triplet\": \"dbabf2\", \"children\": [], \"text\": \"Subventricular zone, temporal cortex\"}, {\"id\": 54, \"name\": \"Ventricular zone, temporal cortex\", \"acronym\": \"VZ-TEMP\", \"definition (description)\": \"Needs a definition\", \"type (gray matter/fiber tract/CNS cavity/developmental/other)\": \"D\", \"parent_structure_id\": 47, \"color_hex_triplet\": \"e670be\", \"children\": [], \"text\": \"Ventricular zone, temporal cortex\"}], \"text\": \"Temporal cortex\"}, {\"id\": 55, \"name\": \"Parahippocampal gyrus\", \"acronym\": \"PARG\", \"parent_structure_id\": 4, \"definition (description)\": \"Transitional (allocortical-to-neocortical) area between Ammon\\u2019s horn of the hippocampus and the isocortex of the temporal lobe. Its subdivisions are the subicular complex and the entorhinal cortex.`\", \"type (gray matter/fiber tract/CNS cavity/developmental/other)\": \"G\", \"color_hex_triplet\": \"BDD9AB\", \"children\": [{\"id\": 56, \"name\": \"Entorhinal cortex\", \"acronym\": \"ENT\", \"definition (description)\": \"Multilayered cortical component of the parahippocampal gyrus. It is bordered internally by the subicular complex and is separated from the neocortex by the rhinal sulcus. It is the source of the perforant pathway to the hippocampus.\", \"type (gray matter/fiber tract/CNS cavity/developmental/other)\": \"G\", \"parent_structure_id\": 55, \"color_hex_triplet\": \"AFD29A\", \"children\": [{\"id\": 57, \"name\": \"Subpial granular layer, entorhinal cortex\", \"acronym\": \"SGL-ENT\", \"definition (description)\": \"Needs a definition\", \"type (gray matter/fiber tract/CNS cavity/developmental/other)\": \"D\", \"parent_structure_id\": 56, \"color_hex_triplet\": \"b8a98a\", \"children\": [], \"text\": \"Subpial granular layer, entorhinal cortex\"}, {\"id\": 58, \"name\": \"Marginal zone, entorhinal cortex\", \"acronym\": \"MZ-ENT\", \"type (gray matter/fiber tract/CNS cavity/developmental/other)\": \"D\", \"parent_structure_id\": 56, \"color_hex_triplet\": \"de895e\", \"children\": [], \"text\": \"Marginal zone, entorhinal cortex\"}, {\"id\": 59, \"name\": \"Cortical plate, entorhinal cortex\", \"acronym\": \"CP-ENT\", \"type (gray matter/fiber tract/CNS cavity/developmental/other)\": \"D\", \"parent_structure_id\": 56, \"color_hex_triplet\": \"f6ca72\", \"children\": [], \"text\": \"Cortical plate, entorhinal cortex\"}, {\"id\": 60, \"name\": \"Subplate zone, entorhinal cortex\", \"acronym\": \"SP-ENT\", \"type (gray matter/fiber tract/CNS cavity/developmental/other)\": \"D\", \"parent_structure_id\": 56, \"color_hex_triplet\": \"eafe89\", \"children\": [], \"text\": \"Subplate zone, entorhinal cortex\"}, {\"id\": 61, \"name\": \"Intermediate zone, entorhinal cortex\", \"acronym\": \"IZ-ENT\", \"type (gray matter/fiber tract/CNS cavity/developmental/other)\": \"D\", \"parent_structure_id\": 56, \"color_hex_triplet\": \"bcf1ce\", \"children\": [], \"text\": \"Intermediate zone, entorhinal cortex\"}, {\"id\": 62, \"name\": \"Subventricular zone, entorhinal cortex\", \"acronym\": \"SVZ-ENT\", \"type (gray matter/fiber tract/CNS cavity/developmental/other)\": \"D\", \"parent_structure_id\": 56, \"color_hex_triplet\": \"dbabf2\", \"children\": [], \"text\": \"Subventricular zone, entorhinal cortex\"}, {\"id\": 63, \"name\": \"Ventricular zone, entorhinal cortex\", \"acronym\": \"VZ-ENT\", \"type (gray matter/fiber tract/CNS cavity/developmental/other)\": \"D\", \"parent_structure_id\": 56, \"color_hex_triplet\": \"e670be\", \"children\": [], \"text\": \"Ventricular zone, entorhinal cortex\"}], \"text\": \"Entorhinal cortex\"}], \"text\": \"Parahippocampal gyrus\"}, {\"id\": 65, \"name\": \"Archicortex\", \"acronym\": \"ArCTx\", \"definition (description)\": \"Needs a compelling definition to include it\\u2026\", \"type (gray matter/fiber tract/CNS cavity/developmental/other)\": \"G\", \"parent_structure_id\": 4, \"color_hex_triplet\": \"9BC680\", \"children\": [], \"text\": \"Archicortex\"}, {\"id\": 64, \"name\": \"Allocortex\", \"acronym\": \"AlCTx\", \"definition (description)\": \"Cortical regions of the telencephalon with a \\u201cthree layered\\u201d cytoarchitectonic organization, such as the hippocampus and primary olfactory cortex. At most hippocampal sites, a central layer of densely packed neurons is sandwiched between an external and internal fibrous layer with scattered neurons. The allocortex is a phylogenetically older telencephalic system than the mammalian \\u201csix layered\\u201d isocortex, or neocortex.\", \"type (gray matter/fiber tract/CNS cavity/developmental/other)\": \"G\", \"parent_structure_id\": 4, \"color_hex_triplet\": \"9BC680\", \"children\": [{\"id\": 66, \"name\": \"Hippocampal formation\", \"acronym\": \"HPF\", \"definition (description)\": \"An inclusive term that includes not only the hippocampus proper but also the adjacent subiculum, presubiculum and parasubiculum of the parahippocampal gyrus.\", \"type (gray matter/fiber tract/CNS cavity/developmental/other)\": \"G\", \"parent_structure_id\": 64, \"color_hex_triplet\": \"9BC680\", \"children\": [{\"id\": 67, \"name\": \"Subpial granular layer, hippocampal formation\", \"acronym\": \"SGL-HPF\", \"definition (description)\": \"Needs a definition\", \"type (gray matter/fiber tract/CNS cavity/developmental/other)\": \"D\", \"parent_structure_id\": 66, \"color_hex_triplet\": \"b8a98a\", \"children\": [], \"text\": \"Subpial granular layer, hippocampal formation\"}, {\"id\": 68, \"name\": \"Marginal zone, hippocampal formation\", \"acronym\": \"MZ-HPF\", \"type (gray matter/fiber tract/CNS cavity/developmental/other)\": \"D\", \"parent_structure_id\": 66, \"color_hex_triplet\": \"de895e\", \"children\": [], \"text\": \"Marginal zone, hippocampal formation\"}, {\"id\": 69, \"name\": \"Cortical plate, hippocampal formation\", \"acronym\": \"CP-HPF\", \"type (gray matter/fiber tract/CNS cavity/developmental/other)\": \"D\", \"parent_structure_id\": 66, \"color_hex_triplet\": \"f6ca72\", \"children\": [], \"text\": \"Cortical plate, hippocampal formation\"}, {\"id\": 70, \"name\": \"Subplate zone, hippocampal formation\", \"acronym\": \"SP-HPF\", \"type (gray matter/fiber tract/CNS cavity/developmental/other)\": \"D\", \"parent_structure_id\": 66, \"color_hex_triplet\": \"eafe89\", \"children\": [], \"text\": \"Subplate zone, hippocampal formation\"}, {\"id\": 71, \"name\": \"Intermediate zone, hippocampal formation\", \"acronym\": \"IZ-HPF\", \"type (gray matter/fiber tract/CNS cavity/developmental/other)\": \"D\", \"parent_structure_id\": 66, \"color_hex_triplet\": \"bcf1ce\", \"children\": [], \"text\": \"Intermediate zone, hippocampal formation\"}, {\"id\": 72, \"name\": \"Subventricular zone, hippocampal formation\", \"acronym\": \"SVZ-HPF\", \"type (gray matter/fiber tract/CNS cavity/developmental/other)\": \"D\", \"parent_structure_id\": 66, \"color_hex_triplet\": \"dbabf2\", \"text\": \"Subventricular zone, hippocampal formation\"}, {\"id\": 73, \"name\": \"Ventricular zone, hippocampal formation\", \"acronym\": \"VZ-HPF\", \"type (gray matter/fiber tract/CNS cavity/developmental/other)\": \"D\", \"parent_structure_id\": 66, \"color_hex_triplet\": \"e670be\", \"children\": [], \"text\": \"Ventricular zone, hippocampal formation\"}, {\"id\": 74, \"name\": \"Hippocampus\", \"acronym\": \"HIP\", \"definition (description)\": \"A distinctive allocortical (three-layered) region formed by the interlocking  dentate gyrus and Ammon\\u2019s horn. The hippocampus is continuous with the subicular complex. The principal afferents of the hippocampus travel in the alveolar and perforant paths; its efferents leave by way of the fimbria that join the fornix. Note: this is the definition of the region in the adult brain.\", \"type (gray matter/fiber tract/CNS cavity/developmental/other)\": \"G\", \"parent_structure_id\": 66, \"color_hex_triplet\": \"8DBF6F\", \"children\": [{\"id\": 75, \"name\": \"Subpial granular layer, hippocampus\", \"acronym\": \"SGL-HIP\", \"definition (description)\": \"Needs a definition\", \"type (gray matter/fiber tract/CNS cavity/developmental/other)\": \"D\", \"parent_structure_id\": 74, \"color_hex_triplet\": \"b8a98a\", \"children\": [], \"text\": \"Subpial granular layer, hippocampus\"}, {\"id\": 76, \"name\": \"Marginal zone, hippocampus\", \"acronym\": \"MZ-HIP\", \"type (gray matter/fiber tract/CNS cavity/developmental/other)\": \"D\", \"parent_structure_id\": 74, \"color_hex_triplet\": \"de895e\", \"children\": [], \"text\": \"Marginal zone, hippocampus\"}, {\"id\": 77, \"name\": \"Cortical plate, hippocampus\", \"acronym\": \"CP-HIP\", \"type (gray matter/fiber tract/CNS cavity/developmental/other)\": \"D\", \"parent_structure_id\": 74, \"color_hex_triplet\": \"f6ca72\", \"children\": [], \"text\": \"Cortical plate, hippocampus\"}, {\"id\": 78, \"name\": \"Subplate zone, hippocampus\", \"acronym\": \"SP-HIP\", \"type (gray matter/fiber tract/CNS cavity/developmental/other)\": \"D\", \"parent_structure_id\": 74, \"color_hex_triplet\": \"eafe89\", \"children\": [], \"text\": \"Subplate zone, hippocampus\"}, {\"id\": 79, \"name\": \"Intermediate zone, hippocampus\", \"acronym\": \"IZ-HIP\", \"type (gray matter/fiber tract/CNS cavity/developmental/other)\": \"D\", \"parent_structure_id\": 74, \"color_hex_triplet\": \"bcf1ce\", \"children\": [], \"text\": \"Intermediate zone, hippocampus\"}, {\"id\": 80, \"name\": \"Subventricular zone, hippocampus\", \"acronym\": \"SVZ-HIP\", \"type (gray matter/fiber tract/CNS cavity/developmental/other)\": \"D\", \"parent_structure_id\": 74, \"color_hex_triplet\": \"dbabf2\", \"children\": [], \"text\": \"Subventricular zone, hippocampus\"}, {\"id\": 81, \"name\": \"Ventricular zone, hippocampus\", \"acronym\": \"VZ-HIP\", \"type (gray matter/fiber tract/CNS cavity/developmental/other)\": \"D\", \"parent_structure_id\": 74, \"color_hex_triplet\": \"e670be\", \"children\": [], \"text\": \"Ventricular zone, hippocampus\"}, {\"id\": 82, \"name\": \"Dentate gyrus\", \"acronym\": \"DG\", \"definition (description)\": \"Curved small-celled component of the hippocampus, interlocked with the large-celled Ammon\\u2019s horn. It has an outer molecular layer, a discrete granular layer, and a hilus that contains the subgranular zone, a secondary germinal matrix. Note: this is the definition of the region in the adult brain. In the 20 g.w. human brain there are no layers labeled in the dentate gyus.\", \"type (gray matter/fiber tract/CNS cavity/developmental/other)\": \"G\", \"parent_structure_id\": 74, \"color_hex_triplet\": \"67C76C\", \"children\": [], \"text\": \"Dentate gyrus\"}, {\"id\": 83, \"name\": \"Ammon's horn\", \"acronym\": \"CA\", \"definition (description)\": \"Part of the hippocampus that contains a prominent layer of large pyramidal cells that curves toward the dentate gyrus. Layers distinguished in Ammon\\u2019s horn are (from deep to superficial) the alveus, the stratum oriens, the pyramidal layer, the stratum radiatum, and the stratum lacunosum moleculare. Ammon\\u2019s horn is subdivided into two large areas: CA1 adjacent to the presubiculum, and CA3 adjacent to the dentate gyrus. The two smaller regions are CA2 and CA4 (in the hilus of the dentate gyrus).\", \"type (gray matter/fiber tract/CNS cavity/developmental/other)\": \"G\", \"parent_structure_id\": 74, \"color_hex_triplet\": \"8DBF6F\", \"children\": [{\"id\": 386, \"name\": \"CA1 field of hippocampus\", \"acronym\": \"CA1\", \"definition (description)\": \"Part of Ammon's horn (CA field) that is the output of it, and near the presubiculum\", \"type (gray matter/fiber tract/CNS cavity/developmental/other)\": \"G\", \"parent_structure_id\": 83, \"color_hex_triplet\": \"8DBF6F\", \"children\": [{\"id\": 420, \"name\": \"Subplate zone, CA1 field\", \"acronym\": \"SP-CA1\", \"definition (description)\": \"No definition in the Glossary.\", \"type (gray matter/fiber tract/CNS cavity/developmental/other)\": \"D\", \"parent_structure_id\": 0, \"color_hex_triplet\": \"eafe89\", \"children\": [], \"text\": \"Subplate zone, CA1 field\"}, {\"id\": 421, \"name\": \"Intermediate zone, CA1 field\", \"acronym\": \"IZ-CA1\", \"definition (description)\": \"No definition in the Glossary.\", \"type (gray matter/fiber tract/CNS cavity/developmental/other)\": \"D\", \"parent_structure_id\": 0, \"color_hex_triplet\": \"bcf1ce\", \"children\": [], \"text\": \"Intermediate zone, CA1 field\"}], \"text\": \"CA1 field of hippocampus\"}, {\"id\": 387, \"name\": \"CA2 field of hippocampus\", \"acronym\": \"CA2\", \"definition (description)\": \"Part of Ammon's horn (CA field) located between CA1 and CA3 fields\", \"type (gray matter/fiber tract/CNS cavity/developmental/other)\": \"G\", \"parent_structure_id\": 83, \"color_hex_triplet\": \"8DBF6F\", \"children\": [{\"id\": 422, \"name\": \"Subplate zone, CA2 field\", \"acronym\": \"SP-CA2\", \"definition (description)\": \"No definition in the Glossary.\", \"type (gray matter/fiber tract/CNS cavity/developmental/other)\": \"D\", \"parent_structure_id\": 0, \"color_hex_triplet\": \"eafe89\", \"children\": [], \"text\": \"Subplate zone, CA2 field\"}, {\"id\": 423, \"name\": \"Intermediate zone, CA2 field\", \"acronym\": \"IZ-CA2\", \"definition (description)\": \"No definition in the Glossary.\", \"type (gray matter/fiber tract/CNS cavity/developmental/other)\": \"D\", \"parent_structure_id\": 0, \"color_hex_triplet\": \"bcf1ce\", \"children\": [], \"text\": \"Intermediate zone, CA2 field\"}], \"text\": \"CA2 field of hippocampus\"}, {\"id\": 388, \"name\": \"CA3 field of hippocampus\", \"acronym\": \"CA3\", \"definition (description)\": \"Part of Ammon's horn (CA field) located adjacent to the dentate gyrus and the input part of the former.\", \"type (gray matter/fiber tract/CNS cavity/developmental/other)\": \"G\", \"parent_structure_id\": 83, \"color_hex_triplet\": \"8DBF6F\", \"children\": [{\"id\": 424, \"name\": \"Subplate zone, CA3 field\", \"acronym\": \"SP-CA3\", \"definition (description)\": \"No definition in the Glossary.\", \"type (gray matter/fiber tract/CNS cavity/developmental/other)\": \"D\", \"parent_structure_id\": 0, \"color_hex_triplet\": \"eafe89\", \"children\": [], \"text\": \"Subplate zone, CA3 field\"}, {\"id\": 425, \"name\": \"Intermediate zone, CA3 field\", \"acronym\": \"IZ-CA3\", \"definition (description)\": \"No definition in the Glossary.\", \"type (gray matter/fiber tract/CNS cavity/developmental/other)\": \"D\", \"parent_structure_id\": 0, \"color_hex_triplet\": \"bcf1ce\", \"children\": [], \"text\": \"Intermediate zone, CA3 field\"}], \"text\": \"CA3 field of hippocampus\"}, {\"id\": 389, \"name\": \"CA4 field of hippocampus\", \"acronym\": \"CA4\", \"definition (description)\": \"Small part of Ammon's horn (CA field) located in the hilus.\", \"type (gray matter/fiber tract/CNS cavity/developmental/other)\": \"G\", \"parent_structure_id\": 83, \"color_hex_triplet\": \"8DBF6F\", \"children\": [{\"id\": 426, \"name\": \"Subplate zone, CA4 field\", \"acronym\": \"SP-CA4\", \"definition (description)\": \"No definition in the Glossary.\", \"type (gray matter/fiber tract/CNS cavity/developmental/other)\": \"D\", \"parent_structure_id\": 0, \"color_hex_triplet\": \"eafe89\", \"children\": [], \"text\": \"Subplate zone, CA4 field\"}, {\"id\": 427, \"name\": \"Intermediate zone, CA4 field\", \"acronym\": \"IZ-CA4\", \"definition (description)\": \"No definition in the Glossary.\", \"type (gray matter/fiber tract/CNS cavity/developmental/other)\": \"D\", \"parent_structure_id\": 0, \"color_hex_triplet\": \"bcf1ce\", \"children\": [], \"text\": \"Intermediate zone, CA4 field\"}], \"text\": \"CA4 field of hippocampus\"}], \"text\": \"Ammon's horn\"}, {\"id\": 84, \"name\": \"Induseum griseum\", \"acronym\": \"IG\", \"definition (description)\": \"Small, medially situated extension of the hippocampus that lies above the corpus callosum throughout its entire length.\", \"type (gray matter/fiber tract/CNS cavity/developmental/other)\": \"G\", \"parent_structure_id\": 74, \"color_hex_triplet\": \"8DBF6F\", \"children\": [], \"text\": \"Induseum griseum\"}], \"text\": \"Hippocampus\"}, {\"id\": 85, \"name\": \"Subiculum\", \"acronym\": \"SUB\", \"definition (description)\": \"Part of the hippocampal formation.\", \"type (gray matter/fiber tract/CNS cavity/developmental/other)\": \"G\", \"parent_structure_id\": 66, \"color_hex_triplet\": \"AFD29A\", \"children\": [{\"id\": 86, \"name\": \"Subpial granular layer, subiculum\", \"acronym\": \"SGL-SUB\", \"definition (description)\": \"Needs a definition\", \"type (gray matter/fiber tract/CNS cavity/developmental/other)\": \"D\", \"parent_structure_id\": 85, \"color_hex_triplet\": \"b8a98a\", \"children\": [], \"text\": \"Subpial granular layer, subiculum\"}, {\"id\": 87, \"name\": \"Marginal zone, subiculum\", \"acronym\": \"MZ-SUB\", \"definition (description)\": \"Needs a definition\", \"type (gray matter/fiber tract/CNS cavity/developmental/other)\": \"D\", \"parent_structure_id\": 85, \"color_hex_triplet\": \"de895e\", \"children\": [], \"text\": \"Marginal zone, subiculum\"}, {\"id\": 88, \"name\": \"Cortical plate, subiculum\", \"acronym\": \"CP-SUB\", \"definition (description)\": \"Needs a definition\", \"type (gray matter/fiber tract/CNS cavity/developmental/other)\": \"D\", \"parent_structure_id\": 85, \"color_hex_triplet\": \"f6ca72\", \"children\": [], \"text\": \"Cortical plate, subiculum\"}, {\"id\": 89, \"name\": \"Subplate zone, subiculum\", \"acronym\": \"SP-SUB\", \"definition (description)\": \"Needs a definition\", \"type (gray matter/fiber tract/CNS cavity/developmental/other)\": \"D\", \"parent_structure_id\": 85, \"color_hex_triplet\": \"eafe89\", \"children\": [], \"text\": \"Subplate zone, subiculum\"}, {\"id\": 90, \"name\": \"Intermediate zone, subiculum\", \"acronym\": \"IZ-SUB\", \"definition (description)\": \"Needs a definition\", \"type (gray matter/fiber tract/CNS cavity/developmental/other)\": \"D\", \"parent_structure_id\": 85, \"color_hex_triplet\": \"bcf1ce\", \"children\": [], \"text\": \"Intermediate zone, subiculum\"}, {\"id\": 91, \"name\": \"Subventricular zone, subiculum\", \"acronym\": \"SVZ-SUB\", \"definition (description)\": \"Needs a definition\", \"type (gray matter/fiber tract/CNS cavity/developmental/other)\": \"D\", \"parent_structure_id\": 85, \"color_hex_triplet\": \"dbabf2\", \"children\": [], \"text\": \"Subventricular zone, subiculum\"}, {\"id\": 92, \"name\": \"Ventricular zone, subiculum\", \"acronym\": \"VZ-SUB\", \"definition (description)\": \"Needs a definition\", \"type (gray matter/fiber tract/CNS cavity/developmental/other)\": \"D\", \"parent_structure_id\": 85, \"color_hex_triplet\": \"e670be\", \"children\": [], \"text\": \"Ventricular zone, subiculum\"}], \"text\": \"Subiculum\"}, {\"id\": 93, \"name\": \"Presubiculum\", \"acronym\": \"PRESUB\", \"definition (description)\": \"Needs a definition\", \"type (gray matter/fiber tract/CNS cavity/developmental/other)\": \"G\", \"parent_structure_id\": 66, \"color_hex_triplet\": \"AFD29A\", \"children\": [{\"id\": 94, \"name\": \"Subpial granular layer, presubiculum\", \"acronym\": \"SGL-PRESUB\", \"definition (description)\": \"Needs a definition\", \"type (gray matter/fiber tract/CNS cavity/developmental/other)\": \"D\", \"parent_structure_id\": 93, \"color_hex_triplet\": \"b8a98a\", \"children\": [], \"text\": \"Subpial granular layer, presubiculum\"}, {\"id\": 95, \"name\": \"Marginal zone, presubiculum\", \"acronym\": \"MZ-PRESUB\", \"definition (description)\": \"Needs a definition\", \"type (gray matter/fiber tract/CNS cavity/developmental/other)\": \"D\", \"parent_structure_id\": 93, \"color_hex_triplet\": \"de895e\", \"children\": [], \"text\": \"Marginal zone, presubiculum\"}, {\"id\": 96, \"name\": \"Cortical plate, presubiculum\", \"acronym\": \"CP-PRESUB\", \"definition (description)\": \"Needs a definition\", \"type (gray matter/fiber tract/CNS cavity/developmental/other)\": \"D\", \"parent_structure_id\": 93, \"color_hex_triplet\": \"f6ca72\", \"children\": [], \"text\": \"Cortical plate, presubiculum\"}, {\"id\": 97, \"name\": \"Subplate zone, presubiculum\", \"acronym\": \"SP-PRESUB\", \"definition (description)\": \"Needs a definition\", \"type (gray matter/fiber tract/CNS cavity/developmental/other)\": \"D\", \"parent_structure_id\": 93, \"color_hex_triplet\": \"eafe89\", \"children\": [], \"text\": \"Subplate zone, presubiculum\"}, {\"id\": 98, \"name\": \"Intermediate zone, presubiculum\", \"acronym\": \"IZ-PRESUB\", \"definition (description)\": \"Needs a definition\", \"type (gray matter/fiber tract/CNS cavity/developmental/other)\": \"D\", \"parent_structure_id\": 93, \"color_hex_triplet\": \"bcf1ce\", \"children\": [], \"text\": \"Intermediate zone, presubiculum\"}, {\"id\": 99, \"name\": \"Subventricular zone, presubiculum\", \"acronym\": \"SVZ-PRESUB\", \"definition (description)\": \"Needs a definition\", \"type (gray matter/fiber tract/CNS cavity/developmental/other)\": \"D\", \"parent_structure_id\": 93, \"color_hex_triplet\": \"dbabf2\", \"children\": [], \"text\": \"Subventricular zone, presubiculum\"}, {\"id\": 100, \"name\": \"Ventricular zone, presubiculum\", \"acronym\": \"VZ-PRESUB\", \"definition (description)\": \"Needs a definition\", \"type (gray matter/fiber tract/CNS cavity/developmental/other)\": \"D\", \"parent_structure_id\": 93, \"color_hex_triplet\": \"e670be\", \"children\": [], \"text\": \"Ventricular zone, presubiculum\"}], \"text\": \"Presubiculum\"}, {\"id\": 101, \"name\": \"Parasubiculum\", \"acronym\": \"PARA\", \"definition (description)\": \"Needs a definition\", \"type (gray matter/fiber tract/CNS cavity/developmental/other)\": \"G\", \"parent_structure_id\": 66, \"color_hex_triplet\": \"AFD29A\", \"children\": [{\"id\": 102, \"name\": \"Subpial granular layer, parasubiculum\", \"acronym\": \"SGL-PARA\", \"definition (description)\": \"Needs a definition\", \"type (gray matter/fiber tract/CNS cavity/developmental/other)\": \"D\", \"parent_structure_id\": 101, \"color_hex_triplet\": \"b8a98a\", \"children\": [], \"text\": \"Subpial granular layer, parasubiculum\"}, {\"id\": 103, \"name\": \"Marginal zone, parasubiculum\", \"acronym\": \"MZ-PARA\", \"definition (description)\": \"Needs a definition\", \"type (gray matter/fiber tract/CNS cavity/developmental/other)\": \"D\", \"parent_structure_id\": 101, \"color_hex_triplet\": \"de895e\", \"children\": [], \"text\": \"Marginal zone, parasubiculum\"}, {\"id\": 104, \"name\": \"Cortical plate, parasubiculum\", \"acronym\": \"CP-PARA\", \"definition (description)\": \"Needs a definition\", \"type (gray matter/fiber tract/CNS cavity/developmental/other)\": \"D\", \"parent_structure_id\": 101, \"color_hex_triplet\": \"f6ca72\", \"children\": [], \"text\": \"Cortical plate, parasubiculum\"}, {\"id\": 105, \"name\": \"Subplate zone, parasubiculum\", \"acronym\": \"SP-PARA\", \"definition (description)\": \"Needs a definition\", \"type (gray matter/fiber tract/CNS cavity/developmental/other)\": \"D\", \"parent_structure_id\": 101, \"color_hex_triplet\": \"eafe89\", \"children\": [], \"text\": \"Subplate zone, parasubiculum\"}, {\"id\": 106, \"name\": \"Intermediate zone, parasubiculum\", \"acronym\": \"IZ-PARA\", \"definition (description)\": \"Needs a definition\", \"type (gray matter/fiber tract/CNS cavity/developmental/other)\": \"D\", \"parent_structure_id\": 101, \"color_hex_triplet\": \"bcf1ce\", \"children\": [], \"text\": \"Intermediate zone, parasubiculum\"}, {\"id\": 107, \"name\": \"Subventricular zone, parasubiculum\", \"acronym\": \"SVZ-PARA\", \"definition (description)\": \"Needs a definition\", \"type (gray matter/fiber tract/CNS cavity/developmental/other)\": \"D\", \"parent_structure_id\": 101, \"color_hex_triplet\": \"dbabf2\", \"children\": [], \"text\": \"Subventricular zone, parasubiculum\"}, {\"id\": 108, \"name\": \"Ventricular zone, parasubiculum\", \"acronym\": \"VZ-PARA\", \"definition (description)\": \"Needs a definition\", \"type (gray matter/fiber tract/CNS cavity/developmental/other)\": \"D\", \"parent_structure_id\": 101, \"color_hex_triplet\": \"e670be\", \"children\": [], \"text\": \"Ventricular zone, parasubiculum\"}], \"text\": \"Parasubiculum\"}, {\"id\": 109, \"name\": \"Postsubiculum\", \"acronym\": \"POST\", \"definition (description)\": \"Needs a definition\", \"type (gray matter/fiber tract/CNS cavity/developmental/other)\": \"G\", \"parent_structure_id\": 66, \"color_hex_triplet\": \"AFD29A\", \"children\": [{\"id\": 110, \"name\": \"Subpial granular layer, postsubiculum\", \"acronym\": \"SGL-POST\", \"definition (description)\": \"Needs a definition\", \"type (gray matter/fiber tract/CNS cavity/developmental/other)\": \"D\", \"parent_structure_id\": 109, \"color_hex_triplet\": \"b8a98a\", \"children\": [], \"text\": \"Subpial granular layer, postsubiculum\"}, {\"id\": 111, \"name\": \"Marginal zone, postsubiculum\", \"acronym\": \"MZ-POST\", \"definition (description)\": \"Needs a definition\", \"type (gray matter/fiber tract/CNS cavity/developmental/other)\": \"D\", \"parent_structure_id\": 109, \"color_hex_triplet\": \"de895e\", \"children\": [], \"text\": \"Marginal zone, postsubiculum\"}, {\"id\": 112, \"name\": \"Cortical plate, postsubiculum\", \"acronym\": \"CP-POST\", \"definition (description)\": \"Needs a definition\", \"type (gray matter/fiber tract/CNS cavity/developmental/other)\": \"D\", \"parent_structure_id\": 109, \"color_hex_triplet\": \"f6ca72\", \"children\": [], \"text\": \"Cortical plate, postsubiculum\"}, {\"id\": 113, \"name\": \"Subplate zone, postsubiculum\", \"acronym\": \"SP-POST\", \"definition (description)\": \"Needs a definition\", \"type (gray matter/fiber tract/CNS cavity/developmental/other)\": \"D\", \"parent_structure_id\": 109, \"color_hex_triplet\": \"eafe89\", \"children\": [], \"text\": \"Subplate zone, postsubiculum\"}, {\"id\": 114, \"name\": \"Intermediate zone, postsubiculum\", \"acronym\": \"IZ-POST\", \"definition (description)\": \"Needs a definition\", \"type (gray matter/fiber tract/CNS cavity/developmental/other)\": \"D\", \"parent_structure_id\": 109, \"color_hex_triplet\": \"bcf1ce\", \"children\": [], \"text\": \"Intermediate zone, postsubiculum\"}, {\"id\": 115, \"name\": \"Subventricular zone, postsubiculum\", \"acronym\": \"SVZ-POST\", \"definition (description)\": \"Needs a definition\", \"type (gray matter/fiber tract/CNS cavity/developmental/other)\": \"D\", \"parent_structure_id\": 109, \"color_hex_triplet\": \"dbabf2\", \"children\": [], \"text\": \"Subventricular zone, postsubiculum\"}, {\"id\": 116, \"name\": \"Ventricular zone, postsubiculum\", \"acronym\": \"VZ-POST\", \"definition (description)\": \"Needs a definition\", \"type (gray matter/fiber tract/CNS cavity/developmental/other)\": \"D\", \"parent_structure_id\": 109, \"color_hex_triplet\": \"e670be\", \"children\": [], \"text\": \"Ventricular zone, postsubiculum\"}], \"text\": \"Postsubiculum\"}], \"text\": \"Hippocampal formation\"}], \"text\": \"Allocortex\"}, {\"id\": 117, \"name\": \"Lateral fissure\", \"acronym\": \"LF\", \"definition (description)\": \"Deep, oblique sulcus (also known as the Sylvian fissure) that separates the frontal lobe and the paracentral lobule anterodorsally from the temporal lobe ventrally. Note: present both in Plates and Glossary. Unsure about the cytoarchitecture of it.\", \"type (gray matter/fiber tract/CNS cavity/developmental/other)\": \"G\", \"parent_structure_id\": 4, \"color_hex_triplet\": \"CFE4C2\", \"children\": [], \"text\": \"Lateral fissure\"}, {\"id\": 118, \"name\": \"Insula\", \"acronym\": \"INS\", \"definition (description)\": \"Need a definition for early stages\", \"type (gray matter/fiber tract/CNS cavity/developmental/other)\": \"G\", \"parent_structure_id\": 4, \"color_hex_triplet\": \"DBEBD1\", \"children\": [{\"id\": 500, \"name\": \"Subpial granular layer, insula\", \"acronym\": \"SGL-INS\", \"definition (description)\": \"Need a definition\", \"type (gray matter/fiber tract/CNS cavity/developmental/other)\": \"D\", \"parent_structure_id\": 118, \"color_hex_triplet\": \"b8a98a\", \"children\": [], \"text\": \"Subpial granular layer, insula\"}, {\"id\": 501, \"name\": \"Marginal zone, insula\", \"acronym\": \"MZ-INS\", \"definition (description)\": \"Need a definition\", \"type (gray matter/fiber tract/CNS cavity/developmental/other)\": \"D\", \"parent_structure_id\": 118, \"color_hex_triplet\": \"de895e\", \"children\": [], \"text\": \"Marginal zone, insula\"}, {\"id\": 502, \"name\": \"Cortical plate, insula\", \"acronym\": \"CP-INS\", \"definition (description)\": \"Need a definition\", \"type (gray matter/fiber tract/CNS cavity/developmental/other)\": \"D\", \"parent_structure_id\": 118, \"color_hex_triplet\": \"f6ca72\", \"children\": [], \"text\": \"Cortical plate, insula\"}, {\"id\": 503, \"name\": \"Subplate zone, insula\", \"acronym\": \"SP-INS\", \"definition (description)\": \"Need a definition\", \"type (gray matter/fiber tract/CNS cavity/developmental/other)\": \"D\", \"parent_structure_id\": 118, \"color_hex_triplet\": \"eafe89\", \"children\": [], \"text\": \"Subplate zone, insula\"}, {\"id\": 504, \"name\": \"Intermediate zone, insula\", \"acronym\": \"IZ-INS\", \"definition (description)\": \"Need a definition\", \"type (gray matter/fiber tract/CNS cavity/developmental/other)\": \"D\", \"parent_structure_id\": 118, \"color_hex_triplet\": \"bcf1ce\", \"children\": [], \"text\": \"Intermediate zone, insula\"}, {\"id\": 505, \"name\": \"Subventricular zone, insula\", \"acronym\": \"SVZ-INS\", \"definition (description)\": \"Need a definition\", \"type (gray matter/fiber tract/CNS cavity/developmental/other)\": \"D\", \"parent_structure_id\": 118, \"color_hex_triplet\": \"dbabf2\", \"children\": [], \"text\": \"Subventricular zone, insula\"}, {\"id\": 506, \"name\": \"Ventricular zone, insula\", \"acronym\": \"VZ-INS\", \"definition (description)\": \"Need a definition\", \"type (gray matter/fiber tract/CNS cavity/developmental/other)\": \"D\", \"parent_structure_id\": 118, \"color_hex_triplet\": \"e670be\", \"children\": [], \"text\": \"Ventricular zone, insula\"}], \"text\": \"Insula\"}, {\"id\": 120, \"name\": \"Cingulate cortex\", \"acronym\": \"CING\", \"definition (description)\": \"Note: considered here as made of major two parts: the cingulate gyrus and the cingulate sulcus. The cingulate sulcus is labeled in Plates, but not listed in the Glossary. Cingulated neuroepithelium and subventricular zone are also included in the cingulate cortex.\", \"type (gray matter/fiber tract/CNS cavity/developmental/other)\": \"G\", \"parent_structure_id\": 4, \"color_hex_triplet\": \"DBEBD1\", \"children\": [{\"id\": 121, \"name\": \"Subpial granular layer, cingulate cortex\", \"acronym\": \"SGL-CING\", \"definition (description)\": \"Needs a definition\", \"type (gray matter/fiber tract/CNS cavity/developmental/other)\": \"D\", \"parent_structure_id\": 120, \"color_hex_triplet\": \"b8a98a\", \"children\": [], \"text\": \"Subpial granular layer, cingulate cortex\"}, {\"id\": 122, \"name\": \"Marginal zone, cingulate cortex\", \"acronym\": \"MZ-CING\", \"definition (description)\": \"Needs a definition\", \"type (gray matter/fiber tract/CNS cavity/developmental/other)\": \"D\", \"parent_structure_id\": 120, \"color_hex_triplet\": \"de895e\", \"children\": [], \"text\": \"Marginal zone, cingulate cortex\"}, {\"id\": 123, \"name\": \"Cortical plate, cingulate cortex\", \"acronym\": \"CP-CING\", \"definition (description)\": \"Needs a definition\", \"type (gray matter/fiber tract/CNS cavity/developmental/other)\": \"D\", \"parent_structure_id\": 120, \"color_hex_triplet\": \"f6ca72\", \"children\": [], \"text\": \"Cortical plate, cingulate cortex\"}, {\"id\": 124, \"name\": \"Subplate zone, cingulate cortex\", \"acronym\": \"SP-CING\", \"definition (description)\": \"Needs a definition\", \"type (gray matter/fiber tract/CNS cavity/developmental/other)\": \"D\", \"parent_structure_id\": 120, \"color_hex_triplet\": \"eafe89\", \"children\": [], \"text\": \"Subplate zone, cingulate cortex\"}, {\"id\": 125, \"name\": \"Intermediate zone, cingulate cortex\", \"acronym\": \"IZ-CING\", \"definition (description)\": \"Needs a definition\", \"type (gray matter/fiber tract/CNS cavity/developmental/other)\": \"D\", \"parent_structure_id\": 120, \"color_hex_triplet\": \"bcf1ce\", \"children\": [], \"text\": \"Intermediate zone, cingulate cortex\"}, {\"id\": 126, \"name\": \"Subventricular zone, cingulate cortex\", \"acronym\": \"SVZ-CING\", \"definition (description)\": \"Needs a definition\", \"type (gray matter/fiber tract/CNS cavity/developmental/other)\": \"D\", \"parent_structure_id\": 120, \"color_hex_triplet\": \"dbabf2\", \"children\": [], \"text\": \"Subventricular zone, cingulate cortex\"}, {\"id\": 127, \"name\": \"Ventricular zone, cingulate cortex\", \"acronym\": \"VZ-CING\", \"definition (description)\": \"Needs a definition\", \"type (gray matter/fiber tract/CNS cavity/developmental/other)\": \"D\", \"parent_structure_id\": 120, \"color_hex_triplet\": \"E670BE\", \"children\": [], \"text\": \"Ventricular zone, cingulate cortex\"}, {\"id\": 128, \"name\": \"Cingulate sulcus\", \"acronym\": \"CINGs\", \"definition (description)\": \"Note: labeled in Plates, but not defined/described in the Glossary.\", \"type (gray matter/fiber tract/CNS cavity/developmental/other)\": \"G\", \"parent_structure_id\": 120, \"color_hex_triplet\": \"DBEBD1\", \"children\": [], \"text\": \"Cingulate sulcus\"}, {\"id\": 129, \"name\": \"Cingulate gyrus\", \"acronym\": \"CINGg\", \"definition (description)\": \"Medial allocortical region that extends rostrocaudally above the corpus callosum. Its principal afferent connections are with nuclei of the thalamic anterior complex, and its efferents target the hippocampal region, the septum, the amygdala, and the frontal lobe. It is considered a component of the \\u201climbic system.\\u201d Note: this is a definition of the cingulate gyrus in the adult.\", \"type (gray matter/fiber tract/CNS cavity/developmental/other)\": \"G\", \"parent_structure_id\": 120, \"color_hex_triplet\": \"DBEBD1\", \"children\": [], \"text\": \"Cingulate gyrus\"}], \"text\": \"Cingulate cortex\"}, {\"id\": 130, \"name\": \"Tenia tecta\", \"acronym\": \"TT\", \"definition (description)\": \"Components of the cerebral cortex that extend into the dorsomedial septum (dorsal tenia tecta) and medial olfactory peduncle (ventral tenia tecta). Note: the olfactory peduncle is (part of) a fiber tract, therefore it needs to be classified accordingly.\", \"type (gray matter/fiber tract/CNS cavity/developmental/other)\": \"G\", \"parent_structure_id\": 4, \"color_hex_triplet\": \"DFECD0\", \"children\": [], \"text\": \"Tenia tecta\"}, {\"id\": 131, \"name\": \"Claustrum\", \"acronym\": \"CLA\", \"definition (description)\": \"Subcortical gray matter adjacent to the insula and separated from it and the striatum by two fibrous layers, the extreme capsule and the external capsule.During embryonic development it is in the path of the lateral migratory stream. Note: other neuroanatomists include CLA as part of the cortical layer VII. We include it here as part of the cerebral cortex.\", \"type (gray matter/fiber tract/CNS cavity/developmental/other)\": \"G\", \"parent_structure_id\": 4, \"color_hex_triplet\": \"DFECD0\", \"children\": [], \"text\": \"Claustrum\"}, {\"id\": 132, \"name\": \"Endopiriform nucleus\", \"acronym\": \"EP\", \"definition (description)\": \"Small telencephalic nucleus deep to the primary olfactory cortex and ventral to the claustrum. The lateral migratory stream percolates through this nucleus. We include it here as part of the cerebral cortex.\", \"type (gray matter/fiber tract/CNS cavity/developmental/other)\": \"G\", \"parent_structure_id\": 4, \"color_hex_triplet\": \"DFECD0\", \"children\": [], \"text\": \"Endopiriform nucleus\"}, {\"id\": 133, \"name\": \"Olfactory bulb\", \"acronym\": \"OLFb\", \"definition (description)\": \"\", \"type (gray matter/fiber tract/CNS cavity/developmental/other)\": \"G\", \"parent_structure_id\": 4, \"color_hex_triplet\": \"DFECD0\", \"children\": [], \"text\": \"Olfactory bulb\"}, {\"id\": 134, \"name\": \"Olfactory cortex\", \"acronym\": \"OLF\", \"definition (description)\": \"Paleocortical region, also called the piriform lobe or cortex, where fibers of the lateral olfactory tract terminate. It is situated rostral to the  entorhinal cortex of the parahippocampal gyrus and includes the prepiriform area along the rhinal fissure and the periamygdaloid area. Note: it is unclear if there is a prepiriform and a periamygdaloid area in the 20 g.w. brain.\", \"type (gray matter/fiber tract/CNS cavity/developmental/other)\": \"G\", \"parent_structure_id\": 4, \"color_hex_triplet\": \"D1EBDD\", \"children\": [], \"text\": \"Olfactory cortex\"}], \"text\": \"Cerebral cortex\"}, {\"id\": 135, \"name\": \"Amygdala\", \"acronym\": \"AMY\", \"definition (description)\": \"A large structure in the uncus of the temporal lobe that is a basal ganglionic component of the limbic system. The complex cell groupings in the amygdala have been put into two major subdivisions: the corticomedial complex and the basolateral complex. This structure is involved in linking emotions with olfactory, auditory, and visual sensory information and plays a major role in behavioral aggression. Note: this is more of a definition of the amygdalda in the adult brain. More superstructures may be necessary.\", \"type (gray matter/fiber tract/CNS cavity/developmental/other)\": \"G\", \"parent_structure_id\": 3, \"color_hex_triplet\": \"CAEEF2\", \"children\": [{\"id\": 136, \"name\": \"Basolateral complex of the amygdala\", \"acronym\": \"BLA\", \"definition (description)\": \"The largest and best differentiated part of the amygdala in humans. It contains the lateral nucleus, the basal nucleus, and basal accessory nucleus.\", \"type (gray matter/fiber tract/CNS cavity/developmental/other)\": \"G\", \"parent_structure_id\": 135, \"color_hex_triplet\": \"D0E7EC\", \"children\": [{\"id\": 286, \"name\": \"Basal nucleus of the amygdala\", \"acronym\": \"BL\", \"definition (description)\": \"The largest nucleus in the amygdala that forms a major part of the basolateral complex. It is separated from the lateral nucleus by a thin fibrous band. It contains small to medium-sized cells and many large cholinergic neurons. It is reciprocally connected to the basal nucleus of Meynert, the cortex in the temporal lobe, the subiculum, and CA1 in Ammon\\u2019s horn. Additional input comes from the cortex in the *parahippocampal gyrus. Its axons also terminate in the cortex of the occipital lobe, medial frontal lobe, insular gyrus, and anterior cingulate gyrus. Additional projections are to the bed nucleus of the stria terminalis, nucleus accumbens, striatum,  dorsomedial nucleus of the thalamus, and lateral tuberal nucleus of the hypothalamus. Note: this is the definition of the nucleus in the adult brain.\", \"type (gray matter/fiber tract/CNS cavity/developmental/other)\": \"G\", \"parent_structure_id\": 136, \"color_hex_triplet\": \"C6E2E8\", \"children\": [{\"id\": 433, \"name\": \"Basal nucleus of the amygdala, dorsal part\", \"acronym\": \"BLd\", \"definition (description)\": \"\", \"type (gray matter/fiber tract/CNS cavity/developmental/other)\": \"G\", \"parent_structure_id\": 286, \"color_hex_triplet\": \"A2FBFC\", \"children\": [], \"text\": \"Basal nucleus of the amygdala, dorsal part\"}, {\"id\": 434, \"name\": \"Basal nucleus of the amygdala, dorsolateral part\", \"acronym\": \"BLdl\", \"definition (description)\": \"\", \"type (gray matter/fiber tract/CNS cavity/developmental/other)\": \"G\", \"parent_structure_id\": 286, \"color_hex_triplet\": \"C3E7E1\", \"children\": [], \"text\": \"Basal nucleus of the amygdala, dorsolateral part\"}, {\"id\": 435, \"name\": \"Basal nucleus of the amygdala, intermediate part\", \"acronym\": \"BLi\", \"definition (description)\": \"\", \"type (gray matter/fiber tract/CNS cavity/developmental/other)\": \"G\", \"parent_structure_id\": 286, \"color_hex_triplet\": \"AADEE4\", \"children\": [], \"text\": \"Basal nucleus of the amygdala, intermediate part\"}, {\"id\": 436, \"name\": \"Basal nucleus of the amygdala, ventrolateral part\", \"acronym\": \"BLvl\", \"definition (description)\": \"\", \"type (gray matter/fiber tract/CNS cavity/developmental/other)\": \"G\", \"parent_structure_id\": 286, \"color_hex_triplet\": \"A2FBFC\", \"children\": [], \"text\": \"Basal nucleus of the amygdala, ventrolateral part\"}], \"text\": \"Basal nucleus of the amygdala\"}, {\"id\": 287, \"name\": \"Basomedial nucleus of the amygdala\", \"acronym\": \"BM\", \"definition (description)\": \"This part of the basolateral complex is located between the deep part of the cortical nucleus and the large basal nucleus. It contains small to medium-sized cells and some large cholinergic neurons. It is reciprocally connected to the basal nucleus of Meynert, the rostral temporal cortex, the prefrontal cortex, and the orbital cortex; additional input comes from the posterior complex of the thalamus. Its axons also terminate in the anterior cingulate cortex, insular cortex, entorhinal cortex, Ammon\\u2019s horn of the hippocampus, nucleus accumbens, dorsomedial nucleus of the thalamus, and ventromedial nucleus of the hypothalamus. Note: this is the definition of the nucleus in the adult brain. Note: also name Accessory basal nucleus by some authors.\", \"type (gray matter/fiber tract/CNS cavity/developmental/other)\": \"G\", \"parent_structure_id\": 136, \"color_hex_triplet\": \"BBDCE3\", \"children\": [{\"id\": 437, \"name\": \"Basomedial nucleus of the amygdala, magnocellular part\", \"acronym\": \"BMmg\", \"definition (description)\": \"\", \"type (gray matter/fiber tract/CNS cavity/developmental/other)\": \"G\", \"parent_structure_id\": 287, \"color_hex_triplet\": \"A5F8F9\", \"children\": [], \"text\": \"Basomedial nucleus of the amygdala, magnocellular part\"}, {\"id\": 438, \"name\": \"Basomedial nucleus of the amygdala, parvocellular part\", \"acronym\": \"BMpv\", \"definition (description)\": \"\", \"type (gray matter/fiber tract/CNS cavity/developmental/other)\": \"G\", \"parent_structure_id\": 287, \"color_hex_triplet\": \"A7E5E7\", \"children\": [], \"text\": \"Basomedial nucleus of the amygdala, parvocellular part\"}], \"text\": \"Basomedial nucleus of the amygdala\"}, {\"id\": 288, \"name\": \"Lateral nucleus of the amygdala\", \"acronym\": \"LA\", \"definition (description)\": \"The most lateral nucleus in the basolateral complex of the amygdala. Cells from the lateral migratory stream appear to enter the nucleus at the distinctive saw-toothed lateral edge. This nucleus is a major recipient of cortical input from the temporal lobe, occipital lobe, insular gyrus, and orbital gyrus. It also gets input from the posterior complex of the thalamus. It projects to the entorhinal cortex, temporal cortex, orbital cortex, insular cortex, nucleus accumbens, and dorsomedial thalamic nucleus.\", \"type (gray matter/fiber tract/CNS cavity/developmental/other)\": \"G\", \"parent_structure_id\": 136, \"color_hex_triplet\": \"C4E0E6\", \"children\": [], \"text\": \"Lateral nucleus of the amygdala\"}], \"text\": \"Basolateral complex of the amygdala\"}, {\"id\": 137, \"name\": \"Corticomedial complex of the amygdala\", \"acronym\": \"CMX\", \"definition (description)\": \"The part of the amygdala that includes the anterior amygdaloid complex, the  cortical nuclei, the nucleus of the lateral olfactory tract, the medial nucleus, and the central nucleus. Note: the anterior amygdaloid complex and the the nucleus of the lateral olfactory tract are not labeled in Plates.\", \"type (gray matter/fiber tract/CNS cavity/developmental/other)\": \"G\", \"parent_structure_id\": 135, \"color_hex_triplet\": \"C3E7E1\", \"children\": [{\"id\": 289, \"name\": \"Anterior amygdaloid area\", \"acronym\": \"AAA\", \"definition (description)\": \"A region of small to medium-sized cells in the rostral half of the amygdala that represents a transition zone between the substantia innominata and the amygdaloid complex proper.\", \"type (gray matter/fiber tract/CNS cavity/developmental/other)\": \"G\", \"parent_structure_id\": 137, \"color_hex_triplet\": \"AADEE4\", \"children\": [], \"text\": \"Anterior amygdaloid area\"}, {\"id\": 290, \"name\": \"Cortical nucleus of the amygdala\", \"acronym\": \"COA\", \"definition (description)\": \"Also called the periamygdaloid cortex, part of the corticomedial complex in the superficial amygdala adjacent to the medial nucleus. It is characterized by a cell-sparse layer I, a dense layer II, and a scattered layer III. Collator note: the periamygdaloid cortex (PAC) is considered a separate part of the amygdala. COA can be divided in an anterior and a posterior part.\", \"type (gray matter/fiber tract/CNS cavity/developmental/other)\": \"G\", \"parent_structure_id\": 137, \"color_hex_triplet\": \"AFDFD7\", \"children\": [{\"id\": 291, \"name\": \"Cortical nucleus of the amygdala, anterior part\", \"acronym\": \"COAa\", \"definition (description)\": \"Collator note: no definition\", \"type (gray matter/fiber tract/CNS cavity/developmental/other)\": \"G\", \"parent_structure_id\": 290, \"color_hex_triplet\": \"A9FAFB\", \"children\": [], \"text\": \"Cortical nucleus of the amygdala, anterior part\"}, {\"id\": 292, \"name\": \"Cortical nucleus of the amygdala, posterior part\", \"acronym\": \"COAp\", \"definition (description)\": \"Collator note: no definition\", \"type (gray matter/fiber tract/CNS cavity/developmental/other)\": \"G\", \"parent_structure_id\": 290, \"color_hex_triplet\": \"A2FBFC\", \"children\": [], \"text\": \"Cortical nucleus of the amygdala, posterior part\"}], \"text\": \"Cortical nucleus of the amygdala\"}], \"text\": \"Corticomedial complex of the amygdala\"}, {\"id\": 293, \"name\": \"Periamygdaloid cortex\", \"acronym\": \"PAC\", \"definition (description)\": \"Collator note: no definition\", \"type (gray matter/fiber tract/CNS cavity/developmental/other)\": \"G\", \"parent_structure_id\": 135, \"color_hex_triplet\": \"A5F8F9\", \"children\": [], \"text\": \"Periamygdaloid cortex\"}, {\"id\": 294, \"name\": \"Medial nucleus of the amygdala\", \"acronym\": \"MEA\", \"definition (description)\": \"Part of the corticomedial complex that contains more loosely packed small-to-medium sized cells than the adjacent cortical nucleus. It gets input from layer III of the  primary olfactory cortex, thalamic periventricular complex, hypothalamic ventromedial nucleus, and lateral hypothalamic area. It projects to the orbital cortex, thalamic  periventricular complex, and ventromedial hypothalamic nucleus. Note: this is the definition of the nucleus in the adult brain.\", \"type (gray matter/fiber tract/CNS cavity/developmental/other)\": \"G\", \"parent_structure_id\": 135, \"color_hex_triplet\": \"ADE0E1\", \"children\": [], \"text\": \"Medial nucleus of the amygdala\"}, {\"id\": 295, \"name\": \"Central nucleus of the amygdala\", \"acronym\": \"CEA\", \"definition (description)\": \"Part of the corticomedial complex that is sometimes put in a class by itself. A large nucleus positioned lateral to the medial nucleus that extends from the anterior amygdaloid area to the caudal pole of the amygdala where it blends with the putamen and the\\r\\ntail of the caudate nucleus.Note: this is the definition of the nucleus in the adult brain.\", \"type (gray matter/fiber tract/CNS cavity/developmental/other)\": \"G\", \"parent_structure_id\": 135, \"color_hex_triplet\": \"AADEE4\", \"children\": [], \"text\": \"Central nucleus of the amygdala\"}, {\"id\": 138, \"name\": \"Amygdalo-hippocampal area\", \"acronym\": \"AHi\", \"definition (description)\": \"Also called the cortical amygdaloid transition area, an ellipitical mass of densely packed cells in the caudomedial amygdala between the ventral subiculum and the cortical nucleus. It is connected to the bed nucleus of the stria terminalis and the ventromedial hypothalamic nucleus. Note: this is the definition of the region in the adult human brain. Considered here as a part of the amygdala. Defined in the Glossary, also seen in Plates (e.g. Plate 106B, page 213).\", \"type (gray matter/fiber tract/CNS cavity/developmental/other)\": \"G\", \"parent_structure_id\": 135, \"color_hex_triplet\": \"AADEE4\", \"children\": [], \"text\": \"Amygdalo-hippocampal area\"}, {\"id\": 393, \"name\": \"Amygdalo-striatal area\", \"acronym\": \"AStr\", \"definition (description)\": \"Not defined/described in Glossary, nor labeled in Plates. Needs a proper definition\", \"type (gray matter/fiber tract/CNS cavity/developmental/other)\": \"G\", \"parent_structure_id\": 135, \"color_hex_triplet\": \"ADE0E1\", \"children\": [], \"text\": \"Amygdalo-striatal area\"}, {\"id\": 296, \"name\": \"Intercalated cell groups of the amygdala\", \"acronym\": \"IA\", \"definition (description)\": \"Densely packed clusters of small cells that are typically embedded in the white matter between nuclei in the basolateral and corticomedial complexes in the amygdala.\", \"type (gray matter/fiber tract/CNS cavity/developmental/other)\": \"G\", \"parent_structure_id\": 135, \"color_hex_triplet\": \"A7E5E7\", \"children\": [], \"text\": \"Intercalated cell groups of the amygdala\"}, {\"id\": 297, \"name\": \"Paralaminar nucleus of the amygdala\", \"acronym\": \"PLA\", \"definition (description)\": \"Collator note: no definition\", \"type (gray matter/fiber tract/CNS cavity/developmental/other)\": \"G\", \"parent_structure_id\": 135, \"color_hex_triplet\": \"A4F3F4\", \"children\": [], \"text\": \"Paralaminar nucleus of the amygdala\"}], \"text\": \"Amygdala\"}, {\"id\": 140, \"name\": \"Basal nuclei\", \"acronym\": \"BN\", \"definition (description)\": \"A broad term that includes three large ganglionic (subcortical) components of the telencephalon, the caudate nucleus, the putamen, and the globus pallidus. The latter two are also referred to as the striatum. The basal ganglia have been implicated in the coordination of motor functions, and their diseases have been linked to Parkinsonism, Huntington\\u2019s disease, and other motor abnormalities. The substantia nigra and the subthalamic nucleus are part of the basal ganglia circuitry. Note: this is the definition of the adult region.\", \"type (gray matter/fiber tract/CNS cavity/developmental/other)\": \"G\", \"parent_structure_id\": 3, \"color_hex_triplet\": \"FEFECA\", \"children\": [{\"id\": 141, \"name\": \"Striatum\", \"acronym\": \"Str\", \"definition (description)\": \"Term used for two components of the basal ganglia: the caudate nucleus and the putamen. Note: the nucleus accumbens is also included in the striatum.\", \"type (gray matter/fiber tract/CNS cavity/developmental/other)\": \"G\", \"parent_structure_id\": 140, \"color_hex_triplet\": \"FFFEB4\", \"children\": [{\"id\": 142, \"name\": \"Caudate nucleus\", \"acronym\": \"Cau\", \"definition (description)\": \"Elongated and arched component of the basal ganglia beneath the cerebral cortex. It abuts the lateral ventricle and extends from anterodorsal (its \\u201chead\\u201d) to posteroventral (its \\u201ctail\\u201d).\", \"type (gray matter/fiber tract/CNS cavity/developmental/other)\": \"G\", \"parent_structure_id\": 141, \"color_hex_triplet\": \"F8F9BB\", \"children\": [], \"text\": \"Caudate nucleus\"}, {\"id\": 143, \"name\": \"Putamen\", \"acronym\": \"Put\", \"definition (description)\": \"Lateral component of the striatum. It lies between the external capsule and the globus pallidus. It is the major source of striatal efferents to the thalamus, subthalamic nucleus, substantia nigra, and tegmentum. Note: this is the definition of the region in the adult brain.\", \"type (gray matter/fiber tract/CNS cavity/developmental/other)\": \"G\", \"parent_structure_id\": 141, \"color_hex_triplet\": \"F0DB90\", \"children\": [], \"text\": \"Putamen\"}, {\"id\": 144, \"name\": \"Nucleus accumbens\", \"acronym\": \"NAc\", \"definition (description)\": \"Ganglionic component of the ventral telencephalon ventromedial to the striatum. It is distinguished from the striatum by its cellular organization, neurochemical composition, and intimate connections with the hypothalamus, amygdala, and other parts of the limbic system. Note: this is a definition of the region in the adult brain. There is no definition for the ventral telencephalon, therefore it is not used here.\", \"type (gray matter/fiber tract/CNS cavity/developmental/other)\": \"D\", \"parent_structure_id\": 141, \"color_hex_triplet\": \"ECE961\", \"children\": [], \"text\": \"Nucleus accumbens\"}], \"text\": \"Striatum\"}, {\"id\": 145, \"name\": \"Globus pallidus\", \"acronym\": \"GP\", \"definition (description)\": \"Component of the striatum, situated medial to the putamen, with an external (lateral) and internal (medial) segment. Pallidal fibers are the principal efferents from the striatum to the thalamus, the subthalamus, and the tegmentum. Note: this is the definition of the region in the adult brain. GP is traditionally placed in the \\\"basal ganglia (nuclei)\\\", and not in the striatum. We therefore reorganized its place directly under the basal ganglia.\", \"type (gray matter/fiber tract/CNS cavity/developmental/other)\": \"G\", \"parent_structure_id\": 140, \"color_hex_triplet\": \"E0EA64\", \"children\": [{\"id\": 146, \"name\": \"Globus pallidus lateral segment\", \"acronym\": \"GPl\", \"definition (description)\": \"Note: the \\\"external\\\" part of the globus pallidus. See the definition of the globus pallidus. Also labeled in Plates.\", \"type (gray matter/fiber tract/CNS cavity/developmental/other)\": \"G\", \"parent_structure_id\": 145, \"color_hex_triplet\": \"D9E543\", \"children\": [], \"text\": \"Globus pallidus lateral segment\"}, {\"id\": 147, \"name\": \"Globus pallidus medial segment\", \"acronym\": \"GPm\", \"definition (description)\": \"Note: the \\\"internal\\\" part of the globus pallidus. See the definition of the globus pallidus. Also labeled in Plates.\", \"type (gray matter/fiber tract/CNS cavity/developmental/other)\": \"G\", \"parent_structure_id\": 145, \"color_hex_triplet\": \"CCE246\", \"children\": [], \"text\": \"Globus pallidus medial segment\"}], \"text\": \"Globus pallidus\"}, {\"id\": 148, \"name\": \"Basal forebrain\", \"acronym\": \"BFB\", \"definition (description)\": \"Rather vaguely defined term, which includes the septum, substantia innominata, nucleus of Meynert, and nucleus of the diagonal band as major parts. Needs a better definition.\", \"parent_structure_id\": 140, \"type (gray matter/fiber tract/CNS cavity/developmental/other)\": \"G\", \"color_hex_triplet\": \"DCF20E\", \"children\": [{\"id\": 149, \"name\": \"Septum\", \"acronym\": \"SEP\", \"definition (description)\": \"Midline telencephalic structure beneath the anterior corpus callosum that is better developed in lower mammals than in man. It contains medial and lateral nuclei. Its principal connections are with the hippocampus and the hypothalamus by way of the fornix. The septum is a focal component of the limbic system. Note: this is a definition of the region in the adult brain. The septal nuclei are sometimes considered part of the striatum (Swanson). Here they are organized temporarily under the \\\"basal telencephalon\\\". \", \"type (gray matter/fiber tract/CNS cavity/developmental/other)\": \"G\", \"parent_structure_id\": 148, \"color_hex_triplet\": \"E7F34B\", \"children\": [{\"id\": 150, \"name\": \"Lateral septal nucleus\", \"acronym\": \"LS\", \"definition (description)\": \"An indistinct gray mass in the lateral septum that is closely associated with the fornix, which provides input to these neurons. Note: this is a definition of the region in the adult brain.\", \"type (gray matter/fiber tract/CNS cavity/developmental/other)\": \"G\", \"parent_structure_id\": 149, \"color_hex_triplet\": \"DFEF11\", \"children\": [], \"text\": \"Lateral septal nucleus\"}, {\"id\": 151, \"name\": \"Medial septal nucleus\", \"acronym\": \"MS\", \"definition (description)\": \"An indistinct nucleus in the midline septum that is continuous with the vertical limb of the diagonal band of Broca.  Note: this is a definition of the region in the adult brain.\", \"type (gray matter/fiber tract/CNS cavity/developmental/other)\": \"G\", \"parent_structure_id\": 149, \"color_hex_triplet\": \"DCF20E\", \"children\": [], \"text\": \"Medial septal nucleus\"}], \"text\": \"Septum\"}, {\"id\": 153, \"name\": \"Substantia innominata\", \"acronym\": \"SI\", \"definition (description)\": \"Extensive telencephalic area with indistinct boundaries beneath the globus pallidus. A prominent component of the substantia innominata is the basal nucleus of Meynert. Note: this is a definition of the region in the adult brain.\", \"type (gray matter/fiber tract/CNS cavity/developmental/other)\": \"G\", \"parent_structure_id\": 148, \"color_hex_triplet\": \"F5E465\", \"children\": [], \"text\": \"Substantia innominata\"}, {\"id\": 154, \"name\": \"Nucleus of the diagonal band\", \"acronym\": \"NDB\", \"definition (description)\": \"Telencephalic neuronal part included in the basal nuclei (ventral striatum?). Also called diagonal band of Broca. It is usually divided in a horizontal, and a vertical limb. Labeled in B&A, 2005, but not listed in the Glossary. Labeled in the AIBS atlas.\", \"type (gray matter/fiber tract/CNS cavity/developmental/other)\": \"G\", \"parent_structure_id\": 148, \"color_hex_triplet\": \"F5E465\", \"children\": [], \"text\": \"Nucleus of the diagonal band\"}, {\"id\": 313, \"name\": \"Basal nucleus of Meynert\", \"acronym\": \"BNM\", \"definition (description)\": \"Large-celled component of the substantia innominata that provides cholinergic input to the cerebral cortex.\", \"type (gray matter/fiber tract/CNS cavity/developmental/other)\": \"G\", \"parent_structure_id\": 148, \"color_hex_triplet\": \"F1D92B\", \"children\": [], \"text\": \"Basal nucleus of Meynert\"}], \"text\": \"Basal forebrain\"}, {\"id\": 152, \"name\": \"Bed nucleus of the stria terminalis\", \"acronym\": \"BST\", \"definition (description)\": \"A large subcortical telencephalic field with indistinct boundaries. It is situated medial to the globus pallidus, lateral to the septum, and is transected by the anterior commissure; a thin portion extends back to the amygdala adjacent to the stria terminalis.\", \"type (gray matter/fiber tract/CNS cavity/developmental/other)\": \"G\", \"parent_structure_id\": 140, \"color_hex_triplet\": \"FAEC82\", \"children\": [], \"text\": \"Bed nucleus of the stria terminalis\"}, {\"id\": 155, \"name\": \"Olfactory tubercle\", \"acronym\": \"OT\", \"definition (description)\": \"Paleocortical area in the ventral telencephalon deep to the diagonal band of Broca (vertical limb) and superficial to the nucleus accumbens/ventral striatum. It contains many dense cellular aggregates, the islands of Calleja. Input comes mainly from the lateral olfactory tract. Note: already included in the \\\"basal forebrain\\\" term...\", \"type (gray matter/fiber tract/CNS cavity/developmental/other)\": \"G\", \"parent_structure_id\": 140, \"color_hex_triplet\": \"F5E465\", \"children\": [{\"id\": 439, \"name\": \"Islands of Calleja\", \"acronym\": \"IsCj\", \"definition (description)\": \"Part of the olfactory tubercle.\", \"type (gray matter/fiber tract/CNS cavity/developmental/other)\": \"G\", \"parent_structure_id\": 155, \"color_hex_triplet\": \"F1D92B\", \"children\": [], \"text\": \"Islands of Calleja\"}], \"text\": \"Olfactory tubercle\"}], \"text\": \"Basal nuclei\"}], \"text\": \"Telencephalon\"}, {\"id\": 159, \"name\": \"Diencephalon\", \"acronym\": \"Di\", \"definition (description)\": \"Note: need to find a good definition.\", \"type (gray matter/fiber tract/CNS cavity/developmental/other)\": \"G\", \"parent_structure_id\": 2, \"color_hex_triplet\": \"FFF3F3\", \"children\": [{\"id\": 160, \"name\": \"Thalamus\", \"acronym\": \"TH\", \"definition (description)\": \"Massive dorsal diencephalic structure with several distinct and some indistinct nuclei. As a convenience, the thalamus is divided into the following nuclear regions: the anterior complex, the central complex, the dorsal complex, the periventricular complex, the posterior complex, the ventral complex, and the reticular belt. Note: this is the definition of the structure in the adult brain. No clear distinction, however, between the dorsal (sensory-related) and ventral (motor-related) thalamic divisions.\", \"type (gray matter/fiber tract/CNS cavity/developmental/other)\": \"G\", \"parent_structure_id\": 159, \"color_hex_triplet\": \"FFE1E1\", \"children\": [{\"id\": 254, \"name\": \"Dorsal complex of the thalamus\", \"acronym\": \"DOR\", \"definition (description)\": \"Collective term for two structurally and functionally related dorsally situated thalamic regions, the dorsomedial nucleus and the dorsolateral nucleus. Note: not sure whether this term refers to the same \\\"dorsal\\\" thalamus sensory-related. The lateral posterior thalamic nucleus, and the subfornical organ are also included in this division.\", \"type (gray matter/fiber tract/CNS cavity/developmental/other)\": \"G\", \"parent_structure_id\": 160, \"color_hex_triplet\": \"FFD5D5\", \"children\": [{\"id\": 161, \"name\": \"Medial dorsal nucleus of the thalamus\", \"acronym\": \"MD\", \"definition (description)\": \"Also known as the dorsal medial nucleus, this component of the dorsal complex is situated between the internal medullary lamina and the periventricular gray, and has a large-celled and small-celled division. Its principal connections are with the amygdala, the hypothalamus, the olfactory tubercle, and the orbital gyrus. It is considered a paleothalamic component nof the limbic system rather than as a neothalamic relay nucleus to the neocortex. Note: this the definition of the structure in the adult brain.\", \"type (gray matter/fiber tract/CNS cavity/developmental/other)\": \"G\", \"parent_structure_id\": 254, \"color_hex_triplet\": \"FFC5C5\", \"children\": [], \"text\": \"Medial dorsal nucleus of the thalamus\"}, {\"id\": 459, \"name\": \"Nucleus fasciculosus of the thalamus\", \"acronym\": \"FA\", \"definition (description)\": \"Possible the parvocellular part of the medial dorsal nucleus of the thalamus.\", \"type (gray matter/fiber tract/CNS cavity/developmental/other)\": \"G\", \"parent_structure_id\": 0, \"color_hex_triplet\": \"FFC5C5\", \"children\": [], \"text\": \"Nucleus fasciculosus of the thalamus\"}, {\"id\": 162, \"name\": \"Lateral dorsal nucleus of the thalamus\", \"acronym\": \"LD\", \"definition (description)\": \"Note: mentioned as one of the subdivision of the dorsal complex of the thalamus, but not defined/described in the Glossary. Labeled in Plates, e.g. Plate 76B, page 159, as the dorsolateral thalamic nucleus. See also the definition of the dorsal thalamic complex.\", \"type (gray matter/fiber tract/CNS cavity/developmental/other)\": \"G\", \"parent_structure_id\": 254, \"color_hex_triplet\": \"FDC4BB\", \"children\": [], \"text\": \"Lateral dorsal nucleus of the thalamus\"}, {\"id\": 416, \"name\": \"Lateral posterior nucleus of the thalamus\", \"acronym\": \"LP\", \"definition (description)\": \"Note: not included in the Glossary. Included here in the dorsal complex of the thalamus. Needs a proper definition.\", \"type (gray matter/fiber tract/CNS cavity/developmental/other)\": \"G\", \"parent_structure_id\": 254, \"color_hex_triplet\": \"F7D0BB\", \"children\": [], \"text\": \"Lateral posterior nucleus of the thalamus\"}, {\"id\": 255, \"name\": \"Subfornical organ\", \"acronym\": \"SFO\", \"definition (description)\": \"A highly vascularized circumventricular neuroendocrine organ situated between the two columns of the fornix at the confluence of the third ventricle and the foramen of Monro. Among its afferents are fibers from the preoptic area and the anterior hypothalamus. Its efferents target the hypothalamic paraventricular nucleus and the supraoptic nucleus. Note: organized here as part of the dorsal (topographically) thalamic division.\", \"type (gray matter/fiber tract/CNS cavity/developmental/other)\": \"G\", \"parent_structure_id\": 254, \"color_hex_triplet\": \"FECDBA\", \"children\": [], \"text\": \"Subfornical organ\"}], \"text\": \"Dorsal complex of the thalamus\"}, {\"id\": 260, \"name\": \"Periventricular complex of the thalamus\", \"acronym\": \"PVTH\", \"definition (description)\": \"Collective term for several thalamic nuclei lining the third ventricle, including the paracentral, parafascicular, paratenial, paraventricular, and reuniens nuclei. Its principal connections are with limbic system structures and the striatum; connections with the neocortex are sparse. Note: this is the definition/description of the structure in the adult brain. The reuniens nucleus was found both in the Glossary and Plates. Paracentral nucleus (nuclei) have been found both in the periventricular thalamic complex, and in the central complex. The paraventricular thalamic nucleus was found labeled in Plates.\", \"type (gray matter/fiber tract/CNS cavity/developmental/other)\": \"G\", \"parent_structure_id\": 160, \"color_hex_triplet\": \"F6BDA4\", \"children\": [{\"id\": 171, \"name\": \"Parafascicular nucleus of the thalamus\", \"acronym\": \"Pf\", \"definition (description)\": \"Note: the nucleus is not defined/described in the Glossary, but it is labeled in Plates (e.g. Plate 77B, page 161).\", \"type (gray matter/fiber tract/CNS cavity/developmental/other)\": \"G\", \"parent_structure_id\": 260, \"color_hex_triplet\": \"F5BC99\", \"children\": [], \"text\": \"Parafascicular nucleus of the thalamus\"}, {\"id\": 333, \"name\": \"Paraventricular nucleus of the thalamus\", \"acronym\": \"PVT\", \"definition (description)\": \"Note: the nucleus is labeled on Plates (e.g. Plate 17B, page 41), but it is not defined/described in the Glossary.\", \"type (gray matter/fiber tract/CNS cavity/developmental/other)\": \"G\", \"parent_structure_id\": 260, \"color_hex_triplet\": \"FADCCA\", \"children\": [], \"text\": \"Paraventricular nucleus of the thalamus\"}, {\"id\": 391, \"name\": \"Paratenial nucleus of the thalamus\", \"acronym\": \"PT\", \"definition (description)\": \"Component of the periventricular complex of the thalamus.\", \"type (gray matter/fiber tract/CNS cavity/developmental/other)\": \"G\", \"parent_structure_id\": 260, \"color_hex_triplet\": \"F2B4A5\", \"children\": [], \"text\": \"Paratenial nucleus of the thalamus\"}, {\"id\": 170, \"name\": \"Nucleus reuniens\", \"acronym\": \"RE\", \"definition (description)\": \"Midline component of the periventricular complex of the thalamus, situated in the massa intermedia. Note: this is the single thalamic nucleus included in the periventricular complex that is found in the Glossary and labeled in Plates. The other nuclei included in the periventricular complex were not found. Massa intermedia is vaguely defined term, see the \\\"Other terms\\\" category\", \"type (gray matter/fiber tract/CNS cavity/developmental/other)\": \"G\", \"parent_structure_id\": 260, \"color_hex_triplet\": \"F5B599\", \"children\": [], \"text\": \"Nucleus reuniens\"}], \"text\": \"Periventricular complex of the thalamus\"}, {\"id\": 256, \"name\": \"Anterior complex of the thalamus\", \"acronym\": \"ANT\", \"definition (description)\": \"A group of anterior thalamic nuclei with related connections. Components of the anterior thalamic complex are the anterodorsal nucleus, the anteromedial nucleus, and the anteroventral nucleus. The afferents of the anterior complex come principally from the hippocampal region and the mammillary body. The ascending efferents terminate in the cingulate gyrus while the descending efferents terminate in the mammillary body. The anterior thalamic complex is considered a component of the \\u201climbic system\\\". Note: this is the definition/description of the region in the adult brain. The major divisions of the thalamus in this nomenclature are mostly purely topographical, and not functional (dorsal division - sensory related vs ventral division - motor related).\", \"type (gray matter/fiber tract/CNS cavity/developmental/other)\": \"G\", \"parent_structure_id\": 160, \"color_hex_triplet\": \"FFDEC5\", \"children\": [{\"id\": 163, \"name\": \"Anterodorsal nucleus of the thalamus\", \"acronym\": \"AD\", \"definition (description)\": \"Note: a part of the anterior complex of the thalamus. Named but not defined in the Glossary. Labeled in Plates, e.g. Plate 115B, page 231.\", \"type (gray matter/fiber tract/CNS cavity/developmental/other)\": \"G\", \"parent_structure_id\": 256, \"color_hex_triplet\": \"FFD6B7\", \"children\": [], \"text\": \"Anterodorsal nucleus of the thalamus\"}, {\"id\": 164, \"name\": \"Anteromedial nucleus of the thalamus\", \"acronym\": \"AM\", \"definition (description)\": \"Note: a part of the anterior complex of the thalamus. Named but not defined in the Glossary. Labeled in Plates, e.g. Plate 115B, page 231.\", \"type (gray matter/fiber tract/CNS cavity/developmental/other)\": \"G\", \"parent_structure_id\": 256, \"color_hex_triplet\": \"FEDDB8\", \"children\": [], \"text\": \"Anteromedial nucleus of the thalamus\"}, {\"id\": 165, \"name\": \"Anteroventral nucleus of the thalamus\", \"acronym\": \"AV\", \"definition (description)\": \"Note: a part of the anterior complex of the thalamus. Named but not defined in the Glossary. Labeled in Plates, e.g. Plate 115B, page 231.\", \"type (gray matter/fiber tract/CNS cavity/developmental/other)\": \"G\", \"parent_structure_id\": 256, \"color_hex_triplet\": \"FED1B8\", \"children\": [], \"text\": \"Anteroventral nucleus of the thalamus\"}], \"text\": \"Anterior complex of the thalamus\"}, {\"id\": 257, \"name\": \"Central complex of the thalamus\", \"acronym\": \"CTH\", \"definition (description)\": \"A group of contiguous central thalamic nuclei, including the centromedian, central lateral, and paracentral nuclei.\", \"type (gray matter/fiber tract/CNS cavity/developmental/other)\": \"G\", \"parent_structure_id\": 160, \"color_hex_triplet\": \"FDCFC7\", \"children\": [{\"id\": 258, \"name\": \"Centromedian nucleus of the thalamus\", \"acronym\": \"CMT\", \"definition (description)\": \"Large spherical structure surrounded by fibers of the internal medullary lamina, classified with the central complex of the thalamus. It is a paleothalamic structure that has extensive connections with the striatum and the midbrain reticular formation. Note: this is the definition of the structure in the adult brain.\", \"type (gray matter/fiber tract/CNS cavity/developmental/other)\": \"G\", \"parent_structure_id\": 257, \"color_hex_triplet\": \"FCC0B6\", \"children\": [], \"text\": \"Centromedian nucleus of the thalamus\"}, {\"id\": 166, \"name\": \"Central lateral nucleus of the thalamus\", \"acronym\": \"CL\", \"definition (description)\": \"Note: listed as a part of the central complex of the thalamus. Not defined/described in Glossary, nor labeled in Plates.\", \"type (gray matter/fiber tract/CNS cavity/developmental/other)\": \"G\", \"parent_structure_id\": 257, \"color_hex_triplet\": \"FCCCB6\", \"children\": [], \"text\": \"Central lateral nucleus of the thalamus\"}, {\"id\": 395, \"name\": \"Central medial nucleus of the thalamus\", \"acronym\": \"CM\", \"definition (description)\": \"Not defined/described in Glossary, nor labeled in Plates.\", \"type (gray matter/fiber tract/CNS cavity/developmental/other)\": \"G\", \"parent_structure_id\": 257, \"color_hex_triplet\": \"F2B0A5\", \"children\": [], \"text\": \"Central medial nucleus of the thalamus\"}, {\"id\": 390, \"name\": \"Rhomboid nucleus of the thalamus\", \"acronym\": \"RH\", \"definition (description)\": \"Not defined/described in Glossary, nor labeled in Plates.\", \"type (gray matter/fiber tract/CNS cavity/developmental/other)\": \"G\", \"parent_structure_id\": 257, \"color_hex_triplet\": \"F2B4A5\", \"children\": [], \"text\": \"Rhomboid nucleus of the thalamus\"}], \"text\": \"Central complex of the thalamus\"}, {\"id\": 259, \"name\": \"Posterior complex of the thalamus\", \"acronym\": \"POT\", \"definition (description)\": \"Division of the thalamus that includes the lateral geniculate body, the medial geniculate body, and the pulvinar. The nuclei of the thalamic posterior complex \\u2013 together with the ventral complex \\u2013 constitute the dedicated sensory relay system that supplies the neocortex with high-resolution and fast visual, auditory and somesthetic information. Note: this is the definition/description of the structure in the adult brain.\", \"type (gray matter/fiber tract/CNS cavity/developmental/other)\": \"G\", \"parent_structure_id\": 160, \"color_hex_triplet\": \"FBB7B7\", \"children\": [{\"id\": 167, \"name\": \"Lateral geniculate nucleus\", \"acronym\": \"LGN\", \"definition (description)\": \"Distinct thalamic region composed of the laminated dorsal lateral geniculate nucleus and its fiber capsule. The principal afferents of this visual relay structure are ipsi- and contralateral fibers of the optic tract; the principal target of its efferents is the ipsilateral striate cortex. The connections of the lateral geniculate nucleus and the striate cortex are reciprocal. Note: this is the definition/description of the structure in the adult brain. LGN is construed here as the dorsal part of the entire nucleus.\", \"type (gray matter/fiber tract/CNS cavity/developmental/other)\": \"G\", \"parent_structure_id\": 259, \"color_hex_triplet\": \"F7D0BB\", \"children\": [], \"text\": \"Lateral geniculate nucleus\"}, {\"id\": 419, \"name\": \"Pregeniculate nucleus\", \"acronym\": \"PGN\", \"definition (description)\": \"No definition in the Glossary. Needs to be specified. In non-primates it is named lateral geniculate nucleus, ventral (LGNv); see Livingston et al. 2000.\", \"type (gray matter/fiber tract/CNS cavity/developmental/other)\": \"G\", \"parent_structure_id\": 259, \"color_hex_triplet\": \"F7D0BB\", \"children\": [], \"text\": \"Pregeniculate nucleus\"}, {\"id\": 168, \"name\": \"Medial geniculate nucleus\", \"acronym\": \"MGN\", \"definition (description)\": \"Principal thalamic relay station in the auditory pathway to the cerebral cortex. Its afferents originate in the trapezoid body, the superior olivary complex, the lateral lemniscus nuclei, and the inferior colliculus. Its efferents form the auditory radiation that terminates in the temporal lobe. The connections with the cerebral cortex are reciprocal.  Note: this is the definition/description of the structure in the adult brain.\", \"type (gray matter/fiber tract/CNS cavity/developmental/other)\": \"G\", \"parent_structure_id\": 259, \"color_hex_triplet\": \"F7AFAF\", \"children\": [], \"text\": \"Medial geniculate nucleus\"}, {\"id\": 400, \"name\": \"Suprageniculate nucleus\", \"acronym\": \"SGN\", \"definition (description)\": \"Small nucleus embedded in the pulvinar ventrally, above the geniculate nuclei. Needs a proper definition/description\", \"type (gray matter/fiber tract/CNS cavity/developmental/other)\": \"G\", \"parent_structure_id\": 259, \"color_hex_triplet\": \"F7AFAF\", \"children\": [], \"text\": \"Suprageniculate nucleus\"}, {\"id\": 432, \"name\": \"Subgeniculate nucleus\", \"acronym\": \"SbGN\", \"definition (description)\": \"No definition. Need to find one.\", \"type (gray matter/fiber tract/CNS cavity/developmental/other)\": \"G\", \"parent_structure_id\": 0, \"color_hex_triplet\": \"F2B0A5\", \"children\": [], \"text\": \"Subgeniculate nucleus\"}, {\"id\": 405, \"name\": \"Nucleus limitans of the thalamus\", \"acronym\": \"NL\", \"definition (description)\": \"Pat of the posterior complex of the thalamus, AIBS merges it with the suprageniculate nucleus. Needs a proper definition/description\", \"type (gray matter/fiber tract/CNS cavity/developmental/other)\": \"G\", \"parent_structure_id\": 259, \"color_hex_triplet\": \"F7D0BB\", \"children\": [], \"text\": \"Nucleus limitans of the thalamus\"}, {\"id\": 169, \"name\": \"Pulvinar nucleus of the thalamus\", \"acronym\": \"PULV\", \"definition (description)\": \"Large nucleus of the thalamic posterior complex. Its subdivisions send fibers to various regions of the parietal lobe, occipital lobe, temporal lobe, and perhaps also to the frontal eye field. Note: this is the definition/description of the structure in the adult brain.\", \"type (gray matter/fiber tract/CNS cavity/developmental/other)\": \"G\", \"parent_structure_id\": 259, \"color_hex_triplet\": \"F6A4A4\", \"children\": [], \"text\": \"Pulvinar nucleus of the thalamus\"}], \"text\": \"Posterior complex of the thalamus\"}, {\"id\": 282, \"name\": \"Ventral complex of the thalamus\", \"acronym\": \"VEN\", \"definition (description)\": \"A group of structurally and functionally related ventrolateral and ventral nuclei of the thalamus, including the ventral anterior, ventral lateral, ventral posterolateral, and ventral posteromedial nuclei. The ventral thalamic complex is the principal topographically organized relay system of direct (lemniscal) and indirect (cerebellar and striatal) somatosensory and proprioceptive input to the sensory and motor areas of the neocortex.\", \"type (gray matter/fiber tract/CNS cavity/developmental/other)\": \"G\", \"parent_structure_id\": 160, \"color_hex_triplet\": \"BF89BC\", \"children\": [{\"id\": 329, \"name\": \"Ventral anterior nucleus of the thalamus\", \"acronym\": \"VA\", \"definition (description)\": \"The ventral anterior nucleus, to be distinguished from the anteroventral nucleus (which is a component of the anterior complex of the thalamus) is the most rostral component of the thalamic ventral complex. Its afferents come mostly from the globus pallidus and the substantia nigra, and its efferents terminate in the paracentral lobule of the neocortex. The ventral anterior nucleus may be the principal relay from the basal ganglia to the neocortex. Note: this is the definition/description of the structure in the adult brain. \", \"type (gray matter/fiber tract/CNS cavity/developmental/other)\": \"G\", \"parent_structure_id\": 282, \"color_hex_triplet\": \"F6C3A4\", \"children\": [], \"text\": \"Ventral anterior nucleus of the thalamus\"}, {\"id\": 330, \"name\": \"Ventral lateral nucleus of the thalamus\", \"acronym\": \"VL\", \"definition (description)\": \"Situated caudal to the ventral anterior nucleus, this component of the thalamic ventral complex is the target of input from the superior cerebellar peduncle and the red nucleus. Its somatotopically organized efferents terminate in the motor cortex and adjacent areas. The ventral lateral nucleus may be the principal relay from the cerebellum to the neocortex. Note: this is the definition/description of the structure in the adult brain. \", \"type (gray matter/fiber tract/CNS cavity/developmental/other)\": \"G\", \"parent_structure_id\": 282, \"color_hex_triplet\": \"F5B893\", \"children\": [], \"text\": \"Ventral lateral nucleus of the thalamus\"}, {\"id\": 383, \"name\": \"Ventral medial nucleus of the thalamus\", \"acronym\": \"VM\", \"definition (description)\": \"No definition\", \"type (gray matter/fiber tract/CNS cavity/developmental/other)\": \"G\", \"parent_structure_id\": 282, \"color_hex_triplet\": \"F9D4BD\", \"children\": [], \"text\": \"Ventral medial nucleus of the thalamus\"}, {\"id\": 331, \"name\": \"Ventral posterolateral nucleus of the thalamus\", \"acronym\": \"VPL\", \"definition (description)\": \"Situated caudal to the ventral lateral nucleus, this region of the thalamic ventral complex is the target of fibers of the medial lemniscus that originate in the cuneate nucleus and the gracile nucleus and convey somatosensory information from the trunk and the extremities. Its efferents form the somesthetic radiation that terminates in a precise topographic order in the medial part of the postcentral gyrus. The ventral posterolateral nucleus is the principal thalamic relay of somesthetic input from the trunk and limbs to the neocortex. Note: this is the definition/description of the structure in the adult brain. \", \"type (gray matter/fiber tract/CNS cavity/developmental/other)\": \"G\", \"parent_structure_id\": 282, \"color_hex_triplet\": \"F7CDB3\", \"children\": [], \"text\": \"Ventral posterolateral nucleus of the thalamus\"}, {\"id\": 332, \"name\": \"Ventral posteromedial nucleus of the thalamus\", \"acronym\": \"VPM\", \"definition (description)\": \"Situated between the ventral posterolateral nucleus and the centromedian nucleus, this nucleus receives afferents from the trigeminal sensory nuclei and the parabrachial nucleus that convey sensory information from the face, the tongue, the oral cavity, and the neck. The efferents of this nucleus terminate in a precise topographic order in the lateral part of the postcentral gyrus. The ventral posteromedial nucleus is the principal thalamic relay of somatosensory and gustatory input from the neck, head, and mouth to the neocortex. Note: this is the definition/description of the structure in the adult brain.\", \"type (gray matter/fiber tract/CNS cavity/developmental/other)\": \"G\", \"parent_structure_id\": 282, \"color_hex_triplet\": \"F9D4BD\", \"children\": [], \"text\": \"Ventral posteromedial nucleus of the thalamus\"}, {\"id\": 401, \"name\": \"Ventral posteroinferior nucleus of the thalamus\", \"acronym\": \"VPI\", \"definition (description)\": \"Nucleus identified in the Allen Brain Atlas of the human fetus. Needs a proper definition\", \"type (gray matter/fiber tract/CNS cavity/developmental/other)\": \"G\", \"parent_structure_id\": 282, \"color_hex_triplet\": \"FAE5BC\", \"children\": [], \"text\": \"Ventral posteroinferior nucleus of the thalamus\"}, {\"id\": 402, \"name\": \"Ventral medial basal nucleus of the thalamus\", \"acronym\": \"VMB\", \"definition (description)\": \"Nucleus identified in the Allen Brain Atlas of the human fetus. Needs a proper definition\", \"type (gray matter/fiber tract/CNS cavity/developmental/other)\": \"G\", \"parent_structure_id\": 282, \"color_hex_triplet\": \"FAC9BC\", \"children\": [], \"text\": \"Ventral medial basal nucleus of the thalamus\"}, {\"id\": 380, \"name\": \"Subparafascicular nucleus\", \"acronym\": \"SPF\", \"definition (description)\": \"Note: not defined or described in the Glossary, but identified in our slides. Needs a proper definition.\", \"type (gray matter/fiber tract/CNS cavity/developmental/other)\": \"G\", \"parent_structure_id\": 282, \"color_hex_triplet\": \"FFDDDA\", \"children\": [{\"id\": 381, \"name\": \"Subparafascicular nucleus, magnocellular part\", \"acronym\": \"SPFm\", \"definition (description)\": \"Note: not defined or described in the Glossary, but identified in our slides. It is located more medially, but needs a proper definition.\", \"type (gray matter/fiber tract/CNS cavity/developmental/other)\": \"G\", \"parent_structure_id\": 380, \"color_hex_triplet\": \"FFD8D4\", \"children\": [], \"text\": \"Subparafascicular nucleus, magnocellular part\"}, {\"id\": 382, \"name\": \"Subparafascicular nucleus, parvocellular part\", \"acronym\": \"SPFp\", \"definition (description)\": \"Note: not defined or described in the Glossary, but identified in our slides. It is located more laterally and ventrally, but needs a proper definition.\", \"type (gray matter/fiber tract/CNS cavity/developmental/other)\": \"G\", \"parent_structure_id\": 380, \"color_hex_triplet\": \"FFD4CF\", \"children\": [], \"text\": \"Subparafascicular nucleus, parvocellular part\"}], \"text\": \"Subparafascicular nucleus\"}, {\"id\": 174, \"name\": \"Zona incerta\", \"acronym\": \"ZI\", \"definition (description)\": \"Sheet of gray matter at the base of the thalamus. It is generally considered to be a rostral extension of the tegmentum. Forel\\u2019s fields are contiguous with the zona incerta. Note: re-organized here as a part of the ventral complex of the thalamus. It may need further re-organization.\", \"type (gray matter/fiber tract/CNS cavity/developmental/other)\": \"G\", \"parent_structure_id\": 282, \"color_hex_triplet\": \"7D526F\", \"children\": [], \"text\": \"Zona incerta\"}, {\"id\": 175, \"name\": \"Field of Forel\", \"acronym\": \"FF\", \"definition (description)\": \"Note: not defined/described in the Glossary, but labeled in Plates (e.g. Plate 75B, page 157). Considered as a continuation, or subdivision of zona incerta. Included here as part of the ventral complex of the thalamus, but other authors consider it a part as the hypothalamus, together with the zona incerta.\", \"type (gray matter/fiber tract/CNS cavity/developmental/other)\": \"G\", \"parent_structure_id\": 282, \"color_hex_triplet\": \"CF97B9\", \"children\": [], \"text\": \"Field of Forel\"}], \"text\": \"Ventral complex of the thalamus\"}, {\"id\": 172, \"name\": \"Habenula\", \"acronym\": \"H\", \"definition (description)\": \"Note: not defined/described in the Glossary, but labeled in Plates (e.g. Plate 175B, page 349). \", \"type (gray matter/fiber tract/CNS cavity/developmental/other)\": \"G\", \"parent_structure_id\": 160, \"color_hex_triplet\": \"B067A9\", \"children\": [{\"id\": 394, \"name\": \"Lateral habenula\", \"acronym\": \"LH\", \"definition (description)\": \"Note: not defined/described in the Glossary, but labeled in Plates (e.g. Plate 175B, page 349). Unclear which part it is. Needs a proper description\", \"type (gray matter/fiber tract/CNS cavity/developmental/other)\": \"G\", \"parent_structure_id\": 172, \"color_hex_triplet\": \"B067A9\", \"children\": [], \"text\": \"Lateral habenula\"}, {\"id\": 399, \"name\": \"Medial habenula\", \"acronym\": \"MH\", \"definition (description)\": \"Note: not defined/described in the Glossary, but labeled in Plates (e.g. Plate 175B, page 349). Unclear which part it is. Needs a proper description\", \"type (gray matter/fiber tract/CNS cavity/developmental/other)\": \"G\", \"parent_structure_id\": 172, \"color_hex_triplet\": \"B067A9\", \"children\": [], \"text\": \"Medial habenula\"}], \"text\": \"Habenula\"}, {\"id\": 173, \"name\": \"Epithalamus\", \"acronym\": \"EPI\", \"definition (description)\": \"At least partial synonym with the habenular nuclei. Not defined in the Glossary, but labeled in Plates. \", \"type (gray matter/fiber tract/CNS cavity/developmental/other)\": \"G\", \"parent_structure_id\": 160, \"color_hex_triplet\": \"B067A9\", \"children\": [], \"text\": \"Epithalamus\"}, {\"id\": 176, \"name\": \"Reticular nucleus of the thalamus\", \"acronym\": \"RT\", \"definition (description)\": \"A thin belt of cells and fibers between the wall of the thalamus and the internal capsule. Virtually all fibers that interconnect the thalamus and the cerebral cortex traverse, and probably form connections with, the thalamic reticular nucleus. Note: this is the definition/description of the structure in the adult brain. Unclear if this nucleus has further subdivisions as in other parcellation schemes. Organized here directly under the thalamus.\", \"type (gray matter/fiber tract/CNS cavity/developmental/other)\": \"G\", \"parent_structure_id\": 160, \"color_hex_triplet\": \"B067A9\", \"children\": [], \"text\": \"Reticular nucleus of the thalamus\"}], \"text\": \"Thalamus\"}, {\"id\": 177, \"name\": \"Hypothalamus\", \"acronym\": \"HY\", \"definition (description)\": \"Large diencephalic structure that surrounds the ventral (or hypothalamic) third ventricle. It is continuous anteriorly with the preoptic area and merges caudally with the midbrain tegmentum. The hypothalamus contains a large number of discrete nuclei, among them the suprachiasmatic nucleus, the supraoptic nucleus, the paraventricular nucleus, the arcuate nucleus, the ventromedial nucleus, the dorsomedial nucleus, the lateral tuberal nucleus, and the mammillary body. The supraoptic, paraventricular, and arcuate nuclei produce and release neurohormones.  The hypothalamus is considered the head ganglion of the autonomic nervous system and, by way of its neural and hormonal links with the pituitary gland, of the neuroendocrine system. Note: this is the definition of the structure in the adult brain.\", \"type (gray matter/fiber tract/CNS cavity/developmental/other)\": \"G\", \"parent_structure_id\": 159, \"color_hex_triplet\": \"F95B4F\", \"children\": [{\"id\": 413, \"name\": \"Anterior hypothalamic area\", \"acronym\": \"AHA\", \"definition (description)\": \"Note: not included in the Glossary, needs a definition. It is distinct from the AHN, see Risold.\", \"type (gray matter/fiber tract/CNS cavity/developmental/other)\": \"G\", \"parent_structure_id\": 177, \"color_hex_triplet\": \"FA9F98\", \"children\": [], \"text\": \"Anterior hypothalamic area\"}, {\"id\": 384, \"name\": \"Anterior hypothalamic nucleus\", \"acronym\": \"AHN\", \"definition (description)\": \"Note: not included in the Glossary, needs a definition\", \"type (gray matter/fiber tract/CNS cavity/developmental/other)\": \"G\", \"parent_structure_id\": 177, \"color_hex_triplet\": \"FBAEA9\", \"children\": [], \"text\": \"Anterior hypothalamic nucleus\"}, {\"id\": 178, \"name\": \"Supraoptic nucleus of the hypothalamus\", \"acronym\": \"SON\", \"definition (description)\": \"Located above the optic tract lateral to the optic chiasm. The large secretory neurons of this nucleus produce arginine vasopressin and oxytocin that are conveyed by axoplasmic flow to the posterior lobe of the pituitary gland. Note: this is the definition of the structure in the adult brain.\", \"type (gray matter/fiber tract/CNS cavity/developmental/other)\": \"G\", \"parent_structure_id\": 177, \"color_hex_triplet\": \"C178A2\", \"children\": [], \"text\": \"Supraoptic nucleus of the hypothalamus\"}, {\"id\": 179, \"name\": \"Suprachiasmatic nucleus of the hypothalamus\", \"acronym\": \"SCH\", \"definition (description)\": \"Small, paired midline structure above the optic chiasm. It is implicated in the photic entrainment of the circadian rhythm. Note: this is the definition of the structure in the adult brain.\", \"type (gray matter/fiber tract/CNS cavity/developmental/other)\": \"G\", \"parent_structure_id\": 177, \"color_hex_triplet\": \"CF97B9\", \"children\": [], \"text\": \"Suprachiasmatic nucleus of the hypothalamus\"}, {\"id\": 418, \"name\": \"Retrochiasmatic nucleus of the hypothalamus\", \"acronym\": \"RCH\", \"definition (description)\": \"Note: no definition, it needs one\", \"type (gray matter/fiber tract/CNS cavity/developmental/other)\": \"G\", \"parent_structure_id\": 177, \"color_hex_triplet\": \"9D6585\", \"children\": [], \"text\": \"Retrochiasmatic nucleus of the hypothalamus\"}, {\"id\": 180, \"name\": \"Paraventricular nucleus of the hypothalamus\", \"acronym\": \"PVH\", \"definition (description)\": \"Prominent neuroendocrine structure abutting the third ventricle with a magnocellular and a parvocellular division. The large neurons of the paraventricular nucleus are the source of oxytocin and vasopressin that reach the posterior pituitary gland by axoplasmic flow. The small neurons of the nucleus are the source of releasing hormones conveyed to the portal vessels of the median eminence. Note: this is the definition of the structure in the adult brain.\", \"type (gray matter/fiber tract/CNS cavity/developmental/other)\": \"G\", \"parent_structure_id\": 177, \"color_hex_triplet\": \"915E7E\", \"children\": [], \"text\": \"Paraventricular nucleus of the hypothalamus\"}, {\"id\": 181, \"name\": \"Arcuate nucleus of the hypothalamus\", \"acronym\": \"ARH\", \"definition (description)\": \"A small-celled nucleus that surrounds the base of the third ventricle posteriorly. It contains releasing hormones and is involved in the central nervous regulation of the anterior pituitary gland. Note: this is the definition of the structure in the adult brain.\", \"type (gray matter/fiber tract/CNS cavity/developmental/other)\": \"G\", \"parent_structure_id\": 177, \"color_hex_triplet\": \"DBABC8\", \"children\": [], \"text\": \"Arcuate nucleus of the hypothalamus\"}, {\"id\": 182, \"name\": \"Ventromedial nucleus of the hypothalamus\", \"acronym\": \"VMH\", \"definition (description)\": \"Large spherical nucleus that flanks the third ventricle and is surrounded by a fibrous shell. It has reciprocal connections with the amygdala, the bed nucleus of the stria terminalis, the septum, and the subiculum. It has been implicated in motivational functions related to feeding and sexual behavior. Note: this is the definition of the structure in the adult brain.\", \"type (gray matter/fiber tract/CNS cavity/developmental/other)\": \"G\", \"parent_structure_id\": 177, \"color_hex_triplet\": \"B57197\", \"children\": [], \"text\": \"Ventromedial nucleus of the hypothalamus\"}, {\"id\": 183, \"name\": \"Dorsomedial nucleus of the hypothalamus\", \"acronym\": \"DMH\", \"definition (description)\": \"Area situated above the more distinct ventromedial nucleus of the hypothalamus. Its principal connections are with the bed nucleus of the stria terminalis and the septum. Note: this is the definition of the structure in the adult brain.\", \"type (gray matter/fiber tract/CNS cavity/developmental/other)\": \"G\", \"parent_structure_id\": 177, \"color_hex_triplet\": \"9D6585\", \"children\": [], \"text\": \"Dorsomedial nucleus of the hypothalamus\"}, {\"id\": 184, \"name\": \"Lateral hypothalamic area\", \"acronym\": \"LHA\", \"definition (description)\": \"An ill-defined fibrous region of the hypothalamus with scattered neurons medial to the cerebral peduncle. It is traversed by many fiber tracts, including the medial forebrain bundle. The region has been implicated in behavioral arousal and motivation. Note: this is the definition of the structure in the adult brain.\", \"type (gray matter/fiber tract/CNS cavity/developmental/other)\": \"G\", \"parent_structure_id\": 177, \"color_hex_triplet\": \"A66B8E\", \"children\": [], \"text\": \"Lateral hypothalamic area\"}, {\"id\": 185, \"name\": \"Mammillary body\", \"acronym\": \"M\", \"definition (description)\": \"Distinctive region in the posteroventral hypothalamus, composed of the medial and lateral mammillary nuclei. Its principal afferents are from the septum and subiculum that course in the fornix; its efferents form the mammillothalamic and mammillotegmental tracts.  Note: this is the definition of the structure in the adult brain.\", \"type (gray matter/fiber tract/CNS cavity/developmental/other)\": \"G\", \"parent_structure_id\": 177, \"color_hex_triplet\": \"B48EBC\", \"children\": [{\"id\": 407, \"name\": \"Lateral mammillary nucleus\", \"acronym\": \"LMN\", \"definition (description)\": \"Note: the nucleus is labeled in Plates, but not included in the Glossary. Needs a proper definition.\", \"type (gray matter/fiber tract/CNS cavity/developmental/other)\": \"G\", \"parent_structure_id\": 185, \"color_hex_triplet\": \"D193BC\", \"children\": [], \"text\": \"Lateral mammillary nucleus\"}, {\"id\": 408, \"name\": \"Medial mammillary nucleus\", \"acronym\": \"MMN\", \"definition (description)\": \"Note: the nucleus is labeled in Plates, but not included in the Glossary. Needs a proper definition.\", \"type (gray matter/fiber tract/CNS cavity/developmental/other)\": \"G\", \"parent_structure_id\": 185, \"color_hex_triplet\": \"D193BC\", \"children\": [], \"text\": \"Medial mammillary nucleus\"}], \"text\": \"Mammillary body\"}, {\"id\": 298, \"name\": \"Supramammillary area\", \"acronym\": \"SUM\", \"definition (description)\": \"Hypothalamic region that caps the mammillary body. Experimental studies in animals indicate that its cells project to the dentate gyrus of the hippocampus.  Note: this is the definition of the structure in the adult brain.\", \"type (gray matter/fiber tract/CNS cavity/developmental/other)\": \"G\", \"parent_structure_id\": 177, \"color_hex_triplet\": \"DFB6CE\", \"children\": [], \"text\": \"Supramammillary area\"}, {\"id\": 299, \"name\": \"Premammillary area\", \"acronym\": \"PMM\", \"definition (description)\": \"Region with ill-defined boundaries anterior to the mammillary body in the hypothalamus.\", \"type (gray matter/fiber tract/CNS cavity/developmental/other)\": \"G\", \"parent_structure_id\": 177, \"color_hex_triplet\": \"CF97B9\", \"children\": [], \"text\": \"Premammillary area\"}, {\"id\": 409, \"name\": \"Dorsal premammillary nucleus\", \"acronym\": \"PMd\", \"definition (description)\": \"No definition in the Glossary.\", \"type (gray matter/fiber tract/CNS cavity/developmental/other)\": \"G\", \"parent_structure_id\": 177, \"color_hex_triplet\": \"DE88AD\", \"children\": [], \"text\": \"Dorsal premammillary nucleus\"}, {\"id\": 410, \"name\": \"Ventral premammillary nucleus\", \"acronym\": \"PMv\", \"definition (description)\": \"No definition in the Glossary.\", \"type (gray matter/fiber tract/CNS cavity/developmental/other)\": \"G\", \"parent_structure_id\": 177, \"color_hex_triplet\": \"DE88AD\", \"children\": [], \"text\": \"Ventral premammillary nucleus\"}, {\"id\": 306, \"name\": \"Tuberomammillary nucleus\", \"acronym\": \"TMM\", \"definition (description)\": \"Note: the nucleus is labeled in Plates, but not defined or described in the Glossary.\", \"type (gray matter/fiber tract/CNS cavity/developmental/other)\": \"G\", \"parent_structure_id\": 177, \"color_hex_triplet\": \"D88EBA\", \"children\": [], \"text\": \"Tuberomammillary nucleus\"}, {\"id\": 186, \"name\": \"Preoptic area\", \"acronym\": \"PO\", \"definition (description)\": \"Midline area surrounding the preoptic recess of the third ventricle. It is contiguous anteriorly with the ventral telencephalon and blends posteriorly with the anterior hypothalamus. It is implicated in the regulation of sexual behavior and reproductive functions.\", \"type (gray matter/fiber tract/CNS cavity/developmental/other)\": \"G\", \"parent_structure_id\": 177, \"color_hex_triplet\": \"DBABC8\", \"children\": [{\"id\": 300, \"name\": \"Lateral preoptic area\", \"acronym\": \"LPO\", \"definition (description)\": \"An anterior continuation of the lateral hypothalamic area in the preoptic area. Note: the preoptic area is considered by authors as at least partially distinct from the hypothalamus. It is, however, organized here as a part of the hypothalamus.\", \"type (gray matter/fiber tract/CNS cavity/developmental/other)\": \"G\", \"parent_structure_id\": 186, \"color_hex_triplet\": \"C178A2\", \"children\": [], \"text\": \"Lateral preoptic area\"}, {\"id\": 301, \"name\": \"Medial preoptic area\", \"acronym\": \"MEPO\", \"definition (description)\": \"Note: not defined/described in the Glossary, but labeled in Plates (e.g. Plate 115B, page 131).\", \"type (gray matter/fiber tract/CNS cavity/developmental/other)\": \"G\", \"parent_structure_id\": 186, \"color_hex_triplet\": \"DDD2E6\", \"children\": [], \"text\": \"Medial preoptic area\"}], \"text\": \"Preoptic area\"}, {\"id\": 187, \"name\": \"Medial preoptic nucleus\", \"acronym\": \"MPO\", \"definition (description)\": \"A rounded mass of neurons in the medial preoptic area that plays a role in sexual functions. Note: this is the definition of the structure in the adult brain. It is organized here as a part of the preoptic area, and not medial preoptic area, for correctness of the hierarchical structure.\", \"type (gray matter/fiber tract/CNS cavity/developmental/other)\": \"G\", \"parent_structure_id\": 177, \"color_hex_triplet\": \"E2CCDC\", \"children\": [], \"text\": \"Medial preoptic nucleus\"}, {\"id\": 411, \"name\": \"Magnocellular preoptic nucleus\", \"acronym\": \"MgPO\", \"definition (description)\": \"No definition, posssible overlap with the medial preoptic nucleus. This is the sexually dimorphic nucleus in the hypothalamus.\", \"type (gray matter/fiber tract/CNS cavity/developmental/other)\": \"G\", \"parent_structure_id\": 177, \"color_hex_triplet\": \"EBC3E5\", \"children\": [], \"text\": \"Magnocellular preoptic nucleus\"}, {\"id\": 412, \"name\": \"Tuberal area\", \"acronym\": \"TU\", \"definition (description)\": \"No definition, posssible overlap with the tuberal nucleus.\", \"type (gray matter/fiber tract/CNS cavity/developmental/other)\": \"G\", \"parent_structure_id\": 177, \"color_hex_triplet\": \"EBC3E5\", \"children\": [], \"text\": \"Tuberal area\"}, {\"id\": 302, \"name\": \"Lateral tuberal nucleus\", \"acronym\": \"LTN\", \"definition (description)\": \"Two or three distinct spherical masses near the inferior surface of the lateral hypothalamic area. These neurons may play a role in thermoregulation and food intake.\", \"type (gray matter/fiber tract/CNS cavity/developmental/other)\": \"G\", \"parent_structure_id\": 177, \"color_hex_triplet\": \"DBABC8\", \"children\": [], \"text\": \"Lateral tuberal nucleus\"}, {\"id\": 303, \"name\": \"Perifornical nucleus\", \"acronym\": \"PeF\", \"definition (description)\": \"Note: no definition\", \"type (gray matter/fiber tract/CNS cavity/developmental/other)\": \"G\", \"parent_structure_id\": 177, \"color_hex_triplet\": \"B067A9\", \"children\": [], \"text\": \"Perifornical nucleus\"}, {\"id\": 304, \"name\": \"Preoptic periventricular nucleus\", \"acronym\": \"PVPO\", \"definition (description)\": \"Note: not defined/described in the Glossary, but labeled in Plates (e.g. Plate 103B, page 207).\", \"type (gray matter/fiber tract/CNS cavity/developmental/other)\": \"G\", \"parent_structure_id\": 177, \"color_hex_triplet\": \"D193B8\", \"children\": [], \"text\": \"Preoptic periventricular nucleus\"}, {\"id\": 307, \"name\": \"Posterior hypothalamic nucleus\", \"acronym\": \"PHN\", \"definition (description)\": \"Note: no definition\", \"type (gray matter/fiber tract/CNS cavity/developmental/other)\": \"G\", \"parent_structure_id\": 177, \"color_hex_triplet\": \"CE96B3\", \"children\": [], \"text\": \"Posterior hypothalamic nucleus\"}, {\"id\": 308, \"name\": \"Dorsal hypothalamic area\", \"acronym\": \"DHA\", \"definition (description)\": \"Area situated above the more distinct ventromedial nucleus of the hypothalamus. Its principal connections are with the bed nucleus of the stria terminalis and the septum.\", \"type (gray matter/fiber tract/CNS cavity/developmental/other)\": \"G\", \"parent_structure_id\": 177, \"color_hex_triplet\": \"CB99C1\", \"children\": [], \"text\": \"Dorsal hypothalamic area\"}, {\"id\": 309, \"name\": \"Posteromedial hypothalamic nucleus\", \"acronym\": \"PHM\", \"definition (description)\": \"Note: no definition\", \"type (gray matter/fiber tract/CNS cavity/developmental/other)\": \"G\", \"parent_structure_id\": 177, \"color_hex_triplet\": \"C58DBA\", \"children\": [], \"text\": \"Posteromedial hypothalamic nucleus\"}, {\"id\": 188, \"name\": \"Subthalamus\", \"acronym\": \"Sth\", \"definition (description)\": \"Biconvex diencephalic structure situated above the substantia nigra between the zona incerta and the base of the internal capsule. It has extensive reciprocal connections with the globus pallidus, hence it is considered a component of the basal ganglia circuitry. Subthalamic lesions produce persistent choroid movements (hemiballism) in the arms, legs and face. Note: this is the definition/description of the structure in the adult brain. It is organized here as a part of the hypothalamus. In other nomenclatures, this nucleus is included in the lateral hypothalamic zone.\", \"type (gray matter/fiber tract/CNS cavity/developmental/other)\": \"G\", \"parent_structure_id\": 177, \"color_hex_triplet\": \"FF928F\", \"children\": [], \"text\": \"Subthalamus\"}, {\"id\": 189, \"name\": \"Pituitary gland\", \"acronym\": \"Pit\", \"definition (description)\": \"Note: the pituitary gland is not explicitly defined/described in the Glossary, but mentioned in the Glossary. The infundibulum and median eminence are defined/described, and/or labeled, respectively, therefore the pituitary gland is considered here as a part of the 21 g.w. human brain. At this stage, some of the ACTH neurons are at least partially developed [reference needed here]. The hierarchical arrangement of the pituitary gland and its identified parts in the 21 g.w. human brain follows Swanson, 2004.\", \"type (gray matter/fiber tract/CNS cavity/developmental/other)\": \"G\", \"parent_structure_id\": 177, \"color_hex_triplet\": \"775F5F\", \"children\": [], \"text\": \"Pituitary gland\"}, {\"id\": 190, \"name\": \"Infundibulum\", \"acronym\": \"Inf\", \"definition (description)\": \"Stalk extending from the mediobasal hypothalamus that contains the median eminence and forms a link to the pituitary gland. Note: considered here as part of the hypothalamus.\", \"type (gray matter/fiber tract/CNS cavity/developmental/other)\": \"G\", \"parent_structure_id\": 177, \"color_hex_triplet\": \"6D6E70\", \"children\": [], \"text\": \"Infundibulum\"}, {\"id\": 191, \"name\": \"Median eminence\", \"acronym\": \"ME\", \"definition (description)\": \"Note: this part is not explicitly defined/described in the Glossary, but it is labeled on Plates (e.g. Plate 62B, page 131). the hierarchical arrangement of the median eminence follows Swanson, 2004.\", \"type (gray matter/fiber tract/CNS cavity/developmental/other)\": \"G\", \"parent_structure_id\": 177, \"color_hex_triplet\": \"87281A\", \"children\": [], \"text\": \"Median eminence\"}, {\"id\": 280, \"name\": \"Pineal gland\", \"acronym\": \"PIN\", \"definition (description)\": \"An endocrine gland connected by its stalk to the pineal recess of the dorsal third ventricle. It secretes melatonin and other indoleamines. It is believed to receive indirect visual input from the retina.\", \"type (gray matter/fiber tract/CNS cavity/developmental/other)\": \"O\", \"parent_structure_id\": 177, \"color_hex_triplet\": \"775F5F\", \"text\": \"Pineal gland\"}], \"text\": \"Hypothalamus\"}], \"text\": \"Diencephalon\"}], \"text\": \"Forebrain\"}, {\"id\": 440, \"name\": \"Brainstem\", \"acronym\": \"BS\", \"definition (description)\": \"Basic division of the brain which includes the midbrain, pons, and the medulla.\", \"type (gray matter/fiber tract/CNS cavity/developmental/other)\": \"G\", \"parent_structure_id\": 1, \"color_hex_triplet\": \"A0C7D5\", \"children\": [{\"id\": 192, \"name\": \"Midbrain\", \"acronym\": \"MB\", \"definition (description)\": \"The most anterior part of the brainstem divided into the tectum (\\u201croof\\u201d) and the tegmentum (\\u201cfloor\\u201d). Note: pretectum is also included here.\", \"type (gray matter/fiber tract/CNS cavity/developmental/other)\": \"G\", \"parent_structure_id\": 1, \"color_hex_triplet\": \"AFD0DD\", \"children\": [{\"id\": 203, \"name\": \"Pretectum\", \"acronym\": \"Prt\", \"definition (description)\": \"Dorsal area between the posterior thalamus and the superior colliculus. Several of its nuclei are involved in visuomotor functions. Note: this is the definition/description of the structure in the adult brain.\", \"type (gray matter/fiber tract/CNS cavity/developmental/other)\": \"G\", \"parent_structure_id\": 192, \"color_hex_triplet\": \"A0C7D5\", \"children\": [{\"id\": 322, \"name\": \"Anterior pretectal nucleus\", \"acronym\": \"APT\", \"definition (description)\": \"Note: no definition in the B&A; the nucleus appears in the AIBS nomenclature\", \"type (gray matter/fiber tract/CNS cavity/developmental/other)\": \"G\", \"parent_structure_id\": 203, \"color_hex_triplet\": \"91BFCF\", \"children\": [], \"text\": \"Anterior pretectal nucleus\"}, {\"id\": 323, \"name\": \"Medial pretectal nucleus\", \"acronym\": \"MPT\", \"definition (description)\": \"Note: no definition in the B&A; the nucleus appears in the AIBS nomenclature\", \"type (gray matter/fiber tract/CNS cavity/developmental/other)\": \"G\", \"parent_structure_id\": 203, \"color_hex_triplet\": \"87B9CB\", \"children\": [], \"text\": \"Medial pretectal nucleus\"}, {\"id\": 324, \"name\": \"Posterior pretectal nucleus\", \"acronym\": \"PPT\", \"definition (description)\": \"Note: no definition in the B&A; the nucleus appears in the AIBS nomenclature\", \"type (gray matter/fiber tract/CNS cavity/developmental/other)\": \"G\", \"parent_structure_id\": 203, \"color_hex_triplet\": \"73AEC3\", \"children\": [], \"text\": \"Posterior pretectal nucleus\"}, {\"id\": 325, \"name\": \"Nucleus of the optic tract\", \"acronym\": \"NOT\", \"definition (description)\": \"Note: no definition in the B&A; the nucleus appears in the AIBS nomenclature\", \"type (gray matter/fiber tract/CNS cavity/developmental/other)\": \"G\", \"parent_structure_id\": 203, \"color_hex_triplet\": \"93C1D1\", \"children\": [], \"text\": \"Nucleus of the optic tract\"}, {\"id\": 326, \"name\": \"Olivary pretectal nucleus\", \"acronym\": \"OPT\", \"definition (description)\": \"Note: no definition in the B&A; the nucleus appears in the AIBS nomenclature\", \"type (gray matter/fiber tract/CNS cavity/developmental/other)\": \"G\", \"parent_structure_id\": 203, \"color_hex_triplet\": \"AED0DC\", \"children\": [], \"text\": \"Olivary pretectal nucleus\"}], \"text\": \"Pretectum\"}, {\"id\": 193, \"name\": \"Tectum\", \"acronym\": \"Tct\", \"definition (description)\": \"Inclusive term for the dorsal hillocks that cap the central gray of the midbrain and is the target of visual, auditory and somatosensory afferents. Its two discrete components are the superior colliculus and the inferior colliculus. Note: this is the definition/description of the structure in the adult brain.\", \"type (gray matter/fiber tract/CNS cavity/developmental/other)\": \"G\", \"parent_structure_id\": 192, \"color_hex_triplet\": \"8EBDCD\", \"children\": [{\"id\": 194, \"name\": \"Superior colliculus\", \"acronym\": \"SC\", \"definition (description)\": \"Anterior component of the tectum, known in lower vertebrates as the optic lobe. A laminated structure, the superior colliculus is a direct target of optic nerve fibers. Its principal efferent outflow, by way of the tectobulbar and tectospinal tracts, is to the medulla and spinal cord. Note: this is the definition/description of the structure in the adult brain. There are no SC layers defined/described in the Glossary, but they are labeled in Plates.\", \"type (gray matter/fiber tract/CNS cavity/developmental/other)\": \"G\", \"parent_structure_id\": 193, \"color_hex_triplet\": \"7EB3C9\", \"children\": [], \"text\": \"Superior colliculus\"}, {\"id\": 195, \"name\": \"Inferior colliculus\", \"acronym\": \"IC\", \"definition (description)\": \"Paired inferior hillocks of the midbrain tectum that receive primary, secondary, and higher order auditory afferents. The output of the inferior colliculus is mainly to the medial geniculate body in the thalamus, but some axons extend to the primary auditory cortex in the temporal lobe. Note: this is the definition/description of the structure in the adult brain.\", \"type (gray matter/fiber tract/CNS cavity/developmental/other)\": \"G\", \"parent_structure_id\": 193, \"color_hex_triplet\": \"7EB3C9\", \"children\": [{\"id\": 318, \"name\": \"Inferior colliculus, central nucleus\", \"acronym\": \"ICc\", \"definition (description)\": \"Laminated core of the inferior colliculus where auditory fibers of the lateral lemniscus terminate in a tonotopic order. Note: this is the definition/description of the structure in the adult brain.\", \"type (gray matter/fiber tract/CNS cavity/developmental/other)\": \"G\", \"parent_structure_id\": 195, \"color_hex_triplet\": \"5298AE\", \"children\": [], \"text\": \"Inferior colliculus, central nucleus\"}, {\"id\": 319, \"name\": \"Inferior colliculus, external nucleus\", \"acronym\": \"ICe\", \"definition (description)\": \"Note: this is the remaining part of the IC, after the central nucleus was subtracted. Not defined/described in the Glossary, not labeled in Plates, but necessary for completitude and correctness of the hierarchical organization.\", \"type (gray matter/fiber tract/CNS cavity/developmental/other)\": \"G\", \"parent_structure_id\": 195, \"color_hex_triplet\": \"56A1BB\", \"children\": [], \"text\": \"Inferior colliculus, external nucleus\"}, {\"id\": 385, \"name\": \"Inferior colliculus, dorsal nucleus\", \"acronym\": \"ICd\", \"definition (description)\": \"Note: this is the remaining part of the IC, after the central nucleus was subtracted. Not defined/described in the Glossary, not labeled in Plates, but necessary for completitude and correctness of the hierarchical organization.\", \"type (gray matter/fiber tract/CNS cavity/developmental/other)\": \"G\", \"parent_structure_id\": 195, \"color_hex_triplet\": \"8EBDCD\", \"children\": [], \"text\": \"Inferior colliculus, dorsal nucleus\"}], \"text\": \"Inferior colliculus\"}], \"text\": \"Tectum\"}, {\"id\": 196, \"name\": \"Tegmentum\", \"acronym\": \"Tgt\", \"definition (description)\": \"Ventral and ventrolateral region of the midbrain and pons with indistinct boundaries. It contains the reticular formation, some discrete nuclei, and ascending, decussating, and descending fiber tracts. Some tegmental nuclei have been implicated in somatomotor and visceromotor functions.\", \"type (gray matter/fiber tract/CNS cavity/developmental/other)\": \"G\", \"parent_structure_id\": 192, \"color_hex_triplet\": \"8FD1E5\", \"children\": [{\"id\": 320, \"name\": \"Parabigeminal nucleus\", \"acronym\": \"PBN\", \"definition (description)\": \"This small nucleus, composed of a dorsal and ventral aggregate of cells in the lateral wall of the midbrain tegmentum, receives second-order visual input from the superior colliculus. It may be the homologue of the isthmo-optic nucleus of lower vertebrates.\", \"type (gray matter/fiber tract/CNS cavity/developmental/other)\": \"G\", \"parent_structure_id\": 196, \"color_hex_triplet\": \"A7DBEB\", \"children\": [], \"text\": \"Parabigeminal nucleus\"}, {\"id\": 321, \"name\": \"Nucleus of the posterior commissure\", \"acronym\": \"NPC\", \"definition (description)\": \"Not defined/described in the Glossary.\", \"type (gray matter/fiber tract/CNS cavity/developmental/other)\": \"G\", \"parent_structure_id\": 196, \"color_hex_triplet\": \"95D3E7\", \"children\": [], \"text\": \"Nucleus of the posterior commissure\"}, {\"id\": 197, \"name\": \"Substantia nigra\", \"acronym\": \"SN\", \"definition (description)\": \"Pigmented midbrain tegmental structure abutting the base of the internal capsule and the cerebral peduncle. It has two components, the dopaminergic pars compacta, and the GABAergic pars reticulata. The substantia nigra receives afferents from the striatum, globus pallidus, the bed nucleus of stria terminalis, the central nucleus of the amygdala, the subthalamic nucleus, and the raphe nuclear complex. Its dopaminergic efferents target the striatum and some brainstem nuclei. Degeneration of the dopaminergic neurons of the substantia nigra have been implicated in Parkinson\\u2019s disease. Note: this is the definition/description of the structure in the adult brain.\", \"type (gray matter/fiber tract/CNS cavity/developmental/other)\": \"G\", \"parent_structure_id\": 196, \"color_hex_triplet\": \"6CA9BF\", \"children\": [{\"id\": 198, \"name\": \"Substantia nigra pars compacta\", \"acronym\": \"SNc\", \"definition (description)\": \"Note: listed as a part of the substantia nigra. Not defined/described in the Glossary. Labeled in Plates (e.g. Plate 175B, page 349).\", \"type (gray matter/fiber tract/CNS cavity/developmental/other)\": \"G\", \"parent_structure_id\": 197, \"color_hex_triplet\": \"43808F\", \"children\": [], \"text\": \"Substantia nigra pars compacta\"}, {\"id\": 199, \"name\": \"Substantia nigra pars reticulata\", \"acronym\": \"SNr\", \"definition (description)\": \"Note: listed as a part of the substantia nigra. Not defined/described in the Glossary. Labeled in Plates (e.g. Plate 175B, page 349).\", \"type (gray matter/fiber tract/CNS cavity/developmental/other)\": \"G\", \"parent_structure_id\": 197, \"color_hex_triplet\": \"6CA9BF\", \"children\": [], \"text\": \"Substantia nigra pars reticulata\"}], \"text\": \"Substantia nigra\"}, {\"id\": 200, \"name\": \"Red nucleus\", \"acronym\": \"R\", \"definition (description)\": \"Spherical mesencephalic nucleus with a small-celled (parvocellular) and a large-celled (magnocellular) division. It is surrounded and traversed by fibers of the superior cerebellar peduncle. Its afferents originate in the cerebellar deep nuclei and the cerebral cortex. Its descending efferents target various tegmental and medullary nuclei, and the spinal cord (rubrospinal tract); its ascending fibers terminate in the thalamus. The red nucleus is a component of the cerebellar feedback loop. Note: this is the definition/description of the structure in the adult brain. There are no subdivisions of the red nucleus labeled in Plates, or listed in the Glossary.\", \"type (gray matter/fiber tract/CNS cavity/developmental/other)\": \"G\", \"parent_structure_id\": 196, \"color_hex_triplet\": \"4D8DA3\", \"children\": [], \"text\": \"Red nucleus\"}, {\"id\": 285, \"name\": \"Periaqueductal gray\", \"acronym\": \"PAG\", \"definition (description)\": \"Oval shaped region in the core of the mesencephalon that surrounds the aqueduct and is capped by the superior colliculus and the inferior colliculus. Note: the term may be the synonym of the periacquectal gray).\", \"type (gray matter/fiber tract/CNS cavity/developmental/other)\": \"G\", \"parent_structure_id\": 196, \"color_hex_triplet\": \"517DBE\", \"children\": [], \"text\": \"Periaqueductal gray\"}, {\"id\": 444, \"name\": \"Interstitial nucleus of Cajal\", \"acronym\": \"INC\", \"definition (description)\": \"Small nucleus in the midbrain, part of the PAG complex, located in the PAG nucleus. Needs a proper definition\", \"type (gray matter/fiber tract/CNS cavity/developmental/other)\": \"G\", \"parent_structure_id\": 0, \"color_hex_triplet\": \"517DBE\", \"children\": [], \"text\": \"Interstitial nucleus of Cajal\"}, {\"id\": 403, \"name\": \"Edinger-Westphal nucleus\", \"acronym\": \"EW\", \"definition (description)\": \"Small nucleus in the midbrain, embedded in the ventral PAG, near the cerebral aqueduct. Needs a proper definition\", \"type (gray matter/fiber tract/CNS cavity/developmental/other)\": \"G\", \"parent_structure_id\": 196, \"color_hex_triplet\": \"4D8DA3\", \"children\": [], \"text\": \"Edinger-Westphal nucleus\"}, {\"id\": 404, \"name\": \"Nucleus of Darkschewitsch\", \"acronym\": \"ND\", \"definition (description)\": \"Small nucleus in the midbrain, embedded in the ventral PAG, medially. Needs a proper definition\", \"type (gray matter/fiber tract/CNS cavity/developmental/other)\": \"G\", \"parent_structure_id\": 196, \"color_hex_triplet\": \"4D8DA3\", \"children\": [], \"text\": \"Nucleus of Darkschewitsch\"}, {\"id\": 263, \"name\": \"Oculomotor nuclear complex\", \"acronym\": \"III\", \"definition (description)\": \"Situated at the base of the central gray beneath the aqueduct, the cell columns of this complex extend from the anterior pole of the superior colliculus rostrally to the trochlear nucleus caudally. Its somatic motor nuclei innervate the medial rectus, inferior rectus,\\r\\nsuperior rectus and inferior oblique muscles of the eye, and are associated with the fibers of the medial longitudinal fasciculus. Most prominent of its autonomic (preganglionic) components is the dorsally located Edinger-Westphal nucleus. Note: this is the definition/description of the structure in the adult brain. There are no individual nuclei associated with this complex, and labeled in Plates or defined/described in the Glossary.\", \"type (gray matter/fiber tract/CNS cavity/developmental/other)\": \"G\", \"parent_structure_id\": 196, \"color_hex_triplet\": \"478599\", \"children\": [], \"text\": \"Oculomotor nuclear complex\"}, {\"id\": 262, \"name\": \"Trochlear nucleus\", \"acronym\": \"IV\", \"definition (description)\": \"Aggregate of somatic motor neurons located posterior to the oculomotor nuclear complex that innervate the superior oblique muscle of the eye by way of cranial nerve IV. Note: this is the definition/description of the structure in the adult brain\", \"type (gray matter/fiber tract/CNS cavity/developmental/other)\": \"G\", \"parent_structure_id\": 196, \"color_hex_triplet\": \"8EBDCD\", \"children\": [], \"text\": \"Trochlear nucleus\"}, {\"id\": 261, \"name\": \"Mesencephalic nucleus\", \"acronym\": \"V\", \"definition (description)\": \"Large neurons scattered along the lateral border of the central gray of the midbrain and pons. They are primary sensory neurons that enter the brain from the periphery early in development relaying proprioceptive information from the muscles of mastication. They may function in the reflex control of bite strength. Note: this is the definition/description of the structure in the adult brain.\", \"type (gray matter/fiber tract/CNS cavity/developmental/other)\": \"G\", \"parent_structure_id\": 196, \"color_hex_triplet\": \"5298AE\", \"children\": [], \"text\": \"Mesencephalic nucleus\"}, {\"id\": 201, \"name\": \"Ventral tegmental area\", \"acronym\": \"VTA\", \"definition (description)\": \"Medial area flanking the substantia nigra and containing a high concentration of dopaminergic neurons, much like the substantia nigra, pars compacta. It is generally considered as a component of the substantia nigra complex. Note: this is the definition/description of the structure in the adult brain.\", \"type (gray matter/fiber tract/CNS cavity/developmental/other)\": \"G\", \"parent_structure_id\": 196, \"color_hex_triplet\": \"7EB3C9\", \"children\": [], \"text\": \"Ventral tegmental area\"}, {\"id\": 428, \"name\": \"Retrorubral area\", \"acronym\": \"RR\", \"definition (description)\": \"Note: also called the parabrachial pigmented nucleus, it is considered as a part of the VTA, and includes the dopaminergic DA8 field.\", \"type (gray matter/fiber tract/CNS cavity/developmental/other)\": \"G\", \"parent_structure_id\": 196, \"color_hex_triplet\": \"7EB3C9\", \"children\": [], \"text\": \"Retrorubral area\"}, {\"id\": 449, \"name\": \"Paranigral nucleus of the VTA\", \"acronym\": \"PnVTA\", \"definition (description)\": \"Small nucleus embedded in the interpenduncular nuclei, medial from the retrorubral area and VTA, which include TH-positive fibers.\", \"type (gray matter/fiber tract/CNS cavity/developmental/other)\": \"G\", \"parent_structure_id\": 0, \"color_hex_triplet\": \"478599\", \"children\": [], \"text\": \"Paranigral nucleus of the VTA\"}, {\"id\": 283, \"name\": \"Interpeduncular nucleus\", \"acronym\": \"INT\", \"definition (description)\": \"Midline mesencephalic structure above the interpeduncular fossa and between the cerebral peduncles. It is the target of fibers of the habenulo-interpeduncular tract.\", \"type (gray matter/fiber tract/CNS cavity/developmental/other)\": \"G\", \"parent_structure_id\": 196, \"color_hex_triplet\": \"B6D4E0\", \"children\": [{\"id\": 450, \"name\": \"Interpeduncular nucleu, dorsolateral part\", \"acronym\": \"IPNdl\", \"definition (description)\": \"Needs a description.\", \"type (gray matter/fiber tract/CNS cavity/developmental/other)\": \"G\", \"parent_structure_id\": 0, \"color_hex_triplet\": \"8EBDCD\", \"children\": [], \"text\": \"Interpeduncular nucleu, dorsolateral part\"}, {\"id\": 451, \"name\": \"Interpeduncular nucleu, dorsomedial part\", \"acronym\": \"IPNdm\", \"definition (description)\": \"Needs a description.\", \"type (gray matter/fiber tract/CNS cavity/developmental/other)\": \"G\", \"parent_structure_id\": 0, \"color_hex_triplet\": \"8EBDCD\", \"children\": [], \"text\": \"Interpeduncular nucleu, dorsomedial part\"}, {\"id\": 452, \"name\": \"Interpeduncular nucleu, caudal part\", \"acronym\": \"IPNc\", \"definition (description)\": \"Needs a description.\", \"type (gray matter/fiber tract/CNS cavity/developmental/other)\": \"G\", \"parent_structure_id\": 0, \"color_hex_triplet\": \"8EBDCD\", \"children\": [], \"text\": \"Interpeduncular nucleu, caudal part\"}, {\"id\": 454, \"name\": \"Rhabdoid nucleus\", \"acronym\": \"RbN\", \"definition (description)\": \"Part of the interpeduncular nucleus, needs a description.\", \"type (gray matter/fiber tract/CNS cavity/developmental/other)\": \"G\", \"parent_structure_id\": 0, \"color_hex_triplet\": \"8EBDCD\", \"children\": [], \"text\": \"Rhabdoid nucleus\"}], \"text\": \"Interpeduncular nucleus\"}, {\"id\": 453, \"name\": \"Parapeduncular nucleus\", \"acronym\": \"PaP\", \"definition (description)\": \"Needs a description.\", \"type (gray matter/fiber tract/CNS cavity/developmental/other)\": \"G\", \"parent_structure_id\": 0, \"color_hex_triplet\": \"8EBDCD\", \"children\": [], \"text\": \"Parapeduncular nucleus\"}], \"text\": \"Tegmentum\"}, {\"id\": 377, \"name\": \"Reticular formation, Midbrain\", \"acronym\": \"Ret-MB\", \"definition (description)\": \"A large collection of scattered neurons, enmeshed in a complex network of fibers, in the core of the medulla, pons, and midbrain. The extensive axonal branches of neurons have have a modulatory influence on the entire central nervous system. Note: the boundary between the midbrain-, pons- and medulla- parts of the reticular formation is difficult, if not impossible, to draw.\", \"type (gray matter/fiber tract/CNS cavity/developmental/other)\": \"G\", \"parent_structure_id\": 192, \"color_hex_triplet\": \"7893C7\", \"children\": [], \"text\": \"Reticular formation, Midbrain\"}], \"text\": \"Midbrain\"}, {\"id\": 204, \"name\": \"Hindbrain\", \"acronym\": \"HB\", \"definition (description)\": \"Note: basic subdivision of the brain, which includes the medulla, the pons, and in some nomenclatures the cerebellum.\", \"type (gray matter/fiber tract/CNS cavity/developmental/other)\": \"G\", \"parent_structure_id\": 1, \"color_hex_triplet\": \"CAD7EE\", \"children\": [{\"id\": 205, \"name\": \"Pons\", \"acronym\": \"P\", \"definition (description)\": \"Region of the brain surrounding the anterior fourth ventricle, situated between the midbrain and the medulla. It contains many ascending, descending and decussating fiber tracts, sensory and motor nuclei of the cranial nerves, the reticular formation, the raphe nuclear complex, and the pontine gray.\", \"type (gray matter/fiber tract/CNS cavity/developmental/other)\": \"G\", \"parent_structure_id\": 204, \"color_hex_triplet\": \"AFC3DB\", \"children\": [{\"id\": 429, \"name\": \"Central gray of the pons\", \"acronym\": \"CGP\", \"definition (description)\": \"Motor-related pontine region located dorsally and caudal from the periaqueductal gray. Also called pontine central gray, or the central gray of the rhombencephalon.\", \"type (gray matter/fiber tract/CNS cavity/developmental/other)\": \"G\", \"parent_structure_id\": 205, \"color_hex_triplet\": \"517DBE\", \"children\": [], \"text\": \"Central gray of the pons\"}, {\"id\": 264, \"name\": \"Nucleus of the lateral lemniscus, dorsal\", \"acronym\": \"NLLd\", \"definition (description)\": \"Interstitial neurons in the lateral lemniscus ventral to the inferior colliculus with input from the cochlear nuclei and the superior olivary complex. Its axons join the lateral lemniscus to terminate bilaterally in the inferior colliculus and the medial geniculate body. Note: this is the definition/description of the structure in the adult brain.\", \"type (gray matter/fiber tract/CNS cavity/developmental/other)\": \"G\", \"parent_structure_id\": 205, \"color_hex_triplet\": \"4C72A8\", \"children\": [], \"text\": \"Nucleus of the lateral lemniscus, dorsal\"}, {\"id\": 265, \"name\": \"Nucleus of the lateral lemniscus, ventral\", \"acronym\": \"NLLv\", \"definition (description)\": \"Interstitial neurons in the lateral lemniscus lateral to the superior olivary complex. Input and output are similar to the dorsal nucleus of the lateral lemniscus. Note: this is the definition/description of the structure in the adult brain.\", \"type (gray matter/fiber tract/CNS cavity/developmental/other)\": \"G\", \"parent_structure_id\": 205, \"color_hex_triplet\": \"4C72A9\", \"children\": [], \"text\": \"Nucleus of the lateral lemniscus, ventral\"}, {\"id\": 266, \"name\": \"Principal sensory nucleus of the trigeminal\", \"acronym\": \"PSV\", \"definition (description)\": \"The second-order sensory neurons in the trigeminal system located dorsal and lateral to the incoming sensory root of cranial nerve V. It receives topographic somatosensory input from the face and mouth, and its efferents cross the midline in the pons and proceed to the thalamic ventral complex in close association with the medial lemniscus. Note: this is the definition/description of the structure in the adult brain.\", \"type (gray matter/fiber tract/CNS cavity/developmental/other)\": \"G\", \"parent_structure_id\": 205, \"color_hex_triplet\": \"406290\", \"children\": [], \"text\": \"Principal sensory nucleus of the trigeminal\"}, {\"id\": 206, \"name\": \"Parabrachial nucleus\", \"acronym\": \"PB\", \"definition (description)\": \"Dorsolateral pontine structure with indistinct boundaries that surrounds the superior cerebellar peduncle. Its principal input comes from the solitary nucleus and its efferents target the ventral posteromedial nucleus of the thalamus, the amygdala, and the insular cortex. This nucleus has been implicated in gustatory and related visceral functions.\", \"type (gray matter/fiber tract/CNS cavity/developmental/other)\": \"G\", \"parent_structure_id\": 205, \"color_hex_triplet\": \"4E78B0\", \"children\": [{\"id\": 464, \"name\": \"Parabrachial nucleus, lateral part\", \"acronym\": \"PBl\", \"definition (description)\": \"Set of parabrachial nuclei located dorsally and laterally from the superior cerebellar peduncle.\", \"type (gray matter/fiber tract/CNS cavity/developmental/other)\": \"G\", \"parent_structure_id\": 0, \"color_hex_triplet\": \"406290\", \"children\": [], \"text\": \"Parabrachial nucleus, lateral part\"}, {\"id\": 465, \"name\": \"Parabrachial nucleus, medial part\", \"acronym\": \"PBm\", \"definition (description)\": \"Set of parabrachial nuclei located medially and ventrally from the superior cerebellar peduncle.\", \"type (gray matter/fiber tract/CNS cavity/developmental/other)\": \"G\", \"parent_structure_id\": 0, \"color_hex_triplet\": \"406290\", \"children\": [], \"text\": \"Parabrachial nucleus, medial part\"}], \"text\": \"Parabrachial nucleus\"}, {\"id\": 207, \"name\": \"Superior olive\", \"acronym\": \"SO\", \"definition (description)\": \"A group of neurons in the ventrolateral posterior pons that receive auditory input from the dorsal and ventral cochlear nuclei. Some of its axons cross the midline in the trapezoid body. Ipsi- and contralateral fibers of the complex join the lateral lemniscus and terminate in the inferior colliculus and in the medial geniculate body.\", \"type (gray matter/fiber tract/CNS cavity/developmental/other)\": \"G\", \"parent_structure_id\": 205, \"color_hex_triplet\": \"4E78B0\", \"children\": [], \"text\": \"Superior olive\"}, {\"id\": 208, \"name\": \"Pontine gray\", \"acronym\": \"PG\", \"definition (description)\": \"Large nucleus composed of a dense aggregate of small to medium-sized neurons in the ventral pons. It contains the thick bundles of the longitudinally-oriented *corticofugal tract and the thinner bundles of the transversely oriented pontocerebellar fibers. Corticofugal axons that collateralize here are the principal afferents of the pontine gray neurons that are the source of the pontocerebellar fibers. Note: this is the definition/description of the structure in the adult brain.\", \"type (gray matter/fiber tract/CNS cavity/developmental/other)\": \"G\", \"parent_structure_id\": 205, \"color_hex_triplet\": \"517DBE\", \"children\": [], \"text\": \"Pontine gray\"}, {\"id\": 267, \"name\": \"Dorsal tegmental nucleus\", \"acronym\": \"DTN\", \"definition (description)\": \"Situated in the central gray dorsal to the trochlear nucleus and extending caudally into the pons. It is targeted by fibers of the mammillotegmental tract. Note: this is the definition/description of the structure in the adult brain. The nucleus is not labeled in Plates.\", \"type (gray matter/fiber tract/CNS cavity/developmental/other)\": \"G\", \"parent_structure_id\": 205, \"color_hex_triplet\": \"517DBE\", \"children\": [], \"text\": \"Dorsal tegmental nucleus\"}, {\"id\": 268, \"name\": \"Reticular tegmental nucleus\", \"acronym\": \"RTN\", \"definition (description)\": \"Situated dorsal to the pontine gray, this precerebellar nucleus, also known as the nucleus reticularis tegmenti pontis, receives afferents from the cerebellum and the cerebral cortex. The principal target of its efferents is the cerebellum, where they terminate as mossy fibers. Note: this is the definition/description of the structure in the adult brain.\", \"type (gray matter/fiber tract/CNS cavity/developmental/other)\": \"G\", \"parent_structure_id\": 205, \"color_hex_triplet\": \"4E78B0\", \"children\": [], \"text\": \"Reticular tegmental nucleus\"}, {\"id\": 269, \"name\": \"Trigeminal motor nucleus\", \"acronym\": \"Vn\", \"definition (description)\": \"Aggregate of trigeminal somatic motor neurons situated medial to the trigeminal principal sensory nucleus. It receives input from the mesencephalic nucleus (V) and from motor areas of the cerebral cortex via relays in the pontine reticular formation. Its axons leave the brain in cranial nerve V and join its mandibular branch that innervates the muscles of mastication. Note: this is the definition/description of the structure in the adult brain.\", \"type (gray matter/fiber tract/CNS cavity/developmental/other)\": \"G\", \"parent_structure_id\": 205, \"color_hex_triplet\": \"476A9A\", \"children\": [], \"text\": \"Trigeminal motor nucleus\"}, {\"id\": 209, \"name\": \"Locus coeruleus\", \"acronym\": \"LC\", \"definition (description)\": \"Aggregate of large pigmented cells in the pons. It is the major source of ascending and descending noradrenergic fibers that are widely distributed throughout the central nervous system. Note: this is the definition/description of the structure in the adult brain.\", \"type (gray matter/fiber tract/CNS cavity/developmental/other)\": \"G\", \"parent_structure_id\": 205, \"color_hex_triplet\": \"517DBE\", \"children\": [], \"text\": \"Locus coeruleus\"}, {\"id\": 372, \"name\": \"Reticular formation, Pons\", \"acronym\": \"Ret-P\", \"definition (description)\": \"A large collection of scattered neurons, enmeshed in a complex network of fibers, in the core of the medulla, pons, and midbrain. The extensive axonal branches of neurons have have a modulatory influence on the entire central nervous system. Note: the boundary between the midbrain-, pons- and medulla- parts of the reticular formation is difficult, if not impossible, to draw.\", \"type (gray matter/fiber tract/CNS cavity/developmental/other)\": \"G\", \"parent_structure_id\": 205, \"color_hex_triplet\": \"7893C7\", \"children\": [], \"text\": \"Reticular formation, Pons\"}], \"text\": \"Pons\"}, {\"id\": 211, \"name\": \"Medulla\", \"acronym\": \"Med\", \"definition (description)\": \"Region of the neuraxis surrounding the posterior fourth ventricle, also known as the medulla oblongata, bounded by the pons rostrally and the spinal cord caudally. An extremely heterogeneous region containing sensory, somatic motor, and visceral motor nuclei as well as large ascending, descending, and decussating fiber tracts. Note: this is the definition/description of the structure in the adult brain.\", \"type (gray matter/fiber tract/CNS cavity/developmental/other)\": \"G\", \"parent_structure_id\": 204, \"color_hex_triplet\": \"D1D7E8\", \"children\": [{\"id\": 378, \"name\": \"Reticular formation, Medulla\", \"acronym\": \"Ret-Med\", \"definition (description)\": \"A large collection of scattered neurons, enmeshed in a complex network of fibers, in the core of the medulla, pons, and midbrain. The extensive axonal branches of neurons have have a modulatory influence on the entire central nervous system. Note: the boundary between the midbrain-, pons- and medulla- parts of the reticular formation is difficult, if not impossible, to draw.\", \"type (gray matter/fiber tract/CNS cavity/developmental/other)\": \"G\", \"parent_structure_id\": 0, \"color_hex_triplet\": \"7893C7\", \"children\": [], \"text\": \"Reticular formation, Medulla\"}, {\"id\": 374, \"name\": \"Cochlear nuclei\", \"acronym\": \"CN\", \"definition (description)\": \"Set of sensory-related nuclei in the brainstem, processing the ipsilateral auditory information. Major components include the dorsal and the ventral cochlear nucleus.\", \"type (gray matter/fiber tract/CNS cavity/developmental/other)\": \"G\", \"parent_structure_id\": 211, \"color_hex_triplet\": \"BFC7DF\", \"children\": [], \"text\": \"Cochlear nuclei\"}, {\"id\": 375, \"name\": \"Dorsal cochlear nucleus\", \"acronym\": \"DCN\", \"definition (description)\": \"This auditory nucleus occupies the external surface of the inferior cerebellar peduncle and forms an eminence in the lateral part of the fourth ventricle floor. Its neurons get input from primary auditory neurons in the cochlear spiral ganglion, which form the auditory component of cranial nerve VIII. The dorsal cochlear nucleus sends ipsilateral and contralateral axons to the lateral lemniscus that terminate in the nuclei of the lateral lemniscus, the inferior colliculus, and the medial geniculate body.\", \"type (gray matter/fiber tract/CNS cavity/developmental/other)\": \"G\", \"parent_structure_id\": 211, \"color_hex_triplet\": \"AEB8D6\", \"children\": [], \"text\": \"Dorsal cochlear nucleus\"}, {\"id\": 376, \"name\": \"Ventral cochlear nucleus\", \"acronym\": \"VCN\", \"definition (description)\": \"This nucleus surrounds the lateral and ventral parts of the inferior cerebellar peduncle. Its neurons get input from primary auditory neurons in the spiral ganglion. Axons of this nucleus cross the midline in the trapezoid body and terminate in the contralateral nuclei of the lateral lemniscus, the inferior colliculus, and the medial geniculate body.\", \"type (gray matter/fiber tract/CNS cavity/developmental/other)\": \"G\", \"parent_structure_id\": 211, \"color_hex_triplet\": \"AEB8D6\", \"children\": [], \"text\": \"Ventral cochlear nucleus\"}, {\"id\": 314, \"name\": \"Cuneate nucleus\", \"acronym\": \"CUN\", \"definition (description)\": \"Neurons that invade the cuneate fasciculus from the ventral aspect to form a large mass in the posterolateral medulla. Its chief input is from the cuneate fasciculus and its output fibers cross the midline and enter the contralateral medial lemniscus. Note: this is the definition/description of the structure in the adult brain.\", \"type (gray matter/fiber tract/CNS cavity/developmental/other)\": \"G\", \"parent_structure_id\": 211, \"color_hex_triplet\": \"C5FCBE\", \"children\": [], \"text\": \"Cuneate nucleus\"}, {\"id\": 315, \"name\": \"Gracile nucleus\", \"acronym\": \"GR\", \"definition (description)\": \"Gray mass in the core of the gracile fasciculus that receives input from that fiber tract. Axons of these neurons cross the midline in the sensory decussation and enter the contralateral medial lemniscus. The axons terminate topographically in the ventral complex of the thalamus.\", \"type (gray matter/fiber tract/CNS cavity/developmental/other)\": \"G\", \"parent_structure_id\": 211, \"color_hex_triplet\": \"C4F6CC\", \"children\": [], \"text\": \"Gracile nucleus\"}, {\"id\": 316, \"name\": \"Area postrema\", \"acronym\": \"AP\", \"definition (description)\": \"A circumventricular organ forming a dorsal eminence in the fourth ventricle of the medulla. It has connections with the hypothalamic paraventricular nucleus, the parabrachial nucleus of the pons, and the solitary nucleus of the medulla. It plays a role in the neuroendocrine regulation of feeding and drinking. Note: this is the definition/description of the structure in the adult brain.\", \"type (gray matter/fiber tract/CNS cavity/developmental/other)\": \"G\", \"parent_structure_id\": 211, \"color_hex_triplet\": \"BCFEF6\", \"children\": [], \"text\": \"Area postrema\"}, {\"id\": 270, \"name\": \"Solitary nucleus\", \"acronym\": \"SOL\", \"definition (description)\": \"Note: the nucleus is not very well defined. The dorsal sensory nucleus of X and the commissural nucleus of X are part of this nuclear complex.\", \"type (gray matter/fiber tract/CNS cavity/developmental/other)\": \"G\", \"parent_structure_id\": 211, \"color_hex_triplet\": \"8695CC\", \"children\": [{\"id\": 271, \"name\": \"Dorsal sensory nucleus X\", \"acronym\": \"X-sens\", \"definition (description)\": \"A medial nucleus in the solitary nuclear complex of the medulla that lies dorsolateral to the dorsal motor nucleus (X) and is continuous with the commissural nucleus (X).\", \"type (gray matter/fiber tract/CNS cavity/developmental/other)\": \"G\", \"parent_structure_id\": 270, \"color_hex_triplet\": \"7B8BC7\", \"children\": [], \"text\": \"Dorsal sensory nucleus X\"}, {\"id\": 272, \"name\": \"Commissural nucleus\", \"acronym\": \"COM\", \"definition (description)\": \"A small nucleus that is part of the sensory nuclei associated with the vagus nerve and the solitary complex. It lies caudal to the obex in the medulla where the solitary nuclei on both sides of the brain are joined.\", \"type (gray matter/fiber tract/CNS cavity/developmental/other)\": \"G\", \"parent_structure_id\": 270, \"color_hex_triplet\": \"7384C3\", \"children\": [], \"text\": \"Commissural nucleus\"}], \"text\": \"Solitary nucleus\"}, {\"id\": 273, \"name\": \"Spinal nucleus of the trigeminal\", \"acronym\": \"SPV\", \"definition (description)\": \"A continuation of the trigeminal principal sensory nucleus that extends caudally through the medulla to the second cervical level of the spinal cord. It receives topographic input from the face via somatosensory neurons in the trigeminal ganglion. The axons of\\r\\nthe trigeminal spinal nucleus cross the midline, join the medial lemniscus and proceed to the ventral complex of the thalamus.\", \"type (gray matter/fiber tract/CNS cavity/developmental/other)\": \"G\", \"parent_structure_id\": 211, \"color_hex_triplet\": \"406290\", \"children\": [], \"text\": \"Spinal nucleus of the trigeminal\"}, {\"id\": 274, \"name\": \"Abducens nucleus\", \"acronym\": \"VIn\", \"definition (description)\": \"An aggregate of cranial nerve motor neurons\\r\\nsituated beneath the fourth ventricle in the pons.\\r\\nThe nucleus receives input from the vestibular nuclear complex and is the source of motor fibers of cranial nerve VI that innervate the lateral rectus muscle of the eye.\", \"type (gray matter/fiber tract/CNS cavity/developmental/other)\": \"G\", \"parent_structure_id\": 211, \"color_hex_triplet\": \"476A9A\", \"children\": [], \"text\": \"Abducens nucleus\"}, {\"id\": 275, \"name\": \"Facial motor nucleus\", \"acronym\": \"VIIn\", \"definition (description)\": \"A large aggregate of somatic motor neurons in the ventrolateral pons dorsal to the superior olive complex. It is the source of the motor fibers of nerve VII that innervate the facial mimetic muscles. Subdivisions of this nucleus innervate different facial muscles.\", \"type (gray matter/fiber tract/CNS cavity/developmental/other)\": \"G\", \"parent_structure_id\": 211, \"color_hex_triplet\": \"5184AF\", \"children\": [], \"text\": \"Facial motor nucleus\"}, {\"id\": 276, \"name\": \"Vestibular nuclear complex\", \"acronym\": \"VNC\", \"definition (description)\": \"A large area in the dorsal medulla, composed of the medial, the lateral, the superior, and the inferior vestibular nuclei. These nuclei get primary sensory input from the vestibular ganglion; their efferents join the medial longitudinal fasciculus and form the vestibulospinal tract. Note: not labeled in Plates but defined/described in the Glossary. This is the definition/description of the nucleus in the adult brain.\", \"type (gray matter/fiber tract/CNS cavity/developmental/other)\": \"G\", \"parent_structure_id\": 211, \"color_hex_triplet\": \"698ABB\", \"children\": [], \"text\": \"Vestibular nuclear complex\"}, {\"id\": 277, \"name\": \"Nucleus ambiguus\", \"acronym\": \"AMB\", \"definition (description)\": \"Aggregate of somatic motor neurons that form a thin column in the ventrolateral medulla. Its axons innervate the muscles of the larynx and pharynx via nerve IX. Note: this is the definition/description of the nucleus in the adult brain.\", \"type (gray matter/fiber tract/CNS cavity/developmental/other)\": \"G\", \"parent_structure_id\": 211, \"color_hex_triplet\": \"475CA9\", \"children\": [], \"text\": \"Nucleus ambiguus\"}, {\"id\": 278, \"name\": \"Dorsal motor nucleus\", \"acronym\": \"Xn\", \"definition (description)\": \"A column of parasympathetic preganglionic motor neurons dorsolateral to the hypoglossal nucleus. Their axons leave the brain incranial *nerve X and terminate in the intramural parasympathetic ganglia supplying the viscera of the thoracic, pericardial, and abdominal cavities. Note: this is the definition/description of the nucleus in the adult brain.\", \"type (gray matter/fiber tract/CNS cavity/developmental/other)\": \"G\", \"parent_structure_id\": 211, \"color_hex_triplet\": \"45599D\", \"children\": [], \"text\": \"Dorsal motor nucleus\"}, {\"id\": 373, \"name\": \"Accessory nucleus\", \"acronym\": \"XIn\", \"definition (description)\": \"A column of motoneurons that extends from the region of the nucleus ambiguus in the medulla to the 5th-6th segments of the cervical spinal cord. Its axons form nerve XI that innervates the sternocleidomastoid and trapezius muscles.\", \"type (gray matter/fiber tract/CNS cavity/developmental/other)\": \"G\", \"parent_structure_id\": 211, \"color_hex_triplet\": \"9393E1\", \"children\": [], \"text\": \"Accessory nucleus\"}, {\"id\": 279, \"name\": \"Hypoglossal nucleus\", \"acronym\": \"XIIn\", \"definition (description)\": \"A column of somatic motor neurons near the floor of the fourth ventricle in the caudal medulla. Their axons form cranial nerve XII that innervate the intrinsic and extrinsic muscles of the tongue. Note: this is the definition/description of the nucleus in the adult brain.\", \"type (gray matter/fiber tract/CNS cavity/developmental/other)\": \"G\", \"parent_structure_id\": 211, \"color_hex_triplet\": \"415492\", \"children\": [], \"text\": \"Hypoglossal nucleus\"}, {\"id\": 212, \"name\": \"Inferior olive\", \"acronym\": \"IO\", \"definition (description)\": \"A distinctive region in the ventrolateral medulla above the pyramids and an important component of the precerebellar system. It contains three nuclei. The large principal nucleus is a convoluted structure with a laminar organization that receives input from the spinal cord, the red nucleus, motor areas of the cerebral cortex, and the central gray. Its axons cross the midline and enter the contralateral inferior cerebellar peduncle and terminate in the cerebellar cortex as climbing fibers. The dorsal accessory olive and the medial accessory olive are small dense bands of neurons above and medial to the principal nucleus. Note: this is the definition/description of the nucleus in the adult brain. The Plates labels include both \\u00efnferior olive complex\\\" and \\\"inferior olive\\\". \", \"type (gray matter/fiber tract/CNS cavity/developmental/other)\": \"G\", \"parent_structure_id\": 211, \"color_hex_triplet\": \"3E4D89\", \"children\": [], \"text\": \"Inferior olive\"}, {\"id\": 213, \"name\": \"Nucleus of Roller\", \"acronym\": \"NR\", \"definition (description)\": \"A large-celled nucleus ventral to the hypoglossal nucleus. Sometimes classified as a component of the perihypoglossal nuclear complex.\", \"type (gray matter/fiber tract/CNS cavity/developmental/other)\": \"G\", \"parent_structure_id\": 211, \"color_hex_triplet\": \"5D6CB2\", \"children\": [], \"text\": \"Nucleus of Roller\"}, {\"id\": 214, \"name\": \"Nucleus prepositus\", \"acronym\": \"PRP\", \"definition (description)\": \"Situated in the dorsomedial medulla, it extends from the anterior part of the hypoglossal nucleus to the posterior part of the abducens nucleus. Note: this is nucleus is sometimes included in the hypoglossal complex.\", \"type (gray matter/fiber tract/CNS cavity/developmental/other)\": \"G\", \"parent_structure_id\": 211, \"color_hex_triplet\": \"5D6CB2\", \"children\": [], \"text\": \"Nucleus prepositus\"}, {\"id\": 305, \"name\": \"Lateral reticular nucleus\", \"acronym\": \"LRN\", \"definition (description)\": \"A relatively discrete group of neurons in the caudal medulla, dorsolateral to the inferior olive. The neurons of this precerebellar relay nucleus receive topographic exteroceptive and proprioceptive afferents from the spinocephalic tract and project ipsilaterally to the cerebellum via the inferior cerebellar peduncle.\", \"type (gray matter/fiber tract/CNS cavity/developmental/other)\": \"G\", \"parent_structure_id\": 211, \"color_hex_triplet\": \"8389C7\", \"children\": [], \"text\": \"Lateral reticular nucleus\"}, {\"id\": 336, \"name\": \"Arcuate nucleus of the medulla\", \"acronym\": \"ARM\", \"definition (description)\": \"A small group of neurons in the ventral part of the pyramids caudal to the pontine gray. The chief afferents to this nucleus are from motor areas in the cerebral cortex. This nucleus provides output to the cerebellum.\", \"type (gray matter/fiber tract/CNS cavity/developmental/other)\": \"G\", \"parent_structure_id\": 211, \"color_hex_triplet\": \"A0A5D4\", \"children\": [], \"text\": \"Arcuate nucleus of the medulla\"}, {\"id\": 430, \"name\": \"Intercalated nucleus of the medulla\", \"acronym\": \"INM\", \"definition (description)\": \"No definition in the Glossary.\", \"type (gray matter/fiber tract/CNS cavity/developmental/other)\": \"G\", \"parent_structure_id\": 0, \"color_hex_triplet\": \"3E4D89\", \"children\": [], \"text\": \"Intercalated nucleus of the medulla\"}], \"text\": \"Medulla\"}], \"text\": \"Hindbrain\"}, {\"id\": 210, \"name\": \"Raphe nuclei\", \"acronym\": \"Raphe\", \"definition (description)\": \"Several smaller and some larger cell aggregates that extend in and near the midline from the midbrain rostrally to the medulla caudally. The raphe cells are the principal source of serotonin-containing fibers distributed along the entire neuraxis from the forebrain to the spinal cord. They are involved, as neuromodulators, in the regulation of sleep, wakefulness and emotional arousal. Note: this is the definition/description of the structure in the adult brain.\", \"type (gray matter/fiber tract/CNS cavity/developmental/other)\": \"G\", \"parent_structure_id\": 205, \"color_hex_triplet\": \"5298AE\", \"children\": [{\"id\": 448, \"name\": \"Dorsal raphe nucleus\", \"acronym\": \"DR\", \"definition (description)\": \"Raphe nucleus located in the rostral midbrain, embedded in the ventral PAG and between the oculomotor nerve, and the trochlear nerve roots. It can be further subdivided.\", \"type (gray matter/fiber tract/CNS cavity/developmental/other)\": \"G\", \"parent_structure_id\": 0, \"color_hex_triplet\": \"5298AE\", \"children\": [], \"text\": \"Dorsal raphe nucleus\"}, {\"id\": 445, \"name\": \"Rostral linear raphe nucleus\", \"acronym\": \"RLI\", \"definition (description)\": \"Small raphe nucleus located in the rostral part of the midbrain, ventral from periaqueductal gray.\", \"type (gray matter/fiber tract/CNS cavity/developmental/other)\": \"G\", \"parent_structure_id\": 0, \"color_hex_triplet\": \"5298AE\", \"children\": [], \"text\": \"Rostral linear raphe nucleus\"}, {\"id\": 446, \"name\": \"Caudal linear raphe nucleus\", \"acronym\": \"CLI\", \"definition (description)\": \"Small raphe nucleus located in the ventral part of the midbrain, midline.\", \"type (gray matter/fiber tract/CNS cavity/developmental/other)\": \"G\", \"parent_structure_id\": 0, \"color_hex_triplet\": \"5298AE\", \"children\": [], \"text\": \"Caudal linear raphe nucleus\"}, {\"id\": 447, \"name\": \"Median raphe nucleus\", \"acronym\": \"MrN\", \"definition (description)\": \"Small raphe nucleus located in the ventralmost part of the rostral midbrain, together with the paramedian raphe nucleus.\", \"type (gray matter/fiber tract/CNS cavity/developmental/other)\": \"G\", \"parent_structure_id\": 0, \"color_hex_triplet\": \"5298AE\", \"children\": [], \"text\": \"Median raphe nucleus\"}, {\"id\": 460, \"name\": \"Raphe magnus nucleus\", \"acronym\": \"RM\", \"definition (description)\": \"Raphe nucleus included in the medulla.\", \"type (gray matter/fiber tract/CNS cavity/developmental/other)\": \"G\", \"parent_structure_id\": 0, \"color_hex_triplet\": \"5298AE\", \"children\": [], \"text\": \"Raphe magnus nucleus\"}, {\"id\": 461, \"name\": \"Raphe interpositus nucleus\", \"acronym\": \"RIP\", \"definition (description)\": \"Raphe nucleus included in the medulla, possible as a part of the raphe magnus.\", \"type (gray matter/fiber tract/CNS cavity/developmental/other)\": \"G\", \"parent_structure_id\": 0, \"color_hex_triplet\": \"5298AE\", \"children\": [], \"text\": \"Raphe interpositus nucleus\"}, {\"id\": 462, \"name\": \"Raphe pallidus nucleus\", \"acronym\": \"RPA\", \"definition (description)\": \"Raphe nucleus included in the medulla, needs a definition.\", \"type (gray matter/fiber tract/CNS cavity/developmental/other)\": \"G\", \"parent_structure_id\": 0, \"color_hex_triplet\": \"5298AE\", \"children\": [], \"text\": \"Raphe pallidus nucleus\"}, {\"id\": 463, \"name\": \"Raphe obscurus nucleus\", \"acronym\": \"RO\", \"definition (description)\": \"Raphe nucleus included in the medulla, needs a definition.\", \"type (gray matter/fiber tract/CNS cavity/developmental/other)\": \"G\", \"parent_structure_id\": 0, \"color_hex_triplet\": \"5298AE\", \"children\": [], \"text\": \"Raphe obscurus nucleus\"}], \"text\": \"Raphe nuclei\"}], \"text\": \"Brainstem\"}, {\"id\": 215, \"name\": \"Cerebellum\", \"acronym\": \"CB\", \"type (gray matter/fiber tract/CNS cavity/developmental/other)\": \"G\", \"parent_structure_id\": 1, \"color_hex_triplet\": \"FFB3B3\", \"children\": [{\"id\": 216, \"name\": \"Cerebellar cortex\", \"acronym\": \"CBX\", \"type (gray matter/fiber tract/CNS cavity/developmental/other)\": \"G\", \"parent_structure_id\": 215, \"color_hex_triplet\": \"FF9F9F\", \"children\": [{\"id\": 218, \"name\": \"Vermis\", \"acronym\": \"VERM\", \"definition (description)\": \"Midline portion of the cerebellar cortex. It is divided by large fissures into four lobes with a total of ten lobules: anterior lobe (I-V), central lobe (VI-VIII), posterior lobe (IX), and inferior lobe (X).\", \"type (gray matter/fiber tract/CNS cavity/developmental/other)\": \"G\", \"parent_structure_id\": 216, \"color_hex_triplet\": \"FF9F9F\", \"children\": [{\"id\": 348, \"name\": \"Anterior lobe of cerebellum (H_V)\", \"acronym\": \"CBX-Ant\", \"definition (description)\": \"Region of  the  vermis and hemispheres in front of the primary fissure. It contains the lingula, centralis and culmen in the vermis, and their extensions in the hemispheres.\", \"type (gray matter/fiber tract/CNS cavity/developmental/other)\": \"G\", \"parent_structure_id\": 218, \"color_hex_triplet\": \"FF9F9F\", \"children\": [{\"id\": 349, \"name\": \"Lingula (I-II)\", \"acronym\": \"LING\", \"definition (description)\": \"The ventral lobule of the anterior lobe of the cerebellar vermis with a tongue-like projection over the surface of the superior cerebellar peduncle. This lobule does not extend to the hemispheres.\", \"type (gray matter/fiber tract/CNS cavity/developmental/other)\": \"G\", \"parent_structure_id\": 348, \"color_hex_triplet\": \"FF9F9F\", \"children\": [], \"text\": \"Lingula (I-II)\"}, {\"id\": 350, \"name\": \"Centralis (III)\", \"acronym\": \"CENT\", \"definition (description)\": \"The middle lobule in the anterior lobe of the cerebellar vermis between the lingula and the culmen. Its posterodorsal border is defined by the preculminate fissure.\", \"type (gray matter/fiber tract/CNS cavity/developmental/other)\": \"G\", \"parent_structure_id\": 348, \"color_hex_triplet\": \"FF9F9F\", \"children\": [], \"text\": \"Centralis (III)\"}, {\"id\": 351, \"name\": \"Culmen (IV-V)\", \"acronym\": \"CUL\", \"definition (description)\": \"The largest lobule in the anterior lobe of the cerebellar vermis. It is separated from the centralis by the preculminate fissure and from the declive in the central lobe by the primary fissure. The anterior lobe in the cerebellar hemispheres is mainly a lateral extension of the culmen.\", \"type (gray matter/fiber tract/CNS cavity/developmental/other)\": \"G\", \"parent_structure_id\": 348, \"color_hex_triplet\": \"FF9F9F\", \"children\": [], \"text\": \"Culmen (IV-V)\"}], \"text\": \"Anterior lobe of cerebellum (H_V)\"}, {\"id\": 352, \"name\": \"Central lobe of cerebellum\", \"acronym\": \"CBX-Cent\", \"definition (description)\": \"The vermal lobe that contains the latest maturing regions of the cerebellar cortex. It includes the declive, folium, tuber, and pyramis. It is separated from the anterior lobe by the primary fissure and from the posterior lobe by the posterolateral fissure. The lateral extension of the central lobe forms the main bulk of the hemisphere, including crus I and crus II of the ansiform lobule, the biventral lobule, the paramedian lobule, and the simplex lobule.\", \"type (gray matter/fiber tract/CNS cavity/developmental/other)\": \"G\", \"parent_structure_id\": 216, \"color_hex_triplet\": \"FF9F9F\", \"children\": [{\"id\": 353, \"name\": \"Declive (VI)\", \"acronym\": \"DEC\", \"definition (description)\": \"The most anterior lobule of the vermal central lobe. Its anterior border is defined by the primary fissure. The declive is continuous with the simplex lobule in the hemisphere. Note: it includes several sublobules.\", \"type (gray matter/fiber tract/CNS cavity/developmental/other)\": \"G\", \"parent_structure_id\": 352, \"color_hex_triplet\": \"FF9F9F\", \"children\": [], \"text\": \"Declive (VI)\"}, {\"id\": 354, \"name\": \"Folium (VIIa)\", \"acronym\": \"FOL\", \"definition (description)\": \"Component of the central lobe, anterior to the tuber. The hemispheric extension of the folium is crus I of the ansiform lobule. Together with the tuber, this is a late-maturing region of the cerebellar cortex.\", \"type (gray matter/fiber tract/CNS cavity/developmental/other)\": \"G\", \"parent_structure_id\": 352, \"color_hex_triplet\": \"FF9F9F\", \"children\": [], \"text\": \"Folium (VIIa)\"}, {\"id\": 355, \"name\": \"Tuber (VIIb)\", \"acronym\": \"TUB\", \"definition (description)\": \"The vermal lobule posterior to the folium. The tuber is continuous with crus II of the ansiform lobule (HVIIA) and the paramedian lobule (HVIIB) in the hemispheres. Together with the folium, the tuber is a late-maturing region of the cerebellar cortex.\", \"type (gray matter/fiber tract/CNS cavity/developmental/other)\": \"G\", \"parent_structure_id\": 352, \"color_hex_triplet\": \"FF9F9F\", \"children\": [], \"text\": \"Tuber (VIIb)\"}, {\"id\": 356, \"name\": \"Pyramis (VIII)\", \"acronym\": \"PYR\", \"definition (description)\": \"Triangular vermal lobule in the posterior central lobe that is continuous with the paramedian and biventral lobules of the cerebellar hemispheres. It is bounded anteriorly by the prepyramidal fissure and is separated from the posterior lobe by the secondary fissure.\", \"type (gray matter/fiber tract/CNS cavity/developmental/other)\": \"G\", \"parent_structure_id\": 352, \"color_hex_triplet\": \"FF9F9F\", \"children\": [], \"text\": \"Pyramis (VIII)\"}], \"text\": \"Central lobe of cerebellum\"}, {\"id\": 357, \"name\": \"Uvula (IX)\", \"acronym\": \"UVU\", \"definition (description)\": \"A large lobule in the cerebellar vermis that is coextensive with the posterior lobe, and is continuous with the paraflocculus in the hemispheres. It is bounded anteriorly by the secondary fissure, and posteriorly by the posterolateral fissure. The uvula is part of\\r\\nthe \\u201cvestibulo-cerebellum,\\u201d receiving massive input from the vestibular nuclear complex as well as primary sensory input from the vestibular ganglion.\", \"type (gray matter/fiber tract/CNS cavity/developmental/other)\": \"G\", \"parent_structure_id\": 216, \"color_hex_triplet\": \"FF9F9F\", \"children\": [], \"text\": \"Uvula (IX)\"}, {\"id\": 358, \"name\": \"Nodulus (X)\", \"acronym\": \"NOD\", \"definition (description)\": \"Cerebellar lobule coextensive with the inferior lobe of the cerebellar vermis. It is separated from the posterior lobe by the posterolateral fissure. It is continuous, via the floccular peduncle, with the flocculus in the hemisphere. The nodulus gets extensive primary vestibular input from the vestibular ganglion and secondary input from the vestibular nuclear complex.\", \"type (gray matter/fiber tract/CNS cavity/developmental/other)\": \"G\", \"parent_structure_id\": 216, \"color_hex_triplet\": \"FF9F9F\", \"children\": [], \"text\": \"Nodulus (X)\"}], \"text\": \"Vermis\"}, {\"id\": 219, \"name\": \"Cerebellar hemispheres\", \"acronym\": \"HEM\", \"definition (description)\": \"Portion of the cerebellar cortex situated on either side of the midline vermis. Its principal components are the simplex lobule, crus I and II of the ansiform lobule, the flocculus, and the paraflocculus.\", \"type (gray matter/fiber tract/CNS cavity/developmental/other)\": \"G\", \"parent_structure_id\": 215, \"color_hex_triplet\": \"FF9F9F\", \"children\": [{\"id\": 359, \"name\": \"Simplex lobule (HVI)\", \"acronym\": \"SIM\", \"type (gray matter/fiber tract/CNS cavity/developmental/other)\": \"G\", \"parent_structure_id\": 219, \"color_hex_triplet\": \"FF9F9F\", \"children\": [], \"text\": \"Simplex lobule (HVI)\"}, {\"id\": 360, \"name\": \"Ansiform lobule (HVIIA)\", \"acronym\": \"AN\", \"type (gray matter/fiber tract/CNS cavity/developmental/other)\": \"G\", \"parent_structure_id\": 219, \"color_hex_triplet\": \"FF9F9F\", \"children\": [{\"id\": 361, \"name\": \"Ansiform lobule, crus I\", \"acronym\": \"CRUSI\", \"type (gray matter/fiber tract/CNS cavity/developmental/other)\": \"G\", \"parent_structure_id\": 360, \"color_hex_triplet\": \"FF9F9F\", \"children\": [], \"text\": \"Ansiform lobule, crus I\"}, {\"id\": 362, \"name\": \"Anisform lobule, crus II\", \"acronym\": \"CRUSII\", \"type (gray matter/fiber tract/CNS cavity/developmental/other)\": \"G\", \"parent_structure_id\": 360, \"color_hex_triplet\": \"FF9F9F\", \"children\": [], \"text\": \"Anisform lobule, crus II\"}], \"text\": \"Ansiform lobule (HVIIA)\"}, {\"id\": 363, \"name\": \"Paramedian lobules (HVIIB)\", \"acronym\": \"PRM\", \"type (gray matter/fiber tract/CNS cavity/developmental/other)\": \"G\", \"parent_structure_id\": 219, \"color_hex_triplet\": \"FF9F9F\", \"children\": [], \"text\": \"Paramedian lobules (HVIIB)\"}, {\"id\": 364, \"name\": \"Biventral lobule (HVIII)\", \"acronym\": \"BVL\", \"type (gray matter/fiber tract/CNS cavity/developmental/other)\": \"G\", \"parent_structure_id\": 219, \"color_hex_triplet\": \"FF9F9F\", \"children\": [], \"text\": \"Biventral lobule (HVIII)\"}, {\"id\": 365, \"name\": \"Flocculus (HX)\", \"acronym\": \"FLO\", \"type (gray matter/fiber tract/CNS cavity/developmental/other)\": \"G\", \"parent_structure_id\": 219, \"color_hex_triplet\": \"FF9F9F\", \"children\": [], \"text\": \"Flocculus (HX)\"}, {\"id\": 366, \"name\": \"Parafloccculus (HIX)\", \"acronym\": \"PFLO\", \"type (gray matter/fiber tract/CNS cavity/developmental/other)\": \"G\", \"parent_structure_id\": 219, \"color_hex_triplet\": \"FF9F9F\", \"children\": [], \"text\": \"Parafloccculus (HIX)\"}], \"text\": \"Cerebellar hemispheres\"}], \"text\": \"Cerebellar cortex\"}, {\"id\": \"217\", \"name\": \"Cerebellar nuclei\", \"acronym\": \"CBN\", \"type (gray matter/fiber tract/CNS cavity/developmental/other)\": \"G\", \"parent_structure_id\": \"215\", \"color_hex_triplet\": \"FF7171\", \"children\": [{\"id\": 220, \"name\": \"Fastigial nucleus\", \"acronym\": \"FN\", \"type (gray matter/fiber tract/CNS cavity/developmental/other)\": \"G\", \"parent_structure_id\": 432, \"color_hex_triplet\": \"FF7171\", \"children\": [], \"text\": \"Fastigial nucleus\"}, {\"id\": 221, \"name\": \"Interposed nucleus\", \"acronym\": \"IP\", \"type (gray matter/fiber tract/CNS cavity/developmental/other)\": \"G\", \"parent_structure_id\": 432, \"color_hex_triplet\": \"FF7171\", \"children\": [], \"text\": \"Interposed nucleus\"}, {\"id\": 222, \"name\": \"Dentate nucleus\", \"acronym\": \"DN\", \"definition (description)\": \"Lobulated and largest of the cerebellar deep nuclei, also known as the lateral cerebellar nucleus. Situated in the core of the cerebellar hemispheres, the dentate nucleus is the principal source of efferent fibers of the superior cerebellar peduncle.\", \"type (gray matter/fiber tract/CNS cavity/developmental/other)\": \"G\", \"parent_structure_id\": 432, \"color_hex_triplet\": \"FF7171\", \"children\": [], \"text\": \"Dentate nucleus\"}], \"text\": \"Cerebellar nuclei\"}, {\"id\": 223, \"name\": \"Germinal trigone\", \"acronym\": \"TRI\", \"definition (description)\": \"Proliferative germinal matrix in the fourth ventricle beneath the nodulus that contains three prongs: the cerebellar neuroepithelium/glioepithelium, the choroid plexus, and the external germinal layer. Note: organized here as part of the cererebellum.\", \"type (gray matter/fiber tract/CNS cavity/developmental/other)\": \"D\", \"parent_structure_id\": 215, \"color_hex_triplet\": \"775F5F\", \"children\": [], \"text\": \"Germinal trigone\"}], \"text\": \"Cerebellum\"}], \"text\": \"Brain\"}, {\"id\": 231, \"name\": \"Spinal cord\", \"acronym\": \"SP\", \"type (gray matter/fiber tract/CNS cavity/developmental/other)\": \"G\", \"parent_structure_id\": 0, \"color_hex_triplet\": \"C0C1C2\", \"children\": [{\"id\": 317, \"name\": \"Dorsal gray of the spinal cord\", \"acronym\": \"DGSC\", \"definition (description)\": \"Wing-shaped region of the spinal gray matter, the target of dorsal root afferents or their collaterals. Its principal component is the smallcelled substantia gelatinosa. The neurons of the dorsal gray matter originate in the neuroepithelium flanking the transient dorsal spinal canal.\", \"type (gray matter/fiber tract/CNS cavity/developmental/other)\": \"G\", \"parent_structure_id\": 231, \"color_hex_triplet\": \"AFB0B1\", \"children\": [], \"text\": \"Dorsal gray of the spinal cord\"}, {\"id\": 367, \"name\": \"Dorsal horn\", \"acronym\": \"DH\", \"type (gray matter/fiber tract/CNS cavity/developmental/other)\": \"G\", \"parent_structure_id\": 231, \"color_hex_triplet\": \"AFB0B1\", \"children\": [], \"text\": \"Dorsal horn\"}, {\"id\": 368, \"name\": \"Intermediate gray of the spinal cord\", \"acronym\": \"IH\", \"type (gray matter/fiber tract/CNS cavity/developmental/other)\": \"G\", \"parent_structure_id\": 231, \"color_hex_triplet\": \"B1B2B3\", \"children\": [], \"text\": \"Intermediate gray of the spinal cord\"}, {\"id\": 369, \"name\": \"Central gray of the spinal cord\", \"acronym\": \"CG\", \"type (gray matter/fiber tract/CNS cavity/developmental/other)\": \"G\", \"parent_structure_id\": 231, \"color_hex_triplet\": \"ACADAE\", \"children\": [], \"text\": \"Central gray of the spinal cord\"}, {\"id\": 370, \"name\": \"Ventral gray of the spinal cord\", \"acronym\": \"VG\", \"type (gray matter/fiber tract/CNS cavity/developmental/other)\": \"G\", \"parent_structure_id\": 231, \"color_hex_triplet\": \"ADAEAF\", \"children\": [], \"text\": \"Ventral gray of the spinal cord\"}, {\"id\": 371, \"name\": \"Ventral horn\", \"acronym\": \"VH\", \"type (gray matter/fiber tract/CNS cavity/developmental/other)\": \"G\", \"parent_structure_id\": 231, \"color_hex_triplet\": \"B3B4B5\", \"children\": [], \"text\": \"Ventral horn\"}], \"text\": \"Spinal cord\"}, {\"id\": 5000, \"name\": \"Developmental (transient) structures\", \"acronym\": \"dev\", \"type (gray matter/fiber tract/CNS cavity/developmental/other)\": \"D\", \"parent_structure_id\": 0, \"color_hex_triplet\": \"775F5F\", \"children\": [{\"id\": 158, \"name\": \"Ganglionic eminence\", \"acronym\": \"GE\", \"type (gray matter/fiber tract/CNS cavity/developmental/other)\": \"D\", \"parent_structure_id\": 3, \"color_hex_triplet\": \"775F5F\", \"children\": [], \"text\": \"Ganglionic eminence\"}, {\"id\": 442, \"name\": \"Migratory streams\", \"acronym\": \"Mss\", \"definition (description)\": \"Generic category of identified and generic groups of migratory neurons and glia in the developing brain.\", \"type (gray matter/fiber tract/CNS cavity/developmental/other)\": \"D\", \"parent_structure_id\": 0, \"color_hex_triplet\": \"775F5F\", \"children\": [{\"id\": 441, \"name\": \"Migratory stream, general\", \"acronym\": \"Ms-g\", \"definition (description)\": \"Generic group of migratory neurons and glia in the developing brain.\", \"type (gray matter/fiber tract/CNS cavity/developmental/other)\": \"D\", \"parent_structure_id\": 0, \"color_hex_triplet\": \"775F5F\", \"children\": [], \"text\": \"Migratory stream, general\"}, {\"id\": 156, \"name\": \"Lateral migratory stream\", \"acronym\": \"Lms\", \"definition (description)\": \"Tangentially migrating neurons and glia in the developing cerebral cortex that leave dorsal cortical NEP [neuroepithelium] and migrate laterally and ventrally to the insula, the temporal lobe, and other telencephalic structures that lack a nearby germinal matrix. The bulk of the lateral migratory stream follows a trajectory outlined by the receding subventricular zone between the basal ganglia and the lateral cortex. Note: considered here as a developmental telencephalic structure.\", \"type (gray matter/fiber tract/CNS cavity/developmental/other)\": \"D\", \"parent_structure_id\": 0, \"color_hex_triplet\": \"775F5F\", \"children\": [], \"text\": \"Lateral migratory stream\"}, {\"id\": 157, \"name\": \"Rostral migratory stream\", \"acronym\": \"Rms\", \"definition (description)\": \"A large stream of mitotic and postmitotic cells in the forebrain extending from the rostral lateral ventricle to the olfactory bulb. It is a source of neurons \\u2013 such as the late-generated granule cells of the olfactory bulb \\u2013 and neuroglia, and persists after the neuroepithelium has receded or disappeared at most brain sites.\", \"type (gray matter/fiber tract/CNS cavity/developmental/other)\": \"D\", \"parent_structure_id\": 0, \"color_hex_triplet\": \"775F5F\", \"children\": [], \"text\": \"Rostral migratory stream\"}], \"text\": \"Migratory streams\"}, {\"id\": 1023, \"name\": \"Frontal neuroepithelium\", \"acronym\": \"ftctxn\", \"definition (description)\": \"Note: no definition. Need to find a good definition\", \"type (gray matter/fiber tract/CNS cavity/developmental/other)\": \"D\", \"parent_structure_id\": 5000, \"color_hex_triplet\": \"775F5F\", \"children\": [], \"text\": \"Frontal neuroepithelium\"}, {\"id\": 1022, \"name\": \"Orbitofrontal neuroepithelium\", \"acronym\": \"orbn\", \"definition (description)\": \"Note: no definition. Need to find a good definition\", \"type (gray matter/fiber tract/CNS cavity/developmental/other)\": \"D\", \"parent_structure_id\": 5000, \"color_hex_triplet\": \"775F5F\", \"children\": [], \"text\": \"Orbitofrontal neuroepithelium\"}, {\"id\": 1015, \"name\": \"Cingulate neuroepithelium\", \"acronym\": \"cingn\", \"definition (description)\": \"Putative source of the neurons and glia of the cingulate gyrus. It is flanked by the cingulate subventricular zone and stratified transitional field before the sojourning and migrating neurons settle in the cortical plate.\", \"type (gray matter/fiber tract/CNS cavity/developmental/other)\": \"D\", \"parent_structure_id\": 5000, \"color_hex_triplet\": \"775F5F\", \"children\": [], \"text\": \"Cingulate neuroepithelium\"}, {\"id\": 1021, \"name\": \"Parietal lobe neuroepithelium and subventricular zone\", \"acronym\": \"parn\", \"definition (description)\": \"Note: no definition. Need to find a good definition\", \"type (gray matter/fiber tract/CNS cavity/developmental/other)\": \"D\", \"parent_structure_id\": 5000, \"color_hex_triplet\": \"775F5F\", \"children\": [], \"text\": \"Parietal lobe neuroepithelium and subventricular zone\"}, {\"id\": 1019, \"name\": \"Temporal lobe neuroepithelium\", \"acronym\": \"tempn\", \"type (gray matter/fiber tract/CNS cavity/developmental/other)\": \"D\", \"parent_structure_id\": 5000, \"color_hex_triplet\": \"775F5F\", \"children\": [], \"text\": \"Temporal lobe neuroepithelium\"}, {\"id\": 1018, \"name\": \"Parahippocampal neuroepithelium\", \"acronym\": \"phipn\", \"definition (description)\": \"Putative source of the neurons and glia of the parahippocampal gyrus. It is flanked by the parahippocampal subventricular zone and the parahippocampal stratified transitional field before all its neurons settle in the cortical plate.\", \"type (gray matter/fiber tract/CNS cavity/developmental/other)\": \"D\", \"parent_structure_id\": 5000, \"color_hex_triplet\": \"775F5F\", \"children\": [], \"text\": \"Parahippocampal neuroepithelium\"}, {\"id\": 1016, \"name\": \"Hippocampal glioepithelium/ependyma\", \"acronym\": \"hipg\", \"definition (description)\": \"The thin dense cellular layer at the ventricular lining of the hippocampus that marks the site occupied earlier by the hippocampal neuroepithelium.\", \"type (gray matter/fiber tract/CNS cavity/developmental/other)\": \"D\", \"parent_structure_id\": 5000, \"color_hex_triplet\": \"775F5F\", \"children\": [], \"text\": \"Hippocampal glioepithelium/ependyma\"}, {\"id\": 1020, \"name\": \"Occipital lobe neuroepithelium and subventricular zone\", \"acronym\": \"ocn\", \"type (gray matter/fiber tract/CNS cavity/developmental/other)\": \"D\", \"parent_structure_id\": 5000, \"color_hex_triplet\": \"775F5F\", \"children\": [], \"text\": \"Occipital lobe neuroepithelium and subventricular zone\"}, {\"id\": 1024, \"name\": \"Accumbent neuroepithelium\", \"acronym\": \"acbn\", \"definition (description)\": \"Putative germinal source of the neurons and neuroglia of the nucleus accumbens. After cessation of neurogenesis, this germinal matrix is transformed into a glioepithelium.\", \"type (gray matter/fiber tract/CNS cavity/developmental/other)\": \"D\", \"parent_structure_id\": 5000, \"color_hex_triplet\": \"775F5F\", \"children\": [], \"text\": \"Accumbent neuroepithelium\"}, {\"id\": 1000, \"name\": \"Diencephalic neuroepithelium\", \"acronym\": \"dne\", \"definition (description)\": \"The germinal matrix lining the embryonic third ventricle. It is the source of neurons and glia of all components of the diencephalon. Its different subdivisions produce cells for the different regions or nuclei of the thalamus, hypothalamus, and preoptic area.\", \"type (gray matter/fiber tract/CNS cavity/developmental/other)\": \"D\", \"parent_structure_id\": 5000, \"color_hex_triplet\": \"775F5F\", \"children\": [], \"text\": \"Diencephalic neuroepithelium\"}, {\"id\": 1001, \"name\": \"Thalamic glioepithelium/ependyma\", \"acronym\": \"tg\", \"definition (description)\": \"Is this a part of the diencephalic neuroepithelium?\", \"type (gray matter/fiber tract/CNS cavity/developmental/other)\": \"D\", \"parent_structure_id\": 5000, \"color_hex_triplet\": \"775F5F\", \"children\": [], \"text\": \"Thalamic glioepithelium/ependyma\"}, {\"id\": 1002, \"name\": \"Epithalamic glioepithelium/ependyma\", \"acronym\": \"eg\", \"definition (description)\": \"Not defined/described in the Glossary, but labeled in Plates (eg Plate 175B, page 349).\", \"type (gray matter/fiber tract/CNS cavity/developmental/other)\": \"D\", \"parent_structure_id\": 5000, \"color_hex_triplet\": \"775F5F\", \"children\": [], \"text\": \"Epithalamic glioepithelium/ependyma\"}, {\"id\": 1003, \"name\": \"Hypothalamic glioepithelium/ependyma\", \"acronym\": \"hg\", \"type (gray matter/fiber tract/CNS cavity/developmental/other)\": \"D\", \"parent_structure_id\": 5000, \"color_hex_triplet\": \"775F5F\", \"children\": [], \"text\": \"Hypothalamic glioepithelium/ependyma\"}, {\"id\": 1004, \"name\": \"Mammillary glioepithelium/ependyma\", \"acronym\": \"mg\", \"definition (description)\": \"Note: not defined/described in the Glossary, but labeled in Plates (e.g. Plate 174B, page 347).\", \"type (gray matter/fiber tract/CNS cavity/developmental/other)\": \"D\", \"parent_structure_id\": 5000, \"color_hex_triplet\": \"775F5F\", \"children\": [], \"text\": \"Mammillary glioepithelium/ependyma\"}, {\"id\": 1005, \"name\": \"Preoptic glioepithelium/ependyma\", \"acronym\": \"prgl\", \"definition (description)\": \"Note: not defined/described in the Glossary, but labeled in Plates (e.g. Plate 103B, page 207).\", \"type (gray matter/fiber tract/CNS cavity/developmental/other)\": \"D\", \"parent_structure_id\": 5000, \"color_hex_triplet\": \"775F5F\", \"children\": [], \"text\": \"Preoptic glioepithelium/ependyma\"}, {\"id\": 1006, \"name\": \"Mesencephalic neuroepithelium\", \"acronym\": \"mn\", \"definition (description)\": \"Primary germinal matrix that lines the embryonic aqueduct. Its different subdivisions produce neurons and glia for the superior colliculus, the inferior colliculus, the central gray, and the tegmentum. In the third trimester, this germinal matrix has already been transformed into a glioepithelium/ependyma.\", \"type (gray matter/fiber tract/CNS cavity/developmental/other)\": \"D\", \"parent_structure_id\": 5000, \"color_hex_triplet\": \"775F5F\", \"children\": [], \"text\": \"Mesencephalic neuroepithelium\"}, {\"id\": 1025, \"name\": \"Rhombencephalic neuroepithelium\", \"acronym\": \"rhn\", \"definition (description)\": \"Collator note: primary germinal matrix for the nuclei that arise from rhombencephalon. No good definition yet.\", \"type (gray matter/fiber tract/CNS cavity/developmental/other)\": \"D\", \"parent_structure_id\": 5000, \"color_hex_triplet\": \"775F5F\", \"children\": [], \"text\": \"Rhombencephalic neuroepithelium\"}, {\"id\": 1007, \"name\": \"Medullary glioepithelium/ependyma\", \"acronym\": \"meg\", \"definition (description)\": \"Primary germinal matrix that lines the core and recesses of the posterior embryonic fourth ventricle. Its several subdivisions are the source of neurons and glia of the different sensory, relay and motor nuclei of the medulla. During the second trimester, the medullary neuroepithelium has already been transformed into a glioepithelium/ependyma.\", \"type (gray matter/fiber tract/CNS cavity/developmental/other)\": \"D\", \"parent_structure_id\": 5000, \"color_hex_triplet\": \"775F5F\", \"children\": [], \"text\": \"Medullary glioepithelium/ependyma\"}, {\"id\": 1008, \"name\": \"Precerebellar neuroepithelium\", \"acronym\": \"pcbn\", \"definition (description)\": \"Dorsal medullary germinal source of precerebellar neurons throughout the pons and medulla. Progeny of its anterior subdivision migrate rostrally to the pons in the anterior extramural migratory stream to settle in the pontine gray and the reticular tegmental nucleus. Progeny of its posterior subdivision migrate caudally within the medullary parenchyma (intramural migratory stream) to the inferior olive complex and beneath the pia in the posterior extramural migratory stream to the lateral reticular nucleus, and the external cuneate nucleus on the opposite side of the brain.\", \"type (gray matter/fiber tract/CNS cavity/developmental/other)\": \"D\", \"parent_structure_id\": 5000, \"color_hex_triplet\": \"775F5F\", \"children\": [], \"text\": \"Precerebellar neuroepithelium\"}, {\"id\": 1009, \"name\": \"External germinal layer, cerebellum\", \"acronym\": \"CBXext\", \"definition (description)\": \"Subpial, secondary germinal matrix of the cerebellar cortex, the source of its granule, stellate, and basket cells. It has two components, an outer proliferative zone and an inner premigratory zone. It persists as a source of neurons over the surface of the human cerebellar cortex until the end of the second year of postnatal life.\", \"type (gray matter/fiber tract/CNS cavity/developmental/other)\": \"D\", \"parent_structure_id\": 5000, \"color_hex_triplet\": \"775F5F\", \"children\": [], \"text\": \"External germinal layer, cerebellum\"}, {\"id\": 1010, \"name\": \"Cerebellar glioepithelium/ependym\", \"acronym\": \"CB-g\", \"definition (description)\": \"Situated beneath the superior cerebellar peduncle in the roof of the fourth ventricle, this is a remnant of the cerebellar neuroepithelium that is present during earlier stages of brain development. It is possibly the source of glia of some of the cerebellar peduncles and the white matter of the medullary layer.\", \"type (gray matter/fiber tract/CNS cavity/developmental/other)\": \"D\", \"parent_structure_id\": 5000, \"color_hex_triplet\": \"775F5F\", \"children\": [], \"text\": \"Cerebellar glioepithelium/ependym\"}, {\"id\": 1013, \"name\": \"Strionuclear glioepithelium\", \"acronym\": \"str-g\", \"definition (description)\": \"Putative source of the glia of the stria terminalis, stria medullaris, and possibly other nearby fiber tracts.\", \"type (gray matter/fiber tract/CNS cavity/developmental/other)\": \"D\", \"parent_structure_id\": 5000, \"color_hex_triplet\": \"775F5F\", \"children\": [], \"text\": \"Strionuclear glioepithelium\"}, {\"id\": 1014, \"name\": \"Callosal glioepithelium\", \"acronym\": \"cc-gli\", \"definition (description)\": \"Proliferative germinal matrix that lines the corpus callosum in the fetal cerebral cortex. It is the putative source of the myelinating oligodendroglia of the corpus callosum.\", \"type (gray matter/fiber tract/CNS cavity/developmental/other)\": \"D\", \"parent_structure_id\": 5000, \"color_hex_triplet\": \"775F5F\", \"children\": [], \"text\": \"Callosal glioepithelium\"}, {\"id\": 1026, \"name\": \"Transient cell zone in the external capsule\", \"acronym\": \"tcet\", \"definition (description)\": \"Note: no definition, term borrowed from the AIBS nomenclature. Need to find a good definition\", \"type (gray matter/fiber tract/CNS cavity/developmental/other)\": \"D\", \"parent_structure_id\": 5000, \"color_hex_triplet\": \"775F5F\", \"children\": [], \"text\": \"Transient cell zone in the external capsule\"}, {\"id\": 1027, \"name\": \"Transient cell zone in the extreme capsule\", \"acronym\": \"tcete\", \"definition (description)\": \"Note: no definition, term borrowed from the AIBS nomenclature. Need to find a good definition\", \"type (gray matter/fiber tract/CNS cavity/developmental/other)\": \"D\", \"parent_structure_id\": 5000, \"color_hex_triplet\": \"775F5F\", \"children\": [], \"text\": \"Transient cell zone in the extreme capsule\"}, {\"id\": 1028, \"name\": \"Calossal sling\", \"acronym\": \"cs\", \"definition (description)\": \"Note: no definition. Need to find a good definition\", \"type (gray matter/fiber tract/CNS cavity/developmental/other)\": \"D\", \"parent_structure_id\": 5000, \"color_hex_triplet\": \"775F5F\", \"children\": [], \"text\": \"Calossal sling\"}], \"text\": \"Developmental (transient) structures\"}, {\"id\": 3000, \"name\": \"Fiber tracts\", \"acronym\": \"ft\", \"type (gray matter/fiber tract/CNS cavity/developmental/other)\": \"F\", \"parent_structure_id\": 0, \"color_hex_triplet\": \"C0C1C2\", \"children\": [{\"id\": 455, \"name\": \"Oculomotor nerve\", \"acronym\": \"III\", \"definition (description)\": \"No definition.\", \"type (gray matter/fiber tract/CNS cavity/developmental/other)\": \"F\", \"parent_structure_id\": 0, \"color_hex_triplet\": \"9F9F9F\", \"children\": [], \"text\": \"Oculomotor nerve\"}, {\"id\": 468, \"name\": \"Trochlear nerve\", \"acronym\": \"IV\", \"definition (description)\": \"No definition.\", \"type (gray matter/fiber tract/CNS cavity/developmental/other)\": \"F\", \"parent_structure_id\": 0, \"color_hex_triplet\": \"9F9F9F\", \"children\": [], \"text\": \"Trochlear nerve\"}, {\"id\": 469, \"name\": \"Trigeminal nerve\", \"acronym\": \"V\", \"definition (description)\": \"No definition.\", \"type (gray matter/fiber tract/CNS cavity/developmental/other)\": \"F\", \"parent_structure_id\": 0, \"color_hex_triplet\": \"9F9F9F\", \"children\": [], \"text\": \"Trigeminal nerve\"}, {\"id\": 466, \"name\": \"Abducens nerve\", \"acronym\": \"VI\", \"definition (description)\": \"No definition.\", \"type (gray matter/fiber tract/CNS cavity/developmental/other)\": \"F\", \"parent_structure_id\": 0, \"color_hex_triplet\": \"9F9F9F\", \"children\": [], \"text\": \"Abducens nerve\"}, {\"id\": 467, \"name\": \"Facial nerve\", \"acronym\": \"VII\", \"definition (description)\": \"No definition.\", \"type (gray matter/fiber tract/CNS cavity/developmental/other)\": \"F\", \"parent_structure_id\": 0, \"color_hex_triplet\": \"9F9F9F\", \"children\": [], \"text\": \"Facial nerve\"}, {\"id\": 232, \"name\": \"Corticofugal tract\", \"acronym\": \"cortf\", \"definition (description)\": \"Collective term for the efferent fiber system that originates in the cerebral cortex and terminates in subcortical structures. It is known by different names as it passes from rostral to caudal: internal capsule, cerebral peduncle, transpontine corticofugal tract, pyramid, pyramidal decussation, and corticospinal tract.\", \"type (gray matter/fiber tract/CNS cavity/developmental/other)\": \"F\", \"parent_structure_id\": 3000, \"color_hex_triplet\": \"9F9F9F\", \"children\": [{\"id\": 242, \"name\": \"Cerebral peduncle\", \"acronym\": \"cp\", \"definition (description)\": \"Fiber mass along the ventrolateral aspect of the diencephalon and mesencephalon. The term refers to fibers of the corticofugal tract between the internal capsule rostrally and the transpontine corticofugal tract caudally.\", \"type (gray matter/fiber tract/CNS cavity/developmental/other)\": \"F\", \"parent_structure_id\": 232, \"color_hex_triplet\": \"9F9F9F\", \"children\": [], \"text\": \"Cerebral peduncle\"}, {\"id\": 233, \"name\": \"Corticospinal tract\", \"acronym\": \"corts\", \"definition (description)\": \"Component of the corticofugal tract that targets the spinal cord. The bulk of the corticospinal fibers cross in the pyramid of the medulla and descend from cervical to sacral levels in the lateral corticospinal tract. A smaller component descends ipsilaterally in the ventral corticospinal tract.\", \"type (gray matter/fiber tract/CNS cavity/developmental/other)\": \"F\", \"parent_structure_id\": 232, \"color_hex_triplet\": \"9F9F9F\", \"children\": [], \"text\": \"Corticospinal tract\"}, {\"id\": 234, \"name\": \"Lateral corticospinal tract\", \"acronym\": \"corts-l\", \"definition (description)\": \"A component of the larger corticofugal tract that originates mainly from layer V in the motor area (including the large Betz pyramidal cells) and other areas of the cerebral cortex that controls skeletal muscles in the contralateral trunk and limbs. Axons carrying somatic motor output cross the midline in the pyramidal decussation and descend through the entire length of the spinal cord in the dorsolateral part of the lateral funiculus. Axons leave the tract in a topographically organized manner to terminate directly on spinal motoneurons in the ventral horn from cervical to sacral levels. Note: this is the definition of the tract in the adult brain. Unclear how much is developed in the human embryonic brain.\", \"type (gray matter/fiber tract/CNS cavity/developmental/other)\": \"F\", \"parent_structure_id\": 232, \"color_hex_triplet\": \"9F9F9F\", \"children\": [], \"text\": \"Lateral corticospinal tract\"}, {\"id\": 281, \"name\": \"Pyramidal decussation\", \"acronym\": \"pyrd\", \"definition (description)\": \"The region in the lower medulla where the bulk of the fibers in the pyramids cross the midline in a dorsolateral direction and descend in the spinal cord as the lateral corticospinal tract.\", \"type (gray matter/fiber tract/CNS cavity/developmental/other)\": \"F\", \"parent_structure_id\": 232, \"color_hex_triplet\": \"9F9F9F\", \"children\": [], \"text\": \"Pyramidal decussation\"}, {\"id\": 236, \"name\": \"Internal capsule\", \"acronym\": \"int\", \"definition (description)\": \"Massive fiber tract between the thalamus and striatum, composed of thalamocortical and corticofugal fibers. It is continuous with the corona radiata rostrally, and the cerebral peduncle caudally. Note: there are different subdivisions of the internal capsule in the literature. It is considered here as a part of the corticofugal tract even though it includes thalamocortical fibers.\", \"type (gray matter/fiber tract/CNS cavity/developmental/other)\": \"F\", \"parent_structure_id\": 232, \"color_hex_triplet\": \"9F9F9F\", \"children\": [], \"text\": \"Internal capsule\"}], \"text\": \"Corticofugal tract\"}, {\"id\": 235, \"name\": \"Medial forebrain bundle\", \"acronym\": \"mfb\", \"definition (description)\": \"A diffuse fiber tract that extends from the olfactory tubercle, through the lateral hypothalamic area, to the substantia nigra in the midbrain tegmentum. It is more conspicuous in the brains of lower animals than in the human brain.\", \"type (gray matter/fiber tract/CNS cavity/developmental/other)\": \"F\", \"parent_structure_id\": 3000, \"color_hex_triplet\": \"9F9F9F\", \"children\": [{\"id\": 247, \"name\": \"Fornix\", \"acronym\": \"fx\", \"definition (description)\": \"The principal efferent fiber tract of the hippocampus. The body of the fornix courses forward under the corpus callosum and above the thalamus, then turns downward and subdivides into a precommissural part that distributes fibers to the septum, and a postcommissural part that curves behind the anterior commissure. The postcommissural fibers traverse the diencephalon and most of them terminate in the nuclei of the thalamic anterior complex and the mammillary body. Note: it may be needed to subdivide it further according to this description \", \"type (gray matter/fiber tract/CNS cavity/developmental/other)\": \"F\", \"parent_structure_id\": 235, \"color_hex_triplet\": \"9F9F9F\", \"children\": [], \"text\": \"Fornix\"}, {\"id\": 339, \"name\": \"Fimbria\", \"acronym\": \"fi\", \"definition (description)\": \"Large fiber tract of the hippocampus that runs parallel with and then joins the fornix.\", \"type (gray matter/fiber tract/CNS cavity/developmental/other)\": \"F\", \"parent_structure_id\": 235, \"color_hex_triplet\": \"9F9F9F\", \"children\": [], \"text\": \"Fimbria\"}, {\"id\": 344, \"name\": \"Fasciola cinereum\", \"acronym\": \"fc\", \"definition (description)\": \"Transitional region that wraps around the splenium of the corpus callosum connecting a primordium of the hippocampal dentate gyrus to the induseum griseum.\", \"type (gray matter/fiber tract/CNS cavity/developmental/other)\": \"F\", \"parent_structure_id\": 235, \"color_hex_triplet\": \"9F9F9F\", \"children\": [], \"text\": \"Fasciola cinereum\"}, {\"id\": 245, \"name\": \"Stria terminalis\", \"acronym\": \"stt\", \"definition (description)\": \"Arched fiber bundle that originates in the corticomedial and basolateral amygdala, courses along the medial surface of the caudate nucleus, and terminates in the bed nucleus of the stria terminalis, the anterior hypothalamus, and the preoptic area. Note: classified here as a part of the medial forebrain bundle.\", \"type (gray matter/fiber tract/CNS cavity/developmental/other)\": \"F\", \"parent_structure_id\": 235, \"color_hex_triplet\": \"9F9F9F\", \"children\": [], \"text\": \"Stria terminalis\"}, {\"id\": 246, \"name\": \"Stria medullaris\", \"acronym\": \"stm\", \"definition (description)\": \"Mediodorsal fiber bundle in the diencephalon coursing in an anteroposterior direction and terminating in the habenular nuclei.\", \"type (gray matter/fiber tract/CNS cavity/developmental/other)\": \"F\", \"parent_structure_id\": 235, \"color_hex_triplet\": \"9F9F9F\", \"children\": [], \"text\": \"Stria medullaris\"}, {\"id\": 284, \"name\": \"Mammillothalamic tract\", \"acronym\": \"mth\", \"definition (description)\": \"Ascending fiber bundle containing efferents of the mammillary body that terminate in the thalamic anterior complex.\", \"type (gray matter/fiber tract/CNS cavity/developmental/other)\": \"F\", \"parent_structure_id\": 235, \"color_hex_triplet\": \"9F9F9F\", \"children\": [], \"text\": \"Mammillothalamic tract\"}, {\"id\": 396, \"name\": \"Principal mammillary tract\", \"acronym\": \"pmt\", \"definition (description)\": \"Not defined/described in Glossary, nor labeled in Plates.\", \"type (gray matter/fiber tract/CNS cavity/developmental/other)\": \"F\", \"parent_structure_id\": 235, \"color_hex_triplet\": \"9F9F9F\", \"children\": [], \"text\": \"Principal mammillary tract\"}, {\"id\": 397, \"name\": \"Supramammillary decussation\", \"acronym\": \"smd\", \"definition (description)\": \"Not defined/described in Glossary, nor labeled in Plates.\", \"type (gray matter/fiber tract/CNS cavity/developmental/other)\": \"F\", \"parent_structure_id\": 235, \"color_hex_triplet\": \"9F9F9F\", \"children\": [], \"text\": \"Supramammillary decussation\"}, {\"id\": 398, \"name\": \"Mammillary peduncle\", \"acronym\": \"mp\", \"definition (description)\": \"Not defined/described in Glossary, nor labeled in Plates.\", \"type (gray matter/fiber tract/CNS cavity/developmental/other)\": \"F\", \"parent_structure_id\": 235, \"color_hex_triplet\": \"9F9F9F\", \"children\": [], \"text\": \"Mammillary peduncle\"}, {\"id\": 310, \"name\": \"Habenulo-interpenduncular tract\", \"acronym\": \"hi\", \"definition (description)\": \"Note: no definition\", \"type (gray matter/fiber tract/CNS cavity/developmental/other)\": \"F\", \"parent_structure_id\": 235, \"color_hex_triplet\": \"9F9F9F\", \"children\": [], \"text\": \"Habenulo-interpenduncular tract\"}, {\"id\": 312, \"name\": \"Mammillotegmental tract\", \"acronym\": \"mtg\", \"definition (description)\": \"Descending fiber bundle containing mammillary body efferents to the brain stem, including the dorsal tegmental nucleus.\", \"type (gray matter/fiber tract/CNS cavity/developmental/other)\": \"F\", \"parent_structure_id\": 235, \"color_hex_triplet\": \"9F9F9F\", \"children\": [], \"text\": \"Mammillotegmental tract\"}], \"text\": \"Medial forebrain bundle\"}, {\"id\": 243, \"name\": \"Anterior commissure\", \"acronym\": \"ac\", \"definition (description)\": \"Large fiber bundle that crosses in the ventral telencephalon and interconnects several forebrain structures on the right and left sides, including the olfactory bulb, the primary olfactory cortex, the entorhinal area, the amygdala, and some components of the temporal lobe.\", \"type (gray matter/fiber tract/CNS cavity/developmental/other)\": \"F\", \"parent_structure_id\": 3000, \"color_hex_triplet\": \"9F9F9F\", \"children\": [], \"text\": \"Anterior commissure\"}, {\"id\": 244, \"name\": \"External capsule\", \"acronym\": \"ext\", \"definition (description)\": \"Slender fiber band situated between the claustrum and the putamen. Note: made of cortico-cortical association fibers.\", \"type (gray matter/fiber tract/CNS cavity/developmental/other)\": \"F\", \"parent_structure_id\": 3000, \"color_hex_triplet\": \"9F9F9F\", \"children\": [], \"text\": \"External capsule\"}, {\"id\": 415, \"name\": \"Lateral medullary lamina\", \"acronym\": \"lml\", \"definition (description)\": \"No definition in the Glossary. Needs to be specified.\", \"type (gray matter/fiber tract/CNS cavity/developmental/other)\": \"F\", \"parent_structure_id\": 0, \"color_hex_triplet\": \"9F9F9F\", \"children\": [], \"text\": \"Lateral medullary lamina\"}, {\"id\": 417, \"name\": \"External medullary lamina of the thalamus\", \"acronym\": \"emlth\", \"definition (description)\": \"No definition in the Glossary. Named but no labeled in AIBS. Needs to be specified.\", \"type (gray matter/fiber tract/CNS cavity/developmental/other)\": \"F\", \"parent_structure_id\": 0, \"color_hex_triplet\": \"9F9F9F\", \"children\": [], \"text\": \"External medullary lamina of the thalamus\"}, {\"id\": 337, \"name\": \"Ansa lenticularis\", \"acronym\": \"al\", \"definition (description)\": \"Fiber tract that originates in the internal (medial) segment of the globus pallidus, courses dorsal to the zona incerta in Forel\\u2019s fields, and terminates in the thalamus, in particular the ventral complex and the centromedian nucleus.\", \"type (gray matter/fiber tract/CNS cavity/developmental/other)\": \"F\", \"parent_structure_id\": 3000, \"color_hex_triplet\": \"9F9F9F\", \"children\": [], \"text\": \"Ansa lenticularis\"}, {\"id\": 338, \"name\": \"Uncinate fasciculus (forebrain)\", \"acronym\": \"Unc-f\", \"definition (description)\": \"A fiber tract in the temporal lobe that proceeds from the uncus to the anterolateral temporal lobe. It is infiltrated by cells in the lateral migratory stream.\", \"type (gray matter/fiber tract/CNS cavity/developmental/other)\": \"F\", \"parent_structure_id\": 3000, \"color_hex_triplet\": \"9F9F9F\", \"children\": [], \"text\": \"Uncinate fasciculus (forebrain)\"}, {\"id\": 252, \"name\": \"Olfactory penduncle\", \"acronym\": \"olfp\", \"definition (description)\": \"A stalk that connects the olfactory bulb to the brain. It contains the olfactory tract and the anterior olfactory nucleus. During the third trimester, the olfactory peduncle contains the rostral migratory stream in its core. Note: the part is considered as a fiber tract, but its definition includes a brain region, the anterior olfactory nucleus.\", \"type (gray matter/fiber tract/CNS cavity/developmental/other)\": \"F\", \"parent_structure_id\": 3000, \"color_hex_triplet\": \"9F9F9F\", \"children\": [], \"text\": \"Olfactory penduncle\"}, {\"id\": 237, \"name\": \"Corona radiata\", \"acronym\": \"cor\", \"definition (description)\": \"Fan-shaped radiating mass of ascending (thalamocortical) and descending (corticofugal) fibers of the internal capsule. It is continuous with the white matter of the cerebral cortex.\", \"type (gray matter/fiber tract/CNS cavity/developmental/other)\": \"F\", \"parent_structure_id\": 3000, \"color_hex_triplet\": \"9F9F9F\", \"children\": [{\"id\": 345, \"name\": \"Auditory radiation\", \"acronym\": \"audr\", \"definition (description)\": \"Thalamocortical fibers in the internal capsule and cortical white matter that originate in the medial geniculate body and terminate in the auditory cortex (transverse gyrus of Heschl) in the temporal lobe.\", \"type (gray matter/fiber tract/CNS cavity/developmental/other)\": \"F\", \"parent_structure_id\": 237, \"color_hex_triplet\": \"9F9F9F\", \"children\": [], \"text\": \"Auditory radiation\"}, {\"id\": 340, \"name\": \"Visual radiation\", \"acronym\": \"visr\", \"definition (description)\": \"Thalamocortical fibers beneath the cerebral white matter that originate in the lateral geniculate body and terminate in the striate cortex of the occipital lobe.\", \"type (gray matter/fiber tract/CNS cavity/developmental/other)\": \"F\", \"parent_structure_id\": 237, \"color_hex_triplet\": \"9F9F9F\", \"children\": [], \"text\": \"Visual radiation\"}], \"text\": \"Corona radiata\"}, {\"id\": 238, \"name\": \"Corpus callosum\", \"acronym\": \"cc\", \"definition (description)\": \"Large commissural fiber system that interconnects the two halves of the cerebral hemispheres. The frontal part of the corpus callosum, the genu, interconnects the anterior part of the frontal lobes. Its \\u201cbody\\u201d interconnects the posterior frontal lobe, the  paracentral lobule, and the parietal lobe. The splenium contains the commissural fibers of the temporal lobe and the occipital lobe. During the second trimester, the corpus callosum grows in a rostral (first) to caudal (last) order, best seen in the introductory figures for the sagittal specimens.\", \"type (gray matter/fiber tract/CNS cavity/developmental/other)\": \"F\", \"parent_structure_id\": 3000, \"color_hex_triplet\": \"9F9F9F\", \"children\": [{\"id\": 239, \"name\": \"Corpus callosum, genu\", \"acronym\": \"cc-g\", \"definition (description)\": \"The frontal part of the corpus callosum. Note: macroscopically defined subdivision of the corpus callosum without clear borders.\", \"type (gray matter/fiber tract/CNS cavity/developmental/other)\": \"F\", \"parent_structure_id\": 238, \"color_hex_triplet\": \"9F9F9F\", \"children\": [], \"text\": \"Corpus callosum, genu\"}, {\"id\": 240, \"name\": \"Corpus callosum, body\", \"acronym\": \"cc-b\", \"definition (description)\": \"The central part of the corpus callosum; its component axons nterconnects the posterior frontal lobe, the  paracentral lobule, and the parietal lobe.  Note: macroscopically defined subdivision of the corpus callosum without clear borders.\", \"type (gray matter/fiber tract/CNS cavity/developmental/other)\": \"F\", \"parent_structure_id\": 238, \"color_hex_triplet\": \"9F9F9F\", \"children\": [], \"text\": \"Corpus callosum, body\"}, {\"id\": 241, \"name\": \"Corpus callosum, splenium\", \"acronym\": \"cc-s\", \"definition (description)\": \"The caudal (posterior) part of the corpus callosum. It interconnects the temporal and occipital lobes. Note: macroscopically defined subdivision of the corpus callosum without clear borders.\", \"type (gray matter/fiber tract/CNS cavity/developmental/other)\": \"F\", \"parent_structure_id\": 238, \"color_hex_triplet\": \"9F9F9F\", \"children\": [], \"text\": \"Corpus callosum, splenium\"}], \"text\": \"Corpus callosum\"}, {\"id\": 251, \"name\": \"Optic tract\", \"acronym\": \"ot\", \"definition (description)\": \"Large bundle of crossed and uncrossed retinal afferents. In the human brain the majority of the fibers terminate in the dorsal lateral geniculate nucleus; others proceed to the superior colliculus, the suprachiasmatic nucleus, and the pretectum. Note: this is the definition of the adult fiber tract.\", \"type (gray matter/fiber tract/CNS cavity/developmental/other)\": \"F\", \"parent_structure_id\": 3000, \"color_hex_triplet\": \"9F9F9F\", \"children\": [{\"id\": 249, \"name\": \"Optic chiasm\", \"acronym\": \"och\", \"definition (description)\": \"Site of the partial decussation of fibers of the optic nerve. Fibers from the nasal half of each retina cross here. Note: it may need further classification under visually-related fiber tracts.\", \"type (gray matter/fiber tract/CNS cavity/developmental/other)\": \"F\", \"parent_structure_id\": 3000, \"color_hex_triplet\": \"9F9F9F\", \"children\": [], \"text\": \"Optic chiasm\"}], \"text\": \"Optic tract\"}, {\"id\": 334, \"name\": \"Internal medullary lamina of the thalamus\", \"acronym\": \"im\", \"definition (description)\": \"Note: named in Glossary, but not defined.\", \"type (gray matter/fiber tract/CNS cavity/developmental/other)\": \"F\", \"parent_structure_id\": 3000, \"color_hex_triplet\": \"9F9F9F\", \"children\": [], \"text\": \"Internal medullary lamina of the thalamus\"}, {\"id\": 414, \"name\": \"Medial medullary lamina\", \"acronym\": \"mml\", \"definition (description)\": \"No definition in the Glossary, and possible overlap with the internal medullary of the thalamus. Needs to be specified.\", \"type (gray matter/fiber tract/CNS cavity/developmental/other)\": \"F\", \"parent_structure_id\": 3000, \"color_hex_triplet\": \"9F9F9F\", \"children\": [], \"text\": \"Medial medullary lamina\"}, {\"id\": 248, \"name\": \"Posterior commissure\", \"acronym\": \"pc\", \"definition (description)\": \"Early developing decussating fiber tract in the dorsal midbrain that interconnects several pretectal and tectal nuclei. Note: it may need further classification under visually-related fiber tracts.\", \"type (gray matter/fiber tract/CNS cavity/developmental/other)\": \"F\", \"parent_structure_id\": 3000, \"color_hex_triplet\": \"9F9F9F\", \"children\": [], \"text\": \"Posterior commissure\"}, {\"id\": 431, \"name\": \"Superior colliculus commissure\", \"acronym\": \"scc\", \"definition (description)\": \"Note: early mammalian commisure connecting the superior colliculi. In coronal sections it marks the border between the periqueductal gray and the superior colliculus.\", \"type (gray matter/fiber tract/CNS cavity/developmental/other)\": \"F\", \"parent_structure_id\": 3000, \"color_hex_triplet\": \"9F9F9F\", \"children\": [], \"text\": \"Superior colliculus commissure\"}, {\"id\": 343, \"name\": \"Brachium of the inferior colliculus\", \"acronym\": \"bic\", \"definition (description)\": \"A fiber tract situated superficially in the fibrous covering of the inferior colliculus. It is composed of ascending auditory fibers from the inferior colliculus and auditory nuclei in the pons to the medial geniculate body.\", \"type (gray matter/fiber tract/CNS cavity/developmental/other)\": \"F\", \"parent_structure_id\": 3000, \"color_hex_triplet\": \"9F9F9F\", \"children\": [], \"text\": \"Brachium of the inferior colliculus\"}, {\"id\": 327, \"name\": \"Lateral lemniscus\", \"acronym\": \"ll\", \"definition (description)\": \"The fiber tract on the lateral surface of the pons that contains secondary auditory fibers from the dorsal and ventral cochlear nuclei and higher-order auditory fibers from the superior olivary complex. The dorsal and ventral nuclei of the lateral lemniscus are embedded within the fiber tract.\", \"type (gray matter/fiber tract/CNS cavity/developmental/other)\": \"F\", \"parent_structure_id\": 3000, \"color_hex_triplet\": \"9F9F9F\", \"children\": [], \"text\": \"Lateral lemniscus\"}, {\"id\": 341, \"name\": \"Medial lemniscus\", \"acronym\": \"ml\", \"definition (description)\": \"Large fiber bundle conveying tactile and other somatosensory input to the thalamus. It originates in the gracile and cuneate nuclei in the medulla, crosses to the opposite side (sensory decussation), ascends through the pons and midbrain, and terminates in the ventral posterolateral and ventral posteromedial nuclei of the thalamus.\", \"type (gray matter/fiber tract/CNS cavity/developmental/other)\": \"F\", \"parent_structure_id\": 3000, \"color_hex_triplet\": \"9F9F9F\", \"children\": [], \"text\": \"Medial lemniscus\"}, {\"id\": 342, \"name\": \"Trapezoid body\", \"acronym\": \"tb\", \"definition (description)\": \"A fiber tract extending from the ventral cochlear nucleus to the contralateral superior olivary complex. It contains second- and higher-order auditory fibers.\", \"type (gray matter/fiber tract/CNS cavity/developmental/other)\": \"F\", \"parent_structure_id\": 3000, \"color_hex_triplet\": \"9F9F9F\", \"children\": [], \"text\": \"Trapezoid body\"}, {\"id\": 311, \"name\": \"Dorsal funiculus\", \"acronym\": \"df\", \"definition (description)\": \"Medial fibrous component of the white matter situated between the wings of the dorsal gray matter; also known as the dorsal column or the dorsal funiculus. It contains ascending somatosensory and proprioceptive fibers that terminate in the dorsal column nuclei of the medulla. In the upper spinal cord it has two distinguishable parts, the gracile fasciculus medially, and the cuneate fasciculus laterally.\", \"type (gray matter/fiber tract/CNS cavity/developmental/other)\": \"F\", \"parent_structure_id\": 3000, \"color_hex_triplet\": \"9F9F9F\", \"children\": [], \"text\": \"Dorsal funiculus\"}, {\"id\": 346, \"name\": \"Lateral funiculus\", \"acronym\": \"lf\", \"definition (description)\": \"Region of the spinal cord white matter that flanks the gray matter laterally. Major components of the lateral funiculus are the lateral corticospinal tract, the spinocephalic tract, and the spinocerebellar tracts.\", \"type (gray matter/fiber tract/CNS cavity/developmental/other)\": \"F\", \"parent_structure_id\": 3000, \"color_hex_triplet\": \"9F9F9F\", \"children\": [], \"text\": \"Lateral funiculus\"}, {\"id\": 347, \"name\": \"Ventral funiculus\", \"acronym\": \"vf\", \"definition (description)\": \"No definition in the Glossary. In Plates it is marked as a continuation of the lateral funiculus.\", \"type (gray matter/fiber tract/CNS cavity/developmental/other)\": \"F\", \"parent_structure_id\": 3000, \"color_hex_triplet\": \"9F9F9F\", \"children\": [], \"text\": \"Ventral funiculus\"}, {\"id\": 457, \"name\": \"Dorsal tegmental decussation\", \"acronym\": \"dtgx\", \"definition (description)\": \"Commissural fiber tract in the ventral part of the rostral midbrain, at the level of the VTA, and separating the rostral linear and caudal linear raphe nuclei from the interpeduncular nuclei.\", \"type (gray matter/fiber tract/CNS cavity/developmental/other)\": \"F\", \"parent_structure_id\": 0, \"color_hex_triplet\": \"9F9F9F\", \"children\": [], \"text\": \"Dorsal tegmental decussation\"}, {\"id\": 456, \"name\": \"Ventral tegmental decussation\", \"acronym\": \"vtgx\", \"definition (description)\": \"Commissural fiber tract in the ventral part of the rostral midbrain, at the level of the VTA, and separating the rostral linear and caudal linear raphe nuclei from the interpeduncular nuclei.\", \"type (gray matter/fiber tract/CNS cavity/developmental/other)\": \"F\", \"parent_structure_id\": 0, \"color_hex_triplet\": \"9F9F9F\", \"children\": [], \"text\": \"Ventral tegmental decussation\"}, {\"id\": 250, \"name\": \"Cerebellar peduncles\", \"acronym\": \"cpb\", \"definition (description)\": \"Note: cerebellum-related set of fiber tracts. It is divided in the inferior, middle, and superior cerebellar peduncles\", \"type (gray matter/fiber tract/CNS cavity/developmental/other)\": \"F\", \"parent_structure_id\": 3000, \"color_hex_triplet\": \"9F9F9F\", \"children\": [], \"text\": \"Cerebellar peduncles\"}, {\"id\": 458, \"name\": \"Superior cerebellar peduncle decussation\", \"acronym\": \"scpx\", \"definition (description)\": \"Commissural fiber tract in the ventral part of the rostral midbrain, separating the caudal linear raphe nucleus from the rhabdoid nucleus.\", \"type (gray matter/fiber tract/CNS cavity/developmental/other)\": \"F\", \"parent_structure_id\": 0, \"color_hex_triplet\": \"9F9F9F\", \"children\": [], \"text\": \"Superior cerebellar peduncle decussation\"}, {\"id\": 253, \"name\": \"White matter fibers\", \"acronym\": \"wmf\", \"type (gray matter/fiber tract/CNS cavity/developmental/other)\": \"F\", \"parent_structure_id\": 3000, \"color_hex_triplet\": \"9F9F9F\", \"children\": [], \"text\": \"White matter fibers\"}], \"text\": \"Fiber tracts\"}, {\"id\": 6000, \"name\": \"Ventricles\", \"acronym\": \"Vs\", \"definition (description)\": \"The set of ventricles and their parts for the entire central nervous system.\", \"type (gray matter/fiber tract/CNS cavity/developmental/other)\": \"CNS Cavity\", \"parent_structure_id\": 0, \"color_hex_triplet\": \"231F21\", \"children\": [{\"id\": 225, \"name\": \"Third ventricle\", \"acronym\": \"3V\", \"definition (description)\": \"Midline diencephalic component of the ventricular system. It is linked rostrally by the foramen of Monro with the paired lateral ventricles of the telencephalon, and caudally with the aqueduct of the midbrain. The dorsal region of the third ventricle is surrounded by the thalamus, its ventral region and recesses by the preoptic area and the hypothalamus. During development, the neuroepithelium lining the third ventricle is the source of the neurons and glia of the diverse components the diencephalon.\", \"type (gray matter/fiber tract/CNS cavity/developmental/other)\": \"CNS Cavity\", \"parent_structure_id\": 6000, \"color_hex_triplet\": \"231F21\", \"children\": [], \"text\": \"Third ventricle\"}, {\"id\": 226, \"name\": \"Lateral ventricle\", \"acronym\": \"LV\", \"definition (description)\": \"Paired cavities of the ventricular system in the telencephalon. They are connected with the third ventricle in the diencephalon by the foramen of Monro. During embryonic development, the neuroepithelium lining the hypertrophied lateral ventricles and the adjacent subventricular zone are the source of neurons and neuroglia in the telencephalon. In the mature brain the enduring shrunken regions of the lateral ventricles are lined by cells of the ependyma.\", \"type (gray matter/fiber tract/CNS cavity/developmental/other)\": \"CNS Cavity\", \"parent_structure_id\": 6000, \"color_hex_triplet\": \"231F20\", \"children\": [], \"text\": \"Lateral ventricle\"}, {\"id\": 227, \"name\": \"Aqueduct\", \"acronym\": \"Aq\", \"definition (description)\": \"Narrow region of the ventricular system situated between the third ventricle rostrally and the fourth ventricle caudally.\", \"type (gray matter/fiber tract/CNS cavity/developmental/other)\": \"CNS Cavity\", \"parent_structure_id\": 6000, \"color_hex_triplet\": \"231F21\", \"children\": [], \"text\": \"Aqueduct\"}, {\"id\": 228, \"name\": \"Fourth ventricle\", \"acronym\": \"4V\", \"definition (description)\": \"Region of the ventricular system in the pons and medulla between the aqueduct rostrally and the central canal caudally. The neuroepithelium surrounding the hypertrophied fourth ventricle and its several recesses is the source of neurons and glia of the medulla, the pons and the cerebellum. Many of the neurons migrate over long distances to their settling sites.\", \"type (gray matter/fiber tract/CNS cavity/developmental/other)\": \"CNS Cavity\", \"parent_structure_id\": 6000, \"color_hex_triplet\": \"231F21\", \"children\": [], \"text\": \"Fourth ventricle\"}, {\"id\": 443, \"name\": \"Interpeduncular fossa\", \"acronym\": \"IpF\", \"definition (description)\": \"Depression on the ventral surface of the brain, at the level of midbrain. Specific to primates, including humans. Categorized here as a CNS cavity.\", \"type (gray matter/fiber tract/CNS cavity/developmental/other)\": \"CNS Cavity\", \"parent_structure_id\": 0, \"color_hex_triplet\": \"231F21\", \"children\": [], \"text\": \"Interpeduncular fossa\"}, {\"id\": 229, \"name\": \"Choroid plexus\", \"acronym\": \"Chp\", \"definition (description)\": \"Highly vascularized and arborized epithelial tissue of mesenchymal origin that secretes the cerebrospinal fluid circulating in the brain ventricles and subarachnoid spaces of the meninges. The lateral, third, and fourth ventricles have their own choroid plexus arbors.\", \"type (gray matter/fiber tract/CNS cavity/developmental/other)\": \"O\", \"parent_structure_id\": 6000, \"color_hex_triplet\": \"872601\", \"children\": [], \"text\": \"Choroid plexus\"}, {\"id\": 230, \"name\": \"Central canal\", \"acronym\": \"CC\", \"definition (description)\": \"Portion of the ventricular system that extends caudally from the medullary fourth ventricle to the sacral segments of the spinal cord. During embryonic development, the proliferative neuroepithelium lining this canal is the source of neurons and neuroglia of the spinal cord. After the cessation of neurogenesis and gliogenesis, the shrunken central canal is lined by the ependyma.\", \"type (gray matter/fiber tract/CNS cavity/developmental/other)\": \"CNS Cavity\", \"parent_structure_id\": 6000, \"color_hex_triplet\": \"231F21\", \"children\": [], \"text\": \"Central canal\"}], \"text\": \"Ventricles\"}],\n",
       "                },                \n",
       "                'plugins': ['search'],\n",
       "                'search': {\n",
       "                    'show_only_matches':true,\n",
       "                    'show_only_matches_children':true,\n",
       "                }\n",
       "            });\n",
       "            \n",
       "            // Bind search input to jstree search function\n",
       "            $('#search_input').on('keyup', function() {\n",
       "                var searchValue = $(this).val();\n",
       "                $('#jstree_demo').jstree(true).search(searchValue);\n",
       "            });\n",
       "        });\n",
       "    </script>\n"
      ],
      "text/plain": [
       "<IPython.core.display.HTML object>"
      ]
     },
     "metadata": {},
     "output_type": "display_data"
    }
   ],
   "source": [
    "display(HTML(html_code % tree_data))"
   ]
  },
  {
   "cell_type": "markdown",
   "metadata": {},
   "source": [
    "## Fuzzy match into Allen ontology"
   ]
  },
  {
   "cell_type": "code",
   "execution_count": 27,
   "metadata": {},
   "outputs": [],
   "source": [
    "ontohelper_allen = TreeHelper('allen_devhuman')"
   ]
  },
  {
   "cell_type": "code",
   "execution_count": 28,
   "metadata": {},
   "outputs": [
    {
     "data": {
      "text/plain": [
       "3315"
      ]
     },
     "execution_count": 28,
     "metadata": {},
     "output_type": "execute_result"
    }
   ],
   "source": [
    "len(ontohelper_allen)"
   ]
  },
  {
   "cell_type": "code",
   "execution_count": 29,
   "metadata": {},
   "outputs": [],
   "source": [
    "\n",
    "def nameupdate(name):\n",
    "    expansions = {\n",
    "        'SG':'subpial granular layer',\n",
    "        'MZ': 'marginal zone',\n",
    "        'CP': 'cortical plate',\n",
    "        'SP': 'subplate zone',\n",
    "        'IZ': 'intermediate zone',\n",
    "        'SZ': 'subventricular zone',\n",
    "        'VZ': 'ventricular zone',\n",
    "        'Hipp': 'hippocampus',\n",
    "        # 'GE': 'ganglionic eminence',\n",
    "    }\n",
    "    if ' in ' in name:\n",
    "        for acr,exp in expansions.items():\n",
    "            name = name.replace(acr,exp)\n",
    "        name = name.replace(' in ', ', ')\n",
    "        \n",
    "    if 'neocortex' in name:\n",
    "        name = name.replace('neocortex','cortex')\n",
    "    return name\n",
    "\n",
    "updated_allen_dict = {k:nameupdate(v.name) for k,v in ontohelper_allen.onto_lookup.items()}\n",
    "\n",
    "ontohelper_allen.search_dict = updated_allen_dict\n"
   ]
  },
  {
   "cell_type": "code",
   "execution_count": 30,
   "metadata": {},
   "outputs": [
    {
     "data": {
      "text/plain": [
       "[('subiculum', 100.0, 10302)]"
      ]
     },
     "execution_count": 30,
     "metadata": {},
     "output_type": "execute_result"
    }
   ],
   "source": [
    "ontohelper_allen.search('subiculum')"
   ]
  },
  {
   "cell_type": "code",
   "execution_count": 31,
   "metadata": {},
   "outputs": [
    {
     "name": "stderr",
     "output_type": "stream",
     "text": [
      " 13%|█▎        | 66/496 [00:00<00:00, 605.51it/s]"
     ]
    },
    {
     "name": "stdout",
     "output_type": "stream",
     "text": [
      "forebrain [('forebrain (prosencephalon)', 100.0, 10156), ('basal forebrain', 100.0, 10349)]\n",
      "subpial granular layer, cerebral cortex [('subpial granular layer, perirhinal cortex', 90.0, 13213), ('subpial granular layer, parietal cortex', 89.74358974358975, 11593), ('subpial granular layer, temporal cortex', 89.74358974358975, 11598), ('subpial granular layer, frontal cortex', 88.31168831168831, 11581), ('subpial granular layer, periallocortex', 88.31168831168831, 12974)]\n",
      "marginal zone, cerebral cortex [('marginal zone, perirhinal cortex', 87.09677419354838, 11645), ('marginal zone, parietal cortex', 86.66666666666667, 10511), ('marginal zone, temporal cortex', 86.66666666666667, 10512)]\n",
      "cortical plate, cerebral cortex [('cortical plate, perirhinal cortex', 87.5, 11746), ('cortical plate, parietal cortex', 87.09677419354838, 10518), ('cortical plate, temporal cortex', 87.09677419354838, 10519), ('cortical plate, frontal cortex', 85.24590163934427, 10516), ('cortical plate, periallocortex', 85.24590163934427, 10521)]\n",
      "subplate zone, cerebral cortex [('subplate zone, perirhinal cortex', 87.09677419354838, 11790), ('subplate zone, parietal cortex', 86.66666666666667, 10525), ('subplate zone, temporal cortex', 86.66666666666667, 10526)]\n",
      "intermediate zone, cerebral cortex [('intermediate zone, perirhinal cortex', 88.57142857142857, 11878), ('intermediate zone, parietal cortex', 88.23529411764706, 10532), ('intermediate zone, temporal cortex', 88.23529411764706, 10533), ('intermediate zone, frontal cortex', 86.56716417910448, 10530), ('intermediate zone, periallocortex', 86.56716417910448, 10535)]\n",
      "subventricular zone, cerebral cortex [('subventricular zone, parietal cortex', 88.88888888888889, 10539), ('subventricular zone, temporal cortex', 88.88888888888889, 10540), ('subventricular zone, frontal cortex', 87.32394366197182, 10537), ('subventricular zone, periallocortex', 87.32394366197182, 10541)]\n",
      "ventricular zone, cerebral cortex [('ventricular zone, perirhinal cortex', 88.23529411764706, 12019), ('ventricular zone, parietal cortex', 87.87878787878788, 10545), ('ventricular zone, temporal cortex', 87.87878787878788, 10546), ('ventricular zone, frontal cortex', 86.15384615384616, 10543), ('ventricular zone, periallocortex', 86.15384615384616, 10548)]\n",
      "orbital cortex [('subpial granular layer, orbital frontal cortex', 100.0, 11583), ('marginal zone, orbital frontal cortex', 100.0, 11608), ('cortical plate, orbital frontal cortex', 100.0, 11652), ('outer cortical plate, orbital frontal cortex', 100.0, 11653), ('inner cortical plate, orbital frontal cortex', 100.0, 11654)]\n",
      "subpial granular layer, orbital cortex [('subpial granular layer, parietal cortex', 93.5064935064935, 11593), ('subpial granular layer, occipital cortex', 92.3076923076923, 11588), ('subpial granular layer, frontal cortex', 92.10526315789474, 11581), ('subpial granular layer, entorhinal cortex', 91.13924050632912, 12975), ('subpial granular layer, temporal cortex', 90.9090909090909, 11598)]\n",
      "marginal zone, orbital cortex [('marginal zone, parietal cortex', 91.52542372881356, 10511), ('marginal zone, occipital cortex', 90.0, 10510), ('marginal zone, frontal cortex', 89.65517241379311, 10509), ('marginal zone, entorhinal cortex', 88.52459016393442, 11641), ('marginal zone, temporal cortex', 88.13559322033898, 10512)]\n",
      "cortical plate, orbital cortex [('cortical plate, parietal cortex', 91.80327868852459, 10518), ('cortical plate, occipital cortex', 90.32258064516128, 10517), ('cortical plate, frontal cortex', 90.0, 10516), ('cortical plate, entorhinal cortex', 88.88888888888889, 11742), ('cortical plate, temporal cortex', 88.52459016393442, 10519)]\n",
      "subplate zone, orbital cortex [('subplate zone, parietal cortex', 91.52542372881356, 10525), ('subplate zone, occipital cortex', 90.0, 10524), ('subplate zone, frontal cortex', 89.65517241379311, 10523), ('subplate zone, entorhinal cortex', 88.52459016393442, 11789), ('subplate zone, temporal cortex', 88.13559322033898, 10526)]\n",
      "intermediate zone, orbital cortex [('intermediate zone, parietal cortex', 92.53731343283582, 10532), ('intermediate zone, occipital cortex', 91.17647058823529, 10531), ('intermediate zone, frontal cortex', 90.9090909090909, 10530), ('intermediate zone, entorhinal cortex', 89.85507246376811, 11877), ('intermediate zone, temporal cortex', 89.55223880597015, 10533)]\n",
      "subventricular zone, orbital cortex [('subventricular zone, parietal cortex', 92.95774647887323, 10539), ('subventricular zone, occipital cortex', 91.66666666666666, 10538), ('subventricular zone, frontal cortex', 91.42857142857143, 10537), ('subventricular zone, temporal cortex', 90.14084507042254, 10540), ('subventricular zone, orbital frontal cortex', 89.74358974358975, 11885)]\n",
      "ventricular zone, orbital cortex [('ventricular zone, parietal cortex', 92.3076923076923, 10545), ('ventricular zone, occipital cortex', 90.9090909090909, 10544), ('ventricular zone, frontal cortex', 90.625, 10543), ('ventricular zone, entorhinal cortex', 89.55223880597015, 13192), ('ventricular zone, temporal cortex', 89.23076923076923, 10546)]\n",
      "subventricular zone, entorhinal cortex [('ventricular zone, entorhinal cortex', 95.89041095890411, 13192), ('subventricular zone, temporal cortex', 89.1891891891892, 10540), ('subventricular zone, frontal cortex', 87.67123287671232, 10537), ('subventricular zone, periallocortex', 87.67123287671232, 10541), ('ventricular zone, perirhinal cortex', 87.67123287671232, 12019)]\n",
      "subventricular zone, hippocampal formation [('subventricular zone', 100.0, 10536), ('ventricular zone', 100.0, 10542)]\n",
      "hippocampus [('cortical plate, rostral hippocampus', 100.0, 11736), ('cortical plate, caudal hippocampus', 100.0, 11737), ('hippocampus (hippocampal formation)', 100.0, 10294)]\n",
      "cortical plate, hippocampus [('cortical plate, caudal hippocampus', 88.52459016393442, 11737), ('cortical plate, rostral hippocampus', 87.09677419354838, 11736)]\n",
      "subventricular zone, hippocampus [('subventricular zone', 100.0, 10536), ('ventricular zone', 100.0, 10542)]\n",
      "ca1 field of hippocampus [('head of hippocampus', 91.89189189189189, 12171), ('body of hippocampus', 91.42857142857143, 12173)]\n",
      "ca2 field of hippocampus [('head of hippocampus', 91.89189189189189, 12171), ('body of hippocampus', 91.42857142857143, 12173)]\n",
      "ca3 field of hippocampus [('head of hippocampus', 91.89189189189189, 12171), ('body of hippocampus', 91.42857142857143, 12173)]\n",
      "ca4 field of hippocampus [('head of hippocampus', 91.89189189189189, 12171), ('body of hippocampus', 91.42857142857143, 12173)]\n",
      "presubiculum [('prosubiculum', 91.66666666666666, 10303), ('subiculum', 85.71428571428572, 10302)]\n",
      "marginal zone, presubiculum [('subiculum', 100.0, 10302), ('marginal zone, presubicular cortex', 92.5925925925926, 11640), ('marginal zone, caudal presubicular cortex (postsubiculum)', 92.5925925925926, 13092), ('prosubiculum', 91.66666666666666, 10303)]\n",
      "cortical plate, presubiculum [('cortical plate', 100.0, 10515), ('subiculum', 100.0, 10302), ('cortical plate, presubicular cortex', 92.85714285714286, 11741), ('cortical plate, rostral presubicular cortex', 92.85714285714286, 13106), ('cortical plate, caudal presubicular cortex (postsubiculum)', 92.85714285714286, 13107)]\n",
      "subplate zone, presubiculum [('subplate zone', 100.0, 10522), ('subiculum', 100.0, 10302), ('subplate zone, presubicular cortex', 92.5925925925926, 11788), ('subplate zone, caudal presubicular cortex (postsubiculum)', 92.5925925925926, 13122), ('prosubiculum', 91.66666666666666, 10303)]\n",
      "intermediate zone, presubiculum [('subiculum', 100.0, 10302), ('intermediate zone, presubicular cortex', 93.5483870967742, 11876), ('intermediate zone, caudal presubicular cortex', 93.5483870967742, 13139), ('prosubiculum', 91.66666666666666, 10303)]\n",
      "subventricular zone, presubiculum [('subventricular zone', 100.0, 10536), ('ventricular zone', 100.0, 10542), ('subiculum', 100.0, 10302), ('prosubiculum', 91.66666666666666, 10303)]\n",
      "ventricular zone, presubiculum [('ventricular zone', 100.0, 10542), ('subiculum', 100.0, 10302), ('ventricular zone, presubicular cortex', 93.33333333333333, 12017), ('ventricular zone, caudal presubicular cortex', 93.33333333333333, 13191), ('prosubiculum', 91.66666666666666, 10303)]\n",
      "marginal zone, parasubiculum [('subiculum', 100.0, 10302), ('marginal zone, parasubicular cortex', 92.85714285714286, 13278)]\n",
      "cortical plate, parasubiculum [('subiculum', 100.0, 10302), ('cortical plate, parasubicular cortex', 93.10344827586206, 13280)]\n",
      "subplate zone, parasubiculum [('subplate zone', 100.0, 10522), ('subiculum', 100.0, 10302), ('subplate zone, parasubicular cortex', 92.85714285714286, 13285)]\n"
     ]
    },
    {
     "name": "stderr",
     "output_type": "stream",
     "text": [
      " 26%|██▌       | 127/496 [00:01<00:03, 106.22it/s]"
     ]
    },
    {
     "name": "stdout",
     "output_type": "stream",
     "text": [
      "subventricular zone, parasubiculum [('subventricular zone', 100.0, 10536), ('ventricular zone', 100.0, 10542), ('subiculum', 100.0, 10302)]\n",
      "ventricular zone, parasubiculum [('ventricular zone', 100.0, 10542), ('subiculum', 100.0, 10302)]\n",
      "cortical plate, postsubiculum [('cortical plate', 100.0, 10515), ('subiculum', 100.0, 10302)]\n",
      "subplate zone, postsubiculum [('subplate zone', 100.0, 10522), ('subiculum', 100.0, 10302)]\n",
      "subventricular zone, postsubiculum [('subventricular zone', 100.0, 10536), ('ventricular zone', 100.0, 10542), ('subiculum', 100.0, 10302)]\n",
      "ventricular zone, postsubiculum [('ventricular zone', 100.0, 10542), ('subiculum', 100.0, 10302)]\n",
      "marginal zone, insula [('marginal zone', 100.0, 10508), ('marginal zone, insular cortex', 95.23809523809523, 11634), ('marginal zone, dysgranular insular cortex', 95.23809523809523, 11635), ('marginal zone, granular insular cortex', 95.23809523809523, 11636), ('marginal zone, agranular insular cortex', 95.23809523809523, 13279)]\n",
      "cortical plate, insula [('cortical plate, insular cortex', 95.45454545454545, 11728), ('cortical plate, agranular insular cortex', 95.45454545454545, 13281), ('cortical plate, agranular insular cortex', 95.45454545454545, 146034622)]\n",
      "subplate zone, insula [('subplate zone', 100.0, 10522), ('subplate zone, insular cortex', 95.23809523809523, 11783), ('subplate zone, dysgranular insular cortex', 95.23809523809523, 11784), ('subplate zone, granular insular cortex', 95.23809523809523, 11785), ('subplate zone, agranular insular cortex', 95.23809523809523, 13286)]\n",
      "subventricular zone, insula [('subventricular zone', 100.0, 10536), ('ventricular zone', 100.0, 10542), ('subventricular zone, subgenual cingulate cortex', 92.3076923076923, 13288), ('subventricular zone, midcingulate cortex', 90.56603773584906, 11986), ('subventricular zone, frontal polar cortex', 90.19607843137256, 11905)]\n",
      "ventricular zone, insula [('ventricular zone', 100.0, 10542), ('ventricular zone, presubicular cortex', 91.66666666666666, 12017), ('ventricular zone, caudal presubicular cortex', 91.66666666666666, 13191), ('ventricular zone, subicular cortex', 91.66666666666666, 12016), ('ventricular zone, rostral subicular cortex', 91.66666666666666, 13188)]\n"
     ]
    },
    {
     "name": "stderr",
     "output_type": "stream",
     "text": [
      " 31%|███▏      | 156/496 [00:01<00:03, 111.01it/s]"
     ]
    },
    {
     "name": "stdout",
     "output_type": "stream",
     "text": [
      "olfactory cortex [('subpial granular layer, olfactory entorhinal cortex', 100.0, 12976), ('marginal zone, olfactory entorhinal cortex', 100.0, 11642), ('cortical plate, olfactory entorhinal cortex', 100.0, 11743)]\n",
      "amygdala [('extended amygdala', 100.0, 10383), ('sublenticular extended amygdala', 100.0, 10387)]\n",
      "basomedial nucleus of the amygdala [('medial nucleus', 100.0, 10376), ('median nucleus', 92.85714285714286, 12411)]\n",
      "basomedial nucleus of the amygdala, parvocellular part [('medial nucleus', 100.0, 10376), ('median nucleus', 92.85714285714286, 12411)]\n",
      "lateral nucleus of the amygdala [('lateral nucleus', 100.0, 10367), ('lateral nucleus', 100.0, 12410)]\n"
     ]
    },
    {
     "name": "stderr",
     "output_type": "stream",
     "text": [
      " 47%|████▋     | 234/496 [00:01<00:01, 138.77it/s]"
     ]
    },
    {
     "name": "stdout",
     "output_type": "stream",
     "text": [
      "dorsal complex of the thalamus [('thalamus', 100.0, 10390), ('dorsal thalamus', 100.0, 10391)]\n",
      "nucleus fasciculosus of the thalamus [('thalamus', 100.0, 10390), ('fasciculosus nucleus of thalamus', 100.0, 13047)]\n",
      "lateral dorsal nucleus of the thalamus [('lateral dorsal nucleus of thalamus', 94.44444444444444, 10396), ('central dorsal nucleus of thalamus', 86.11111111111111, 13331), ('anterodorsal nucleus of thalamus', 85.71428571428572, 10393)]\n",
      "lateral posterior nucleus of the thalamus [('lateral posterior nucleus of thalamus', 94.87179487179486, 10408), ('ventral posterior nucleus of thalamus', 87.17948717948718, 10423)]\n",
      "periventricular complex of the thalamus [('thalamus', 100.0, 10390), ('periventricular area of thalamus', 91.52542372881356, 13046)]\n",
      "parafascicular nucleus of the thalamus [('parafascicular nucleus of thalamus', 94.44444444444444, 10450), ('subparafascicular nucleus of thalamus', 90.66666666666666, 13054)]\n",
      "paraventricular nucleus of the thalamus [('paraventricular nucleus of hypothalamus', 92.3076923076923, 10476), ('reticular nucleus of thalamus', 85.29411764705883, 10464)]\n",
      "paratenial nucleus of the thalamus [('parataenial nucleus of thalamus', 92.3076923076923, 10404), ('paracentral nucleus of thalamus', 86.15384615384616, 10446)]\n",
      "anterior complex of the thalamus [('thalamus', 100.0, 10390), ('anterior nuclear complex of thalamus', 93.33333333333333, 10392)]\n",
      "anterodorsal nucleus of the thalamus [('anterodorsal nucleus of thalamus', 94.11764705882352, 10393), ('lateral dorsal nucleus of thalamus', 85.71428571428572, 10396), ('anteromedial nucleus of thalamus', 85.29411764705883, 10394)]\n",
      "anteromedial nucleus of the thalamus [('anteromedial nucleus of thalamus', 94.11764705882352, 10394), ('interanteromedial nucleus of thalamus', 87.67123287671232, 13048), ('anterodorsal nucleus of thalamus', 85.29411764705883, 10393), ('centromedian nucleus of thalamus', 85.29411764705883, 10449)]\n",
      "centromedian nucleus of the thalamus [('centromedian nucleus of thalamus', 94.11764705882352, 10449), ('central medial nucleus of thalamus', 85.71428571428572, 10445), ('anteromedial nucleus of thalamus', 85.29411764705883, 10394)]\n",
      "central medial nucleus of the thalamus [('central medial nucleus of thalamus', 94.44444444444444, 10445), ('ventral medial nucleus of thalamus', 91.66666666666666, 10427), ('central lateral nucleus of the thalamus', 90.9090909090909, 10444), ('central dorsal nucleus of thalamus', 86.11111111111111, 13331), ('centromedian nucleus of thalamus', 85.71428571428572, 10449)]\n",
      "rhomboid nucleus of the thalamus [('thalamus', 100.0, 10390), ('rhomboid (central) nucleus of thalamus', 93.33333333333333, 10447)]\n",
      "posterior complex of the thalamus [('thalamus', 100.0, 10390), ('posterior nuclear complex of thalamus', 93.54838709677419, 10428)]\n",
      "medial geniculate nucleus [('medial geniculate nuclei', 93.87755102040816, 10434), ('dorsal medial geniculate nucleus', 87.71929824561404, 10435), ('lateral geniculate nucleus', 86.27450980392157, 10429), ('medial pericuneate nucleus', 86.27450980392157, 12527), ('ventral medial geniculate nucleus', 86.20689655172413, 10438)]\n",
      "suprageniculate nucleus [('pregeniculate nucleus', 90.9090909090909, 13042), ('supragenual nucleus', 85.71428571428572, 12662)]\n",
      "nucleus limitans of the thalamus [('thalamus', 100.0, 10390), ('limitans nucleus', 100.0, 13043)]\n",
      "pulvinar nucleus of the thalamus [('thalamus', 100.0, 10390), ('pulvinar of thalamus', 100.0, 10409)]\n",
      "ventral complex of the thalamus [('thalamus', 100.0, 10390), ('ventral thalamus', 100.0, 10461)]\n",
      "ventral anterior nucleus of the thalamus [('ventral anterior nucleus of thalamus', 94.73684210526316, 10417), ('central lateral nucleus of the thalamus', 88.60759493670886, 10444), ('ventral posterior nucleus of thalamus', 88.31168831168831, 10423), ('ventral lateral nucleus of thalamus', 85.33333333333333, 10420)]\n",
      "ventral lateral nucleus of the thalamus [('central lateral nucleus of the thalamus', 97.43589743589743, 10444), ('ventral lateral nucleus of thalamus', 94.5945945945946, 10420), ('ventral anterior nucleus of thalamus', 85.33333333333333, 10417)]\n",
      "ventral medial nucleus of the thalamus [('ventral medial nucleus of thalamus', 94.44444444444444, 10427), ('central medial nucleus of thalamus', 91.66666666666666, 10445), ('central lateral nucleus of the thalamus', 88.31168831168831, 10444)]\n",
      "ventral posterolateral nucleus of the thalamus [('central lateral nucleus of the thalamus', 89.41176470588236, 10444), ('ventral posterior nucleus of thalamus', 86.74698795180723, 10423), ('ventral lateral nucleus of thalamus', 86.41975308641976, 10420)]\n",
      "ventral posteromedial nucleus of the thalamus [('ventral medial nucleus of thalamus', 86.07594936708861, 10427), ('central lateral nucleus of the thalamus', 85.71428571428572, 10444), ('ventral posterior nucleus of thalamus', 85.36585365853658, 10423)]\n",
      "habenula [('habenular nuclei', 100.0, 10452), ('lateral habenular nucleus', 100.0, 10453), ('medial habenular nucleus', 100.0, 10456)]\n"
     ]
    },
    {
     "name": "stderr",
     "output_type": "stream",
     "text": [
      " 55%|█████▌    | 275/496 [00:02<00:01, 137.05it/s]"
     ]
    },
    {
     "name": "stdout",
     "output_type": "stream",
     "text": [
      "supraoptic nucleus of the hypothalamus [('hypothalamus', 100.0, 10467), ('supraoptic nucleus', 100.0, 10481)]\n",
      "suprachiasmatic nucleus of the hypothalamus [('hypothalamus', 100.0, 10467), ('suprachiasmatic nucleus', 100.0, 10480)]\n",
      "retrochiasmatic nucleus of the hypothalamus [('hypothalamus', 100.0, 10467), ('retrochiasmatic nucleus', 100.0, 15536)]\n",
      "dorsomedial nucleus of the hypothalamus [('hypothalamus', 100.0, 10467), ('dorsomedial nucleus', 100.0, 12409), ('dorsomedial nucleus of Pr5', 91.66666666666667, 12445)]\n",
      "lateral hypothalamic area [('anterior hypothalamic area', 86.27450980392157, 266441551), ('dorsal hypothalamic area', 85.71428571428572, 13335)]\n",
      "ventral premammillary nucleus [('premammillary nulceus', 95.23809523809523, 13072), ('supramammillary nucleus', 90.9090909090909, 10497), ('red nucleus', 90.9090909090909, 12247)]\n",
      "preoptic area [('medial preoptic area', 100.0, 266441547), ('lateral preoptic area', 100.0, 10471)]\n",
      "preoptic periventricular nucleus [('paraventricular nucleus', 91.30434782608697, 10457), ('periventricular nucleus, preoptic portion', 90.32258064516128, 10469), ('periventricular nucleus, supraoptic portion', 90.32258064516128, 10474), ('periventricular nucleus, tuberal portion', 90.32258064516128, 10484)]\n",
      "midbrain [('midbrain (mesencephalon)', 100.0, 10648), ('midbrain tegmentum', 100.0, 12195)]\n",
      "nucleus of the optic tract [('optic tract', 100.0, 10589), ('nucleus of the optic tract  (lentiform nucleus)', 100.0, 12185), ('lateral terminal nucleus of accessory optic tract', 91.66666666666667, 13236)]\n",
      "tectum [('taenia tectum', 100.0, 10305), ('midbrain tectum', 100.0, 12291)]\n"
     ]
    },
    {
     "name": "stderr",
     "output_type": "stream",
     "text": [
      " 62%|██████▎   | 310/496 [00:02<00:01, 134.50it/s]"
     ]
    },
    {
     "name": "stdout",
     "output_type": "stream",
     "text": [
      "inferior colliculus, external nucleus [('nucleus U', 94.11764705882352, 12242), ('nucleus K', 94.11764705882352, 12522), ('nucleus L', 94.11764705882352, 12523), ('nucleus Y', 94.11764705882352, 12652)]\n",
      "tegmentum [('midbrain tegmentum', 100.0, 12195), ('other nuclei, midbrain tegmentum', 100.0, 12277), ('paracollicular tegmentum', 100.0, 12282), ('pontine tegmentum', 100.0, 12416)]\n",
      "nucleus of the posterior commissure [('magnocellular nucleus of the posterior commissure', 100.0, 12279), ('posterior commissure', 100.0, 10567), ('interstitial nucleus of posterior limb of anterior commissure', 93.93939393939394, 10388), ('interstitial nucleus of posterior commissure', 93.93939393939394, 12194)]\n",
      "substantia nigra pars compacta [('substantia nigra', 100.0, 12251), ('substantia nigra, compact part', 93.33333333333333, 12252)]\n",
      "substantia nigra pars reticulata [('substantia nigra', 100.0, 12251), ('substantia nigra, reticular part', 90.625, 12259)]\n",
      "periaqueductal gray [('periaqueductal gray substance', 100.0, 12209), ('periaqueductal gray substance, dorsolateral portion', 100.0, 12210), ('periaqueductal gray substance,dorsomedial division', 100.0, 12211), ('periaqueductal gray substance, dorsolateral division', 100.0, 12212), ('periaqueductal gray substance, lateral division', 100.0, 12213)]\n",
      "mesencephalic nucleus [('mesencephalic trigeminal nucleus', 100.0, 12208), ('central mesencephalic nucleus', 100.0, 15549)]\n",
      "interpeduncular nucleu, dorsomedial part [('interpeduncular nucleus', 95.65217391304348, 12270), ('interpeduncular nucleus, dorsomedial subnucleus', 93.5064935064935, 12273)]\n",
      "interpeduncular nucleu, caudal part [('interpeduncular nucleus', 95.65217391304348, 12270), ('interpeduncular nucleus, caudal subnucleus', 92.53731343283582, 12272)]\n"
     ]
    },
    {
     "name": "stderr",
     "output_type": "stream",
     "text": [
      " 70%|██████▉   | 345/496 [00:02<00:01, 134.24it/s]"
     ]
    },
    {
     "name": "stdout",
     "output_type": "stream",
     "text": [
      "nucleus of the lateral lemniscus, dorsal [('lateral nucleus', 100.0, 10367), ('dorsal nucleus', 100.0, 12407), ('lateral nucleus', 100.0, 12410), ('dorsal nucleus of lateral lemniscus', 93.33333333333333, 12455)]\n",
      "nucleus of the lateral lemniscus, ventral [('lateral nucleus', 100.0, 10367), ('lateral nucleus', 100.0, 12410), ('ventral nucleus of lateral lemniscus', 93.50649350649351, 12457)]\n",
      "parabrachial nucleus [('subparabrachial nucleus', 93.02325581395348, 12491), ('parabrachial nuclei', 92.3076923076923, 12481), ('medial parabrachial nucleus', 85.1063829787234, 12487), ('pararaphales nucleus', 85.0, 12655)]\n",
      "parabrachial nucleus, lateral part [('lateral parabrachial nucleus, central part', 100.0, 12483), ('lateral parabrachial nucleus, dorsal part', 100.0, 12484), ('lateral parabrachial nucleus, external part', 100.0, 12485), ('lateral parabrachial nucleus, superior part', 100.0, 12486), ('lateral parabrachial nucleus', 90.3225806451613, 12482)]\n",
      "reticular tegmental nucleus [('reticulotegmental nucleus', 92.3076923076923, 12414), ('reticulotegmental nucleus', 92.3076923076923, 12497)]\n",
      "spinal nucleus of the trigeminal [('spinal trigeminal nucleus', 100.0, 12572), ('spinal nucleus of trigeminal nerve, oral subnucleus', 93.33333333333333, 12447), ('layer 1 (marginal layer) of caudal spinal trigeminal nucleus', 93.33333333333333, 12574), ('layer 2 (gelatenous layer) of caudal spinal trigeminal nucleus', 93.33333333333333, 12575), ('layer 3/4 (magnocellular layer) of caudal spinal trigeminal nucleus', 93.33333333333333, 12576)]\n",
      "lateral reticular nucleus [('lateral reticular nuclei', 93.87755102040816, 12632), ('lateral vestibular nucleus', 90.19607843137256, 12449), ('lateral geniculate nucleus', 86.27450980392157, 10429), ('dorsal reticular nucleus', 85.71428571428572, 12617)]\n"
     ]
    },
    {
     "name": "stderr",
     "output_type": "stream",
     "text": [
      " 78%|███████▊  | 386/496 [00:03<00:00, 113.99it/s]"
     ]
    },
    {
     "name": "stdout",
     "output_type": "stream",
     "text": [
      "anterior lobe of cerebellum (h_v) [('cerebellum', 100.0, 10656), ('anterior lobe', 100.0, 12838)]\n",
      "cerebellar nuclei [('precerebellar nuclei', 91.89189189189189, 12595), ('cerebellar deep nuclei', 87.17948717948718, 10660)]\n",
      "interposed nucleus [('nucleus U', 94.11764705882352, 12242), ('nucleus K', 94.11764705882352, 12522), ('nucleus L', 94.11764705882352, 12523), ('nucleus Y', 94.11764705882352, 12652)]\n"
     ]
    },
    {
     "name": "stderr",
     "output_type": "stream",
     "text": [
      " 83%|████████▎ | 413/496 [00:03<00:00, 97.24it/s] "
     ]
    },
    {
     "name": "stdout",
     "output_type": "stream",
     "text": [
      "ganglionic eminence [('lateral ganglionic eminence', 100.0, 10551), ('medial ganglionic eminence', 100.0, 10550)]\n",
      "migratory streams [('migratory streams, hindbrain', 100.0, 12722), ('caudal (posterior) extramural migratory stream', 96.96969696969697, 12724), ('intramural migratory stream', 96.96969696969697, 12725)]\n",
      "parietal lobe neuroepithelium and subventricular zone [('subventricular zone', 100.0, 10536), ('parietal lobe', 100.0, 12131)]\n",
      "occipital lobe neuroepithelium and subventricular zone [('subventricular zone', 100.0, 10536), ('occipital lobe', 100.0, 12148)]\n"
     ]
    },
    {
     "name": "stderr",
     "output_type": "stream",
     "text": [
      " 91%|█████████▏| 453/496 [00:03<00:00, 106.25it/s]"
     ]
    },
    {
     "name": "stdout",
     "output_type": "stream",
     "text": [
      "fiber tracts [('forebrain commissural fiber tracts', 100.0, 10558), ('forebrain ipsilateral fiber tracts', 100.0, 10568)]\n",
      "external medullary lamina of the thalamus [('external medullary lamina of thalamus', 94.87179487179486, 12038), ('internal medullary lamina of thalamus', 89.74358974358975, 12063)]\n",
      "internal medullary lamina of the thalamus [('internal medullary lamina of thalamus', 94.87179487179486, 12063), ('external medullary lamina of thalamus', 89.74358974358975, 12038)]\n"
     ]
    },
    {
     "name": "stderr",
     "output_type": "stream",
     "text": [
      "100%|██████████| 496/496 [00:04<00:00, 123.83it/s]\n"
     ]
    }
   ],
   "source": [
    "from collections import defaultdict\n",
    "from tqdm import tqdm\n",
    "\n",
    "matches = defaultdict(list)\n",
    "\n",
    "for dh_id,rec in tqdm(ontohelper_dharani.onto_lookup.items()):\n",
    "    query = rec.name.lower()# .replace(',', ' in')\n",
    "    ret = ontohelper_allen.search(query)\n",
    "    \n",
    "    matches[dh_id].extend(ret)\n",
    "\n",
    "    if len(matches[dh_id])>1:\n",
    "        print(query,matches[dh_id])"
   ]
  },
  {
   "cell_type": "code",
   "execution_count": 32,
   "metadata": {},
   "outputs": [
    {
     "name": "stdout",
     "output_type": "stream",
     "text": [
      "2 Forebrain --- [('forebrain (prosencephalon)', 100.0, 10156), ('basal forebrain', 100.0, 10349)]\n",
      "5 Subpial granular layer, cerebral cortex --- [('subpial granular layer, perirhinal cortex', 90.0, 13213), ('subpial granular layer, parietal cortex', 89.74358974358975, 11593), ('subpial granular layer, temporal cortex', 89.74358974358975, 11598), ('subpial granular layer, frontal cortex', 88.31168831168831, 11581), ('subpial granular layer, periallocortex', 88.31168831168831, 12974)]\n",
      "6 Marginal zone, cerebral cortex --- [('marginal zone, perirhinal cortex', 87.09677419354838, 11645), ('marginal zone, parietal cortex', 86.66666666666667, 10511), ('marginal zone, temporal cortex', 86.66666666666667, 10512)]\n",
      "7 Cortical plate, cerebral cortex --- [('cortical plate, perirhinal cortex', 87.5, 11746), ('cortical plate, parietal cortex', 87.09677419354838, 10518), ('cortical plate, temporal cortex', 87.09677419354838, 10519), ('cortical plate, frontal cortex', 85.24590163934427, 10516), ('cortical plate, periallocortex', 85.24590163934427, 10521)]\n",
      "8 Subplate zone, cerebral cortex --- [('subplate zone, perirhinal cortex', 87.09677419354838, 11790), ('subplate zone, parietal cortex', 86.66666666666667, 10525), ('subplate zone, temporal cortex', 86.66666666666667, 10526)]\n",
      "9 Intermediate zone, cerebral cortex --- [('intermediate zone, perirhinal cortex', 88.57142857142857, 11878), ('intermediate zone, parietal cortex', 88.23529411764706, 10532), ('intermediate zone, temporal cortex', 88.23529411764706, 10533), ('intermediate zone, frontal cortex', 86.56716417910448, 10530), ('intermediate zone, periallocortex', 86.56716417910448, 10535)]\n",
      "10 Subventricular zone, cerebral cortex --- [('subventricular zone, parietal cortex', 88.88888888888889, 10539), ('subventricular zone, temporal cortex', 88.88888888888889, 10540), ('subventricular zone, frontal cortex', 87.32394366197182, 10537), ('subventricular zone, periallocortex', 87.32394366197182, 10541)]\n",
      "11 Ventricular zone, cerebral cortex --- [('ventricular zone, perirhinal cortex', 88.23529411764706, 12019), ('ventricular zone, parietal cortex', 87.87878787878788, 10545), ('ventricular zone, temporal cortex', 87.87878787878788, 10546), ('ventricular zone, frontal cortex', 86.15384615384616, 10543), ('ventricular zone, periallocortex', 86.15384615384616, 10548)]\n",
      "21 Orbital cortex --- [('subpial granular layer, orbital frontal cortex', 100.0, 11583), ('marginal zone, orbital frontal cortex', 100.0, 11608), ('cortical plate, orbital frontal cortex', 100.0, 11652), ('outer cortical plate, orbital frontal cortex', 100.0, 11653), ('inner cortical plate, orbital frontal cortex', 100.0, 11654)]\n",
      "22 Subpial granular layer, orbital cortex --- [('subpial granular layer, parietal cortex', 93.5064935064935, 11593), ('subpial granular layer, occipital cortex', 92.3076923076923, 11588), ('subpial granular layer, frontal cortex', 92.10526315789474, 11581), ('subpial granular layer, entorhinal cortex', 91.13924050632912, 12975), ('subpial granular layer, temporal cortex', 90.9090909090909, 11598)]\n",
      "23 Marginal zone, orbital cortex --- [('marginal zone, parietal cortex', 91.52542372881356, 10511), ('marginal zone, occipital cortex', 90.0, 10510), ('marginal zone, frontal cortex', 89.65517241379311, 10509), ('marginal zone, entorhinal cortex', 88.52459016393442, 11641), ('marginal zone, temporal cortex', 88.13559322033898, 10512)]\n",
      "24 Cortical plate, orbital cortex --- [('cortical plate, parietal cortex', 91.80327868852459, 10518), ('cortical plate, occipital cortex', 90.32258064516128, 10517), ('cortical plate, frontal cortex', 90.0, 10516), ('cortical plate, entorhinal cortex', 88.88888888888889, 11742), ('cortical plate, temporal cortex', 88.52459016393442, 10519)]\n",
      "25 Subplate zone, orbital cortex --- [('subplate zone, parietal cortex', 91.52542372881356, 10525), ('subplate zone, occipital cortex', 90.0, 10524), ('subplate zone, frontal cortex', 89.65517241379311, 10523), ('subplate zone, entorhinal cortex', 88.52459016393442, 11789), ('subplate zone, temporal cortex', 88.13559322033898, 10526)]\n",
      "26 Intermediate zone, orbital cortex --- [('intermediate zone, parietal cortex', 92.53731343283582, 10532), ('intermediate zone, occipital cortex', 91.17647058823529, 10531), ('intermediate zone, frontal cortex', 90.9090909090909, 10530), ('intermediate zone, entorhinal cortex', 89.85507246376811, 11877), ('intermediate zone, temporal cortex', 89.55223880597015, 10533)]\n",
      "27 Subventricular zone, orbital cortex --- [('subventricular zone, parietal cortex', 92.95774647887323, 10539), ('subventricular zone, occipital cortex', 91.66666666666666, 10538), ('subventricular zone, frontal cortex', 91.42857142857143, 10537), ('subventricular zone, temporal cortex', 90.14084507042254, 10540), ('subventricular zone, orbital frontal cortex', 89.74358974358975, 11885)]\n",
      "28 Ventricular zone, orbital cortex --- [('ventricular zone, parietal cortex', 92.3076923076923, 10545), ('ventricular zone, occipital cortex', 90.9090909090909, 10544), ('ventricular zone, frontal cortex', 90.625, 10543), ('ventricular zone, entorhinal cortex', 89.55223880597015, 13192), ('ventricular zone, temporal cortex', 89.23076923076923, 10546)]\n",
      "37 Parieto-occipital sulcus --- []\n",
      "46 Calcarine sulcus --- []\n",
      "62 Subventricular zone, entorhinal cortex --- [('ventricular zone, entorhinal cortex', 95.89041095890411, 13192), ('subventricular zone, temporal cortex', 89.1891891891892, 10540), ('subventricular zone, frontal cortex', 87.67123287671232, 10537), ('subventricular zone, periallocortex', 87.67123287671232, 10541), ('ventricular zone, perirhinal cortex', 87.67123287671232, 12019)]\n",
      "69 Cortical plate, hippocampal formation --- []\n",
      "72 Subventricular zone, hippocampal formation --- [('subventricular zone', 100.0, 10536), ('ventricular zone', 100.0, 10542)]\n",
      "74 Hippocampus --- [('cortical plate, rostral hippocampus', 100.0, 11736), ('cortical plate, caudal hippocampus', 100.0, 11737), ('hippocampus (hippocampal formation)', 100.0, 10294)]\n",
      "77 Cortical plate, hippocampus --- [('cortical plate, caudal hippocampus', 88.52459016393442, 11737), ('cortical plate, rostral hippocampus', 87.09677419354838, 11736)]\n",
      "80 Subventricular zone, hippocampus --- [('subventricular zone', 100.0, 10536), ('ventricular zone', 100.0, 10542)]\n",
      "83 Ammon's horn --- []\n",
      "386 CA1 field of hippocampus --- [('head of hippocampus', 91.89189189189189, 12171), ('body of hippocampus', 91.42857142857143, 12173)]\n",
      "387 CA2 field of hippocampus --- [('head of hippocampus', 91.89189189189189, 12171), ('body of hippocampus', 91.42857142857143, 12173)]\n",
      "388 CA3 field of hippocampus --- [('head of hippocampus', 91.89189189189189, 12171), ('body of hippocampus', 91.42857142857143, 12173)]\n",
      "389 CA4 field of hippocampus --- [('head of hippocampus', 91.89189189189189, 12171), ('body of hippocampus', 91.42857142857143, 12173)]\n",
      "93 Presubiculum --- [('prosubiculum', 91.66666666666666, 10303), ('subiculum', 85.71428571428572, 10302)]\n",
      "95 Marginal zone, presubiculum --- [('subiculum', 100.0, 10302), ('marginal zone, presubicular cortex', 92.5925925925926, 11640), ('marginal zone, caudal presubicular cortex (postsubiculum)', 92.5925925925926, 13092), ('prosubiculum', 91.66666666666666, 10303)]\n",
      "96 Cortical plate, presubiculum --- [('cortical plate', 100.0, 10515), ('subiculum', 100.0, 10302), ('cortical plate, presubicular cortex', 92.85714285714286, 11741), ('cortical plate, rostral presubicular cortex', 92.85714285714286, 13106), ('cortical plate, caudal presubicular cortex (postsubiculum)', 92.85714285714286, 13107)]\n",
      "97 Subplate zone, presubiculum --- [('subplate zone', 100.0, 10522), ('subiculum', 100.0, 10302), ('subplate zone, presubicular cortex', 92.5925925925926, 11788), ('subplate zone, caudal presubicular cortex (postsubiculum)', 92.5925925925926, 13122), ('prosubiculum', 91.66666666666666, 10303)]\n",
      "98 Intermediate zone, presubiculum --- [('subiculum', 100.0, 10302), ('intermediate zone, presubicular cortex', 93.5483870967742, 11876), ('intermediate zone, caudal presubicular cortex', 93.5483870967742, 13139), ('prosubiculum', 91.66666666666666, 10303)]\n",
      "99 Subventricular zone, presubiculum --- [('subventricular zone', 100.0, 10536), ('ventricular zone', 100.0, 10542), ('subiculum', 100.0, 10302), ('prosubiculum', 91.66666666666666, 10303)]\n",
      "100 Ventricular zone, presubiculum --- [('ventricular zone', 100.0, 10542), ('subiculum', 100.0, 10302), ('ventricular zone, presubicular cortex', 93.33333333333333, 12017), ('ventricular zone, caudal presubicular cortex', 93.33333333333333, 13191), ('prosubiculum', 91.66666666666666, 10303)]\n",
      "103 Marginal zone, parasubiculum --- [('subiculum', 100.0, 10302), ('marginal zone, parasubicular cortex', 92.85714285714286, 13278)]\n",
      "104 Cortical plate, parasubiculum --- [('subiculum', 100.0, 10302), ('cortical plate, parasubicular cortex', 93.10344827586206, 13280)]\n",
      "105 Subplate zone, parasubiculum --- [('subplate zone', 100.0, 10522), ('subiculum', 100.0, 10302), ('subplate zone, parasubicular cortex', 92.85714285714286, 13285)]\n",
      "107 Subventricular zone, parasubiculum --- [('subventricular zone', 100.0, 10536), ('ventricular zone', 100.0, 10542), ('subiculum', 100.0, 10302)]\n",
      "108 Ventricular zone, parasubiculum --- [('ventricular zone', 100.0, 10542), ('subiculum', 100.0, 10302)]\n",
      "112 Cortical plate, postsubiculum --- [('cortical plate', 100.0, 10515), ('subiculum', 100.0, 10302)]\n",
      "113 Subplate zone, postsubiculum --- [('subplate zone', 100.0, 10522), ('subiculum', 100.0, 10302)]\n",
      "115 Subventricular zone, postsubiculum --- [('subventricular zone', 100.0, 10536), ('ventricular zone', 100.0, 10542), ('subiculum', 100.0, 10302)]\n",
      "116 Ventricular zone, postsubiculum --- [('ventricular zone', 100.0, 10542), ('subiculum', 100.0, 10302)]\n",
      "501 Marginal zone, insula --- [('marginal zone', 100.0, 10508), ('marginal zone, insular cortex', 95.23809523809523, 11634), ('marginal zone, dysgranular insular cortex', 95.23809523809523, 11635), ('marginal zone, granular insular cortex', 95.23809523809523, 11636), ('marginal zone, agranular insular cortex', 95.23809523809523, 13279)]\n",
      "502 Cortical plate, insula --- [('cortical plate, insular cortex', 95.45454545454545, 11728), ('cortical plate, agranular insular cortex', 95.45454545454545, 13281), ('cortical plate, agranular insular cortex', 95.45454545454545, 146034622)]\n",
      "503 Subplate zone, insula --- [('subplate zone', 100.0, 10522), ('subplate zone, insular cortex', 95.23809523809523, 11783), ('subplate zone, dysgranular insular cortex', 95.23809523809523, 11784), ('subplate zone, granular insular cortex', 95.23809523809523, 11785), ('subplate zone, agranular insular cortex', 95.23809523809523, 13286)]\n",
      "505 Subventricular zone, insula --- [('subventricular zone', 100.0, 10536), ('ventricular zone', 100.0, 10542), ('subventricular zone, subgenual cingulate cortex', 92.3076923076923, 13288), ('subventricular zone, midcingulate cortex', 90.56603773584906, 11986), ('subventricular zone, frontal polar cortex', 90.19607843137256, 11905)]\n",
      "506 Ventricular zone, insula --- [('ventricular zone', 100.0, 10542), ('ventricular zone, presubicular cortex', 91.66666666666666, 12017), ('ventricular zone, caudal presubicular cortex', 91.66666666666666, 13191), ('ventricular zone, subicular cortex', 91.66666666666666, 12016), ('ventricular zone, rostral subicular cortex', 91.66666666666666, 13188)]\n",
      "130 Tenia tecta --- []\n",
      "134 Olfactory cortex --- [('subpial granular layer, olfactory entorhinal cortex', 100.0, 12976), ('marginal zone, olfactory entorhinal cortex', 100.0, 11642), ('cortical plate, olfactory entorhinal cortex', 100.0, 11743)]\n",
      "135 Amygdala --- [('extended amygdala', 100.0, 10383), ('sublenticular extended amygdala', 100.0, 10387)]\n",
      "136 Basolateral complex of the amygdala --- []\n",
      "286 Basal nucleus of the amygdala --- []\n",
      "435 Basal nucleus of the amygdala, intermediate part --- []\n",
      "287 Basomedial nucleus of the amygdala --- [('medial nucleus', 100.0, 10376), ('median nucleus', 92.85714285714286, 12411)]\n",
      "438 Basomedial nucleus of the amygdala, parvocellular part --- [('medial nucleus', 100.0, 10376), ('median nucleus', 92.85714285714286, 12411)]\n",
      "288 Lateral nucleus of the amygdala --- [('lateral nucleus', 100.0, 10367), ('lateral nucleus', 100.0, 12410)]\n",
      "137 Corticomedial complex of the amygdala --- []\n",
      "290 Cortical nucleus of the amygdala --- []\n",
      "293 Periamygdaloid cortex --- []\n",
      "295 Central nucleus of the amygdala --- []\n",
      "296 Intercalated cell groups of the amygdala --- []\n",
      "254 Dorsal complex of the thalamus --- [('thalamus', 100.0, 10390), ('dorsal thalamus', 100.0, 10391)]\n",
      "459 Nucleus fasciculosus of the thalamus --- [('thalamus', 100.0, 10390), ('fasciculosus nucleus of thalamus', 100.0, 13047)]\n",
      "162 Lateral dorsal nucleus of the thalamus --- [('lateral dorsal nucleus of thalamus', 94.44444444444444, 10396), ('central dorsal nucleus of thalamus', 86.11111111111111, 13331), ('anterodorsal nucleus of thalamus', 85.71428571428572, 10393)]\n",
      "416 Lateral posterior nucleus of the thalamus --- [('lateral posterior nucleus of thalamus', 94.87179487179486, 10408), ('ventral posterior nucleus of thalamus', 87.17948717948718, 10423)]\n",
      "260 Periventricular complex of the thalamus --- [('thalamus', 100.0, 10390), ('periventricular area of thalamus', 91.52542372881356, 13046)]\n",
      "171 Parafascicular nucleus of the thalamus --- [('parafascicular nucleus of thalamus', 94.44444444444444, 10450), ('subparafascicular nucleus of thalamus', 90.66666666666666, 13054)]\n",
      "333 Paraventricular nucleus of the thalamus --- [('paraventricular nucleus of hypothalamus', 92.3076923076923, 10476), ('reticular nucleus of thalamus', 85.29411764705883, 10464)]\n",
      "391 Paratenial nucleus of the thalamus --- [('parataenial nucleus of thalamus', 92.3076923076923, 10404), ('paracentral nucleus of thalamus', 86.15384615384616, 10446)]\n",
      "170 Nucleus reuniens --- []\n",
      "256 Anterior complex of the thalamus --- [('thalamus', 100.0, 10390), ('anterior nuclear complex of thalamus', 93.33333333333333, 10392)]\n",
      "163 Anterodorsal nucleus of the thalamus --- [('anterodorsal nucleus of thalamus', 94.11764705882352, 10393), ('lateral dorsal nucleus of thalamus', 85.71428571428572, 10396), ('anteromedial nucleus of thalamus', 85.29411764705883, 10394)]\n",
      "164 Anteromedial nucleus of the thalamus --- [('anteromedial nucleus of thalamus', 94.11764705882352, 10394), ('interanteromedial nucleus of thalamus', 87.67123287671232, 13048), ('anterodorsal nucleus of thalamus', 85.29411764705883, 10393), ('centromedian nucleus of thalamus', 85.29411764705883, 10449)]\n",
      "258 Centromedian nucleus of the thalamus --- [('centromedian nucleus of thalamus', 94.11764705882352, 10449), ('central medial nucleus of thalamus', 85.71428571428572, 10445), ('anteromedial nucleus of thalamus', 85.29411764705883, 10394)]\n",
      "395 Central medial nucleus of the thalamus --- [('central medial nucleus of thalamus', 94.44444444444444, 10445), ('ventral medial nucleus of thalamus', 91.66666666666666, 10427), ('central lateral nucleus of the thalamus', 90.9090909090909, 10444), ('central dorsal nucleus of thalamus', 86.11111111111111, 13331), ('centromedian nucleus of thalamus', 85.71428571428572, 10449)]\n",
      "390 Rhomboid nucleus of the thalamus --- [('thalamus', 100.0, 10390), ('rhomboid (central) nucleus of thalamus', 93.33333333333333, 10447)]\n",
      "259 Posterior complex of the thalamus --- [('thalamus', 100.0, 10390), ('posterior nuclear complex of thalamus', 93.54838709677419, 10428)]\n",
      "168 Medial geniculate nucleus --- [('medial geniculate nuclei', 93.87755102040816, 10434), ('dorsal medial geniculate nucleus', 87.71929824561404, 10435), ('lateral geniculate nucleus', 86.27450980392157, 10429), ('medial pericuneate nucleus', 86.27450980392157, 12527), ('ventral medial geniculate nucleus', 86.20689655172413, 10438)]\n",
      "400 Suprageniculate nucleus --- [('pregeniculate nucleus', 90.9090909090909, 13042), ('supragenual nucleus', 85.71428571428572, 12662)]\n",
      "405 Nucleus limitans of the thalamus --- [('thalamus', 100.0, 10390), ('limitans nucleus', 100.0, 13043)]\n",
      "169 Pulvinar nucleus of the thalamus --- [('thalamus', 100.0, 10390), ('pulvinar of thalamus', 100.0, 10409)]\n",
      "282 Ventral complex of the thalamus --- [('thalamus', 100.0, 10390), ('ventral thalamus', 100.0, 10461)]\n",
      "329 Ventral anterior nucleus of the thalamus --- [('ventral anterior nucleus of thalamus', 94.73684210526316, 10417), ('central lateral nucleus of the thalamus', 88.60759493670886, 10444), ('ventral posterior nucleus of thalamus', 88.31168831168831, 10423), ('ventral lateral nucleus of thalamus', 85.33333333333333, 10420)]\n",
      "330 Ventral lateral nucleus of the thalamus --- [('central lateral nucleus of the thalamus', 97.43589743589743, 10444), ('ventral lateral nucleus of thalamus', 94.5945945945946, 10420), ('ventral anterior nucleus of thalamus', 85.33333333333333, 10417)]\n",
      "383 Ventral medial nucleus of the thalamus --- [('ventral medial nucleus of thalamus', 94.44444444444444, 10427), ('central medial nucleus of thalamus', 91.66666666666666, 10445), ('central lateral nucleus of the thalamus', 88.31168831168831, 10444)]\n",
      "331 Ventral posterolateral nucleus of the thalamus --- [('central lateral nucleus of the thalamus', 89.41176470588236, 10444), ('ventral posterior nucleus of thalamus', 86.74698795180723, 10423), ('ventral lateral nucleus of thalamus', 86.41975308641976, 10420)]\n",
      "332 Ventral posteromedial nucleus of the thalamus --- [('ventral medial nucleus of thalamus', 86.07594936708861, 10427), ('central lateral nucleus of the thalamus', 85.71428571428572, 10444), ('ventral posterior nucleus of thalamus', 85.36585365853658, 10423)]\n",
      "380 Subparafascicular nucleus --- []\n",
      "175 Field of Forel --- []\n",
      "172 Habenula --- [('habenular nuclei', 100.0, 10452), ('lateral habenular nucleus', 100.0, 10453), ('medial habenular nucleus', 100.0, 10456)]\n",
      "178 Supraoptic nucleus of the hypothalamus --- [('hypothalamus', 100.0, 10467), ('supraoptic nucleus', 100.0, 10481)]\n",
      "179 Suprachiasmatic nucleus of the hypothalamus --- [('hypothalamus', 100.0, 10467), ('suprachiasmatic nucleus', 100.0, 10480)]\n",
      "418 Retrochiasmatic nucleus of the hypothalamus --- [('hypothalamus', 100.0, 10467), ('retrochiasmatic nucleus', 100.0, 15536)]\n",
      "183 Dorsomedial nucleus of the hypothalamus --- [('hypothalamus', 100.0, 10467), ('dorsomedial nucleus', 100.0, 12409), ('dorsomedial nucleus of Pr5', 91.66666666666667, 12445)]\n",
      "184 Lateral hypothalamic area --- [('anterior hypothalamic area', 86.27450980392157, 266441551), ('dorsal hypothalamic area', 85.71428571428572, 13335)]\n",
      "410 Ventral premammillary nucleus --- [('premammillary nulceus', 95.23809523809523, 13072), ('supramammillary nucleus', 90.9090909090909, 10497), ('red nucleus', 90.9090909090909, 12247)]\n",
      "186 Preoptic area --- [('medial preoptic area', 100.0, 266441547), ('lateral preoptic area', 100.0, 10471)]\n",
      "412 Tuberal area --- []\n",
      "304 Preoptic periventricular nucleus --- [('paraventricular nucleus', 91.30434782608697, 10457), ('periventricular nucleus, preoptic portion', 90.32258064516128, 10469), ('periventricular nucleus, supraoptic portion', 90.32258064516128, 10474), ('periventricular nucleus, tuberal portion', 90.32258064516128, 10484)]\n",
      "189 Pituitary gland --- []\n",
      "280 Pineal gland --- []\n",
      "192 Midbrain --- [('midbrain (mesencephalon)', 100.0, 10648), ('midbrain tegmentum', 100.0, 12195)]\n",
      "203 Pretectum --- []\n",
      "325 Nucleus of the optic tract --- [('optic tract', 100.0, 10589), ('nucleus of the optic tract  (lentiform nucleus)', 100.0, 12185), ('lateral terminal nucleus of accessory optic tract', 91.66666666666667, 13236)]\n",
      "193 Tectum --- [('taenia tectum', 100.0, 10305), ('midbrain tectum', 100.0, 12291)]\n",
      "318 Inferior colliculus, central nucleus --- []\n",
      "319 Inferior colliculus, external nucleus --- [('nucleus U', 94.11764705882352, 12242), ('nucleus K', 94.11764705882352, 12522), ('nucleus L', 94.11764705882352, 12523), ('nucleus Y', 94.11764705882352, 12652)]\n",
      "196 Tegmentum --- [('midbrain tegmentum', 100.0, 12195), ('other nuclei, midbrain tegmentum', 100.0, 12277), ('paracollicular tegmentum', 100.0, 12282), ('pontine tegmentum', 100.0, 12416)]\n",
      "321 Nucleus of the posterior commissure --- [('magnocellular nucleus of the posterior commissure', 100.0, 12279), ('posterior commissure', 100.0, 10567), ('interstitial nucleus of posterior limb of anterior commissure', 93.93939393939394, 10388), ('interstitial nucleus of posterior commissure', 93.93939393939394, 12194)]\n",
      "198 Substantia nigra pars compacta --- [('substantia nigra', 100.0, 12251), ('substantia nigra, compact part', 93.33333333333333, 12252)]\n",
      "199 Substantia nigra pars reticulata --- [('substantia nigra', 100.0, 12251), ('substantia nigra, reticular part', 90.625, 12259)]\n",
      "285 Periaqueductal gray --- [('periaqueductal gray substance', 100.0, 12209), ('periaqueductal gray substance, dorsolateral portion', 100.0, 12210), ('periaqueductal gray substance,dorsomedial division', 100.0, 12211), ('periaqueductal gray substance, dorsolateral division', 100.0, 12212), ('periaqueductal gray substance, lateral division', 100.0, 12213)]\n",
      "263 Oculomotor nuclear complex --- []\n",
      "261 Mesencephalic nucleus --- [('mesencephalic trigeminal nucleus', 100.0, 12208), ('central mesencephalic nucleus', 100.0, 15549)]\n",
      "428 Retrorubral area --- []\n",
      "451 Interpeduncular nucleu, dorsomedial part --- [('interpeduncular nucleus', 95.65217391304348, 12270), ('interpeduncular nucleus, dorsomedial subnucleus', 93.5064935064935, 12273)]\n",
      "452 Interpeduncular nucleu, caudal part --- [('interpeduncular nucleus', 95.65217391304348, 12270), ('interpeduncular nucleus, caudal subnucleus', 92.53731343283582, 12272)]\n",
      "264 Nucleus of the lateral lemniscus, dorsal --- [('lateral nucleus', 100.0, 10367), ('dorsal nucleus', 100.0, 12407), ('lateral nucleus', 100.0, 12410), ('dorsal nucleus of lateral lemniscus', 93.33333333333333, 12455)]\n",
      "265 Nucleus of the lateral lemniscus, ventral --- [('lateral nucleus', 100.0, 10367), ('lateral nucleus', 100.0, 12410), ('ventral nucleus of lateral lemniscus', 93.50649350649351, 12457)]\n",
      "206 Parabrachial nucleus --- [('subparabrachial nucleus', 93.02325581395348, 12491), ('parabrachial nuclei', 92.3076923076923, 12481), ('medial parabrachial nucleus', 85.1063829787234, 12487), ('pararaphales nucleus', 85.0, 12655)]\n",
      "464 Parabrachial nucleus, lateral part --- [('lateral parabrachial nucleus, central part', 100.0, 12483), ('lateral parabrachial nucleus, dorsal part', 100.0, 12484), ('lateral parabrachial nucleus, external part', 100.0, 12485), ('lateral parabrachial nucleus, superior part', 100.0, 12486), ('lateral parabrachial nucleus', 90.3225806451613, 12482)]\n",
      "208 Pontine gray --- []\n",
      "268 Reticular tegmental nucleus --- [('reticulotegmental nucleus', 92.3076923076923, 12414), ('reticulotegmental nucleus', 92.3076923076923, 12497)]\n",
      "269 Trigeminal motor nucleus --- []\n",
      "211 Medulla --- []\n",
      "273 Spinal nucleus of the trigeminal --- [('spinal trigeminal nucleus', 100.0, 12572), ('spinal nucleus of trigeminal nerve, oral subnucleus', 93.33333333333333, 12447), ('layer 1 (marginal layer) of caudal spinal trigeminal nucleus', 93.33333333333333, 12574), ('layer 2 (gelatenous layer) of caudal spinal trigeminal nucleus', 93.33333333333333, 12575), ('layer 3/4 (magnocellular layer) of caudal spinal trigeminal nucleus', 93.33333333333333, 12576)]\n",
      "276 Vestibular nuclear complex --- []\n",
      "305 Lateral reticular nucleus --- [('lateral reticular nuclei', 93.87755102040816, 12632), ('lateral vestibular nucleus', 90.19607843137256, 12449), ('lateral geniculate nucleus', 86.27450980392157, 10429), ('dorsal reticular nucleus', 85.71428571428572, 12617)]\n",
      "445 Rostral linear raphe nucleus --- []\n",
      "446 Caudal linear raphe nucleus --- []\n",
      "348 Anterior lobe of cerebellum (H_V) --- [('cerebellum', 100.0, 10656), ('anterior lobe', 100.0, 12838)]\n",
      "349 Lingula (I-II) --- []\n",
      "350 Centralis (III) --- []\n",
      "351 Culmen (IV-V) --- []\n",
      "353 Declive (VI) --- []\n",
      "354 Folium (VIIa) --- []\n",
      "355 Tuber (VIIb) --- []\n",
      "356 Pyramis (VIII) --- []\n",
      "357 Uvula (IX) --- []\n",
      "358 Nodulus (X) --- []\n",
      "359 Simplex lobule (HVI) --- []\n",
      "360 Ansiform lobule (HVIIA) --- []\n",
      "361 Ansiform lobule, crus I --- []\n",
      "362 Anisform lobule, crus II --- []\n",
      "364 Biventral lobule (HVIII) --- []\n",
      "365 Flocculus (HX) --- []\n",
      "366 Parafloccculus (HIX) --- []\n",
      "217 Cerebellar nuclei --- [('precerebellar nuclei', 91.89189189189189, 12595), ('cerebellar deep nuclei', 87.17948717948718, 10660)]\n",
      "221 Interposed nucleus --- [('nucleus U', 94.11764705882352, 12242), ('nucleus K', 94.11764705882352, 12522), ('nucleus L', 94.11764705882352, 12523), ('nucleus Y', 94.11764705882352, 12652)]\n",
      "223 Germinal trigone --- []\n",
      "367 Dorsal horn --- []\n",
      "371 Ventral horn --- []\n",
      "5000 Developmental (transient) structures --- []\n",
      "158 Ganglionic eminence --- [('lateral ganglionic eminence', 100.0, 10551), ('medial ganglionic eminence', 100.0, 10550)]\n",
      "442 Migratory streams --- [('migratory streams, hindbrain', 100.0, 12722), ('caudal (posterior) extramural migratory stream', 96.96969696969697, 12724), ('intramural migratory stream', 96.96969696969697, 12725)]\n",
      "441 Migratory stream, general --- []\n",
      "1023 Frontal neuroepithelium --- []\n",
      "1022 Orbitofrontal neuroepithelium --- []\n",
      "1015 Cingulate neuroepithelium --- []\n",
      "1021 Parietal lobe neuroepithelium and subventricular zone --- [('subventricular zone', 100.0, 10536), ('parietal lobe', 100.0, 12131)]\n",
      "1018 Parahippocampal neuroepithelium --- []\n",
      "1016 Hippocampal glioepithelium/ependyma --- []\n",
      "1020 Occipital lobe neuroepithelium and subventricular zone --- [('subventricular zone', 100.0, 10536), ('occipital lobe', 100.0, 12148)]\n",
      "1024 Accumbent neuroepithelium --- []\n",
      "1001 Thalamic glioepithelium/ependyma --- []\n",
      "1003 Hypothalamic glioepithelium/ependyma --- []\n",
      "1004 Mammillary glioepithelium/ependyma --- []\n",
      "1005 Preoptic glioepithelium/ependyma --- []\n",
      "1006 Mesencephalic neuroepithelium --- []\n",
      "1025 Rhombencephalic neuroepithelium --- []\n",
      "1007 Medullary glioepithelium/ependyma --- []\n",
      "1008 Precerebellar neuroepithelium --- []\n",
      "1010 Cerebellar glioepithelium/ependym --- []\n",
      "1013 Strionuclear glioepithelium --- []\n",
      "1014 Callosal glioepithelium --- []\n",
      "3000 Fiber tracts --- [('forebrain commissural fiber tracts', 100.0, 10558), ('forebrain ipsilateral fiber tracts', 100.0, 10568)]\n",
      "455 Oculomotor nerve --- []\n",
      "468 Trochlear nerve --- []\n",
      "469 Trigeminal nerve --- []\n",
      "466 Abducens nerve --- []\n",
      "467 Facial nerve --- []\n",
      "232 Corticofugal tract --- []\n",
      "344 Fasciola cinereum --- []\n",
      "246 Stria medullaris --- []\n",
      "396 Principal mammillary tract --- []\n",
      "397 Supramammillary decussation --- []\n",
      "310 Habenulo-interpenduncular tract --- []\n",
      "415 Lateral medullary lamina --- []\n",
      "417 External medullary lamina of the thalamus --- [('external medullary lamina of thalamus', 94.87179487179486, 12038), ('internal medullary lamina of thalamus', 89.74358974358975, 12063)]\n",
      "340 Visual radiation --- []\n",
      "239 Corpus callosum, genu --- []\n",
      "240 Corpus callosum, body --- []\n",
      "241 Corpus callosum, splenium --- []\n",
      "334 Internal medullary lamina of the thalamus --- [('internal medullary lamina of thalamus', 94.87179487179486, 12063), ('external medullary lamina of thalamus', 89.74358974358975, 12038)]\n",
      "414 Medial medullary lamina --- []\n",
      "311 Dorsal funiculus --- []\n",
      "346 Lateral funiculus --- []\n",
      "347 Ventral funiculus --- []\n",
      "250 Cerebellar peduncles --- []\n",
      "458 Superior cerebellar peduncle decussation --- []\n",
      "253 White matter fibers --- []\n",
      "229 Choroid plexus --- []\n",
      "230 Central canal --- []\n"
     ]
    }
   ],
   "source": [
    "for k,v in matches.items():\n",
    "    name = ontohelper_dharani.onto_lookup[k].name\n",
    "    if len(v)==1:\n",
    "        pass\n",
    "        # print('*',k,name,v)\n",
    "    else:\n",
    "        print(k,name,'---', v)\n",
    "    "
   ]
  },
  {
   "cell_type": "code",
   "execution_count": 41,
   "metadata": {},
   "outputs": [
    {
     "data": {
      "text/plain": [
       "[('prefrontopontine fibers', 100.0, 12042),\n",
       " ('frontopontine fibers', 100.0, 12048),\n",
       " ('parietopontine fibers', 100.0, 12055),\n",
       " ('occipitopontine fibers', 100.0, 12056),\n",
       " ('temporopontine fibers', 100.0, 12061)]"
      ]
     },
     "execution_count": 41,
     "metadata": {},
     "output_type": "execute_result"
    }
   ],
   "source": [
    "ontohelper_allen.search('pontine',partial=True)"
   ]
  },
  {
   "cell_type": "code",
   "execution_count": 42,
   "metadata": {},
   "outputs": [
    {
     "name": "stdout",
     "output_type": "stream",
     "text": [
      "10462 NodeRecord(acronym='FF', name='nucleus of the field of Forel', level=6, parentid=10461, color_hex_triplet='#B67BB4')\n",
      "15550 NodeRecord(acronym='CTF', name='central tegmental field', level=5, parentid=12277, color_hex_triplet='#6CA9BF')\n",
      "12289 NodeRecord(acronym='RRF', name='retrorubral field', level=5, parentid=12277, color_hex_triplet='#5298AE')\n"
     ]
    }
   ],
   "source": [
    "for ontoid, rec in ontohelper_allen.onto_lookup.items():\n",
    "    if 'field' in rec.name.lower():\n",
    "        print(ontoid, rec)"
   ]
  },
  {
   "cell_type": "code",
   "execution_count": 43,
   "metadata": {},
   "outputs": [
    {
     "data": {
      "text/plain": [
       "NodeRecord(acronym='CPhipc', name='CP in caudal hippocampus', level=7, parentid=11735, color_hex_triplet='#5D457F')"
      ]
     },
     "execution_count": 43,
     "metadata": {},
     "output_type": "execute_result"
    }
   ],
   "source": [
    "ontohelper_allen.onto_lookup[11737]"
   ]
  },
  {
   "cell_type": "code",
   "execution_count": 44,
   "metadata": {},
   "outputs": [
    {
     "data": {
      "text/plain": [
       "NodeRecord(acronym='CPhip', name='CP in hippocampal proper', level=6, parentid=10520, color_hex_triplet='#5D457F')"
      ]
     },
     "execution_count": 44,
     "metadata": {},
     "output_type": "execute_result"
    }
   ],
   "source": [
    "ontohelper_allen.onto_lookup[11735]"
   ]
  },
  {
   "cell_type": "code",
   "execution_count": 45,
   "metadata": {},
   "outputs": [
    {
     "data": {
      "text/plain": [
       "NodeRecord(acronym='IPNdl', name='Interpeduncular nucleu, dorsolateral part', level=5, parentid=283, color_hex_triplet='#8EBDCD')"
      ]
     },
     "execution_count": 45,
     "metadata": {},
     "output_type": "execute_result"
    }
   ],
   "source": [
    "ontohelper_dharani.onto_lookup[450]"
   ]
  },
  {
   "cell_type": "code",
   "execution_count": null,
   "metadata": {},
   "outputs": [],
   "source": []
  }
 ],
 "metadata": {
  "kernelspec": {
   "display_name": "Python 3 (ipykernel)",
   "language": "python",
   "name": "python3"
  },
  "language_info": {
   "codemirror_mode": {
    "name": "ipython",
    "version": 3
   },
   "file_extension": ".py",
   "mimetype": "text/x-python",
   "name": "python",
   "nbconvert_exporter": "python",
   "pygments_lexer": "ipython3",
   "version": "3.8.10"
  }
 },
 "nbformat": 4,
 "nbformat_minor": 4
}
