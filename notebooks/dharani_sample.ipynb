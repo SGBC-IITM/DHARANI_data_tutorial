{
 "cells": [
  {
   "cell_type": "markdown",
   "metadata": {},
   "source": [
    "## Dharani data and annotation sample"
   ]
  },
  {
   "cell_type": "code",
   "execution_count": 1,
   "metadata": {},
   "outputs": [],
   "source": [
    "import sys\n",
    "sys.path.append('..')\n",
    "from dharani_functions import DharaniHelper"
   ]
  },
  {
   "cell_type": "code",
   "execution_count": 2,
   "metadata": {},
   "outputs": [],
   "source": [
    "helper = DharaniHelper(specimennum=1,downsample=3)"
   ]
  },
  {
   "cell_type": "code",
   "execution_count": 3,
   "metadata": {},
   "outputs": [
    {
     "data": {
      "text/plain": [
       "\u001b[1;31mInit signature:\u001b[0m \u001b[0mDharaniHelper\u001b[0m\u001b[1;33m(\u001b[0m\u001b[0mspecimennum\u001b[0m\u001b[1;33m,\u001b[0m \u001b[0mdownsample\u001b[0m\u001b[1;33m=\u001b[0m\u001b[1;36m3\u001b[0m\u001b[1;33m)\u001b[0m\u001b[1;33m\u001b[0m\u001b[1;33m\u001b[0m\u001b[0m\n",
       "\u001b[1;31mDocstring:\u001b[0m      Helper for simplified access to Dharani image and annotation data from AWS s3 bucket s3://dharani-fetal-brain-atlas\n",
       "\u001b[1;31mInit docstring:\u001b[0m\n",
       "specimennum : [1,2,3,4,5]\n",
       "\n",
       "mpp = 2^downsample\n",
       "downsample = 3 [default] => mpp=8\n",
       "\u001b[1;31mFile:\u001b[0m           c:\\users\\keerthi\\code\\hbp\\sgbc_dharani_data_tutorial\\dharani_data_tutorial\\dharani_functions.py\n",
       "\u001b[1;31mType:\u001b[0m           type\n",
       "\u001b[1;31mSubclasses:\u001b[0m     "
      ]
     },
     "metadata": {},
     "output_type": "display_data"
    }
   ],
   "source": [
    "DharaniHelper?"
   ]
  },
  {
   "cell_type": "code",
   "execution_count": 4,
   "metadata": {},
   "outputs": [
    {
     "data": {
      "text/plain": [
       "[1009]"
      ]
     },
     "execution_count": 4,
     "metadata": {},
     "output_type": "execute_result"
    }
   ],
   "source": [
    "helper.get_section_numbers()"
   ]
  },
  {
   "cell_type": "code",
   "execution_count": 5,
   "metadata": {},
   "outputs": [],
   "source": [
    "secnum = 1009"
   ]
  },
  {
   "cell_type": "markdown",
   "metadata": {},
   "source": [
    "Load section image at resolution 2^downsample micron per pixel (mpp)"
   ]
  },
  {
   "cell_type": "code",
   "execution_count": 6,
   "metadata": {},
   "outputs": [],
   "source": [
    "im_arr = helper.get_sectionimage(secnum)"
   ]
  },
  {
   "cell_type": "code",
   "execution_count": 7,
   "metadata": {},
   "outputs": [
    {
     "data": {
      "text/plain": [
       "(8000, 8000, 3)"
      ]
     },
     "execution_count": 7,
     "metadata": {},
     "output_type": "execute_result"
    }
   ],
   "source": [
    "im_arr.shape"
   ]
  },
  {
   "cell_type": "markdown",
   "metadata": {},
   "source": [
    "Load annotation of the section. This fetches a dict of polygons. The keys are ontology ids, and the values are the annotated regions"
   ]
  },
  {
   "cell_type": "code",
   "execution_count": 8,
   "metadata": {},
   "outputs": [],
   "source": [
    "annot = helper.get_annotation(secnum)"
   ]
  },
  {
   "cell_type": "code",
   "execution_count": 9,
   "metadata": {},
   "outputs": [
    {
     "data": {
      "text/plain": [
       "103"
      ]
     },
     "execution_count": 9,
     "metadata": {},
     "output_type": "execute_result"
    }
   ],
   "source": [
    "len(annot)"
   ]
  },
  {
   "cell_type": "markdown",
   "metadata": {},
   "source": [
    "Load the ontology, to interpret the ids"
   ]
  },
  {
   "cell_type": "code",
   "execution_count": 10,
   "metadata": {},
   "outputs": [],
   "source": [
    "from ontology_handling import TreeHelper"
   ]
  },
  {
   "cell_type": "code",
   "execution_count": 11,
   "metadata": {},
   "outputs": [],
   "source": [
    "ontohelper = TreeHelper('dharani')"
   ]
  },
  {
   "cell_type": "code",
   "execution_count": 12,
   "metadata": {},
   "outputs": [
    {
     "data": {
      "text/plain": [
       "\u001b[1;31mInit signature:\u001b[0m \u001b[0mTreeHelper\u001b[0m\u001b[1;33m(\u001b[0m\u001b[0montoname\u001b[0m\u001b[1;33m=\u001b[0m\u001b[1;34m'dharani'\u001b[0m\u001b[1;33m)\u001b[0m\u001b[1;33m\u001b[0m\u001b[1;33m\u001b[0m\u001b[0m\n",
       "\u001b[1;31mDocstring:\u001b[0m      Abstracts ontology tree reading, searching and navigation for Dharani and Allen nomenclature\n",
       "\u001b[1;31mInit docstring:\u001b[0m ontoname: ['dharani', 'allen_devhuman'] \n",
       "\u001b[1;31mFile:\u001b[0m           c:\\users\\keerthi\\code\\hbp\\sgbc_dharani_data_tutorial\\dharani_data_tutorial\\ontology_handling.py\n",
       "\u001b[1;31mType:\u001b[0m           type\n",
       "\u001b[1;31mSubclasses:\u001b[0m     "
      ]
     },
     "metadata": {},
     "output_type": "display_data"
    }
   ],
   "source": [
    "TreeHelper?"
   ]
  },
  {
   "cell_type": "markdown",
   "metadata": {},
   "source": [
    "Load the functions to display annotations"
   ]
  },
  {
   "cell_type": "code",
   "execution_count": 14,
   "metadata": {},
   "outputs": [],
   "source": [
    "from nb_functions import display_annotation, display_annotation_tree"
   ]
  },
  {
   "cell_type": "code",
   "execution_count": 15,
   "metadata": {},
   "outputs": [
    {
     "data": {
      "text/html": [
       "<p>&emsp;&emsp;&emsp;&emsp;&emsp;&emsp;# 93 PRESUB Presubiculum 6 </p>"
      ],
      "text/plain": [
       "<IPython.core.display.HTML object>"
      ]
     },
     "metadata": {},
     "output_type": "display_data"
    },
    {
     "data": {
      "text/html": [
       "<p>&emsp;&emsp;&emsp;&emsp;&emsp;&emsp;&emsp; 98 IZ-PRESUB Intermediate zone, presubiculum 7 <span style=\"display:inline-block;width:20px;height:12px;padding:0px;background-color:#bcf1ce;\"></span></p>"
      ],
      "text/plain": [
       "<IPython.core.display.HTML object>"
      ]
     },
     "metadata": {},
     "output_type": "display_data"
    },
    {
     "data": {
      "text/html": [
       "<p>&emsp;&emsp;&emsp;&emsp;&emsp;&emsp;&emsp; 94 SGL-PRESUB Subpial granular layer, presubiculum 7 <span style=\"display:inline-block;width:20px;height:12px;padding:0px;background-color:#b8a98a;\"></span></p>"
      ],
      "text/plain": [
       "<IPython.core.display.HTML object>"
      ]
     },
     "metadata": {},
     "output_type": "display_data"
    },
    {
     "data": {
      "text/html": [
       "<p>&emsp;&emsp;&emsp;&emsp;&emsp;&emsp;&emsp; 95 MZ-PRESUB Marginal zone, presubiculum 7 <span style=\"display:inline-block;width:20px;height:12px;padding:0px;background-color:#de895e;\"></span></p>"
      ],
      "text/plain": [
       "<IPython.core.display.HTML object>"
      ]
     },
     "metadata": {},
     "output_type": "display_data"
    },
    {
     "data": {
      "text/html": [
       "<p>&emsp;&emsp;&emsp;&emsp;&emsp;&emsp;&emsp; 96 CP-PRESUB Cortical plate, presubiculum 7 <span style=\"display:inline-block;width:20px;height:12px;padding:0px;background-color:#f6ca72;\"></span></p>"
      ],
      "text/plain": [
       "<IPython.core.display.HTML object>"
      ]
     },
     "metadata": {},
     "output_type": "display_data"
    },
    {
     "data": {
      "text/html": [
       "<p>&emsp;&emsp;&emsp;&emsp;&emsp;&emsp;&emsp; 97 SP-PRESUB Subplate zone, presubiculum 7 <span style=\"display:inline-block;width:20px;height:12px;padding:0px;background-color:#eafe89;\"></span></p>"
      ],
      "text/plain": [
       "<IPython.core.display.HTML object>"
      ]
     },
     "metadata": {},
     "output_type": "display_data"
    },
    {
     "data": {
      "text/html": [
       "<p>&emsp;&emsp;&emsp;&emsp;&emsp;&emsp;&emsp; 99 SVZ-PRESUB Subventricular zone, presubiculum 7 <span style=\"display:inline-block;width:20px;height:12px;padding:0px;background-color:#dbabf2;\"></span></p>"
      ],
      "text/plain": [
       "<IPython.core.display.HTML object>"
      ]
     },
     "metadata": {},
     "output_type": "display_data"
    },
    {
     "data": {
      "text/html": [
       "<p>&emsp;&emsp;&emsp;&emsp;&emsp;&emsp;&emsp; 100 VZ-PRESUB Ventricular zone, presubiculum 7 <span style=\"display:inline-block;width:20px;height:12px;padding:0px;background-color:#e670be;\"></span></p>"
      ],
      "text/plain": [
       "<IPython.core.display.HTML object>"
      ]
     },
     "metadata": {},
     "output_type": "display_data"
    },
    {
     "data": {
      "text/html": [
       "<p>&emsp;&emsp;&emsp;&emsp;&emsp;&emsp;# 85 SUB Subiculum 6 </p>"
      ],
      "text/plain": [
       "<IPython.core.display.HTML object>"
      ]
     },
     "metadata": {},
     "output_type": "display_data"
    },
    {
     "data": {
      "text/html": [
       "<p>&emsp;&emsp;&emsp;&emsp;&emsp;&emsp;&emsp; 90 IZ-SUB Intermediate zone, subiculum 7 <span style=\"display:inline-block;width:20px;height:12px;padding:0px;background-color:#bcf1ce;\"></span></p>"
      ],
      "text/plain": [
       "<IPython.core.display.HTML object>"
      ]
     },
     "metadata": {},
     "output_type": "display_data"
    },
    {
     "data": {
      "text/html": [
       "<p>&emsp;&emsp;&emsp;&emsp;&emsp;&emsp;&emsp; 91 SVZ-SUB Subventricular zone, subiculum 7 <span style=\"display:inline-block;width:20px;height:12px;padding:0px;background-color:#dbabf2;\"></span></p>"
      ],
      "text/plain": [
       "<IPython.core.display.HTML object>"
      ]
     },
     "metadata": {},
     "output_type": "display_data"
    },
    {
     "data": {
      "text/html": [
       "<p>&emsp;&emsp;&emsp;&emsp;&emsp;&emsp;&emsp; 92 VZ-SUB Ventricular zone, subiculum 7 <span style=\"display:inline-block;width:20px;height:12px;padding:0px;background-color:#e670be;\"></span></p>"
      ],
      "text/plain": [
       "<IPython.core.display.HTML object>"
      ]
     },
     "metadata": {},
     "output_type": "display_data"
    },
    {
     "data": {
      "text/html": [
       "<p>&emsp;&emsp;&emsp;&emsp;&emsp;&emsp;&emsp; 88 CP-SUB Cortical plate, subiculum 7 <span style=\"display:inline-block;width:20px;height:12px;padding:0px;background-color:#f6ca72;\"></span></p>"
      ],
      "text/plain": [
       "<IPython.core.display.HTML object>"
      ]
     },
     "metadata": {},
     "output_type": "display_data"
    },
    {
     "data": {
      "text/html": [
       "<p>&emsp;&emsp;&emsp;&emsp;&emsp;&emsp;&emsp; 87 MZ-SUB Marginal zone, subiculum 7 <span style=\"display:inline-block;width:20px;height:12px;padding:0px;background-color:#de895e;\"></span></p>"
      ],
      "text/plain": [
       "<IPython.core.display.HTML object>"
      ]
     },
     "metadata": {},
     "output_type": "display_data"
    },
    {
     "data": {
      "text/html": [
       "<p>&emsp;&emsp;&emsp;&emsp;&emsp;&emsp;&emsp; 89 SP-SUB Subplate zone, subiculum 7 <span style=\"display:inline-block;width:20px;height:12px;padding:0px;background-color:#eafe89;\"></span></p>"
      ],
      "text/plain": [
       "<IPython.core.display.HTML object>"
      ]
     },
     "metadata": {},
     "output_type": "display_data"
    },
    {
     "data": {
      "text/html": [
       "<p>&emsp;&emsp;&emsp;&emsp;&emsp;&emsp;&emsp; 86 SGL-SUB Subpial granular layer, subiculum 7 <span style=\"display:inline-block;width:20px;height:12px;padding:0px;background-color:#b8a98a;\"></span></p>"
      ],
      "text/plain": [
       "<IPython.core.display.HTML object>"
      ]
     },
     "metadata": {},
     "output_type": "display_data"
    },
    {
     "data": {
      "text/html": [
       "<p>&emsp;&emsp;&emsp;&emsp;&emsp;&emsp;&emsp;# 83 CA Ammon's horn 7 </p>"
      ],
      "text/plain": [
       "<IPython.core.display.HTML object>"
      ]
     },
     "metadata": {},
     "output_type": "display_data"
    },
    {
     "data": {
      "text/html": [
       "<p>&emsp;&emsp;&emsp;&emsp;&emsp;&emsp;&emsp;&emsp; 386 CA1 CA1 field of hippocampus 8 <span style=\"display:inline-block;width:20px;height:12px;padding:0px;background-color:#8DBF6F;\"></span></p>"
      ],
      "text/plain": [
       "<IPython.core.display.HTML object>"
      ]
     },
     "metadata": {},
     "output_type": "display_data"
    },
    {
     "data": {
      "text/html": [
       "<p>&emsp;&emsp;&emsp;&emsp;&emsp;&emsp;&emsp;&emsp; 387 CA2 CA2 field of hippocampus 8 <span style=\"display:inline-block;width:20px;height:12px;padding:0px;background-color:#8DBF6F;\"></span></p>"
      ],
      "text/plain": [
       "<IPython.core.display.HTML object>"
      ]
     },
     "metadata": {},
     "output_type": "display_data"
    },
    {
     "data": {
      "text/html": [
       "<p>&emsp;&emsp;&emsp;&emsp;&emsp;&emsp;&emsp;&emsp; 388 CA3 CA3 field of hippocampus 8 <span style=\"display:inline-block;width:20px;height:12px;padding:0px;background-color:#8DBF6F;\"></span></p>"
      ],
      "text/plain": [
       "<IPython.core.display.HTML object>"
      ]
     },
     "metadata": {},
     "output_type": "display_data"
    },
    {
     "data": {
      "text/html": [
       "<p>&emsp;&emsp;&emsp;&emsp;&emsp;# 66 HPF Hippocampal formation 5 </p>"
      ],
      "text/plain": [
       "<IPython.core.display.HTML object>"
      ]
     },
     "metadata": {},
     "output_type": "display_data"
    },
    {
     "data": {
      "text/html": [
       "<p>&emsp;&emsp;&emsp;&emsp;&emsp;&emsp; 68 MZ-HPF Marginal zone, hippocampal formation 6 <span style=\"display:inline-block;width:20px;height:12px;padding:0px;background-color:#de895e;\"></span></p>"
      ],
      "text/plain": [
       "<IPython.core.display.HTML object>"
      ]
     },
     "metadata": {},
     "output_type": "display_data"
    },
    {
     "data": {
      "text/html": [
       "<p>&emsp;&emsp;&emsp;&emsp;&emsp;&emsp; 67 SGL-HPF Subpial granular layer, hippocampal formation 6 <span style=\"display:inline-block;width:20px;height:12px;padding:0px;background-color:#b8a98a;\"></span></p>"
      ],
      "text/plain": [
       "<IPython.core.display.HTML object>"
      ]
     },
     "metadata": {},
     "output_type": "display_data"
    },
    {
     "data": {
      "text/html": [
       "<p>&emsp;&emsp;&emsp;&emsp;&emsp;&emsp; 72 SVZ-HPF Subventricular zone, hippocampal formation 6 <span style=\"display:inline-block;width:20px;height:12px;padding:0px;background-color:#dbabf2;\"></span></p>"
      ],
      "text/plain": [
       "<IPython.core.display.HTML object>"
      ]
     },
     "metadata": {},
     "output_type": "display_data"
    },
    {
     "data": {
      "text/html": [
       "<p>&emsp;&emsp;&emsp;&emsp;&emsp;&emsp; 73 VZ-HPF Ventricular zone, hippocampal formation 6 <span style=\"display:inline-block;width:20px;height:12px;padding:0px;background-color:#e670be;\"></span></p>"
      ],
      "text/plain": [
       "<IPython.core.display.HTML object>"
      ]
     },
     "metadata": {},
     "output_type": "display_data"
    },
    {
     "data": {
      "text/html": [
       "<p>&emsp;&emsp;&emsp;&emsp;&emsp;&emsp;&emsp;&emsp;# 387 CA2 CA2 field of hippocampus 8 </p>"
      ],
      "text/plain": [
       "<IPython.core.display.HTML object>"
      ]
     },
     "metadata": {},
     "output_type": "display_data"
    },
    {
     "data": {
      "text/html": [
       "<p>&emsp;&emsp;&emsp;&emsp;&emsp;&emsp;&emsp;&emsp;&emsp; 422 SP-CA2 Subplate zone, CA2 field 9 <span style=\"display:inline-block;width:20px;height:12px;padding:0px;background-color:#eafe89;\"></span></p>"
      ],
      "text/plain": [
       "<IPython.core.display.HTML object>"
      ]
     },
     "metadata": {},
     "output_type": "display_data"
    },
    {
     "data": {
      "text/html": [
       "<p>&emsp;&emsp;&emsp;&emsp;&emsp;&emsp;&emsp;&emsp;&emsp; 423 IZ-CA2 Intermediate zone, CA2 field 9 <span style=\"display:inline-block;width:20px;height:12px;padding:0px;background-color:#bcf1ce;\"></span></p>"
      ],
      "text/plain": [
       "<IPython.core.display.HTML object>"
      ]
     },
     "metadata": {},
     "output_type": "display_data"
    },
    {
     "data": {
      "text/html": [
       "<p>&emsp;&emsp;&emsp;&emsp;&emsp;&emsp;&emsp;&emsp;# 388 CA3 CA3 field of hippocampus 8 </p>"
      ],
      "text/plain": [
       "<IPython.core.display.HTML object>"
      ]
     },
     "metadata": {},
     "output_type": "display_data"
    },
    {
     "data": {
      "text/html": [
       "<p>&emsp;&emsp;&emsp;&emsp;&emsp;&emsp;&emsp;&emsp;&emsp; 424 SP-CA3 Subplate zone, CA3 field 9 <span style=\"display:inline-block;width:20px;height:12px;padding:0px;background-color:#eafe89;\"></span></p>"
      ],
      "text/plain": [
       "<IPython.core.display.HTML object>"
      ]
     },
     "metadata": {},
     "output_type": "display_data"
    },
    {
     "data": {
      "text/html": [
       "<p>&emsp;&emsp;&emsp;&emsp;&emsp;&emsp;&emsp;&emsp;&emsp; 425 IZ-CA3 Intermediate zone, CA3 field 9 <span style=\"display:inline-block;width:20px;height:12px;padding:0px;background-color:#bcf1ce;\"></span></p>"
      ],
      "text/plain": [
       "<IPython.core.display.HTML object>"
      ]
     },
     "metadata": {},
     "output_type": "display_data"
    },
    {
     "data": {
      "text/html": [
       "<p>&emsp;# 235 mfb Medial forebrain bundle 1 </p>"
      ],
      "text/plain": [
       "<IPython.core.display.HTML object>"
      ]
     },
     "metadata": {},
     "output_type": "display_data"
    },
    {
     "data": {
      "text/html": [
       "<p>&emsp;&emsp; 247 fx Fornix 2 <span style=\"display:inline-block;width:20px;height:12px;padding:0px;background-color:#9F9F9F;\"></span></p>"
      ],
      "text/plain": [
       "<IPython.core.display.HTML object>"
      ]
     },
     "metadata": {},
     "output_type": "display_data"
    },
    {
     "data": {
      "text/html": [
       "<p>&emsp;&emsp; 245 stt Stria terminalis 2 <span style=\"display:inline-block;width:20px;height:12px;padding:0px;background-color:#9F9F9F;\"></span></p>"
      ],
      "text/plain": [
       "<IPython.core.display.HTML object>"
      ]
     },
     "metadata": {},
     "output_type": "display_data"
    },
    {
     "data": {
      "text/html": [
       "<p># 5000 dev Developmental (transient) structures 0 </p>"
      ],
      "text/plain": [
       "<IPython.core.display.HTML object>"
      ]
     },
     "metadata": {},
     "output_type": "display_data"
    },
    {
     "data": {
      "text/html": [
       "<p>&emsp; 1016 hipg Hippocampal glioepithelium/ependyma 1 <span style=\"display:inline-block;width:20px;height:12px;padding:0px;background-color:#775F5F;\"></span></p>"
      ],
      "text/plain": [
       "<IPython.core.display.HTML object>"
      ]
     },
     "metadata": {},
     "output_type": "display_data"
    },
    {
     "data": {
      "text/html": [
       "<p>&emsp; 1026 tcet Transient cell zone in the external capsule 1 <span style=\"display:inline-block;width:20px;height:12px;padding:0px;background-color:#775F5F;\"></span></p>"
      ],
      "text/plain": [
       "<IPython.core.display.HTML object>"
      ]
     },
     "metadata": {},
     "output_type": "display_data"
    },
    {
     "data": {
      "text/html": [
       "<p>&emsp; 1000 dne Diencephalic neuroepithelium 1 <span style=\"display:inline-block;width:20px;height:12px;padding:0px;background-color:#775F5F;\"></span></p>"
      ],
      "text/plain": [
       "<IPython.core.display.HTML object>"
      ]
     },
     "metadata": {},
     "output_type": "display_data"
    },
    {
     "data": {
      "text/html": [
       "<p>&emsp; 158 GE Ganglionic eminence 1 <span style=\"display:inline-block;width:20px;height:12px;padding:0px;background-color:#775F5F;\"></span></p>"
      ],
      "text/plain": [
       "<IPython.core.display.HTML object>"
      ]
     },
     "metadata": {},
     "output_type": "display_data"
    },
    {
     "data": {
      "text/html": [
       "<p>&emsp;&emsp;&emsp;&emsp;&emsp;&emsp;# 74 HIP Hippocampus 6 </p>"
      ],
      "text/plain": [
       "<IPython.core.display.HTML object>"
      ]
     },
     "metadata": {},
     "output_type": "display_data"
    },
    {
     "data": {
      "text/html": [
       "<p>&emsp;&emsp;&emsp;&emsp;&emsp;&emsp;&emsp; 82 DG Dentate gyrus 7 <span style=\"display:inline-block;width:20px;height:12px;padding:0px;background-color:#67C76C;\"></span></p>"
      ],
      "text/plain": [
       "<IPython.core.display.HTML object>"
      ]
     },
     "metadata": {},
     "output_type": "display_data"
    },
    {
     "data": {
      "text/html": [
       "<p>&emsp;&emsp;&emsp;&emsp;&emsp;&emsp;&emsp;&emsp;# 386 CA1 CA1 field of hippocampus 8 </p>"
      ],
      "text/plain": [
       "<IPython.core.display.HTML object>"
      ]
     },
     "metadata": {},
     "output_type": "display_data"
    },
    {
     "data": {
      "text/html": [
       "<p>&emsp;&emsp;&emsp;&emsp;&emsp;&emsp;&emsp;&emsp;&emsp; 421 IZ-CA1 Intermediate zone, CA1 field 9 <span style=\"display:inline-block;width:20px;height:12px;padding:0px;background-color:#bcf1ce;\"></span></p>"
      ],
      "text/plain": [
       "<IPython.core.display.HTML object>"
      ]
     },
     "metadata": {},
     "output_type": "display_data"
    },
    {
     "data": {
      "text/html": [
       "<p>&emsp;&emsp;&emsp;&emsp;&emsp;&emsp;&emsp;&emsp;&emsp; 420 SP-CA1 Subplate zone, CA1 field 9 <span style=\"display:inline-block;width:20px;height:12px;padding:0px;background-color:#eafe89;\"></span></p>"
      ],
      "text/plain": [
       "<IPython.core.display.HTML object>"
      ]
     },
     "metadata": {},
     "output_type": "display_data"
    },
    {
     "data": {
      "text/html": [
       "<p>&emsp;&emsp;&emsp;&emsp;&emsp;&emsp;# 101 PARA Parasubiculum 6 </p>"
      ],
      "text/plain": [
       "<IPython.core.display.HTML object>"
      ]
     },
     "metadata": {},
     "output_type": "display_data"
    },
    {
     "data": {
      "text/html": [
       "<p>&emsp;&emsp;&emsp;&emsp;&emsp;&emsp;&emsp; 102 SGL-PARA Subpial granular layer, parasubiculum 7 <span style=\"display:inline-block;width:20px;height:12px;padding:0px;background-color:#b8a98a;\"></span></p>"
      ],
      "text/plain": [
       "<IPython.core.display.HTML object>"
      ]
     },
     "metadata": {},
     "output_type": "display_data"
    },
    {
     "data": {
      "text/html": [
       "<p>&emsp;&emsp;&emsp;&emsp;&emsp;&emsp;&emsp; 103 MZ-PARA Marginal zone, parasubiculum 7 <span style=\"display:inline-block;width:20px;height:12px;padding:0px;background-color:#de895e;\"></span></p>"
      ],
      "text/plain": [
       "<IPython.core.display.HTML object>"
      ]
     },
     "metadata": {},
     "output_type": "display_data"
    },
    {
     "data": {
      "text/html": [
       "<p>&emsp;&emsp;&emsp;&emsp;&emsp;&emsp;&emsp; 107 SVZ-PARA Subventricular zone, parasubiculum 7 <span style=\"display:inline-block;width:20px;height:12px;padding:0px;background-color:#dbabf2;\"></span></p>"
      ],
      "text/plain": [
       "<IPython.core.display.HTML object>"
      ]
     },
     "metadata": {},
     "output_type": "display_data"
    },
    {
     "data": {
      "text/html": [
       "<p>&emsp;&emsp;&emsp;&emsp;&emsp;&emsp;&emsp; 106 IZ-PARA Intermediate zone, parasubiculum 7 <span style=\"display:inline-block;width:20px;height:12px;padding:0px;background-color:#bcf1ce;\"></span></p>"
      ],
      "text/plain": [
       "<IPython.core.display.HTML object>"
      ]
     },
     "metadata": {},
     "output_type": "display_data"
    },
    {
     "data": {
      "text/html": [
       "<p>&emsp;&emsp;&emsp;&emsp;&emsp;&emsp;&emsp; 108 VZ-PARA Ventricular zone, parasubiculum 7 <span style=\"display:inline-block;width:20px;height:12px;padding:0px;background-color:#e670be;\"></span></p>"
      ],
      "text/plain": [
       "<IPython.core.display.HTML object>"
      ]
     },
     "metadata": {},
     "output_type": "display_data"
    },
    {
     "data": {
      "text/html": [
       "<p>&emsp;&emsp;&emsp;&emsp;&emsp;&emsp;&emsp; 104 CP-PARA Cortical plate, parasubiculum 7 <span style=\"display:inline-block;width:20px;height:12px;padding:0px;background-color:#f6ca72;\"></span></p>"
      ],
      "text/plain": [
       "<IPython.core.display.HTML object>"
      ]
     },
     "metadata": {},
     "output_type": "display_data"
    },
    {
     "data": {
      "text/html": [
       "<p>&emsp;&emsp;&emsp;&emsp;&emsp;&emsp;&emsp; 105 SP-PARA Subplate zone, parasubiculum 7 <span style=\"display:inline-block;width:20px;height:12px;padding:0px;background-color:#eafe89;\"></span></p>"
      ],
      "text/plain": [
       "<IPython.core.display.HTML object>"
      ]
     },
     "metadata": {},
     "output_type": "display_data"
    },
    {
     "data": {
      "text/html": [
       "<p>&emsp;&emsp;&emsp;&emsp;# 38 OCC Occipital cortex 4 </p>"
      ],
      "text/plain": [
       "<IPython.core.display.HTML object>"
      ]
     },
     "metadata": {},
     "output_type": "display_data"
    },
    {
     "data": {
      "text/html": [
       "<p>&emsp;&emsp;&emsp;&emsp;&emsp; 42 SP-OCC Subplate zone, occipital cortex 5 <span style=\"display:inline-block;width:20px;height:12px;padding:0px;background-color:#eafe89;\"></span></p>"
      ],
      "text/plain": [
       "<IPython.core.display.HTML object>"
      ]
     },
     "metadata": {},
     "output_type": "display_data"
    },
    {
     "data": {
      "text/html": [
       "<p>&emsp;&emsp;&emsp;&emsp;&emsp; 41 CP-OCC Cortical plate, occipital cortex 5 <span style=\"display:inline-block;width:20px;height:12px;padding:0px;background-color:#f6ca72;\"></span></p>"
      ],
      "text/plain": [
       "<IPython.core.display.HTML object>"
      ]
     },
     "metadata": {},
     "output_type": "display_data"
    },
    {
     "data": {
      "text/html": [
       "<p>&emsp;&emsp;&emsp;&emsp;&emsp; 40 MZ-OCC Marginal zone, occipital cortex 5 <span style=\"display:inline-block;width:20px;height:12px;padding:0px;background-color:#de895e;\"></span></p>"
      ],
      "text/plain": [
       "<IPython.core.display.HTML object>"
      ]
     },
     "metadata": {},
     "output_type": "display_data"
    },
    {
     "data": {
      "text/html": [
       "<p>&emsp;&emsp;&emsp;&emsp;&emsp; 39 SGL-OCC Subpial granular layer, occipital cortex 5 <span style=\"display:inline-block;width:20px;height:12px;padding:0px;background-color:#b8a98a;\"></span></p>"
      ],
      "text/plain": [
       "<IPython.core.display.HTML object>"
      ]
     },
     "metadata": {},
     "output_type": "display_data"
    },
    {
     "data": {
      "text/html": [
       "<p>&emsp;&emsp;&emsp;&emsp;&emsp; 43 IZ-OCC Intermediate zone, occipital cortex 5 <span style=\"display:inline-block;width:20px;height:12px;padding:0px;background-color:#bcf1ce;\"></span></p>"
      ],
      "text/plain": [
       "<IPython.core.display.HTML object>"
      ]
     },
     "metadata": {},
     "output_type": "display_data"
    },
    {
     "data": {
      "text/html": [
       "<p>&emsp;&emsp;&emsp;&emsp;&emsp; 44 SVZ-OCC Subventricular zone, occipital cortex 5 <span style=\"display:inline-block;width:20px;height:12px;padding:0px;background-color:#dbabf2;\"></span></p>"
      ],
      "text/plain": [
       "<IPython.core.display.HTML object>"
      ]
     },
     "metadata": {},
     "output_type": "display_data"
    },
    {
     "data": {
      "text/html": [
       "<p>&emsp;&emsp;&emsp;&emsp;&emsp; 45 VZ-OCC Ventricular zone, occipital cortex 5 <span style=\"display:inline-block;width:20px;height:12px;padding:0px;background-color:#e670be;\"></span></p>"
      ],
      "text/plain": [
       "<IPython.core.display.HTML object>"
      ]
     },
     "metadata": {},
     "output_type": "display_data"
    },
    {
     "data": {
      "text/html": [
       "<p>&emsp;&emsp;# 216 CBX Cerebellar cortex 2 </p>"
      ],
      "text/plain": [
       "<IPython.core.display.HTML object>"
      ]
     },
     "metadata": {},
     "output_type": "display_data"
    },
    {
     "data": {
      "text/html": [
       "<p>&emsp;&emsp;&emsp; 219 HEM Cerebellar hemispheres 3 <span style=\"display:inline-block;width:20px;height:12px;padding:0px;background-color:#FF9F9F;\"></span></p>"
      ],
      "text/plain": [
       "<IPython.core.display.HTML object>"
      ]
     },
     "metadata": {},
     "output_type": "display_data"
    },
    {
     "data": {
      "text/html": [
       "<p># 3000 ft Fiber tracts 0 </p>"
      ],
      "text/plain": [
       "<IPython.core.display.HTML object>"
      ]
     },
     "metadata": {},
     "output_type": "display_data"
    },
    {
     "data": {
      "text/html": [
       "<p>&emsp; 244 ext External capsule 1 <span style=\"display:inline-block;width:20px;height:12px;padding:0px;background-color:#9F9F9F;\"></span></p>"
      ],
      "text/plain": [
       "<IPython.core.display.HTML object>"
      ]
     },
     "metadata": {},
     "output_type": "display_data"
    },
    {
     "data": {
      "text/html": [
       "<p>&emsp; 243 ac Anterior commissure 1 <span style=\"display:inline-block;width:20px;height:12px;padding:0px;background-color:#9F9F9F;\"></span></p>"
      ],
      "text/plain": [
       "<IPython.core.display.HTML object>"
      ]
     },
     "metadata": {},
     "output_type": "display_data"
    },
    {
     "data": {
      "text/html": [
       "<p>&emsp; 253 wmf White matter fibers 1 <span style=\"display:inline-block;width:20px;height:12px;padding:0px;background-color:#9F9F9F;\"></span></p>"
      ],
      "text/plain": [
       "<IPython.core.display.HTML object>"
      ]
     },
     "metadata": {},
     "output_type": "display_data"
    },
    {
     "data": {
      "text/html": [
       "<p>&emsp; 417 emlth External medullary lamina of the thalamus 1 <span style=\"display:inline-block;width:20px;height:12px;padding:0px;background-color:#9F9F9F;\"></span></p>"
      ],
      "text/plain": [
       "<IPython.core.display.HTML object>"
      ]
     },
     "metadata": {},
     "output_type": "display_data"
    },
    {
     "data": {
      "text/html": [
       "<p>&emsp;&emsp;&emsp;&emsp;# 21 ORB Orbital cortex 4 </p>"
      ],
      "text/plain": [
       "<IPython.core.display.HTML object>"
      ]
     },
     "metadata": {},
     "output_type": "display_data"
    },
    {
     "data": {
      "text/html": [
       "<p>&emsp;&emsp;&emsp;&emsp;&emsp; 22 SGL-ORB Subpial granular layer, orbital cortex 5 <span style=\"display:inline-block;width:20px;height:12px;padding:0px;background-color:#b8a98a;\"></span></p>"
      ],
      "text/plain": [
       "<IPython.core.display.HTML object>"
      ]
     },
     "metadata": {},
     "output_type": "display_data"
    },
    {
     "data": {
      "text/html": [
       "<p>&emsp;&emsp;&emsp;&emsp;&emsp; 23 MZ-ORB Marginal zone, orbital cortex 5 <span style=\"display:inline-block;width:20px;height:12px;padding:0px;background-color:#de895e;\"></span></p>"
      ],
      "text/plain": [
       "<IPython.core.display.HTML object>"
      ]
     },
     "metadata": {},
     "output_type": "display_data"
    },
    {
     "data": {
      "text/html": [
       "<p>&emsp;&emsp;&emsp;&emsp;&emsp; 25 SP-ORB Subplate zone, orbital cortex 5 <span style=\"display:inline-block;width:20px;height:12px;padding:0px;background-color:#eafe89;\"></span></p>"
      ],
      "text/plain": [
       "<IPython.core.display.HTML object>"
      ]
     },
     "metadata": {},
     "output_type": "display_data"
    },
    {
     "data": {
      "text/html": [
       "<p>&emsp;&emsp;&emsp;&emsp;&emsp; 24 CP-ORB Cortical plate, orbital cortex 5 <span style=\"display:inline-block;width:20px;height:12px;padding:0px;background-color:#f6ca72;\"></span></p>"
      ],
      "text/plain": [
       "<IPython.core.display.HTML object>"
      ]
     },
     "metadata": {},
     "output_type": "display_data"
    },
    {
     "data": {
      "text/html": [
       "<p>&emsp;&emsp;&emsp;# 4 Ctx Cerebral cortex 3 </p>"
      ],
      "text/plain": [
       "<IPython.core.display.HTML object>"
      ]
     },
     "metadata": {},
     "output_type": "display_data"
    },
    {
     "data": {
      "text/html": [
       "<p>&emsp;&emsp;&emsp;&emsp; 131 CLA Claustrum 4 <span style=\"display:inline-block;width:20px;height:12px;padding:0px;background-color:#DFECD0;\"></span></p>"
      ],
      "text/plain": [
       "<IPython.core.display.HTML object>"
      ]
     },
     "metadata": {},
     "output_type": "display_data"
    },
    {
     "data": {
      "text/html": [
       "<p>&emsp;&emsp;&emsp;&emsp; 134 OLF Olfactory cortex 4 <span style=\"display:inline-block;width:20px;height:12px;padding:0px;background-color:#D1EBDD;\"></span></p>"
      ],
      "text/plain": [
       "<IPython.core.display.HTML object>"
      ]
     },
     "metadata": {},
     "output_type": "display_data"
    },
    {
     "data": {
      "text/html": [
       "<p>&emsp;&emsp;&emsp;&emsp;# 141 Str Striatum 4 </p>"
      ],
      "text/plain": [
       "<IPython.core.display.HTML object>"
      ]
     },
     "metadata": {},
     "output_type": "display_data"
    },
    {
     "data": {
      "text/html": [
       "<p>&emsp;&emsp;&emsp;&emsp;&emsp; 143 Put Putamen 5 <span style=\"display:inline-block;width:20px;height:12px;padding:0px;background-color:#F0DB90;\"></span></p>"
      ],
      "text/plain": [
       "<IPython.core.display.HTML object>"
      ]
     },
     "metadata": {},
     "output_type": "display_data"
    },
    {
     "data": {
      "text/html": [
       "<p>&emsp;&emsp;&emsp;&emsp;&emsp; 142 Cau Caudate nucleus 5 <span style=\"display:inline-block;width:20px;height:12px;padding:0px;background-color:#F8F9BB;\"></span></p>"
      ],
      "text/plain": [
       "<IPython.core.display.HTML object>"
      ]
     },
     "metadata": {},
     "output_type": "display_data"
    },
    {
     "data": {
      "text/html": [
       "<p>&emsp;# 442 Mss Migratory streams 1 </p>"
      ],
      "text/plain": [
       "<IPython.core.display.HTML object>"
      ]
     },
     "metadata": {},
     "output_type": "display_data"
    },
    {
     "data": {
      "text/html": [
       "<p>&emsp;&emsp; 156 Lms Lateral migratory stream 2 <span style=\"display:inline-block;width:20px;height:12px;padding:0px;background-color:#775F5F;\"></span></p>"
      ],
      "text/plain": [
       "<IPython.core.display.HTML object>"
      ]
     },
     "metadata": {},
     "output_type": "display_data"
    },
    {
     "data": {
      "text/html": [
       "<p>&emsp;&emsp; 441 Ms-g Migratory stream, general 2 <span style=\"display:inline-block;width:20px;height:12px;padding:0px;background-color:#775F5F;\"></span></p>"
      ],
      "text/plain": [
       "<IPython.core.display.HTML object>"
      ]
     },
     "metadata": {},
     "output_type": "display_data"
    },
    {
     "data": {
      "text/html": [
       "<p>&emsp;&emsp;&emsp;&emsp;# 137 CMX Corticomedial complex of the amygdala 4 </p>"
      ],
      "text/plain": [
       "<IPython.core.display.HTML object>"
      ]
     },
     "metadata": {},
     "output_type": "display_data"
    },
    {
     "data": {
      "text/html": [
       "<p>&emsp;&emsp;&emsp;&emsp;&emsp; 290 COA Cortical nucleus of the amygdala 5 <span style=\"display:inline-block;width:20px;height:12px;padding:0px;background-color:#AFDFD7;\"></span></p>"
      ],
      "text/plain": [
       "<IPython.core.display.HTML object>"
      ]
     },
     "metadata": {},
     "output_type": "display_data"
    },
    {
     "data": {
      "text/html": [
       "<p>&emsp;&emsp;&emsp;&emsp;&emsp; 289 AAA Anterior amygdaloid area 5 <span style=\"display:inline-block;width:20px;height:12px;padding:0px;background-color:#AADEE4;\"></span></p>"
      ],
      "text/plain": [
       "<IPython.core.display.HTML object>"
      ]
     },
     "metadata": {},
     "output_type": "display_data"
    },
    {
     "data": {
      "text/html": [
       "<p>&emsp;&emsp;&emsp;# 135 AMY Amygdala 3 </p>"
      ],
      "text/plain": [
       "<IPython.core.display.HTML object>"
      ]
     },
     "metadata": {},
     "output_type": "display_data"
    },
    {
     "data": {
      "text/html": [
       "<p>&emsp;&emsp;&emsp;&emsp; 293 PAC Periamygdaloid cortex 4 <span style=\"display:inline-block;width:20px;height:12px;padding:0px;background-color:#A5F8F9;\"></span></p>"
      ],
      "text/plain": [
       "<IPython.core.display.HTML object>"
      ]
     },
     "metadata": {},
     "output_type": "display_data"
    },
    {
     "data": {
      "text/html": [
       "<p>&emsp;&emsp;&emsp;&emsp; 393 AStr Amygdalo-striatal area 4 <span style=\"display:inline-block;width:20px;height:12px;padding:0px;background-color:#ADE0E1;\"></span></p>"
      ],
      "text/plain": [
       "<IPython.core.display.HTML object>"
      ]
     },
     "metadata": {},
     "output_type": "display_data"
    },
    {
     "data": {
      "text/html": [
       "<p>&emsp;&emsp;&emsp;&emsp; 295 CEA Central nucleus of the amygdala 4 <span style=\"display:inline-block;width:20px;height:12px;padding:0px;background-color:#AADEE4;\"></span></p>"
      ],
      "text/plain": [
       "<IPython.core.display.HTML object>"
      ]
     },
     "metadata": {},
     "output_type": "display_data"
    },
    {
     "data": {
      "text/html": [
       "<p>&emsp;&emsp;&emsp;&emsp;# 12 FCtx Frontal cortex 4 </p>"
      ],
      "text/plain": [
       "<IPython.core.display.HTML object>"
      ]
     },
     "metadata": {},
     "output_type": "display_data"
    },
    {
     "data": {
      "text/html": [
       "<p>&emsp;&emsp;&emsp;&emsp;&emsp; 13 SGL-FCTx Subpial granular layer, frontal cortex 5 <span style=\"display:inline-block;width:20px;height:12px;padding:0px;background-color:#b8a98a;\"></span></p>"
      ],
      "text/plain": [
       "<IPython.core.display.HTML object>"
      ]
     },
     "metadata": {},
     "output_type": "display_data"
    },
    {
     "data": {
      "text/html": [
       "<p>&emsp;&emsp;&emsp;&emsp;&emsp; 14 MZ-FCTx Marginal zone, frontal cortex 5 <span style=\"display:inline-block;width:20px;height:12px;padding:0px;background-color:#de895e;\"></span></p>"
      ],
      "text/plain": [
       "<IPython.core.display.HTML object>"
      ]
     },
     "metadata": {},
     "output_type": "display_data"
    },
    {
     "data": {
      "text/html": [
       "<p>&emsp;&emsp;&emsp;&emsp;&emsp; 15 CP-FCTx Cortical plate, frontal cortex 5 <span style=\"display:inline-block;width:20px;height:12px;padding:0px;background-color:#f6ca72;\"></span></p>"
      ],
      "text/plain": [
       "<IPython.core.display.HTML object>"
      ]
     },
     "metadata": {},
     "output_type": "display_data"
    },
    {
     "data": {
      "text/html": [
       "<p>&emsp;&emsp;&emsp;&emsp;&emsp; 16 SP-FCTx Subplate zone, frontal cortex 5 <span style=\"display:inline-block;width:20px;height:12px;padding:0px;background-color:#eafe89;\"></span></p>"
      ],
      "text/plain": [
       "<IPython.core.display.HTML object>"
      ]
     },
     "metadata": {},
     "output_type": "display_data"
    },
    {
     "data": {
      "text/html": [
       "<p>&emsp;&emsp;&emsp;&emsp;&emsp; 18 SVZ-FCTx Subventricular zone, frontal cortex 5 <span style=\"display:inline-block;width:20px;height:12px;padding:0px;background-color:#dbabf2;\"></span></p>"
      ],
      "text/plain": [
       "<IPython.core.display.HTML object>"
      ]
     },
     "metadata": {},
     "output_type": "display_data"
    },
    {
     "data": {
      "text/html": [
       "<p>&emsp;&emsp;&emsp;&emsp;&emsp; 19 VZ-FCTx Ventricular zone, frontal cortex 5 <span style=\"display:inline-block;width:20px;height:12px;padding:0px;background-color:#e670be;\"></span></p>"
      ],
      "text/plain": [
       "<IPython.core.display.HTML object>"
      ]
     },
     "metadata": {},
     "output_type": "display_data"
    },
    {
     "data": {
      "text/html": [
       "<p>&emsp;&emsp;&emsp;&emsp;&emsp; 17 IZ-FCTx Intermediate zone, frontal cortex 5 <span style=\"display:inline-block;width:20px;height:12px;padding:0px;background-color:#bcf1ce;\"></span></p>"
      ],
      "text/plain": [
       "<IPython.core.display.HTML object>"
      ]
     },
     "metadata": {},
     "output_type": "display_data"
    },
    {
     "data": {
      "text/html": [
       "<p>&emsp;&emsp;&emsp;&emsp;# 259 POT Posterior complex of the thalamus 4 </p>"
      ],
      "text/plain": [
       "<IPython.core.display.HTML object>"
      ]
     },
     "metadata": {},
     "output_type": "display_data"
    },
    {
     "data": {
      "text/html": [
       "<p>&emsp;&emsp;&emsp;&emsp;&emsp; 167 LGN Lateral geniculate nucleus 5 <span style=\"display:inline-block;width:20px;height:12px;padding:0px;background-color:#F7D0BB;\"></span></p>"
      ],
      "text/plain": [
       "<IPython.core.display.HTML object>"
      ]
     },
     "metadata": {},
     "output_type": "display_data"
    },
    {
     "data": {
      "text/html": [
       "<p>&emsp;&emsp;&emsp;# 160 TH Thalamus 3 </p>"
      ],
      "text/plain": [
       "<IPython.core.display.HTML object>"
      ]
     },
     "metadata": {},
     "output_type": "display_data"
    },
    {
     "data": {
      "text/html": [
       "<p>&emsp;&emsp;&emsp;&emsp; 176 RT Reticular nucleus of the thalamus 4 <span style=\"display:inline-block;width:20px;height:12px;padding:0px;background-color:#B067A9;\"></span></p>"
      ],
      "text/plain": [
       "<IPython.core.display.HTML object>"
      ]
     },
     "metadata": {},
     "output_type": "display_data"
    },
    {
     "data": {
      "text/html": [
       "<p>&emsp;&emsp;&emsp;&emsp;# 29 PAR Parietal cortex 4 </p>"
      ],
      "text/plain": [
       "<IPython.core.display.HTML object>"
      ]
     },
     "metadata": {},
     "output_type": "display_data"
    },
    {
     "data": {
      "text/html": [
       "<p>&emsp;&emsp;&emsp;&emsp;&emsp; 35 SVZ-PAR Subventricular zone, parietal cortex 5 <span style=\"display:inline-block;width:20px;height:12px;padding:0px;background-color:#dbabf2;\"></span></p>"
      ],
      "text/plain": [
       "<IPython.core.display.HTML object>"
      ]
     },
     "metadata": {},
     "output_type": "display_data"
    },
    {
     "data": {
      "text/html": [
       "<p>&emsp;&emsp;&emsp;&emsp;&emsp; 36 VZ-PAR Ventricular zone, parietal cortex 5 <span style=\"display:inline-block;width:20px;height:12px;padding:0px;background-color:#e670be;\"></span></p>"
      ],
      "text/plain": [
       "<IPython.core.display.HTML object>"
      ]
     },
     "metadata": {},
     "output_type": "display_data"
    },
    {
     "data": {
      "text/html": [
       "<p>&emsp;&emsp;&emsp;&emsp;&emsp; 30 SGL-PAR Subpial granular layer, parietal cortex 5 <span style=\"display:inline-block;width:20px;height:12px;padding:0px;background-color:#b8a98a;\"></span></p>"
      ],
      "text/plain": [
       "<IPython.core.display.HTML object>"
      ]
     },
     "metadata": {},
     "output_type": "display_data"
    },
    {
     "data": {
      "text/html": [
       "<p>&emsp;&emsp;&emsp;&emsp;&emsp; 31 MZ-PAR Marginal zone, parietal cortex 5 <span style=\"display:inline-block;width:20px;height:12px;padding:0px;background-color:#de895e;\"></span></p>"
      ],
      "text/plain": [
       "<IPython.core.display.HTML object>"
      ]
     },
     "metadata": {},
     "output_type": "display_data"
    },
    {
     "data": {
      "text/html": [
       "<p>&emsp;&emsp;&emsp;&emsp;&emsp; 32 CP-PAR Cortical plate, parietal cortex 5 <span style=\"display:inline-block;width:20px;height:12px;padding:0px;background-color:#f6ca72;\"></span></p>"
      ],
      "text/plain": [
       "<IPython.core.display.HTML object>"
      ]
     },
     "metadata": {},
     "output_type": "display_data"
    },
    {
     "data": {
      "text/html": [
       "<p>&emsp;&emsp;&emsp;&emsp;&emsp; 33 SP-PAR Subplate zone, parietal cortex 5 <span style=\"display:inline-block;width:20px;height:12px;padding:0px;background-color:#eafe89;\"></span></p>"
      ],
      "text/plain": [
       "<IPython.core.display.HTML object>"
      ]
     },
     "metadata": {},
     "output_type": "display_data"
    },
    {
     "data": {
      "text/html": [
       "<p>&emsp;&emsp;&emsp;&emsp;&emsp; 34 IZ-PAR Intermediate zone, parietal cortex 5 <span style=\"display:inline-block;width:20px;height:12px;padding:0px;background-color:#bcf1ce;\"></span></p>"
      ],
      "text/plain": [
       "<IPython.core.display.HTML object>"
      ]
     },
     "metadata": {},
     "output_type": "display_data"
    },
    {
     "data": {
      "text/html": [
       "<p># 6000 Vs Ventricles 0 </p>"
      ],
      "text/plain": [
       "<IPython.core.display.HTML object>"
      ]
     },
     "metadata": {},
     "output_type": "display_data"
    },
    {
     "data": {
      "text/html": [
       "<p>&emsp; 229 Chp Choroid plexus 1 <span style=\"display:inline-block;width:20px;height:12px;padding:0px;background-color:#872601;\"></span></p>"
      ],
      "text/plain": [
       "<IPython.core.display.HTML object>"
      ]
     },
     "metadata": {},
     "output_type": "display_data"
    },
    {
     "data": {
      "text/html": [
       "<p>&emsp; 226 LV Lateral ventricle 1 <span style=\"display:inline-block;width:20px;height:12px;padding:0px;background-color:#231F20;\"></span></p>"
      ],
      "text/plain": [
       "<IPython.core.display.HTML object>"
      ]
     },
     "metadata": {},
     "output_type": "display_data"
    },
    {
     "data": {
      "text/html": [
       "<p>&emsp;# 232 cortf Corticofugal tract 1 </p>"
      ],
      "text/plain": [
       "<IPython.core.display.HTML object>"
      ]
     },
     "metadata": {},
     "output_type": "display_data"
    },
    {
     "data": {
      "text/html": [
       "<p>&emsp;&emsp; 236 int Internal capsule 2 <span style=\"display:inline-block;width:20px;height:12px;padding:0px;background-color:#9F9F9F;\"></span></p>"
      ],
      "text/plain": [
       "<IPython.core.display.HTML object>"
      ]
     },
     "metadata": {},
     "output_type": "display_data"
    },
    {
     "data": {
      "text/html": [
       "<p>&emsp;&emsp;# 3 Tel Telencephalon 2 </p>"
      ],
      "text/plain": [
       "<IPython.core.display.HTML object>"
      ]
     },
     "metadata": {},
     "output_type": "display_data"
    },
    {
     "data": {
      "text/html": [
       "<p>&emsp;&emsp;&emsp; 135 AMY Amygdala 3 <span style=\"display:inline-block;width:20px;height:12px;padding:0px;background-color:#CAEEF2;\"></span></p>"
      ],
      "text/plain": [
       "<IPython.core.display.HTML object>"
      ]
     },
     "metadata": {},
     "output_type": "display_data"
    },
    {
     "data": {
      "text/html": [
       "<p>&emsp;&emsp;&emsp;&emsp;# 47 TEMP Temporal cortex 4 </p>"
      ],
      "text/plain": [
       "<IPython.core.display.HTML object>"
      ]
     },
     "metadata": {},
     "output_type": "display_data"
    },
    {
     "data": {
      "text/html": [
       "<p>&emsp;&emsp;&emsp;&emsp;&emsp; 54 VZ-TEMP Ventricular zone, temporal cortex 5 <span style=\"display:inline-block;width:20px;height:12px;padding:0px;background-color:#e670be;\"></span></p>"
      ],
      "text/plain": [
       "<IPython.core.display.HTML object>"
      ]
     },
     "metadata": {},
     "output_type": "display_data"
    },
    {
     "data": {
      "text/html": [
       "<p>&emsp;&emsp;&emsp;&emsp;&emsp; 50 CP-TEMP Cortical plate, temporal cortex 5 <span style=\"display:inline-block;width:20px;height:12px;padding:0px;background-color:#f6ca72;\"></span></p>"
      ],
      "text/plain": [
       "<IPython.core.display.HTML object>"
      ]
     },
     "metadata": {},
     "output_type": "display_data"
    },
    {
     "data": {
      "text/html": [
       "<p>&emsp;&emsp;&emsp;&emsp;&emsp; 48 SGL-TEMP Subpial granular layer, temporal cortex 5 <span style=\"display:inline-block;width:20px;height:12px;padding:0px;background-color:#b8a98a;\"></span></p>"
      ],
      "text/plain": [
       "<IPython.core.display.HTML object>"
      ]
     },
     "metadata": {},
     "output_type": "display_data"
    },
    {
     "data": {
      "text/html": [
       "<p>&emsp;&emsp;&emsp;&emsp;&emsp; 51 SP-TEMP Subplate zone, temporal cortex 5 <span style=\"display:inline-block;width:20px;height:12px;padding:0px;background-color:#eafe89;\"></span></p>"
      ],
      "text/plain": [
       "<IPython.core.display.HTML object>"
      ]
     },
     "metadata": {},
     "output_type": "display_data"
    },
    {
     "data": {
      "text/html": [
       "<p>&emsp;&emsp;&emsp;&emsp;&emsp; 52 IZ-TEMP Intermediate zone, temporal cortex 5 <span style=\"display:inline-block;width:20px;height:12px;padding:0px;background-color:#bcf1ce;\"></span></p>"
      ],
      "text/plain": [
       "<IPython.core.display.HTML object>"
      ]
     },
     "metadata": {},
     "output_type": "display_data"
    },
    {
     "data": {
      "text/html": [
       "<p>&emsp;&emsp;&emsp;&emsp;&emsp; 53 SVZ-TEMP Subventricular zone, temporal cortex 5 <span style=\"display:inline-block;width:20px;height:12px;padding:0px;background-color:#dbabf2;\"></span></p>"
      ],
      "text/plain": [
       "<IPython.core.display.HTML object>"
      ]
     },
     "metadata": {},
     "output_type": "display_data"
    },
    {
     "data": {
      "text/html": [
       "<p>&emsp;&emsp;&emsp;&emsp;&emsp; 49 MZ-TEMP Marginal zone, temporal cortex 5 <span style=\"display:inline-block;width:20px;height:12px;padding:0px;background-color:#de895e;\"></span></p>"
      ],
      "text/plain": [
       "<IPython.core.display.HTML object>"
      ]
     },
     "metadata": {},
     "output_type": "display_data"
    },
    {
     "data": {
      "text/html": [
       "<p>&emsp;&emsp;&emsp;&emsp;# 136 BLA Basolateral complex of the amygdala 4 </p>"
      ],
      "text/plain": [
       "<IPython.core.display.HTML object>"
      ]
     },
     "metadata": {},
     "output_type": "display_data"
    },
    {
     "data": {
      "text/html": [
       "<p>&emsp;&emsp;&emsp;&emsp;&emsp; 286 BL Basal nucleus of the amygdala 5 <span style=\"display:inline-block;width:20px;height:12px;padding:0px;background-color:#C6E2E8;\"></span></p>"
      ],
      "text/plain": [
       "<IPython.core.display.HTML object>"
      ]
     },
     "metadata": {},
     "output_type": "display_data"
    },
    {
     "data": {
      "text/html": [
       "<p>&emsp;&emsp;&emsp;&emsp;&emsp; 287 BM Basomedial nucleus of the amygdala 5 <span style=\"display:inline-block;width:20px;height:12px;padding:0px;background-color:#BBDCE3;\"></span></p>"
      ],
      "text/plain": [
       "<IPython.core.display.HTML object>"
      ]
     },
     "metadata": {},
     "output_type": "display_data"
    },
    {
     "data": {
      "text/html": [
       "<p>&emsp;&emsp;&emsp;&emsp;&emsp;# 56 ENT Entorhinal cortex 5 </p>"
      ],
      "text/plain": [
       "<IPython.core.display.HTML object>"
      ]
     },
     "metadata": {},
     "output_type": "display_data"
    },
    {
     "data": {
      "text/html": [
       "<p>&emsp;&emsp;&emsp;&emsp;&emsp;&emsp; 61 IZ-ENT Intermediate zone, entorhinal cortex 6 <span style=\"display:inline-block;width:20px;height:12px;padding:0px;background-color:#bcf1ce;\"></span></p>"
      ],
      "text/plain": [
       "<IPython.core.display.HTML object>"
      ]
     },
     "metadata": {},
     "output_type": "display_data"
    },
    {
     "data": {
      "text/html": [
       "<p>&emsp;&emsp;&emsp;&emsp;&emsp;&emsp; 58 MZ-ENT Marginal zone, entorhinal cortex 6 <span style=\"display:inline-block;width:20px;height:12px;padding:0px;background-color:#de895e;\"></span></p>"
      ],
      "text/plain": [
       "<IPython.core.display.HTML object>"
      ]
     },
     "metadata": {},
     "output_type": "display_data"
    },
    {
     "data": {
      "text/html": [
       "<p>&emsp;&emsp;&emsp;&emsp;&emsp;&emsp; 59 CP-ENT Cortical plate, entorhinal cortex 6 <span style=\"display:inline-block;width:20px;height:12px;padding:0px;background-color:#f6ca72;\"></span></p>"
      ],
      "text/plain": [
       "<IPython.core.display.HTML object>"
      ]
     },
     "metadata": {},
     "output_type": "display_data"
    },
    {
     "data": {
      "text/html": [
       "<p>&emsp;&emsp;&emsp;&emsp;&emsp;&emsp; 60 SP-ENT Subplate zone, entorhinal cortex 6 <span style=\"display:inline-block;width:20px;height:12px;padding:0px;background-color:#eafe89;\"></span></p>"
      ],
      "text/plain": [
       "<IPython.core.display.HTML object>"
      ]
     },
     "metadata": {},
     "output_type": "display_data"
    },
    {
     "data": {
      "text/html": [
       "<p>&emsp;&emsp;&emsp;&emsp;&emsp;&emsp; 57 SGL-ENT Subpial granular layer, entorhinal cortex 6 <span style=\"display:inline-block;width:20px;height:12px;padding:0px;background-color:#b8a98a;\"></span></p>"
      ],
      "text/plain": [
       "<IPython.core.display.HTML object>"
      ]
     },
     "metadata": {},
     "output_type": "display_data"
    },
    {
     "data": {
      "text/html": [
       "<p>&emsp;&emsp;&emsp;&emsp;# 145 GP Globus pallidus 4 </p>"
      ],
      "text/plain": [
       "<IPython.core.display.HTML object>"
      ]
     },
     "metadata": {},
     "output_type": "display_data"
    },
    {
     "data": {
      "text/html": [
       "<p>&emsp;&emsp;&emsp;&emsp;&emsp; 146 GPl Globus pallidus lateral segment 5 <span style=\"display:inline-block;width:20px;height:12px;padding:0px;background-color:#D9E543;\"></span></p>"
      ],
      "text/plain": [
       "<IPython.core.display.HTML object>"
      ]
     },
     "metadata": {},
     "output_type": "display_data"
    }
   ],
   "source": [
    "display_annotation_tree(annot, ontohelper)"
   ]
  },
  {
   "cell_type": "code",
   "execution_count": 14,
   "metadata": {
    "scrolled": true
   },
   "outputs": [
    {
     "data": {
      "text/html": [
       "<p>&emsp;&emsp;&emsp;&emsp;&emsp;13 SGL-FCTx Subpial granular layer, frontal cortex 5 <span style=\"display:inline-block;width:20px;height:12px;padding:0px;background-color:#b8a98a;\"></span></p>"
      ],
      "text/plain": [
       "<IPython.core.display.HTML object>"
      ]
     },
     "metadata": {},
     "output_type": "display_data"
    },
    {
     "data": {
      "text/html": [
       "<p>&emsp;&emsp;&emsp;&emsp;&emsp;14 MZ-FCTx Marginal zone, frontal cortex 5 <span style=\"display:inline-block;width:20px;height:12px;padding:0px;background-color:#de895e;\"></span></p>"
      ],
      "text/plain": [
       "<IPython.core.display.HTML object>"
      ]
     },
     "metadata": {},
     "output_type": "display_data"
    },
    {
     "data": {
      "text/html": [
       "<p>&emsp;&emsp;&emsp;&emsp;&emsp;15 CP-FCTx Cortical plate, frontal cortex 5 <span style=\"display:inline-block;width:20px;height:12px;padding:0px;background-color:#f6ca72;\"></span></p>"
      ],
      "text/plain": [
       "<IPython.core.display.HTML object>"
      ]
     },
     "metadata": {},
     "output_type": "display_data"
    },
    {
     "data": {
      "text/html": [
       "<p>&emsp;&emsp;&emsp;&emsp;&emsp;16 SP-FCTx Subplate zone, frontal cortex 5 <span style=\"display:inline-block;width:20px;height:12px;padding:0px;background-color:#eafe89;\"></span></p>"
      ],
      "text/plain": [
       "<IPython.core.display.HTML object>"
      ]
     },
     "metadata": {},
     "output_type": "display_data"
    },
    {
     "data": {
      "text/html": [
       "<p>&emsp;&emsp;&emsp;&emsp;&emsp;17 IZ-FCTx Intermediate zone, frontal cortex 5 <span style=\"display:inline-block;width:20px;height:12px;padding:0px;background-color:#bcf1ce;\"></span></p>"
      ],
      "text/plain": [
       "<IPython.core.display.HTML object>"
      ]
     },
     "metadata": {},
     "output_type": "display_data"
    },
    {
     "data": {
      "text/html": [
       "<p>&emsp;&emsp;&emsp;&emsp;&emsp;18 SVZ-FCTx Subventricular zone, frontal cortex 5 <span style=\"display:inline-block;width:20px;height:12px;padding:0px;background-color:#dbabf2;\"></span></p>"
      ],
      "text/plain": [
       "<IPython.core.display.HTML object>"
      ]
     },
     "metadata": {},
     "output_type": "display_data"
    },
    {
     "data": {
      "text/html": [
       "<p>&emsp;&emsp;&emsp;&emsp;&emsp;19 VZ-FCTx Ventricular zone, frontal cortex 5 <span style=\"display:inline-block;width:20px;height:12px;padding:0px;background-color:#e670be;\"></span></p>"
      ],
      "text/plain": [
       "<IPython.core.display.HTML object>"
      ]
     },
     "metadata": {},
     "output_type": "display_data"
    },
    {
     "data": {
      "text/html": [
       "<p>&emsp;&emsp;&emsp;&emsp;&emsp;22 SGL-ORB Subpial granular layer, orbital cortex 5 <span style=\"display:inline-block;width:20px;height:12px;padding:0px;background-color:#b8a98a;\"></span></p>"
      ],
      "text/plain": [
       "<IPython.core.display.HTML object>"
      ]
     },
     "metadata": {},
     "output_type": "display_data"
    },
    {
     "data": {
      "text/html": [
       "<p>&emsp;&emsp;&emsp;&emsp;&emsp;23 MZ-ORB Marginal zone, orbital cortex 5 <span style=\"display:inline-block;width:20px;height:12px;padding:0px;background-color:#de895e;\"></span></p>"
      ],
      "text/plain": [
       "<IPython.core.display.HTML object>"
      ]
     },
     "metadata": {},
     "output_type": "display_data"
    },
    {
     "data": {
      "text/html": [
       "<p>&emsp;&emsp;&emsp;&emsp;&emsp;24 CP-ORB Cortical plate, orbital cortex 5 <span style=\"display:inline-block;width:20px;height:12px;padding:0px;background-color:#f6ca72;\"></span></p>"
      ],
      "text/plain": [
       "<IPython.core.display.HTML object>"
      ]
     },
     "metadata": {},
     "output_type": "display_data"
    },
    {
     "data": {
      "text/html": [
       "<p>&emsp;&emsp;&emsp;&emsp;&emsp;25 SP-ORB Subplate zone, orbital cortex 5 <span style=\"display:inline-block;width:20px;height:12px;padding:0px;background-color:#eafe89;\"></span></p>"
      ],
      "text/plain": [
       "<IPython.core.display.HTML object>"
      ]
     },
     "metadata": {},
     "output_type": "display_data"
    },
    {
     "data": {
      "text/html": [
       "<p>&emsp;&emsp;&emsp;&emsp;&emsp;30 SGL-PAR Subpial granular layer, parietal cortex 5 <span style=\"display:inline-block;width:20px;height:12px;padding:0px;background-color:#b8a98a;\"></span></p>"
      ],
      "text/plain": [
       "<IPython.core.display.HTML object>"
      ]
     },
     "metadata": {},
     "output_type": "display_data"
    },
    {
     "data": {
      "text/html": [
       "<p>&emsp;&emsp;&emsp;&emsp;&emsp;31 MZ-PAR Marginal zone, parietal cortex 5 <span style=\"display:inline-block;width:20px;height:12px;padding:0px;background-color:#de895e;\"></span></p>"
      ],
      "text/plain": [
       "<IPython.core.display.HTML object>"
      ]
     },
     "metadata": {},
     "output_type": "display_data"
    },
    {
     "data": {
      "text/html": [
       "<p>&emsp;&emsp;&emsp;&emsp;&emsp;32 CP-PAR Cortical plate, parietal cortex 5 <span style=\"display:inline-block;width:20px;height:12px;padding:0px;background-color:#f6ca72;\"></span></p>"
      ],
      "text/plain": [
       "<IPython.core.display.HTML object>"
      ]
     },
     "metadata": {},
     "output_type": "display_data"
    },
    {
     "data": {
      "text/html": [
       "<p>&emsp;&emsp;&emsp;&emsp;&emsp;33 SP-PAR Subplate zone, parietal cortex 5 <span style=\"display:inline-block;width:20px;height:12px;padding:0px;background-color:#eafe89;\"></span></p>"
      ],
      "text/plain": [
       "<IPython.core.display.HTML object>"
      ]
     },
     "metadata": {},
     "output_type": "display_data"
    },
    {
     "data": {
      "text/html": [
       "<p>&emsp;&emsp;&emsp;&emsp;&emsp;34 IZ-PAR Intermediate zone, parietal cortex 5 <span style=\"display:inline-block;width:20px;height:12px;padding:0px;background-color:#bcf1ce;\"></span></p>"
      ],
      "text/plain": [
       "<IPython.core.display.HTML object>"
      ]
     },
     "metadata": {},
     "output_type": "display_data"
    },
    {
     "data": {
      "text/html": [
       "<p>&emsp;&emsp;&emsp;&emsp;&emsp;35 SVZ-PAR Subventricular zone, parietal cortex 5 <span style=\"display:inline-block;width:20px;height:12px;padding:0px;background-color:#dbabf2;\"></span></p>"
      ],
      "text/plain": [
       "<IPython.core.display.HTML object>"
      ]
     },
     "metadata": {},
     "output_type": "display_data"
    },
    {
     "data": {
      "text/html": [
       "<p>&emsp;&emsp;&emsp;&emsp;&emsp;36 VZ-PAR Ventricular zone, parietal cortex 5 <span style=\"display:inline-block;width:20px;height:12px;padding:0px;background-color:#e670be;\"></span></p>"
      ],
      "text/plain": [
       "<IPython.core.display.HTML object>"
      ]
     },
     "metadata": {},
     "output_type": "display_data"
    },
    {
     "data": {
      "text/html": [
       "<p>&emsp;&emsp;&emsp;&emsp;&emsp;39 SGL-OCC Subpial granular layer, occipital cortex 5 <span style=\"display:inline-block;width:20px;height:12px;padding:0px;background-color:#b8a98a;\"></span></p>"
      ],
      "text/plain": [
       "<IPython.core.display.HTML object>"
      ]
     },
     "metadata": {},
     "output_type": "display_data"
    },
    {
     "data": {
      "text/html": [
       "<p>&emsp;&emsp;&emsp;&emsp;&emsp;40 MZ-OCC Marginal zone, occipital cortex 5 <span style=\"display:inline-block;width:20px;height:12px;padding:0px;background-color:#de895e;\"></span></p>"
      ],
      "text/plain": [
       "<IPython.core.display.HTML object>"
      ]
     },
     "metadata": {},
     "output_type": "display_data"
    },
    {
     "data": {
      "text/html": [
       "<p>&emsp;&emsp;&emsp;&emsp;&emsp;41 CP-OCC Cortical plate, occipital cortex 5 <span style=\"display:inline-block;width:20px;height:12px;padding:0px;background-color:#f6ca72;\"></span></p>"
      ],
      "text/plain": [
       "<IPython.core.display.HTML object>"
      ]
     },
     "metadata": {},
     "output_type": "display_data"
    },
    {
     "data": {
      "text/html": [
       "<p>&emsp;&emsp;&emsp;&emsp;&emsp;42 SP-OCC Subplate zone, occipital cortex 5 <span style=\"display:inline-block;width:20px;height:12px;padding:0px;background-color:#eafe89;\"></span></p>"
      ],
      "text/plain": [
       "<IPython.core.display.HTML object>"
      ]
     },
     "metadata": {},
     "output_type": "display_data"
    },
    {
     "data": {
      "text/html": [
       "<p>&emsp;&emsp;&emsp;&emsp;&emsp;43 IZ-OCC Intermediate zone, occipital cortex 5 <span style=\"display:inline-block;width:20px;height:12px;padding:0px;background-color:#bcf1ce;\"></span></p>"
      ],
      "text/plain": [
       "<IPython.core.display.HTML object>"
      ]
     },
     "metadata": {},
     "output_type": "display_data"
    },
    {
     "data": {
      "text/html": [
       "<p>&emsp;&emsp;&emsp;&emsp;&emsp;44 SVZ-OCC Subventricular zone, occipital cortex 5 <span style=\"display:inline-block;width:20px;height:12px;padding:0px;background-color:#dbabf2;\"></span></p>"
      ],
      "text/plain": [
       "<IPython.core.display.HTML object>"
      ]
     },
     "metadata": {},
     "output_type": "display_data"
    },
    {
     "data": {
      "text/html": [
       "<p>&emsp;&emsp;&emsp;&emsp;&emsp;45 VZ-OCC Ventricular zone, occipital cortex 5 <span style=\"display:inline-block;width:20px;height:12px;padding:0px;background-color:#e670be;\"></span></p>"
      ],
      "text/plain": [
       "<IPython.core.display.HTML object>"
      ]
     },
     "metadata": {},
     "output_type": "display_data"
    },
    {
     "data": {
      "text/html": [
       "<p>&emsp;&emsp;&emsp;&emsp;&emsp;48 SGL-TEMP Subpial granular layer, temporal cortex 5 <span style=\"display:inline-block;width:20px;height:12px;padding:0px;background-color:#b8a98a;\"></span></p>"
      ],
      "text/plain": [
       "<IPython.core.display.HTML object>"
      ]
     },
     "metadata": {},
     "output_type": "display_data"
    },
    {
     "data": {
      "text/html": [
       "<p>&emsp;&emsp;&emsp;&emsp;&emsp;49 MZ-TEMP Marginal zone, temporal cortex 5 <span style=\"display:inline-block;width:20px;height:12px;padding:0px;background-color:#de895e;\"></span></p>"
      ],
      "text/plain": [
       "<IPython.core.display.HTML object>"
      ]
     },
     "metadata": {},
     "output_type": "display_data"
    },
    {
     "data": {
      "text/html": [
       "<p>&emsp;&emsp;&emsp;&emsp;&emsp;50 CP-TEMP Cortical plate, temporal cortex 5 <span style=\"display:inline-block;width:20px;height:12px;padding:0px;background-color:#f6ca72;\"></span></p>"
      ],
      "text/plain": [
       "<IPython.core.display.HTML object>"
      ]
     },
     "metadata": {},
     "output_type": "display_data"
    },
    {
     "data": {
      "text/html": [
       "<p>&emsp;&emsp;&emsp;&emsp;&emsp;51 SP-TEMP Subplate zone, temporal cortex 5 <span style=\"display:inline-block;width:20px;height:12px;padding:0px;background-color:#eafe89;\"></span></p>"
      ],
      "text/plain": [
       "<IPython.core.display.HTML object>"
      ]
     },
     "metadata": {},
     "output_type": "display_data"
    },
    {
     "data": {
      "text/html": [
       "<p>&emsp;&emsp;&emsp;&emsp;&emsp;52 IZ-TEMP Intermediate zone, temporal cortex 5 <span style=\"display:inline-block;width:20px;height:12px;padding:0px;background-color:#bcf1ce;\"></span></p>"
      ],
      "text/plain": [
       "<IPython.core.display.HTML object>"
      ]
     },
     "metadata": {},
     "output_type": "display_data"
    },
    {
     "data": {
      "text/html": [
       "<p>&emsp;&emsp;&emsp;&emsp;&emsp;53 SVZ-TEMP Subventricular zone, temporal cortex 5 <span style=\"display:inline-block;width:20px;height:12px;padding:0px;background-color:#dbabf2;\"></span></p>"
      ],
      "text/plain": [
       "<IPython.core.display.HTML object>"
      ]
     },
     "metadata": {},
     "output_type": "display_data"
    },
    {
     "data": {
      "text/html": [
       "<p>&emsp;&emsp;&emsp;&emsp;&emsp;54 VZ-TEMP Ventricular zone, temporal cortex 5 <span style=\"display:inline-block;width:20px;height:12px;padding:0px;background-color:#e670be;\"></span></p>"
      ],
      "text/plain": [
       "<IPython.core.display.HTML object>"
      ]
     },
     "metadata": {},
     "output_type": "display_data"
    },
    {
     "data": {
      "text/html": [
       "<p>&emsp;&emsp;&emsp;&emsp;&emsp;&emsp;57 SGL-ENT Subpial granular layer, entorhinal cortex 6 <span style=\"display:inline-block;width:20px;height:12px;padding:0px;background-color:#b8a98a;\"></span></p>"
      ],
      "text/plain": [
       "<IPython.core.display.HTML object>"
      ]
     },
     "metadata": {},
     "output_type": "display_data"
    },
    {
     "data": {
      "text/html": [
       "<p>&emsp;&emsp;&emsp;&emsp;&emsp;&emsp;58 MZ-ENT Marginal zone, entorhinal cortex 6 <span style=\"display:inline-block;width:20px;height:12px;padding:0px;background-color:#de895e;\"></span></p>"
      ],
      "text/plain": [
       "<IPython.core.display.HTML object>"
      ]
     },
     "metadata": {},
     "output_type": "display_data"
    },
    {
     "data": {
      "text/html": [
       "<p>&emsp;&emsp;&emsp;&emsp;&emsp;&emsp;59 CP-ENT Cortical plate, entorhinal cortex 6 <span style=\"display:inline-block;width:20px;height:12px;padding:0px;background-color:#f6ca72;\"></span></p>"
      ],
      "text/plain": [
       "<IPython.core.display.HTML object>"
      ]
     },
     "metadata": {},
     "output_type": "display_data"
    },
    {
     "data": {
      "text/html": [
       "<p>&emsp;&emsp;&emsp;&emsp;&emsp;&emsp;60 SP-ENT Subplate zone, entorhinal cortex 6 <span style=\"display:inline-block;width:20px;height:12px;padding:0px;background-color:#eafe89;\"></span></p>"
      ],
      "text/plain": [
       "<IPython.core.display.HTML object>"
      ]
     },
     "metadata": {},
     "output_type": "display_data"
    },
    {
     "data": {
      "text/html": [
       "<p>&emsp;&emsp;&emsp;&emsp;&emsp;&emsp;61 IZ-ENT Intermediate zone, entorhinal cortex 6 <span style=\"display:inline-block;width:20px;height:12px;padding:0px;background-color:#bcf1ce;\"></span></p>"
      ],
      "text/plain": [
       "<IPython.core.display.HTML object>"
      ]
     },
     "metadata": {},
     "output_type": "display_data"
    },
    {
     "data": {
      "text/html": [
       "<p>&emsp;&emsp;&emsp;&emsp;&emsp;&emsp;67 SGL-HPF Subpial granular layer, hippocampal formation 6 <span style=\"display:inline-block;width:20px;height:12px;padding:0px;background-color:#b8a98a;\"></span></p>"
      ],
      "text/plain": [
       "<IPython.core.display.HTML object>"
      ]
     },
     "metadata": {},
     "output_type": "display_data"
    },
    {
     "data": {
      "text/html": [
       "<p>&emsp;&emsp;&emsp;&emsp;&emsp;&emsp;68 MZ-HPF Marginal zone, hippocampal formation 6 <span style=\"display:inline-block;width:20px;height:12px;padding:0px;background-color:#de895e;\"></span></p>"
      ],
      "text/plain": [
       "<IPython.core.display.HTML object>"
      ]
     },
     "metadata": {},
     "output_type": "display_data"
    },
    {
     "data": {
      "text/html": [
       "<p>&emsp;&emsp;&emsp;&emsp;&emsp;&emsp;72 SVZ-HPF Subventricular zone, hippocampal formation 6 <span style=\"display:inline-block;width:20px;height:12px;padding:0px;background-color:#dbabf2;\"></span></p>"
      ],
      "text/plain": [
       "<IPython.core.display.HTML object>"
      ]
     },
     "metadata": {},
     "output_type": "display_data"
    },
    {
     "data": {
      "text/html": [
       "<p>&emsp;&emsp;&emsp;&emsp;&emsp;&emsp;73 VZ-HPF Ventricular zone, hippocampal formation 6 <span style=\"display:inline-block;width:20px;height:12px;padding:0px;background-color:#e670be;\"></span></p>"
      ],
      "text/plain": [
       "<IPython.core.display.HTML object>"
      ]
     },
     "metadata": {},
     "output_type": "display_data"
    },
    {
     "data": {
      "text/html": [
       "<p>&emsp;&emsp;&emsp;&emsp;&emsp;&emsp;&emsp;82 DG Dentate gyrus 7 <span style=\"display:inline-block;width:20px;height:12px;padding:0px;background-color:#67C76C;\"></span></p>"
      ],
      "text/plain": [
       "<IPython.core.display.HTML object>"
      ]
     },
     "metadata": {},
     "output_type": "display_data"
    },
    {
     "data": {
      "text/html": [
       "<p>&emsp;&emsp;&emsp;&emsp;&emsp;&emsp;&emsp;86 SGL-SUB Subpial granular layer, subiculum 7 <span style=\"display:inline-block;width:20px;height:12px;padding:0px;background-color:#b8a98a;\"></span></p>"
      ],
      "text/plain": [
       "<IPython.core.display.HTML object>"
      ]
     },
     "metadata": {},
     "output_type": "display_data"
    },
    {
     "data": {
      "text/html": [
       "<p>&emsp;&emsp;&emsp;&emsp;&emsp;&emsp;&emsp;87 MZ-SUB Marginal zone, subiculum 7 <span style=\"display:inline-block;width:20px;height:12px;padding:0px;background-color:#de895e;\"></span></p>"
      ],
      "text/plain": [
       "<IPython.core.display.HTML object>"
      ]
     },
     "metadata": {},
     "output_type": "display_data"
    },
    {
     "data": {
      "text/html": [
       "<p>&emsp;&emsp;&emsp;&emsp;&emsp;&emsp;&emsp;88 CP-SUB Cortical plate, subiculum 7 <span style=\"display:inline-block;width:20px;height:12px;padding:0px;background-color:#f6ca72;\"></span></p>"
      ],
      "text/plain": [
       "<IPython.core.display.HTML object>"
      ]
     },
     "metadata": {},
     "output_type": "display_data"
    },
    {
     "data": {
      "text/html": [
       "<p>&emsp;&emsp;&emsp;&emsp;&emsp;&emsp;&emsp;89 SP-SUB Subplate zone, subiculum 7 <span style=\"display:inline-block;width:20px;height:12px;padding:0px;background-color:#eafe89;\"></span></p>"
      ],
      "text/plain": [
       "<IPython.core.display.HTML object>"
      ]
     },
     "metadata": {},
     "output_type": "display_data"
    },
    {
     "data": {
      "text/html": [
       "<p>&emsp;&emsp;&emsp;&emsp;&emsp;&emsp;&emsp;90 IZ-SUB Intermediate zone, subiculum 7 <span style=\"display:inline-block;width:20px;height:12px;padding:0px;background-color:#bcf1ce;\"></span></p>"
      ],
      "text/plain": [
       "<IPython.core.display.HTML object>"
      ]
     },
     "metadata": {},
     "output_type": "display_data"
    },
    {
     "data": {
      "text/html": [
       "<p>&emsp;&emsp;&emsp;&emsp;&emsp;&emsp;&emsp;91 SVZ-SUB Subventricular zone, subiculum 7 <span style=\"display:inline-block;width:20px;height:12px;padding:0px;background-color:#dbabf2;\"></span></p>"
      ],
      "text/plain": [
       "<IPython.core.display.HTML object>"
      ]
     },
     "metadata": {},
     "output_type": "display_data"
    },
    {
     "data": {
      "text/html": [
       "<p>&emsp;&emsp;&emsp;&emsp;&emsp;&emsp;&emsp;92 VZ-SUB Ventricular zone, subiculum 7 <span style=\"display:inline-block;width:20px;height:12px;padding:0px;background-color:#e670be;\"></span></p>"
      ],
      "text/plain": [
       "<IPython.core.display.HTML object>"
      ]
     },
     "metadata": {},
     "output_type": "display_data"
    },
    {
     "data": {
      "text/html": [
       "<p>&emsp;&emsp;&emsp;&emsp;&emsp;&emsp;&emsp;94 SGL-PRESUB Subpial granular layer, presubiculum 7 <span style=\"display:inline-block;width:20px;height:12px;padding:0px;background-color:#b8a98a;\"></span></p>"
      ],
      "text/plain": [
       "<IPython.core.display.HTML object>"
      ]
     },
     "metadata": {},
     "output_type": "display_data"
    },
    {
     "data": {
      "text/html": [
       "<p>&emsp;&emsp;&emsp;&emsp;&emsp;&emsp;&emsp;95 MZ-PRESUB Marginal zone, presubiculum 7 <span style=\"display:inline-block;width:20px;height:12px;padding:0px;background-color:#de895e;\"></span></p>"
      ],
      "text/plain": [
       "<IPython.core.display.HTML object>"
      ]
     },
     "metadata": {},
     "output_type": "display_data"
    },
    {
     "data": {
      "text/html": [
       "<p>&emsp;&emsp;&emsp;&emsp;&emsp;&emsp;&emsp;96 CP-PRESUB Cortical plate, presubiculum 7 <span style=\"display:inline-block;width:20px;height:12px;padding:0px;background-color:#f6ca72;\"></span></p>"
      ],
      "text/plain": [
       "<IPython.core.display.HTML object>"
      ]
     },
     "metadata": {},
     "output_type": "display_data"
    },
    {
     "data": {
      "text/html": [
       "<p>&emsp;&emsp;&emsp;&emsp;&emsp;&emsp;&emsp;97 SP-PRESUB Subplate zone, presubiculum 7 <span style=\"display:inline-block;width:20px;height:12px;padding:0px;background-color:#eafe89;\"></span></p>"
      ],
      "text/plain": [
       "<IPython.core.display.HTML object>"
      ]
     },
     "metadata": {},
     "output_type": "display_data"
    },
    {
     "data": {
      "text/html": [
       "<p>&emsp;&emsp;&emsp;&emsp;&emsp;&emsp;&emsp;98 IZ-PRESUB Intermediate zone, presubiculum 7 <span style=\"display:inline-block;width:20px;height:12px;padding:0px;background-color:#bcf1ce;\"></span></p>"
      ],
      "text/plain": [
       "<IPython.core.display.HTML object>"
      ]
     },
     "metadata": {},
     "output_type": "display_data"
    },
    {
     "data": {
      "text/html": [
       "<p>&emsp;&emsp;&emsp;&emsp;&emsp;&emsp;&emsp;99 SVZ-PRESUB Subventricular zone, presubiculum 7 <span style=\"display:inline-block;width:20px;height:12px;padding:0px;background-color:#dbabf2;\"></span></p>"
      ],
      "text/plain": [
       "<IPython.core.display.HTML object>"
      ]
     },
     "metadata": {},
     "output_type": "display_data"
    },
    {
     "data": {
      "text/html": [
       "<p>&emsp;&emsp;&emsp;&emsp;&emsp;&emsp;&emsp;100 VZ-PRESUB Ventricular zone, presubiculum 7 <span style=\"display:inline-block;width:20px;height:12px;padding:0px;background-color:#e670be;\"></span></p>"
      ],
      "text/plain": [
       "<IPython.core.display.HTML object>"
      ]
     },
     "metadata": {},
     "output_type": "display_data"
    },
    {
     "data": {
      "text/html": [
       "<p>&emsp;&emsp;&emsp;&emsp;&emsp;&emsp;&emsp;102 SGL-PARA Subpial granular layer, parasubiculum 7 <span style=\"display:inline-block;width:20px;height:12px;padding:0px;background-color:#b8a98a;\"></span></p>"
      ],
      "text/plain": [
       "<IPython.core.display.HTML object>"
      ]
     },
     "metadata": {},
     "output_type": "display_data"
    },
    {
     "data": {
      "text/html": [
       "<p>&emsp;&emsp;&emsp;&emsp;&emsp;&emsp;&emsp;103 MZ-PARA Marginal zone, parasubiculum 7 <span style=\"display:inline-block;width:20px;height:12px;padding:0px;background-color:#de895e;\"></span></p>"
      ],
      "text/plain": [
       "<IPython.core.display.HTML object>"
      ]
     },
     "metadata": {},
     "output_type": "display_data"
    },
    {
     "data": {
      "text/html": [
       "<p>&emsp;&emsp;&emsp;&emsp;&emsp;&emsp;&emsp;104 CP-PARA Cortical plate, parasubiculum 7 <span style=\"display:inline-block;width:20px;height:12px;padding:0px;background-color:#f6ca72;\"></span></p>"
      ],
      "text/plain": [
       "<IPython.core.display.HTML object>"
      ]
     },
     "metadata": {},
     "output_type": "display_data"
    },
    {
     "data": {
      "text/html": [
       "<p>&emsp;&emsp;&emsp;&emsp;&emsp;&emsp;&emsp;105 SP-PARA Subplate zone, parasubiculum 7 <span style=\"display:inline-block;width:20px;height:12px;padding:0px;background-color:#eafe89;\"></span></p>"
      ],
      "text/plain": [
       "<IPython.core.display.HTML object>"
      ]
     },
     "metadata": {},
     "output_type": "display_data"
    },
    {
     "data": {
      "text/html": [
       "<p>&emsp;&emsp;&emsp;&emsp;&emsp;&emsp;&emsp;106 IZ-PARA Intermediate zone, parasubiculum 7 <span style=\"display:inline-block;width:20px;height:12px;padding:0px;background-color:#bcf1ce;\"></span></p>"
      ],
      "text/plain": [
       "<IPython.core.display.HTML object>"
      ]
     },
     "metadata": {},
     "output_type": "display_data"
    },
    {
     "data": {
      "text/html": [
       "<p>&emsp;&emsp;&emsp;&emsp;&emsp;&emsp;&emsp;107 SVZ-PARA Subventricular zone, parasubiculum 7 <span style=\"display:inline-block;width:20px;height:12px;padding:0px;background-color:#dbabf2;\"></span></p>"
      ],
      "text/plain": [
       "<IPython.core.display.HTML object>"
      ]
     },
     "metadata": {},
     "output_type": "display_data"
    },
    {
     "data": {
      "text/html": [
       "<p>&emsp;&emsp;&emsp;&emsp;&emsp;&emsp;&emsp;108 VZ-PARA Ventricular zone, parasubiculum 7 <span style=\"display:inline-block;width:20px;height:12px;padding:0px;background-color:#e670be;\"></span></p>"
      ],
      "text/plain": [
       "<IPython.core.display.HTML object>"
      ]
     },
     "metadata": {},
     "output_type": "display_data"
    },
    {
     "data": {
      "text/html": [
       "<p>&emsp;&emsp;&emsp;&emsp;131 CLA Claustrum 4 <span style=\"display:inline-block;width:20px;height:12px;padding:0px;background-color:#DFECD0;\"></span></p>"
      ],
      "text/plain": [
       "<IPython.core.display.HTML object>"
      ]
     },
     "metadata": {},
     "output_type": "display_data"
    },
    {
     "data": {
      "text/html": [
       "<p>&emsp;&emsp;&emsp;&emsp;134 OLF Olfactory cortex 4 <span style=\"display:inline-block;width:20px;height:12px;padding:0px;background-color:#D1EBDD;\"></span></p>"
      ],
      "text/plain": [
       "<IPython.core.display.HTML object>"
      ]
     },
     "metadata": {},
     "output_type": "display_data"
    },
    {
     "data": {
      "text/html": [
       "<p>&emsp;&emsp;&emsp;135 AMY Amygdala 3 <span style=\"display:inline-block;width:20px;height:12px;padding:0px;background-color:#CAEEF2;\"></span></p>"
      ],
      "text/plain": [
       "<IPython.core.display.HTML object>"
      ]
     },
     "metadata": {},
     "output_type": "display_data"
    },
    {
     "data": {
      "text/html": [
       "<p>&emsp;&emsp;&emsp;&emsp;&emsp;142 Cau Caudate nucleus 5 <span style=\"display:inline-block;width:20px;height:12px;padding:0px;background-color:#F8F9BB;\"></span></p>"
      ],
      "text/plain": [
       "<IPython.core.display.HTML object>"
      ]
     },
     "metadata": {},
     "output_type": "display_data"
    },
    {
     "data": {
      "text/html": [
       "<p>&emsp;&emsp;&emsp;&emsp;&emsp;143 Put Putamen 5 <span style=\"display:inline-block;width:20px;height:12px;padding:0px;background-color:#F0DB90;\"></span></p>"
      ],
      "text/plain": [
       "<IPython.core.display.HTML object>"
      ]
     },
     "metadata": {},
     "output_type": "display_data"
    },
    {
     "data": {
      "text/html": [
       "<p>&emsp;&emsp;&emsp;&emsp;&emsp;146 GPl Globus pallidus lateral segment 5 <span style=\"display:inline-block;width:20px;height:12px;padding:0px;background-color:#D9E543;\"></span></p>"
      ],
      "text/plain": [
       "<IPython.core.display.HTML object>"
      ]
     },
     "metadata": {},
     "output_type": "display_data"
    },
    {
     "data": {
      "text/html": [
       "<p>&emsp;&emsp;156 Lms Lateral migratory stream 2 <span style=\"display:inline-block;width:20px;height:12px;padding:0px;background-color:#775F5F;\"></span></p>"
      ],
      "text/plain": [
       "<IPython.core.display.HTML object>"
      ]
     },
     "metadata": {},
     "output_type": "display_data"
    },
    {
     "data": {
      "text/html": [
       "<p>&emsp;158 GE Ganglionic eminence 1 <span style=\"display:inline-block;width:20px;height:12px;padding:0px;background-color:#775F5F;\"></span></p>"
      ],
      "text/plain": [
       "<IPython.core.display.HTML object>"
      ]
     },
     "metadata": {},
     "output_type": "display_data"
    },
    {
     "data": {
      "text/html": [
       "<p>&emsp;&emsp;&emsp;&emsp;&emsp;167 LGN Lateral geniculate nucleus 5 <span style=\"display:inline-block;width:20px;height:12px;padding:0px;background-color:#F7D0BB;\"></span></p>"
      ],
      "text/plain": [
       "<IPython.core.display.HTML object>"
      ]
     },
     "metadata": {},
     "output_type": "display_data"
    },
    {
     "data": {
      "text/html": [
       "<p>&emsp;&emsp;&emsp;&emsp;176 RT Reticular nucleus of the thalamus 4 <span style=\"display:inline-block;width:20px;height:12px;padding:0px;background-color:#B067A9;\"></span></p>"
      ],
      "text/plain": [
       "<IPython.core.display.HTML object>"
      ]
     },
     "metadata": {},
     "output_type": "display_data"
    },
    {
     "data": {
      "text/html": [
       "<p>&emsp;&emsp;&emsp;219 HEM Cerebellar hemispheres 3 <span style=\"display:inline-block;width:20px;height:12px;padding:0px;background-color:#FF9F9F;\"></span></p>"
      ],
      "text/plain": [
       "<IPython.core.display.HTML object>"
      ]
     },
     "metadata": {},
     "output_type": "display_data"
    },
    {
     "data": {
      "text/html": [
       "<p>&emsp;226 LV Lateral ventricle 1 <span style=\"display:inline-block;width:20px;height:12px;padding:0px;background-color:#231F20;\"></span></p>"
      ],
      "text/plain": [
       "<IPython.core.display.HTML object>"
      ]
     },
     "metadata": {},
     "output_type": "display_data"
    },
    {
     "data": {
      "text/html": [
       "<p>&emsp;229 Chp Choroid plexus 1 <span style=\"display:inline-block;width:20px;height:12px;padding:0px;background-color:#872601;\"></span></p>"
      ],
      "text/plain": [
       "<IPython.core.display.HTML object>"
      ]
     },
     "metadata": {},
     "output_type": "display_data"
    },
    {
     "data": {
      "text/html": [
       "<p>&emsp;&emsp;236 int Internal capsule 2 <span style=\"display:inline-block;width:20px;height:12px;padding:0px;background-color:#9F9F9F;\"></span></p>"
      ],
      "text/plain": [
       "<IPython.core.display.HTML object>"
      ]
     },
     "metadata": {},
     "output_type": "display_data"
    },
    {
     "data": {
      "text/html": [
       "<p>&emsp;243 ac Anterior commissure 1 <span style=\"display:inline-block;width:20px;height:12px;padding:0px;background-color:#9F9F9F;\"></span></p>"
      ],
      "text/plain": [
       "<IPython.core.display.HTML object>"
      ]
     },
     "metadata": {},
     "output_type": "display_data"
    },
    {
     "data": {
      "text/html": [
       "<p>&emsp;244 ext External capsule 1 <span style=\"display:inline-block;width:20px;height:12px;padding:0px;background-color:#9F9F9F;\"></span></p>"
      ],
      "text/plain": [
       "<IPython.core.display.HTML object>"
      ]
     },
     "metadata": {},
     "output_type": "display_data"
    },
    {
     "data": {
      "text/html": [
       "<p>&emsp;&emsp;245 stt Stria terminalis 2 <span style=\"display:inline-block;width:20px;height:12px;padding:0px;background-color:#9F9F9F;\"></span></p>"
      ],
      "text/plain": [
       "<IPython.core.display.HTML object>"
      ]
     },
     "metadata": {},
     "output_type": "display_data"
    },
    {
     "data": {
      "text/html": [
       "<p>&emsp;&emsp;247 fx Fornix 2 <span style=\"display:inline-block;width:20px;height:12px;padding:0px;background-color:#9F9F9F;\"></span></p>"
      ],
      "text/plain": [
       "<IPython.core.display.HTML object>"
      ]
     },
     "metadata": {},
     "output_type": "display_data"
    },
    {
     "data": {
      "text/html": [
       "<p>&emsp;253 wmf White matter fibers 1 <span style=\"display:inline-block;width:20px;height:12px;padding:0px;background-color:#9F9F9F;\"></span></p>"
      ],
      "text/plain": [
       "<IPython.core.display.HTML object>"
      ]
     },
     "metadata": {},
     "output_type": "display_data"
    },
    {
     "data": {
      "text/html": [
       "<p>&emsp;&emsp;&emsp;&emsp;&emsp;286 BL Basal nucleus of the amygdala 5 <span style=\"display:inline-block;width:20px;height:12px;padding:0px;background-color:#C6E2E8;\"></span></p>"
      ],
      "text/plain": [
       "<IPython.core.display.HTML object>"
      ]
     },
     "metadata": {},
     "output_type": "display_data"
    },
    {
     "data": {
      "text/html": [
       "<p>&emsp;&emsp;&emsp;&emsp;&emsp;287 BM Basomedial nucleus of the amygdala 5 <span style=\"display:inline-block;width:20px;height:12px;padding:0px;background-color:#BBDCE3;\"></span></p>"
      ],
      "text/plain": [
       "<IPython.core.display.HTML object>"
      ]
     },
     "metadata": {},
     "output_type": "display_data"
    },
    {
     "data": {
      "text/html": [
       "<p>&emsp;&emsp;&emsp;&emsp;&emsp;289 AAA Anterior amygdaloid area 5 <span style=\"display:inline-block;width:20px;height:12px;padding:0px;background-color:#AADEE4;\"></span></p>"
      ],
      "text/plain": [
       "<IPython.core.display.HTML object>"
      ]
     },
     "metadata": {},
     "output_type": "display_data"
    },
    {
     "data": {
      "text/html": [
       "<p>&emsp;&emsp;&emsp;&emsp;&emsp;290 COA Cortical nucleus of the amygdala 5 <span style=\"display:inline-block;width:20px;height:12px;padding:0px;background-color:#AFDFD7;\"></span></p>"
      ],
      "text/plain": [
       "<IPython.core.display.HTML object>"
      ]
     },
     "metadata": {},
     "output_type": "display_data"
    },
    {
     "data": {
      "text/html": [
       "<p>&emsp;&emsp;&emsp;&emsp;293 PAC Periamygdaloid cortex 4 <span style=\"display:inline-block;width:20px;height:12px;padding:0px;background-color:#A5F8F9;\"></span></p>"
      ],
      "text/plain": [
       "<IPython.core.display.HTML object>"
      ]
     },
     "metadata": {},
     "output_type": "display_data"
    },
    {
     "data": {
      "text/html": [
       "<p>&emsp;&emsp;&emsp;&emsp;295 CEA Central nucleus of the amygdala 4 <span style=\"display:inline-block;width:20px;height:12px;padding:0px;background-color:#AADEE4;\"></span></p>"
      ],
      "text/plain": [
       "<IPython.core.display.HTML object>"
      ]
     },
     "metadata": {},
     "output_type": "display_data"
    },
    {
     "data": {
      "text/html": [
       "<p>&emsp;&emsp;&emsp;&emsp;&emsp;&emsp;&emsp;&emsp;386 CA1 CA1 field of hippocampus 8 <span style=\"display:inline-block;width:20px;height:12px;padding:0px;background-color:#8DBF6F;\"></span></p>"
      ],
      "text/plain": [
       "<IPython.core.display.HTML object>"
      ]
     },
     "metadata": {},
     "output_type": "display_data"
    },
    {
     "data": {
      "text/html": [
       "<p>&emsp;&emsp;&emsp;&emsp;&emsp;&emsp;&emsp;&emsp;387 CA2 CA2 field of hippocampus 8 <span style=\"display:inline-block;width:20px;height:12px;padding:0px;background-color:#8DBF6F;\"></span></p>"
      ],
      "text/plain": [
       "<IPython.core.display.HTML object>"
      ]
     },
     "metadata": {},
     "output_type": "display_data"
    },
    {
     "data": {
      "text/html": [
       "<p>&emsp;&emsp;&emsp;&emsp;&emsp;&emsp;&emsp;&emsp;388 CA3 CA3 field of hippocampus 8 <span style=\"display:inline-block;width:20px;height:12px;padding:0px;background-color:#8DBF6F;\"></span></p>"
      ],
      "text/plain": [
       "<IPython.core.display.HTML object>"
      ]
     },
     "metadata": {},
     "output_type": "display_data"
    },
    {
     "data": {
      "text/html": [
       "<p>&emsp;&emsp;&emsp;&emsp;393 AStr Amygdalo-striatal area 4 <span style=\"display:inline-block;width:20px;height:12px;padding:0px;background-color:#ADE0E1;\"></span></p>"
      ],
      "text/plain": [
       "<IPython.core.display.HTML object>"
      ]
     },
     "metadata": {},
     "output_type": "display_data"
    },
    {
     "data": {
      "text/html": [
       "<p>&emsp;417 emlth External medullary lamina of the thalamus 1 <span style=\"display:inline-block;width:20px;height:12px;padding:0px;background-color:#9F9F9F;\"></span></p>"
      ],
      "text/plain": [
       "<IPython.core.display.HTML object>"
      ]
     },
     "metadata": {},
     "output_type": "display_data"
    },
    {
     "data": {
      "text/html": [
       "<p>&emsp;&emsp;&emsp;&emsp;&emsp;&emsp;&emsp;&emsp;&emsp;420 SP-CA1 Subplate zone, CA1 field 9 <span style=\"display:inline-block;width:20px;height:12px;padding:0px;background-color:#eafe89;\"></span></p>"
      ],
      "text/plain": [
       "<IPython.core.display.HTML object>"
      ]
     },
     "metadata": {},
     "output_type": "display_data"
    },
    {
     "data": {
      "text/html": [
       "<p>&emsp;&emsp;&emsp;&emsp;&emsp;&emsp;&emsp;&emsp;&emsp;421 IZ-CA1 Intermediate zone, CA1 field 9 <span style=\"display:inline-block;width:20px;height:12px;padding:0px;background-color:#bcf1ce;\"></span></p>"
      ],
      "text/plain": [
       "<IPython.core.display.HTML object>"
      ]
     },
     "metadata": {},
     "output_type": "display_data"
    },
    {
     "data": {
      "text/html": [
       "<p>&emsp;&emsp;&emsp;&emsp;&emsp;&emsp;&emsp;&emsp;&emsp;422 SP-CA2 Subplate zone, CA2 field 9 <span style=\"display:inline-block;width:20px;height:12px;padding:0px;background-color:#eafe89;\"></span></p>"
      ],
      "text/plain": [
       "<IPython.core.display.HTML object>"
      ]
     },
     "metadata": {},
     "output_type": "display_data"
    },
    {
     "data": {
      "text/html": [
       "<p>&emsp;&emsp;&emsp;&emsp;&emsp;&emsp;&emsp;&emsp;&emsp;423 IZ-CA2 Intermediate zone, CA2 field 9 <span style=\"display:inline-block;width:20px;height:12px;padding:0px;background-color:#bcf1ce;\"></span></p>"
      ],
      "text/plain": [
       "<IPython.core.display.HTML object>"
      ]
     },
     "metadata": {},
     "output_type": "display_data"
    },
    {
     "data": {
      "text/html": [
       "<p>&emsp;&emsp;&emsp;&emsp;&emsp;&emsp;&emsp;&emsp;&emsp;424 SP-CA3 Subplate zone, CA3 field 9 <span style=\"display:inline-block;width:20px;height:12px;padding:0px;background-color:#eafe89;\"></span></p>"
      ],
      "text/plain": [
       "<IPython.core.display.HTML object>"
      ]
     },
     "metadata": {},
     "output_type": "display_data"
    },
    {
     "data": {
      "text/html": [
       "<p>&emsp;&emsp;&emsp;&emsp;&emsp;&emsp;&emsp;&emsp;&emsp;425 IZ-CA3 Intermediate zone, CA3 field 9 <span style=\"display:inline-block;width:20px;height:12px;padding:0px;background-color:#bcf1ce;\"></span></p>"
      ],
      "text/plain": [
       "<IPython.core.display.HTML object>"
      ]
     },
     "metadata": {},
     "output_type": "display_data"
    },
    {
     "data": {
      "text/html": [
       "<p>&emsp;&emsp;441 Ms-g Migratory stream, general 2 <span style=\"display:inline-block;width:20px;height:12px;padding:0px;background-color:#775F5F;\"></span></p>"
      ],
      "text/plain": [
       "<IPython.core.display.HTML object>"
      ]
     },
     "metadata": {},
     "output_type": "display_data"
    },
    {
     "data": {
      "text/html": [
       "<p>&emsp;1000 dne Diencephalic neuroepithelium 1 <span style=\"display:inline-block;width:20px;height:12px;padding:0px;background-color:#775F5F;\"></span></p>"
      ],
      "text/plain": [
       "<IPython.core.display.HTML object>"
      ]
     },
     "metadata": {},
     "output_type": "display_data"
    },
    {
     "data": {
      "text/html": [
       "<p>&emsp;1016 hipg Hippocampal glioepithelium/ependyma 1 <span style=\"display:inline-block;width:20px;height:12px;padding:0px;background-color:#775F5F;\"></span></p>"
      ],
      "text/plain": [
       "<IPython.core.display.HTML object>"
      ]
     },
     "metadata": {},
     "output_type": "display_data"
    },
    {
     "data": {
      "text/html": [
       "<p>&emsp;1026 tcet Transient cell zone in the external capsule 1 <span style=\"display:inline-block;width:20px;height:12px;padding:0px;background-color:#775F5F;\"></span></p>"
      ],
      "text/plain": [
       "<IPython.core.display.HTML object>"
      ]
     },
     "metadata": {},
     "output_type": "display_data"
    },
    {
     "data": {
      "image/png": "[encoded data removed]",
      "text/plain": [
       "<Figure size 1200x800 with 2 Axes>"
      ]
     },
     "metadata": {},
     "output_type": "display_data"
    }
   ],
   "source": [
    "display_annotation(im_arr, annot, ontohelper)"
   ]
  },
  {
   "cell_type": "code",
   "execution_count": 45,
   "metadata": {},
   "outputs": [],
   "source": [
    "aa=list(range(7))"
   ]
  },
  {
   "cell_type": "code",
   "execution_count": 46,
   "metadata": {},
   "outputs": [
    {
     "data": {
      "text/plain": [
       "[0, 1, 2, 3, 4, 5, 6]"
      ]
     },
     "execution_count": 46,
     "metadata": {},
     "output_type": "execute_result"
    }
   ],
   "source": [
    "aa"
   ]
  },
  {
   "cell_type": "code",
   "execution_count": 54,
   "metadata": {},
   "outputs": [
    {
     "ename": "IndexError",
     "evalue": "pop from empty list",
     "output_type": "error",
     "traceback": [
      "\u001b[1;31m---------------------------------------------------------------------------\u001b[0m",
      "\u001b[1;31mIndexError\u001b[0m                                Traceback (most recent call last)",
      "Cell \u001b[1;32mIn[54], line 1\u001b[0m\n\u001b[1;32m----> 1\u001b[0m \u001b[43maa\u001b[49m\u001b[38;5;241;43m.\u001b[39;49m\u001b[43mpop\u001b[49m\u001b[43m(\u001b[49m\u001b[43m)\u001b[49m\n",
      "\u001b[1;31mIndexError\u001b[0m: pop from empty list"
     ]
    }
   ],
   "source": [
    "aa.pop()"
   ]
  },
  {
   "cell_type": "code",
   "execution_count": 15,
   "metadata": {},
   "outputs": [],
   "source": [
    "from annotation_handling import get_level_ids, get_reachable_parents, get_nonreachable"
   ]
  },
  {
   "cell_type": "code",
   "execution_count": 73,
   "metadata": {},
   "outputs": [],
   "source": [
    "reachable = get_reachable_parents2(annot, ontohelper)"
   ]
  },
  {
   "cell_type": "code",
   "execution_count": 72,
   "metadata": {},
   "outputs": [],
   "source": [
    "def get_reachable_parents2(annot:'Annotation', ontohelper:TreeHelper):\n",
    "    reachable1 = defaultdict(list) # parent: [annotated]\n",
    "    reachable2 = defaultdict(list) # parent: [aggregatable]\n",
    "\n",
    "    for ontoid in annot:\n",
    "        \n",
    "        par = ontohelper.onto_lookup[ontoid].parentid\n",
    "        if ontoid not in reachable1[par]:\n",
    "            reachable1[par].append(ontoid)\n",
    "\n",
    "        anclist = list(reversed(ontohelper.get_ancestor_ids(ontoid)))\n",
    "        oid = par # same as anclist[0]\n",
    "        for ii in range(1,len(anclist)): \n",
    "            par = anclist[ii]\n",
    "            if oid not in reachable2[par] and oid not in annot:\n",
    "                reachable2[par].append(oid)\n",
    "            oid = par\n",
    "\n",
    "    reachable = {}\n",
    "    for k in reachable1:\n",
    "        reachable[k]=[reachable1[k],[]]\n",
    "\n",
    "    for k in reachable2:\n",
    "        if k in reachable:\n",
    "            reachable[k][1]=reachable2[k]\n",
    "        else:\n",
    "            reachable[k]=[[],reachable2[k]]\n",
    "\n",
    "    return reachable\n"
   ]
  },
  {
   "cell_type": "code",
   "execution_count": 74,
   "metadata": {},
   "outputs": [
    {
     "data": {
      "text/plain": [
       "{93: [[98, 94, 95, 96, 97, 99, 100], []],\n",
       " 85: [[90, 91, 92, 88, 87, 89, 86], []],\n",
       " 83: [[386, 387, 388], []],\n",
       " 66: [[68, 67, 72, 73], [93, 85, 74, 101]],\n",
       " 387: [[422, 423], []],\n",
       " 388: [[424, 425], []],\n",
       " 235: [[247, 245], []],\n",
       " 5000: [[1016, 1026, 1000, 158], [442]],\n",
       " 74: [[82], [83]],\n",
       " 386: [[421, 420], []],\n",
       " 101: [[102, 103, 107, 106, 108, 104, 105], []],\n",
       " 38: [[42, 41, 40, 39, 43, 44, 45], []],\n",
       " 216: [[219], []],\n",
       " 3000: [[244, 243, 253, 417], [235, 232]],\n",
       " 21: [[22, 23, 25, 24], []],\n",
       " 4: [[131, 134], [64, 38, 21, 12, 29, 47, 55]],\n",
       " 141: [[143, 142], []],\n",
       " 442: [[156, 441], []],\n",
       " 137: [[290, 289], []],\n",
       " 135: [[293, 393, 295], [137, 136]],\n",
       " 12: [[13, 14, 15, 16, 18, 19, 17], []],\n",
       " 259: [[167], []],\n",
       " 160: [[176], [259]],\n",
       " 29: [[35, 36, 30, 31, 32, 33, 34], []],\n",
       " 6000: [[229, 226], []],\n",
       " 232: [[236], []],\n",
       " 3: [[135], [4, 140]],\n",
       " 47: [[54, 50, 48, 51, 52, 53, 49], []],\n",
       " 136: [[286, 287], []],\n",
       " 56: [[61, 58, 59, 60, 57], []],\n",
       " 145: [[146], []],\n",
       " 64: [[], [66]],\n",
       " 2: [[], [3, 159]],\n",
       " 1: [[], [2, 215]],\n",
       " 215: [[], [216]],\n",
       " 140: [[], [141, 145]],\n",
       " 159: [[], [160]],\n",
       " 55: [[], [56]]}"
      ]
     },
     "execution_count": 74,
     "metadata": {},
     "output_type": "execute_result"
    }
   ],
   "source": [
    "reachable"
   ]
  },
  {
   "cell_type": "code",
   "execution_count": 36,
   "metadata": {},
   "outputs": [],
   "source": [
    "nonreachable, nrleaves = get_nonreachable(annot,ontohelper)"
   ]
  },
  {
   "cell_type": "code",
   "execution_count": 37,
   "metadata": {
    "scrolled": true
   },
   "outputs": [
    {
     "data": {
      "text/plain": [
       "defaultdict(list,\n",
       "            {389: [426, 427],\n",
       "             109: [110, 111, 112, 113, 114, 115, 116],\n",
       "             118: [500, 501, 502, 503, 504, 505, 506],\n",
       "             120: [121, 122, 123, 124, 125, 126, 127, 128, 129],\n",
       "             148: [149, 153, 154, 313],\n",
       "             149: [150, 151],\n",
       "             155: [439],\n",
       "             254: [161, 459, 162, 416, 255],\n",
       "             260: [171, 333, 391, 170],\n",
       "             256: [163, 164, 165],\n",
       "             257: [258, 166, 395, 390],\n",
       "             282: [329, 330, 383, 331, 332, 401, 402, 380, 174, 175],\n",
       "             380: [381, 382],\n",
       "             172: [394, 399],\n",
       "             177: [413,\n",
       "              384,\n",
       "              178,\n",
       "              179,\n",
       "              418,\n",
       "              180,\n",
       "              181,\n",
       "              182,\n",
       "              183,\n",
       "              184,\n",
       "              185,\n",
       "              298,\n",
       "              299,\n",
       "              409,\n",
       "              410,\n",
       "              306,\n",
       "              186,\n",
       "              187,\n",
       "              411,\n",
       "              412,\n",
       "              302,\n",
       "              303,\n",
       "              304,\n",
       "              307,\n",
       "              308,\n",
       "              309,\n",
       "              188,\n",
       "              189,\n",
       "              190,\n",
       "              191,\n",
       "              280],\n",
       "             185: [407, 408],\n",
       "             186: [300, 301],\n",
       "             440: [192, 204, 210],\n",
       "             192: [203, 193, 196, 377],\n",
       "             203: [322, 323, 324, 325, 326],\n",
       "             193: [194, 195],\n",
       "             195: [318, 319, 385],\n",
       "             196: [320,\n",
       "              321,\n",
       "              197,\n",
       "              200,\n",
       "              285,\n",
       "              444,\n",
       "              403,\n",
       "              404,\n",
       "              263,\n",
       "              262,\n",
       "              261,\n",
       "              201,\n",
       "              428,\n",
       "              449,\n",
       "              283,\n",
       "              453],\n",
       "             197: [198, 199],\n",
       "             283: [450, 451, 452, 454],\n",
       "             204: [205, 211],\n",
       "             205: [429, 264, 265, 266, 206, 207, 208, 267, 268, 269, 209, 372],\n",
       "             206: [464, 465],\n",
       "             211: [378,\n",
       "              374,\n",
       "              375,\n",
       "              376,\n",
       "              314,\n",
       "              315,\n",
       "              316,\n",
       "              270,\n",
       "              273,\n",
       "              274,\n",
       "              275,\n",
       "              276,\n",
       "              277,\n",
       "              278,\n",
       "              373,\n",
       "              279,\n",
       "              212,\n",
       "              213,\n",
       "              214,\n",
       "              305,\n",
       "              336,\n",
       "              430],\n",
       "             270: [271, 272],\n",
       "             210: [448, 445, 446, 447, 460, 461, 462, 463],\n",
       "             218: [348, 352, 357, 358],\n",
       "             348: [349, 350, 351],\n",
       "             352: [353, 354, 355, 356],\n",
       "             360: [361, 362],\n",
       "             217: [220, 221, 222],\n",
       "             231: [317, 367, 368, 369, 370, 371],\n",
       "             237: [345, 340],\n",
       "             238: [239, 240, 241],\n",
       "             251: [249]})"
      ]
     },
     "execution_count": 37,
     "metadata": {},
     "output_type": "execute_result"
    }
   ],
   "source": [
    "nonreachable"
   ]
  },
  {
   "cell_type": "code",
   "execution_count": 40,
   "metadata": {},
   "outputs": [
    {
     "data": {
      "text/plain": [
       "(147, 40)"
      ]
     },
     "execution_count": 40,
     "metadata": {},
     "output_type": "execute_result"
    }
   ],
   "source": [
    "len(nrleaves), len(nonreachable)"
   ]
  },
  {
   "cell_type": "code",
   "execution_count": 79,
   "metadata": {},
   "outputs": [
    {
     "data": {
      "text/plain": [
       "NodeRecord(acronym='OLF', name='Olfactory cortex', color_hex_triplet='#D1EBDD', level=4, parentid=4, numchildren=0)"
      ]
     },
     "execution_count": 79,
     "metadata": {},
     "output_type": "execute_result"
    }
   ],
   "source": [
    "ontohelper.onto_lookup[134]"
   ]
  },
  {
   "cell_type": "code",
   "execution_count": 27,
   "metadata": {},
   "outputs": [
    {
     "data": {
      "text/plain": [
       "[67, 68, 69, 70, 71, 72, 73, 74, 85, 93, 101, 109]"
      ]
     },
     "execution_count": 27,
     "metadata": {},
     "output_type": "execute_result"
    }
   ],
   "source": [
    "ontohelper.get_sibling_ids(109)"
   ]
  },
  {
   "cell_type": "code",
   "execution_count": 76,
   "metadata": {},
   "outputs": [
    {
     "name": "stdout",
     "output_type": "stream",
     "text": [
      "         [4] 134 (OLF) Olfactory cortex\n"
     ]
    }
   ],
   "source": [
    "ontohelper.print_subtree_at_id(134)"
   ]
  },
  {
   "cell_type": "code",
   "execution_count": 19,
   "metadata": {},
   "outputs": [],
   "source": [
    "level_ids = get_level_ids(annot, ontohelper)"
   ]
  },
  {
   "cell_type": "code",
   "execution_count": 31,
   "metadata": {},
   "outputs": [],
   "source": [
    "freq = [0]*(max(level_ids)+1)\n",
    "for lev,ids in sorted(level_ids.items()):\n",
    "    freq[lev]=len(ids)/len(annot)"
   ]
  },
  {
   "cell_type": "code",
   "execution_count": 12,
   "metadata": {},
   "outputs": [],
   "source": [
    "to_draw_list = ontohelper.get_ids_by_level(4)"
   ]
  },
  {
   "cell_type": "code",
   "execution_count": 15,
   "metadata": {},
   "outputs": [],
   "source": [
    "\n",
    "\n",
    "from collections import defaultdict\n",
    "draw_ids = defaultdict(list) # parent:[children]\n",
    "\n",
    "for annot_id in annot:\n",
    "    if annot_id in to_draw_list:\n",
    "        draw_ids[annot_id].append(annot_id)\n",
    "    else:\n",
    "        anclist = ontohelper.get_ancestor_ids(annot_id)\n",
    "        for elt in reversed(anclist):\n",
    "            if elt in to_draw_list:\n",
    "                draw_ids[elt].append(annot_id)\n",
    "                break\n"
   ]
  },
  {
   "cell_type": "code",
   "execution_count": 13,
   "metadata": {},
   "outputs": [
    {
     "data": {
      "text/plain": [
       "dict_keys([64, 38, 21, 131, 134, 141, 137, 293, 12, 259, 176, 29, 47, 136, 55, 393, 145, 295])"
      ]
     },
     "execution_count": 13,
     "metadata": {},
     "output_type": "execute_result"
    }
   ],
   "source": [
    "draw_ids.keys()"
   ]
  },
  {
   "cell_type": "code",
   "execution_count": 19,
   "metadata": {},
   "outputs": [],
   "source": [
    "from annotation_handling import get_supershape"
   ]
  },
  {
   "cell_type": "code",
   "execution_count": 1,
   "metadata": {},
   "outputs": [],
   "source": [
    "# with a list of desired shapes, use get_supershape to merge leaves \n",
    "\n"
   ]
  },
  {
   "cell_type": "code",
   "execution_count": 14,
   "metadata": {},
   "outputs": [
    {
     "name": "stdout",
     "output_type": "stream",
     "text": [
      "NodeRecord(acronym='AlCTx', name='Allocortex', level=4, parentid=4, color_hex_triplet='#9BC680')\n",
      "\t NodeRecord(acronym='IZ-PRESUB', name='Intermediate zone, presubiculum', level=7, parentid=93, color_hex_triplet='#bcf1ce')\n",
      "\t NodeRecord(acronym='IZ-SUB', name='Intermediate zone, subiculum', level=7, parentid=85, color_hex_triplet='#bcf1ce')\n",
      "\t NodeRecord(acronym='SVZ-SUB', name='Subventricular zone, subiculum', level=7, parentid=85, color_hex_triplet='#dbabf2')\n",
      "\t NodeRecord(acronym='VZ-SUB', name='Ventricular zone, subiculum', level=7, parentid=85, color_hex_triplet='#e670be')\n",
      "\t NodeRecord(acronym='CA1', name='CA1 field of hippocampus', level=8, parentid=83, color_hex_triplet='#8DBF6F')\n",
      "\t NodeRecord(acronym='CA2', name='CA2 field of hippocampus', level=8, parentid=83, color_hex_triplet='#8DBF6F')\n",
      "\t NodeRecord(acronym='CP-SUB', name='Cortical plate, subiculum', level=7, parentid=85, color_hex_triplet='#f6ca72')\n",
      "\t NodeRecord(acronym='MZ-HPF', name='Marginal zone, hippocampal formation', level=6, parentid=66, color_hex_triplet='#de895e')\n",
      "\t NodeRecord(acronym='MZ-SUB', name='Marginal zone, subiculum', level=7, parentid=85, color_hex_triplet='#de895e')\n",
      "\t NodeRecord(acronym='SGL-HPF', name='Subpial granular layer, hippocampal formation', level=6, parentid=66, color_hex_triplet='#b8a98a')\n",
      "\t NodeRecord(acronym='SP-SUB', name='Subplate zone, subiculum', level=7, parentid=85, color_hex_triplet='#eafe89')\n",
      "\t NodeRecord(acronym='SP-CA2', name='Subplate zone, CA2 field', level=9, parentid=387, color_hex_triplet='#eafe89')\n",
      "\t NodeRecord(acronym='SGL-SUB', name='Subpial granular layer, subiculum', level=7, parentid=85, color_hex_triplet='#b8a98a')\n",
      "\t NodeRecord(acronym='CA3', name='CA3 field of hippocampus', level=8, parentid=83, color_hex_triplet='#8DBF6F')\n",
      "\t NodeRecord(acronym='SP-CA3', name='Subplate zone, CA3 field', level=9, parentid=388, color_hex_triplet='#eafe89')\n",
      "\t NodeRecord(acronym='IZ-CA3', name='Intermediate zone, CA3 field', level=9, parentid=388, color_hex_triplet='#bcf1ce')\n",
      "\t NodeRecord(acronym='DG', name='Dentate gyrus', level=7, parentid=74, color_hex_triplet='#67C76C')\n",
      "\t NodeRecord(acronym='SVZ-HPF', name='Subventricular zone, hippocampal formation', level=6, parentid=66, color_hex_triplet='#dbabf2')\n",
      "\t NodeRecord(acronym='IZ-CA1', name='Intermediate zone, CA1 field', level=9, parentid=386, color_hex_triplet='#bcf1ce')\n",
      "\t NodeRecord(acronym='IZ-CA2', name='Intermediate zone, CA2 field', level=9, parentid=387, color_hex_triplet='#bcf1ce')\n",
      "\t NodeRecord(acronym='SP-CA1', name='Subplate zone, CA1 field', level=9, parentid=386, color_hex_triplet='#eafe89')\n",
      "\t NodeRecord(acronym='SGL-PARA', name='Subpial granular layer, parasubiculum', level=7, parentid=101, color_hex_triplet='#b8a98a')\n",
      "\t NodeRecord(acronym='MZ-PARA', name='Marginal zone, parasubiculum', level=7, parentid=101, color_hex_triplet='#de895e')\n",
      "\t NodeRecord(acronym='SGL-PRESUB', name='Subpial granular layer, presubiculum', level=7, parentid=93, color_hex_triplet='#b8a98a')\n",
      "\t NodeRecord(acronym='MZ-PRESUB', name='Marginal zone, presubiculum', level=7, parentid=93, color_hex_triplet='#de895e')\n",
      "\t NodeRecord(acronym='CP-PRESUB', name='Cortical plate, presubiculum', level=7, parentid=93, color_hex_triplet='#f6ca72')\n",
      "\t NodeRecord(acronym='SP-PRESUB', name='Subplate zone, presubiculum', level=7, parentid=93, color_hex_triplet='#eafe89')\n",
      "\t NodeRecord(acronym='SVZ-PARA', name='Subventricular zone, parasubiculum', level=7, parentid=101, color_hex_triplet='#dbabf2')\n",
      "\t NodeRecord(acronym='IZ-PARA', name='Intermediate zone, parasubiculum', level=7, parentid=101, color_hex_triplet='#bcf1ce')\n",
      "\t NodeRecord(acronym='SVZ-PRESUB', name='Subventricular zone, presubiculum', level=7, parentid=93, color_hex_triplet='#dbabf2')\n",
      "\t NodeRecord(acronym='VZ-HPF', name='Ventricular zone, hippocampal formation', level=6, parentid=66, color_hex_triplet='#e670be')\n",
      "\t NodeRecord(acronym='VZ-PRESUB', name='Ventricular zone, presubiculum', level=7, parentid=93, color_hex_triplet='#e670be')\n",
      "\t NodeRecord(acronym='VZ-PARA', name='Ventricular zone, parasubiculum', level=7, parentid=101, color_hex_triplet='#e670be')\n",
      "\t NodeRecord(acronym='CP-PARA', name='Cortical plate, parasubiculum', level=7, parentid=101, color_hex_triplet='#f6ca72')\n",
      "\t NodeRecord(acronym='SP-PARA', name='Subplate zone, parasubiculum', level=7, parentid=101, color_hex_triplet='#eafe89')\n",
      "NodeRecord(acronym='OCC', name='Occipital cortex', level=4, parentid=4, color_hex_triplet='#CFE4C2')\n",
      "\t NodeRecord(acronym='SP-OCC', name='Subplate zone, occipital cortex', level=5, parentid=38, color_hex_triplet='#eafe89')\n",
      "\t NodeRecord(acronym='CP-OCC', name='Cortical plate, occipital cortex', level=5, parentid=38, color_hex_triplet='#f6ca72')\n",
      "\t NodeRecord(acronym='MZ-OCC', name='Marginal zone, occipital cortex', level=5, parentid=38, color_hex_triplet='#de895e')\n",
      "\t NodeRecord(acronym='SGL-OCC', name='Subpial granular layer, occipital cortex', level=5, parentid=38, color_hex_triplet='#b8a98a')\n",
      "\t NodeRecord(acronym='IZ-OCC', name='Intermediate zone, occipital cortex', level=5, parentid=38, color_hex_triplet='#bcf1ce')\n",
      "\t NodeRecord(acronym='SVZ-OCC', name='Subventricular zone, occipital cortex', level=5, parentid=38, color_hex_triplet='#dbabf2')\n",
      "\t NodeRecord(acronym='VZ-OCC', name='Ventricular zone, occipital cortex', level=5, parentid=38, color_hex_triplet='#e670be')\n",
      "NodeRecord(acronym='ORB', name='Orbital cortex', level=4, parentid=4, color_hex_triplet='#CFE4C2')\n",
      "\t NodeRecord(acronym='SGL-ORB', name='Subpial granular layer, orbital cortex', level=5, parentid=21, color_hex_triplet='#b8a98a')\n",
      "\t NodeRecord(acronym='MZ-ORB', name='Marginal zone, orbital cortex', level=5, parentid=21, color_hex_triplet='#de895e')\n",
      "\t NodeRecord(acronym='SP-ORB', name='Subplate zone, orbital cortex', level=5, parentid=21, color_hex_triplet='#eafe89')\n",
      "\t NodeRecord(acronym='CP-ORB', name='Cortical plate, orbital cortex', level=5, parentid=21, color_hex_triplet='#f6ca72')\n",
      "NodeRecord(acronym='CLA', name='Claustrum', level=4, parentid=4, color_hex_triplet='#DFECD0')\n",
      "\t NodeRecord(acronym='CLA', name='Claustrum', level=4, parentid=4, color_hex_triplet='#DFECD0')\n",
      "NodeRecord(acronym='OLF', name='Olfactory cortex', level=4, parentid=4, color_hex_triplet='#D1EBDD')\n",
      "\t NodeRecord(acronym='OLF', name='Olfactory cortex', level=4, parentid=4, color_hex_triplet='#D1EBDD')\n",
      "NodeRecord(acronym='Str', name='Striatum', level=4, parentid=140, color_hex_triplet='#FFFEB4')\n",
      "\t NodeRecord(acronym='Put', name='Putamen', level=5, parentid=141, color_hex_triplet='#F0DB90')\n",
      "\t NodeRecord(acronym='Cau', name='Caudate nucleus', level=5, parentid=141, color_hex_triplet='#F8F9BB')\n",
      "NodeRecord(acronym='CMX', name='Corticomedial complex of the amygdala', level=4, parentid=135, color_hex_triplet='#C3E7E1')\n",
      "\t NodeRecord(acronym='COA', name='Cortical nucleus of the amygdala', level=5, parentid=137, color_hex_triplet='#AFDFD7')\n",
      "\t NodeRecord(acronym='AAA', name='Anterior amygdaloid area', level=5, parentid=137, color_hex_triplet='#AADEE4')\n",
      "NodeRecord(acronym='PAC', name='Periamygdaloid cortex', level=4, parentid=135, color_hex_triplet='#A5F8F9')\n",
      "\t NodeRecord(acronym='PAC', name='Periamygdaloid cortex', level=4, parentid=135, color_hex_triplet='#A5F8F9')\n",
      "NodeRecord(acronym='FCtx', name='Frontal cortex', level=4, parentid=4, color_hex_triplet='#CFE4C2')\n",
      "\t NodeRecord(acronym='SGL-FCTx', name='Subpial granular layer, frontal cortex', level=5, parentid=12, color_hex_triplet='#b8a98a')\n",
      "\t NodeRecord(acronym='MZ-FCTx', name='Marginal zone, frontal cortex', level=5, parentid=12, color_hex_triplet='#de895e')\n",
      "\t NodeRecord(acronym='CP-FCTx', name='Cortical plate, frontal cortex', level=5, parentid=12, color_hex_triplet='#f6ca72')\n",
      "\t NodeRecord(acronym='SP-FCTx', name='Subplate zone, frontal cortex', level=5, parentid=12, color_hex_triplet='#eafe89')\n",
      "\t NodeRecord(acronym='SVZ-FCTx', name='Subventricular zone, frontal cortex', level=5, parentid=12, color_hex_triplet='#dbabf2')\n",
      "\t NodeRecord(acronym='VZ-FCTx', name='Ventricular zone, frontal cortex', level=5, parentid=12, color_hex_triplet='#e670be')\n",
      "\t NodeRecord(acronym='IZ-FCTx', name='Intermediate zone, frontal cortex', level=5, parentid=12, color_hex_triplet='#bcf1ce')\n",
      "NodeRecord(acronym='POT', name='Posterior complex of the thalamus', level=4, parentid=160, color_hex_triplet='#FBB7B7')\n",
      "\t NodeRecord(acronym='LGN', name='Lateral geniculate nucleus', level=5, parentid=259, color_hex_triplet='#F7D0BB')\n",
      "NodeRecord(acronym='RT', name='Reticular nucleus of the thalamus', level=4, parentid=160, color_hex_triplet='#B067A9')\n",
      "\t NodeRecord(acronym='RT', name='Reticular nucleus of the thalamus', level=4, parentid=160, color_hex_triplet='#B067A9')\n",
      "NodeRecord(acronym='PAR', name='Parietal cortex', level=4, parentid=4, color_hex_triplet='#CFE4C2')\n",
      "\t NodeRecord(acronym='SVZ-PAR', name='Subventricular zone, parietal cortex', level=5, parentid=29, color_hex_triplet='#dbabf2')\n",
      "\t NodeRecord(acronym='VZ-PAR', name='Ventricular zone, parietal cortex', level=5, parentid=29, color_hex_triplet='#e670be')\n",
      "\t NodeRecord(acronym='SGL-PAR', name='Subpial granular layer, parietal cortex', level=5, parentid=29, color_hex_triplet='#b8a98a')\n",
      "\t NodeRecord(acronym='MZ-PAR', name='Marginal zone, parietal cortex', level=5, parentid=29, color_hex_triplet='#de895e')\n",
      "\t NodeRecord(acronym='CP-PAR', name='Cortical plate, parietal cortex', level=5, parentid=29, color_hex_triplet='#f6ca72')\n",
      "\t NodeRecord(acronym='SP-PAR', name='Subplate zone, parietal cortex', level=5, parentid=29, color_hex_triplet='#eafe89')\n",
      "\t NodeRecord(acronym='IZ-PAR', name='Intermediate zone, parietal cortex', level=5, parentid=29, color_hex_triplet='#bcf1ce')\n",
      "NodeRecord(acronym='TEMP', name='Temporal cortex', level=4, parentid=4, color_hex_triplet='#CFE4C2')\n",
      "\t NodeRecord(acronym='VZ-TEMP', name='Ventricular zone, temporal cortex', level=5, parentid=47, color_hex_triplet='#e670be')\n",
      "\t NodeRecord(acronym='CP-TEMP', name='Cortical plate, temporal cortex', level=5, parentid=47, color_hex_triplet='#f6ca72')\n",
      "\t NodeRecord(acronym='SGL-TEMP', name='Subpial granular layer, temporal cortex', level=5, parentid=47, color_hex_triplet='#b8a98a')\n",
      "\t NodeRecord(acronym='SP-TEMP', name='Subplate zone, temporal cortex', level=5, parentid=47, color_hex_triplet='#eafe89')\n",
      "\t NodeRecord(acronym='IZ-TEMP', name='Intermediate zone, temporal cortex', level=5, parentid=47, color_hex_triplet='#bcf1ce')\n",
      "\t NodeRecord(acronym='SVZ-TEMP', name='Subventricular zone, temporal cortex', level=5, parentid=47, color_hex_triplet='#dbabf2')\n",
      "\t NodeRecord(acronym='MZ-TEMP', name='Marginal zone, temporal cortex', level=5, parentid=47, color_hex_triplet='#de895e')\n",
      "NodeRecord(acronym='BLA', name='Basolateral complex of the amygdala', level=4, parentid=135, color_hex_triplet='#D0E7EC')\n",
      "\t NodeRecord(acronym='BL', name='Basal nucleus of the amygdala', level=5, parentid=136, color_hex_triplet='#C6E2E8')\n",
      "\t NodeRecord(acronym='BM', name='Basomedial nucleus of the amygdala', level=5, parentid=136, color_hex_triplet='#BBDCE3')\n",
      "NodeRecord(acronym='PARG', name='Parahippocampal gyrus', level=4, parentid=4, color_hex_triplet='#BDD9AB')\n",
      "\t NodeRecord(acronym='IZ-ENT', name='Intermediate zone, entorhinal cortex', level=6, parentid=56, color_hex_triplet='#bcf1ce')\n",
      "\t NodeRecord(acronym='MZ-ENT', name='Marginal zone, entorhinal cortex', level=6, parentid=56, color_hex_triplet='#de895e')\n",
      "\t NodeRecord(acronym='CP-ENT', name='Cortical plate, entorhinal cortex', level=6, parentid=56, color_hex_triplet='#f6ca72')\n",
      "\t NodeRecord(acronym='SP-ENT', name='Subplate zone, entorhinal cortex', level=6, parentid=56, color_hex_triplet='#eafe89')\n",
      "\t NodeRecord(acronym='SGL-ENT', name='Subpial granular layer, entorhinal cortex', level=6, parentid=56, color_hex_triplet='#b8a98a')\n",
      "NodeRecord(acronym='AStr', name='Amygdalo-striatal area', level=4, parentid=135, color_hex_triplet='#ADE0E1')\n",
      "\t NodeRecord(acronym='AStr', name='Amygdalo-striatal area', level=4, parentid=135, color_hex_triplet='#ADE0E1')\n",
      "NodeRecord(acronym='GP', name='Globus pallidus', level=4, parentid=140, color_hex_triplet='#E0EA64')\n",
      "\t NodeRecord(acronym='GPl', name='Globus pallidus lateral segment', level=5, parentid=145, color_hex_triplet='#D9E543')\n",
      "NodeRecord(acronym='CEA', name='Central nucleus of the amygdala', level=4, parentid=135, color_hex_triplet='#AADEE4')\n",
      "\t NodeRecord(acronym='CEA', name='Central nucleus of the amygdala', level=4, parentid=135, color_hex_triplet='#AADEE4')\n"
     ]
    }
   ],
   "source": [
    "parshapes = {}\n",
    "for par, chlist in draw_ids.items():\n",
    "    print(ontohelper.onto_lookup[par])\n",
    "    parshp = None\n",
    "    for chi in chlist:\n",
    "        print('\\t',ontohelper.onto_lookup[chi])\n",
    "        if parshp is None:\n",
    "            parshp = annot[chi]\n",
    "        else:\n",
    "            parshp = parshp.union(annot[chi])\n",
    "\n",
    "    parshapes[par]=parshp"
   ]
  },
  {
   "cell_type": "code",
   "execution_count": 15,
   "metadata": {},
   "outputs": [
    {
     "data": {
      "text/plain": [
       "dict_keys([64, 38, 21, 131, 134, 141, 137, 293, 12, 259, 176, 29, 47, 136, 55, 393, 145, 295])"
      ]
     },
     "execution_count": 15,
     "metadata": {},
     "output_type": "execute_result"
    }
   ],
   "source": [
    "parshapes.keys()"
   ]
  },
  {
   "cell_type": "code",
   "execution_count": 16,
   "metadata": {},
   "outputs": [
    {
     "data": {
      "image/svg+xml": [
       "<svg xmlns=\"http://www.w3.org/2000/svg\" xmlns:xlink=\"http://www.w3.org/1999/xlink\" width=\"300\" height=\"300\" viewBox=\"4602.57540902923 4065.566103225497 424.2383727445076 404.90598963607454\" preserveAspectRatio=\"xMinYMin meet\"><g transform=\"matrix(1,0,0,-1,0,8536.038196087069)\"><path fill-rule=\"evenodd\" fill=\"#66cc99\" stroke=\"#555555\" stroke-width=\"2.8282558182967175\" opacity=\"0.6\" d=\"M 4661.087744417095,4454.759560537701 L 4748.578861398695,4425.766407817839 L 4746.251231728238,4335.402303053303 L 4757.669074422408,4305.421676056261 L 4756.918083279272,4283.210767977021 L 4783.605209691506,4271.563048350279 L 4809.284886265567,4252.825432492538 L 4822.800667006724,4246.073622096741 L 4845.587867144809,4246.9866938106115 L 4862.382702571696,4248.438874555908 L 4877.655598547286,4248.4409126794335 L 4900.067134727707,4248.037141896213 L 4903.772617119014,4247.5845249450085 L 4921.9929685776815,4247.928780476249 L 4942.9799237251855,4242.826209411587 L 4966.3695864235415,4237.681477708491 L 5011.101249449867,4219.519980493293 L 5007.442180425786,4208.117442650345 L 5005.2565782225065,4202.1800968941925 L 5000.079544147968,4186.425764127345 L 4999.487957229444,4184.64944141279 L 4999.451342483237,4184.522425662294 L 4999.4361971214585,4184.4986337860255 L 4995.541150445342,4172.024237515617 L 4993.677857041837,4172.642809603446 L 4993.506795814175,4172.5732112754595 L 4982.703865984266,4168.177908705733 L 4967.260233593493,4161.972760677055 L 4958.18966551924,4158.328267193866 L 4901.0743234034035,4112.892319437861 L 4901.058032628673,4112.880808124044 L 4900.996698250104,4112.917699029758 L 4900.828178291193,4113.01905905101 L 4900.708667190931,4113.090941620533 L 4900.491913307982,4113.2273029827575 L 4894.350628577382,4116.911150538604 L 4881.43975326146,4119.790621289012 L 4874.921758245377,4120.641040173636 L 4869.950662129402,4120.639552398933 L 4869.937527304509,4120.638287488344 L 4869.9303274367685,4120.644222445496 L 4816.0867873902425,4081.2786355493677 L 4778.508458435178,4114.520124346935 L 4746.657854158847,4149.218537006679 L 4735.750762659686,4164.257899885974 L 4732.047921881332,4169.363602552374 L 4715.604608572825,4189.202225319005 L 4695.371684566274,4216.84626859092 L 4682.2222558600315,4220.5618640945795 L 4670.9933108584755,4229.461567520272 L 4656.403846232989,4242.376910463296 L 4654.064991826384,4244.447384434105 L 4636.280853026501,4284.399053113844 L 4618.287941353101,4332.045476799509 L 4632.3715427396855,4368.324831419662 L 4661.087744417095,4454.759560537701 z\" /></g></svg>"
      ],
      "text/plain": [
       "<POLYGON ((4661.088 4454.76, 4748.579 4425.766, 4746.251 4335.402, 4757.669 ...>"
      ]
     },
     "execution_count": 16,
     "metadata": {},
     "output_type": "execute_result"
    }
   ],
   "source": [
    "parshapes[134]"
   ]
  },
  {
   "cell_type": "code",
   "execution_count": 17,
   "metadata": {},
   "outputs": [],
   "source": [
    "from shapely.plotting import plot_polygon\n",
    "\n",
    "def plot_shape(shp,color):\n",
    "    plot_polygon(shp, add_points=False, facecolor=color, edgecolor='k')"
   ]
  },
  {
   "cell_type": "code",
   "execution_count": 18,
   "metadata": {},
   "outputs": [],
   "source": [
    "from matplotlib import pyplot as plt"
   ]
  },
  {
   "cell_type": "code",
   "execution_count": 28,
   "metadata": {},
   "outputs": [
    {
     "data": {
      "image/png": "[encoded data removed]",
      "text/plain": [
       "<Figure size 1200x800 with 2 Axes>"
      ]
     },
     "metadata": {},
     "output_type": "display_data"
    }
   ],
   "source": [
    "plt.figure(figsize=(12,8))\n",
    "plt.subplot(1,2,1)\n",
    "plt.imshow(im_arr)\n",
    "\n",
    "plt.subplot(1,2,2)\n",
    "plt.imshow(im_arr)\n",
    "for par,parshp in parshapes.items():\n",
    "    \n",
    "    color = ontohelper.onto_lookup[par].color_hex_triplet\n",
    "    plot_shape(parshp,color)\n",
    "    # break"
   ]
  },
  {
   "cell_type": "code",
   "execution_count": 17,
   "metadata": {},
   "outputs": [],
   "source": [
    "from collections import defaultdict"
   ]
  },
  {
   "cell_type": "code",
   "execution_count": 29,
   "metadata": {},
   "outputs": [
    {
     "name": "stdout",
     "output_type": "stream",
     "text": [
      "HPF 0.03489960269751205 35\n",
      "ft 0.04479758136773956 7\n",
      "dev 0.004264530697871044 4\n",
      "Ctx 0.5506461216234214 39\n",
      "CB 0.04081355714387512 1\n",
      "AMY_BN 0.09956298019743423 11\n",
      "Mig 0.04205037903498548 2\n",
      "TH 0.016912539815769893 2\n",
      "Vs 0.16605270742139103 2\n"
     ]
    }
   ],
   "source": [
    "group_regions = defaultdict(list)\n",
    "group_areas = defaultdict(int)\n",
    "\n",
    "fullarea = 0\n",
    "\n",
    "for ontoid in annot:\n",
    "    grp = ontohelper.get_group_by_ontoid(ontoid)\n",
    "    shapes = annot[ontoid]\n",
    "    count = len(shapes)\n",
    "    area = sum([x.area for x in shapes])\n",
    "    group_regions[grp].append((ontoid,count,area))\n",
    "    group_areas[grp]+=area\n",
    "    fullarea+=area\n",
    "\n",
    "\n",
    "for grp,vals in group_regions.items():\n",
    "    print(grp,group_areas[grp]/fullarea,len(vals))"
   ]
  },
  {
   "cell_type": "code",
   "execution_count": 25,
   "metadata": {},
   "outputs": [
    {
     "data": {
      "text/plain": [
       "defaultdict(int,\n",
       "            {'HPF': 206219.43943257746,\n",
       "             'ft': 264705.9394246085,\n",
       "             'dev': 25198.829269786453,\n",
       "             'Ctx': 3253731.4396132063,\n",
       "             'CB': 241164.6043196761,\n",
       "             'AMY_BN': 588311.0516331289,\n",
       "             'Mig': 248472.9029061497,\n",
       "             'TH': 99935.07692389424,\n",
       "             'Vs': 981194.4433150298})"
      ]
     },
     "execution_count": 25,
     "metadata": {},
     "output_type": "execute_result"
    }
   ],
   "source": [
    "group_areas"
   ]
  },
  {
   "cell_type": "code",
   "execution_count": null,
   "metadata": {},
   "outputs": [],
   "source": []
  }
 ],
 "metadata": {
  "kernelspec": {
   "display_name": "Python 3 (ipykernel)",
   "language": "python",
   "name": "python3"
  },
  "language_info": {
   "codemirror_mode": {
    "name": "ipython",
    "version": 3
   },
   "file_extension": ".py",
   "mimetype": "text/x-python",
   "name": "python",
   "nbconvert_exporter": "python",
   "pygments_lexer": "ipython3",
   "version": "3.8.10"
  }
 },
 "nbformat": 4,
 "nbformat_minor": 4
}
