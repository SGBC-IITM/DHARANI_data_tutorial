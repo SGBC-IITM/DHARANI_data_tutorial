{
 "cells": [
  {
   "cell_type": "code",
   "execution_count": 1,
   "metadata": {},
   "outputs": [],
   "source": [
    "import sys\n",
    "sys.path.append('..')\n",
    "from dharani_functions import DharaniHelper"
   ]
  },
  {
   "cell_type": "code",
   "execution_count": 2,
   "metadata": {},
   "outputs": [],
   "source": [
    "helper = DharaniHelper(specimennum=1,downsample=3)"
   ]
  },
  {
   "cell_type": "code",
   "execution_count": 3,
   "metadata": {},
   "outputs": [
    {
     "data": {
      "text/plain": [
       "['1009']"
      ]
     },
     "execution_count": 3,
     "metadata": {},
     "output_type": "execute_result"
    }
   ],
   "source": [
    "helper.get_section_numbers()"
   ]
  },
  {
   "cell_type": "code",
   "execution_count": 4,
   "metadata": {},
   "outputs": [],
   "source": [
    "im_arr = helper.get_dharani_sectionimage('1009')"
   ]
  },
  {
   "cell_type": "code",
   "execution_count": 5,
   "metadata": {},
   "outputs": [
    {
     "data": {
      "text/plain": [
       "(8000, 8000, 3)"
      ]
     },
     "execution_count": 5,
     "metadata": {},
     "output_type": "execute_result"
    }
   ],
   "source": [
    "im_arr.shape"
   ]
  },
  {
   "cell_type": "code",
   "execution_count": 3,
   "metadata": {},
   "outputs": [],
   "source": [
    "annot = helper.get_dharani_annotation('1009')"
   ]
  },
  {
   "cell_type": "code",
   "execution_count": 11,
   "metadata": {},
   "outputs": [],
   "source": [
    "from ontology_handling import TreeHelper"
   ]
  },
  {
   "cell_type": "code",
   "execution_count": 12,
   "metadata": {},
   "outputs": [],
   "source": [
    "ontohelper = TreeHelper()"
   ]
  },
  {
   "cell_type": "code",
   "execution_count": 13,
   "metadata": {},
   "outputs": [
    {
     "data": {
      "text/plain": [
       "NodeRecord(acronym='IZ-PRESUB', name='Intermediate zone, presubiculum', level=7, parentid=93, color_hex_triplet='#bcf1ce')"
      ]
     },
     "execution_count": 13,
     "metadata": {},
     "output_type": "execute_result"
    }
   ],
   "source": [
    "ontohelper.onto_lookup[98]"
   ]
  },
  {
   "cell_type": "code",
   "execution_count": 17,
   "metadata": {},
   "outputs": [],
   "source": [
    "from collections import defaultdict"
   ]
  },
  {
   "cell_type": "code",
   "execution_count": 29,
   "metadata": {},
   "outputs": [
    {
     "name": "stdout",
     "output_type": "stream",
     "text": [
      "HPF 0.03489960269751205 35\n",
      "ft 0.04479758136773956 7\n",
      "dev 0.004264530697871044 4\n",
      "Ctx 0.5506461216234214 39\n",
      "CB 0.04081355714387512 1\n",
      "AMY_BN 0.09956298019743423 11\n",
      "Mig 0.04205037903498548 2\n",
      "TH 0.016912539815769893 2\n",
      "Vs 0.16605270742139103 2\n"
     ]
    }
   ],
   "source": [
    "group_regions = defaultdict(list)\n",
    "group_areas = defaultdict(int)\n",
    "\n",
    "fullarea = 0\n",
    "\n",
    "for ontoid in annot:\n",
    "    grp = ontohelper.get_group_by_ontoid(ontoid)\n",
    "    shapes = annot[ontoid]\n",
    "    count = len(shapes)\n",
    "    area = sum([x.area for x in shapes])\n",
    "    group_regions[grp].append((ontoid,count,area))\n",
    "    group_areas[grp]+=area\n",
    "    fullarea+=area\n",
    "\n",
    "\n",
    "for grp,vals in group_regions.items():\n",
    "    print(grp,group_areas[grp]/fullarea,len(vals))"
   ]
  },
  {
   "cell_type": "code",
   "execution_count": 25,
   "metadata": {},
   "outputs": [
    {
     "data": {
      "text/plain": [
       "defaultdict(int,\n",
       "            {'HPF': 206219.43943257746,\n",
       "             'ft': 264705.9394246085,\n",
       "             'dev': 25198.829269786453,\n",
       "             'Ctx': 3253731.4396132063,\n",
       "             'CB': 241164.6043196761,\n",
       "             'AMY_BN': 588311.0516331289,\n",
       "             'Mig': 248472.9029061497,\n",
       "             'TH': 99935.07692389424,\n",
       "             'Vs': 981194.4433150298})"
      ]
     },
     "execution_count": 25,
     "metadata": {},
     "output_type": "execute_result"
    }
   ],
   "source": [
    "group_areas"
   ]
  },
  {
   "cell_type": "code",
   "execution_count": null,
   "metadata": {},
   "outputs": [],
   "source": []
  }
 ],
 "metadata": {
  "kernelspec": {
   "display_name": "dharani_env",
   "language": "python",
   "name": "python3"
  },
  "language_info": {
   "codemirror_mode": {
    "name": "ipython",
    "version": 3
   },
   "file_extension": ".py",
   "mimetype": "text/x-python",
   "name": "python",
   "nbconvert_exporter": "python",
   "pygments_lexer": "ipython3",
   "version": "3.8.10"
  }
 },
 "nbformat": 4,
 "nbformat_minor": 2
}
