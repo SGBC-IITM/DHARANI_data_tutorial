{
 "cells": [
  {
   "cell_type": "code",
   "execution_count": 1,
   "metadata": {},
   "outputs": [],
   "source": [
    "import sys\n",
    "sys.path.append('..')\n",
    "from dharani_functions import DharaniHelper"
   ]
  },
  {
   "cell_type": "code",
   "execution_count": 2,
   "metadata": {},
   "outputs": [],
   "source": [
    "helper = DharaniHelper(specimennum=1,downsample=3)"
   ]
  },
  {
   "cell_type": "code",
   "execution_count": 3,
   "metadata": {},
   "outputs": [
    {
     "data": {
      "text/plain": [
       "['1009']"
      ]
     },
     "execution_count": 3,
     "metadata": {},
     "output_type": "execute_result"
    }
   ],
   "source": [
    "helper.get_section_numbers()"
   ]
  },
  {
   "cell_type": "code",
   "execution_count": 4,
   "metadata": {},
   "outputs": [],
   "source": [
    "im_arr = helper.get_dharani_sectionimage('1009')"
   ]
  },
  {
   "cell_type": "code",
   "execution_count": 5,
   "metadata": {},
   "outputs": [
    {
     "data": {
      "text/plain": [
       "(8000, 8000, 3)"
      ]
     },
     "execution_count": 5,
     "metadata": {},
     "output_type": "execute_result"
    }
   ],
   "source": [
    "im_arr.shape"
   ]
  },
  {
   "cell_type": "code",
   "execution_count": 3,
   "metadata": {},
   "outputs": [],
   "source": [
    "annot = helper.get_dharani_annotation('1009')"
   ]
  },
  {
   "cell_type": "code",
   "execution_count": 4,
   "metadata": {},
   "outputs": [
    {
     "data": {
      "text/plain": [
       "dict_keys([98, 90, 91, 92, 386, 387, 88, 68, 87, 67, 89, 422, 86, 388, 424, 425, 247, 1016, 82, 72, 421, 423, 420, 102, 103, 94, 95, 96, 97, 107, 106, 99, 73, 100, 42, 41, 40, 39, 43, 44, 45, 219, 108, 244, 1026, 243, 22, 23, 25, 24, 131, 134, 143, 156, 290, 293, 13, 14, 15, 16, 253, 167, 176, 417, 245, 1000, 35, 36, 18, 19, 30, 31, 32, 33, 34, 158, 229, 226, 142, 236, 17, 104, 105, 135, 54, 286, 61, 50, 48, 51, 52, 53, 58, 59, 49, 60, 57, 441, 289, 393, 146, 287, 295])"
      ]
     },
     "execution_count": 4,
     "metadata": {},
     "output_type": "execute_result"
    }
   ],
   "source": [
    "annot.keys()"
   ]
  },
  {
   "cell_type": "code",
   "execution_count": 9,
   "metadata": {},
   "outputs": [
    {
     "data": {
      "image/svg+xml": [
       "<svg xmlns=\"http://www.w3.org/2000/svg\" xmlns:xlink=\"http://www.w3.org/1999/xlink\" width=\"132.08852445961838\" height=\"100.0\" viewBox=\"4392.976470543835 4970.513845970682 132.08852445961838 97.43009306111162\" preserveAspectRatio=\"xMinYMin meet\"><g transform=\"matrix(1,0,0,-1,0,10038.457785002476)\"><path fill-rule=\"evenodd\" fill=\"#66cc99\" stroke=\"#555555\" stroke-width=\"2.0\" opacity=\"0.6\" d=\"M 4416.422510141032,4975.406013543261 L 4430.802546148816,4988.108074127886 L 4437.069750341274,4993.238760757553 L 4461.714302413791,5006.917922877673 L 4478.674692434844,5016.238022147695 L 4496.3534487227535,5024.953491490699 L 4516.10550832532,5033.586299226721 L 4520.172827430874,5034.956929573466 L 4511.354109728817,5063.051771459215 L 4497.032978568703,5058.024232740761 L 4468.874449361934,5042.051520386405 L 4418.064137414491,5009.301007480231 L 4397.883949850764,4992.019269136279 L 4397.869975916747,4992.007359534052 L 4397.868638116413,4992.006195026262 L 4397.875652516744,4992.0000350732425 L 4416.416170728303,4975.411617094047 L 4416.422510141032,4975.406013543261 z\" /></g></svg>"
      ],
      "text/plain": [
       "<POLYGON ((4416.423 4975.406, 4430.803 4988.108, 4437.07 4993.239, 4461.714 ...>"
      ]
     },
     "execution_count": 9,
     "metadata": {},
     "output_type": "execute_result"
    }
   ],
   "source": [
    "annot[98][0]"
   ]
  },
  {
   "cell_type": "code",
   "execution_count": 10,
   "metadata": {},
   "outputs": [
    {
     "data": {
      "image/svg+xml": [
       "<svg xmlns=\"http://www.w3.org/2000/svg\" xmlns:xlink=\"http://www.w3.org/1999/xlink\" width=\"100.0\" height=\"100.0\" viewBox=\"3355.7656237226647 4293.526472693654 99.92440224315806 90.18917379285267\" preserveAspectRatio=\"xMinYMin meet\"><g transform=\"matrix(1,0,0,-1,0,8677.24211918016)\"><path fill-rule=\"evenodd\" fill=\"#66cc99\" stroke=\"#555555\" stroke-width=\"1.9984880448631612\" opacity=\"0.6\" d=\"M 3451.989122179039,4373.566982088234 L 3420.930947886028,4380.014742699723 L 3408.5145587187626,4363.787353378906 L 3400.914002124914,4353.853934794666 L 3386.198425154518,4335.4152708597985 L 3359.4665275094485,4315.660330926777 L 3390.5123163842727,4297.227376480438 L 3395.696949319762,4301.756685337525 L 3418.6530199140952,4321.625244359435 L 3433.234698402592,4343.656819234548 L 3449.64861393875,4369.788807256846 L 3451.989122179039,4373.566982088234 z\" /></g></svg>"
      ],
      "text/plain": [
       "<POLYGON ((3451.989 4373.567, 3420.931 4380.015, 3408.515 4363.787, 3400.914...>"
      ]
     },
     "execution_count": 10,
     "metadata": {},
     "output_type": "execute_result"
    }
   ],
   "source": [
    "annot[98][1]"
   ]
  },
  {
   "cell_type": "code",
   "execution_count": 11,
   "metadata": {},
   "outputs": [],
   "source": [
    "from ontology_handling import TreeHelper"
   ]
  },
  {
   "cell_type": "code",
   "execution_count": 12,
   "metadata": {},
   "outputs": [],
   "source": [
    "ontohelper = TreeHelper()"
   ]
  },
  {
   "cell_type": "code",
   "execution_count": 13,
   "metadata": {},
   "outputs": [
    {
     "data": {
      "text/plain": [
       "NodeRecord(acronym='IZ-PRESUB', name='Intermediate zone, presubiculum', level=7, parentid=93, color_hex_triplet='#bcf1ce')"
      ]
     },
     "execution_count": 13,
     "metadata": {},
     "output_type": "execute_result"
    }
   ],
   "source": [
    "ontohelper.onto_lookup[98]"
   ]
  },
  {
   "cell_type": "code",
   "execution_count": null,
   "metadata": {},
   "outputs": [],
   "source": []
  }
 ],
 "metadata": {
  "kernelspec": {
   "display_name": "dharani_env",
   "language": "python",
   "name": "python3"
  },
  "language_info": {
   "codemirror_mode": {
    "name": "ipython",
    "version": 3
   },
   "file_extension": ".py",
   "mimetype": "text/x-python",
   "name": "python",
   "nbconvert_exporter": "python",
   "pygments_lexer": "ipython3",
   "version": "3.8.10"
  }
 },
 "nbformat": 4,
 "nbformat_minor": 2
}
