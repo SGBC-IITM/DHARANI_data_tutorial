{
 "cells": [
  {
   "cell_type": "markdown",
   "metadata": {},
   "source": [
    "## Dharani data and annotation sample"
   ]
  },
  {
   "cell_type": "code",
   "execution_count": 1,
   "metadata": {},
   "outputs": [],
   "source": [
    "import sys\n",
    "sys.path.append('..')\n",
    "from dharani_functions import DharaniHelper"
   ]
  },
  {
   "cell_type": "code",
   "execution_count": 2,
   "metadata": {},
   "outputs": [],
   "source": [
    "helper = DharaniHelper(specimennum=1,downsample=7)"
   ]
  },
  {
   "cell_type": "code",
   "execution_count": 3,
   "metadata": {},
   "outputs": [
    {
     "data": {
      "text/plain": [
       "\u001b[1;31mInit signature:\u001b[0m \u001b[0mDharaniHelper\u001b[0m\u001b[1;33m(\u001b[0m\u001b[0mspecimennum\u001b[0m\u001b[1;33m,\u001b[0m \u001b[0mdownsample\u001b[0m\u001b[1;33m=\u001b[0m\u001b[1;36m3\u001b[0m\u001b[1;33m)\u001b[0m\u001b[1;33m\u001b[0m\u001b[1;33m\u001b[0m\u001b[0m\n",
       "\u001b[1;31mDocstring:\u001b[0m      Helper for simplified access to Dharani image and annotation data from AWS s3 bucket s3://dharani-fetal-brain-atlas\n",
       "\u001b[1;31mInit docstring:\u001b[0m\n",
       "specimennum : [1,2,3,4,5]\n",
       "\n",
       "mpp = 2^downsample\n",
       "downsample = 3 [default] => mpp=8 ; allowed [0..7]\n",
       "\u001b[1;31mFile:\u001b[0m           c:\\users\\keerthi\\code\\hbp\\sgbc_dharani_data_tutorial\\dharani_data_tutorial\\dharani_functions.py\n",
       "\u001b[1;31mType:\u001b[0m           type\n",
       "\u001b[1;31mSubclasses:\u001b[0m     "
      ]
     },
     "metadata": {},
     "output_type": "display_data"
    }
   ],
   "source": [
    "DharaniHelper?"
   ]
  },
  {
   "cell_type": "code",
   "execution_count": 4,
   "metadata": {},
   "outputs": [
    {
     "data": {
      "text/plain": [
       "[1009]"
      ]
     },
     "execution_count": 4,
     "metadata": {},
     "output_type": "execute_result"
    }
   ],
   "source": [
    "helper.get_section_numbers()"
   ]
  },
  {
   "cell_type": "code",
   "execution_count": 5,
   "metadata": {},
   "outputs": [],
   "source": [
    "secnum = 1009"
   ]
  },
  {
   "cell_type": "markdown",
   "metadata": {},
   "source": [
    "Load section image at resolution 2^downsample micron per pixel (mpp)"
   ]
  },
  {
   "cell_type": "code",
   "execution_count": 6,
   "metadata": {},
   "outputs": [],
   "source": [
    "im_arr = helper.get_sectionimage(secnum)"
   ]
  },
  {
   "cell_type": "code",
   "execution_count": 7,
   "metadata": {},
   "outputs": [
    {
     "data": {
      "text/plain": [
       "((500, 500, 3), dtype('uint8'))"
      ]
     },
     "execution_count": 7,
     "metadata": {},
     "output_type": "execute_result"
    }
   ],
   "source": [
    "im_arr.shape, im_arr.dtype"
   ]
  },
  {
   "cell_type": "markdown",
   "metadata": {},
   "source": [
    "Load annotation of the section. This fetches a dict of polygons. The keys are ontology ids, and the values are the annotated regions"
   ]
  },
  {
   "cell_type": "code",
   "execution_count": 8,
   "metadata": {},
   "outputs": [],
   "source": [
    "annot = helper.get_annotation(secnum)"
   ]
  },
  {
   "cell_type": "code",
   "execution_count": 9,
   "metadata": {},
   "outputs": [
    {
     "data": {
      "text/plain": [
       "103"
      ]
     },
     "execution_count": 9,
     "metadata": {},
     "output_type": "execute_result"
    }
   ],
   "source": [
    "len(annot)"
   ]
  },
  {
   "cell_type": "markdown",
   "metadata": {},
   "source": [
    "Load the ontology, to interpret the ids"
   ]
  },
  {
   "cell_type": "code",
   "execution_count": 10,
   "metadata": {},
   "outputs": [],
   "source": [
    "from ontology_handling import TreeHelper"
   ]
  },
  {
   "cell_type": "code",
   "execution_count": 11,
   "metadata": {},
   "outputs": [],
   "source": [
    "ontohelper = TreeHelper('dharani')"
   ]
  },
  {
   "cell_type": "code",
   "execution_count": 12,
   "metadata": {},
   "outputs": [
    {
     "data": {
      "text/plain": [
       "\u001b[1;31mInit signature:\u001b[0m \u001b[0mTreeHelper\u001b[0m\u001b[1;33m(\u001b[0m\u001b[0montoname\u001b[0m\u001b[1;33m=\u001b[0m\u001b[1;34m'dharani'\u001b[0m\u001b[1;33m)\u001b[0m\u001b[1;33m\u001b[0m\u001b[1;33m\u001b[0m\u001b[0m\n",
       "\u001b[1;31mDocstring:\u001b[0m      Abstracts ontology tree reading, searching and navigation for Dharani and Allen nomenclature\n",
       "\u001b[1;31mInit docstring:\u001b[0m ontoname: ['dharani', 'allen_devhuman'] \n",
       "\u001b[1;31mFile:\u001b[0m           c:\\users\\keerthi\\code\\hbp\\sgbc_dharani_data_tutorial\\dharani_data_tutorial\\ontology_handling.py\n",
       "\u001b[1;31mType:\u001b[0m           type\n",
       "\u001b[1;31mSubclasses:\u001b[0m     "
      ]
     },
     "metadata": {},
     "output_type": "display_data"
    }
   ],
   "source": [
    "TreeHelper?"
   ]
  },
  {
   "cell_type": "markdown",
   "metadata": {},
   "source": [
    "Load the functions to display annotations"
   ]
  },
  {
   "cell_type": "code",
   "execution_count": 13,
   "metadata": {},
   "outputs": [],
   "source": [
    "from nb_functions import display_annotation, display_annotation_tree"
   ]
  },
  {
   "cell_type": "code",
   "execution_count": 14,
   "metadata": {},
   "outputs": [
    {
     "data": {
      "text/html": [
       "<p>&emsp;&emsp;&emsp;&emsp;(+7) Br/FB/Tel/Ctx 38 OCC Occipital cortex 4 <span style=\"display:inline-block;width:20px;height:12px;padding:0px;background-color:#CFE4C2;\"></span></p>"
      ],
      "text/plain": [
       "<IPython.core.display.HTML object>"
      ]
     },
     "metadata": {},
     "output_type": "display_data"
    },
    {
     "data": {
      "text/html": [
       "<p>&emsp;&emsp;&emsp;&emsp;(+4) Br/FB/Tel/Ctx 21 ORB Orbital cortex 4 <span style=\"display:inline-block;width:20px;height:12px;padding:0px;background-color:#CFE4C2;\"></span></p>"
      ],
      "text/plain": [
       "<IPython.core.display.HTML object>"
      ]
     },
     "metadata": {},
     "output_type": "display_data"
    },
    {
     "data": {
      "text/html": [
       "<p>&emsp;&emsp;&emsp;#Br/FB/Tel 4 Ctx Cerebral cortex 3 </p>"
      ],
      "text/plain": [
       "<IPython.core.display.HTML object>"
      ]
     },
     "metadata": {},
     "output_type": "display_data"
    },
    {
     "data": {
      "text/html": [
       "<p>&emsp;&emsp;&emsp;&emsp; 131 CLA Claustrum 4 <span style=\"display:inline-block;width:20px;height:12px;padding:0px;background-color:#DFECD0;\"></span></p>"
      ],
      "text/plain": [
       "<IPython.core.display.HTML object>"
      ]
     },
     "metadata": {},
     "output_type": "display_data"
    },
    {
     "data": {
      "text/html": [
       "<p>&emsp;&emsp;&emsp;&emsp; 134 OLF Olfactory cortex 4 <span style=\"display:inline-block;width:20px;height:12px;padding:0px;background-color:#D1EBDD;\"></span></p>"
      ],
      "text/plain": [
       "<IPython.core.display.HTML object>"
      ]
     },
     "metadata": {},
     "output_type": "display_data"
    },
    {
     "data": {
      "text/html": [
       "<p>&emsp;&emsp;&emsp;&emsp;(+2) Br/FB/Tel/BN 141 Str Striatum 4 <span style=\"display:inline-block;width:20px;height:12px;padding:0px;background-color:#FFFEB4;\"></span></p>"
      ],
      "text/plain": [
       "<IPython.core.display.HTML object>"
      ]
     },
     "metadata": {},
     "output_type": "display_data"
    },
    {
     "data": {
      "text/html": [
       "<p>&emsp;&emsp;&emsp;&emsp;(+2) Br/FB/Tel/AMY 137 CMX Corticomedial complex of the amygdala 4 <span style=\"display:inline-block;width:20px;height:12px;padding:0px;background-color:#C3E7E1;\"></span></p>"
      ],
      "text/plain": [
       "<IPython.core.display.HTML object>"
      ]
     },
     "metadata": {},
     "output_type": "display_data"
    },
    {
     "data": {
      "text/html": [
       "<p>&emsp;&emsp;&emsp;#Br/FB/Tel 135 AMY Amygdala 3 </p>"
      ],
      "text/plain": [
       "<IPython.core.display.HTML object>"
      ]
     },
     "metadata": {},
     "output_type": "display_data"
    },
    {
     "data": {
      "text/html": [
       "<p>&emsp;&emsp;&emsp;&emsp; 293 PAC Periamygdaloid cortex 4 <span style=\"display:inline-block;width:20px;height:12px;padding:0px;background-color:#A5F8F9;\"></span></p>"
      ],
      "text/plain": [
       "<IPython.core.display.HTML object>"
      ]
     },
     "metadata": {},
     "output_type": "display_data"
    },
    {
     "data": {
      "text/html": [
       "<p>&emsp;&emsp;&emsp;&emsp; 393 AStr Amygdalo-striatal area 4 <span style=\"display:inline-block;width:20px;height:12px;padding:0px;background-color:#ADE0E1;\"></span></p>"
      ],
      "text/plain": [
       "<IPython.core.display.HTML object>"
      ]
     },
     "metadata": {},
     "output_type": "display_data"
    },
    {
     "data": {
      "text/html": [
       "<p>&emsp;&emsp;&emsp;&emsp; 295 CEA Central nucleus of the amygdala 4 <span style=\"display:inline-block;width:20px;height:12px;padding:0px;background-color:#AADEE4;\"></span></p>"
      ],
      "text/plain": [
       "<IPython.core.display.HTML object>"
      ]
     },
     "metadata": {},
     "output_type": "display_data"
    },
    {
     "data": {
      "text/html": [
       "<p>&emsp;&emsp;&emsp;&emsp;(+7) Br/FB/Tel/Ctx 12 FCtx Frontal cortex 4 <span style=\"display:inline-block;width:20px;height:12px;padding:0px;background-color:#CFE4C2;\"></span></p>"
      ],
      "text/plain": [
       "<IPython.core.display.HTML object>"
      ]
     },
     "metadata": {},
     "output_type": "display_data"
    },
    {
     "data": {
      "text/html": [
       "<p>&emsp;&emsp;&emsp;&emsp;(+1) Br/FB/Di/TH 259 POT Posterior complex of the thalamus 4 <span style=\"display:inline-block;width:20px;height:12px;padding:0px;background-color:#FBB7B7;\"></span></p>"
      ],
      "text/plain": [
       "<IPython.core.display.HTML object>"
      ]
     },
     "metadata": {},
     "output_type": "display_data"
    },
    {
     "data": {
      "text/html": [
       "<p>&emsp;&emsp;&emsp;#Br/FB/Di 160 TH Thalamus 3 </p>"
      ],
      "text/plain": [
       "<IPython.core.display.HTML object>"
      ]
     },
     "metadata": {},
     "output_type": "display_data"
    },
    {
     "data": {
      "text/html": [
       "<p>&emsp;&emsp;&emsp;&emsp; 176 RT Reticular nucleus of the thalamus 4 <span style=\"display:inline-block;width:20px;height:12px;padding:0px;background-color:#B067A9;\"></span></p>"
      ],
      "text/plain": [
       "<IPython.core.display.HTML object>"
      ]
     },
     "metadata": {},
     "output_type": "display_data"
    },
    {
     "data": {
      "text/html": [
       "<p>&emsp;&emsp;&emsp;&emsp;(+7) Br/FB/Tel/Ctx 29 PAR Parietal cortex 4 <span style=\"display:inline-block;width:20px;height:12px;padding:0px;background-color:#CFE4C2;\"></span></p>"
      ],
      "text/plain": [
       "<IPython.core.display.HTML object>"
      ]
     },
     "metadata": {},
     "output_type": "display_data"
    },
    {
     "data": {
      "text/html": [
       "<p>&emsp;&emsp;&emsp;&emsp;(+7) Br/FB/Tel/Ctx 47 TEMP Temporal cortex 4 <span style=\"display:inline-block;width:20px;height:12px;padding:0px;background-color:#CFE4C2;\"></span></p>"
      ],
      "text/plain": [
       "<IPython.core.display.HTML object>"
      ]
     },
     "metadata": {},
     "output_type": "display_data"
    },
    {
     "data": {
      "text/html": [
       "<p>&emsp;&emsp;&emsp;&emsp;(+2) Br/FB/Tel/AMY 136 BLA Basolateral complex of the amygdala 4 <span style=\"display:inline-block;width:20px;height:12px;padding:0px;background-color:#D0E7EC;\"></span></p>"
      ],
      "text/plain": [
       "<IPython.core.display.HTML object>"
      ]
     },
     "metadata": {},
     "output_type": "display_data"
    },
    {
     "data": {
      "text/html": [
       "<p>&emsp;&emsp;&emsp;&emsp;(+1) Br/FB/Tel/BN 145 GP Globus pallidus 4 <span style=\"display:inline-block;width:20px;height:12px;padding:0px;background-color:#E0EA64;\"></span></p>"
      ],
      "text/plain": [
       "<IPython.core.display.HTML object>"
      ]
     },
     "metadata": {},
     "output_type": "display_data"
    }
   ],
   "source": [
    "display_annotation_tree(annot, ontohelper,selectedlev=4)"
   ]
  },
  {
   "cell_type": "code",
   "execution_count": 16,
   "metadata": {
    "scrolled": true
   },
   "outputs": [
    {
     "data": {
      "text/html": [
       "<p>&emsp;&emsp;&emsp;&emsp;&emsp;&emsp;#Br/FB/Tel/Ctx/AlCTx/HPF 93 PRESUB Presubiculum 6 </p>"
      ],
      "text/plain": [
       "<IPython.core.display.HTML object>"
      ]
     },
     "metadata": {},
     "output_type": "display_data"
    },
    {
     "data": {
      "text/html": [
       "<p>&emsp;&emsp;&emsp;&emsp;&emsp;&emsp;&emsp; 98 IZ-PRESUB Intermediate zone, presubiculum 7 <span style=\"display:inline-block;width:20px;height:12px;padding:0px;background-color:#bcf1ce;\"></span></p>"
      ],
      "text/plain": [
       "<IPython.core.display.HTML object>"
      ]
     },
     "metadata": {},
     "output_type": "display_data"
    },
    {
     "data": {
      "text/html": [
       "<p>&emsp;&emsp;&emsp;&emsp;&emsp;&emsp;&emsp; 94 SGL-PRESUB Subpial granular layer, presubiculum 7 <span style=\"display:inline-block;width:20px;height:12px;padding:0px;background-color:#b8a98a;\"></span></p>"
      ],
      "text/plain": [
       "<IPython.core.display.HTML object>"
      ]
     },
     "metadata": {},
     "output_type": "display_data"
    },
    {
     "data": {
      "text/html": [
       "<p>&emsp;&emsp;&emsp;&emsp;&emsp;&emsp;&emsp; 95 MZ-PRESUB Marginal zone, presubiculum 7 <span style=\"display:inline-block;width:20px;height:12px;padding:0px;background-color:#de895e;\"></span></p>"
      ],
      "text/plain": [
       "<IPython.core.display.HTML object>"
      ]
     },
     "metadata": {},
     "output_type": "display_data"
    },
    {
     "data": {
      "text/html": [
       "<p>&emsp;&emsp;&emsp;&emsp;&emsp;&emsp;&emsp; 96 CP-PRESUB Cortical plate, presubiculum 7 <span style=\"display:inline-block;width:20px;height:12px;padding:0px;background-color:#f6ca72;\"></span></p>"
      ],
      "text/plain": [
       "<IPython.core.display.HTML object>"
      ]
     },
     "metadata": {},
     "output_type": "display_data"
    },
    {
     "data": {
      "text/html": [
       "<p>&emsp;&emsp;&emsp;&emsp;&emsp;&emsp;&emsp; 97 SP-PRESUB Subplate zone, presubiculum 7 <span style=\"display:inline-block;width:20px;height:12px;padding:0px;background-color:#eafe89;\"></span></p>"
      ],
      "text/plain": [
       "<IPython.core.display.HTML object>"
      ]
     },
     "metadata": {},
     "output_type": "display_data"
    },
    {
     "data": {
      "text/html": [
       "<p>&emsp;&emsp;&emsp;&emsp;&emsp;&emsp;&emsp; 99 SVZ-PRESUB Subventricular zone, presubiculum 7 <span style=\"display:inline-block;width:20px;height:12px;padding:0px;background-color:#dbabf2;\"></span></p>"
      ],
      "text/plain": [
       "<IPython.core.display.HTML object>"
      ]
     },
     "metadata": {},
     "output_type": "display_data"
    },
    {
     "data": {
      "text/html": [
       "<p>&emsp;&emsp;&emsp;&emsp;&emsp;&emsp;&emsp; 100 VZ-PRESUB Ventricular zone, presubiculum 7 <span style=\"display:inline-block;width:20px;height:12px;padding:0px;background-color:#e670be;\"></span></p>"
      ],
      "text/plain": [
       "<IPython.core.display.HTML object>"
      ]
     },
     "metadata": {},
     "output_type": "display_data"
    },
    {
     "data": {
      "text/html": [
       "<p>&emsp;&emsp;&emsp;&emsp;&emsp;&emsp;#Br/FB/Tel/Ctx/AlCTx/HPF 85 SUB Subiculum 6 </p>"
      ],
      "text/plain": [
       "<IPython.core.display.HTML object>"
      ]
     },
     "metadata": {},
     "output_type": "display_data"
    },
    {
     "data": {
      "text/html": [
       "<p>&emsp;&emsp;&emsp;&emsp;&emsp;&emsp;&emsp; 90 IZ-SUB Intermediate zone, subiculum 7 <span style=\"display:inline-block;width:20px;height:12px;padding:0px;background-color:#bcf1ce;\"></span></p>"
      ],
      "text/plain": [
       "<IPython.core.display.HTML object>"
      ]
     },
     "metadata": {},
     "output_type": "display_data"
    },
    {
     "data": {
      "text/html": [
       "<p>&emsp;&emsp;&emsp;&emsp;&emsp;&emsp;&emsp; 91 SVZ-SUB Subventricular zone, subiculum 7 <span style=\"display:inline-block;width:20px;height:12px;padding:0px;background-color:#dbabf2;\"></span></p>"
      ],
      "text/plain": [
       "<IPython.core.display.HTML object>"
      ]
     },
     "metadata": {},
     "output_type": "display_data"
    },
    {
     "data": {
      "text/html": [
       "<p>&emsp;&emsp;&emsp;&emsp;&emsp;&emsp;&emsp; 92 VZ-SUB Ventricular zone, subiculum 7 <span style=\"display:inline-block;width:20px;height:12px;padding:0px;background-color:#e670be;\"></span></p>"
      ],
      "text/plain": [
       "<IPython.core.display.HTML object>"
      ]
     },
     "metadata": {},
     "output_type": "display_data"
    },
    {
     "data": {
      "text/html": [
       "<p>&emsp;&emsp;&emsp;&emsp;&emsp;&emsp;&emsp; 88 CP-SUB Cortical plate, subiculum 7 <span style=\"display:inline-block;width:20px;height:12px;padding:0px;background-color:#f6ca72;\"></span></p>"
      ],
      "text/plain": [
       "<IPython.core.display.HTML object>"
      ]
     },
     "metadata": {},
     "output_type": "display_data"
    },
    {
     "data": {
      "text/html": [
       "<p>&emsp;&emsp;&emsp;&emsp;&emsp;&emsp;&emsp; 87 MZ-SUB Marginal zone, subiculum 7 <span style=\"display:inline-block;width:20px;height:12px;padding:0px;background-color:#de895e;\"></span></p>"
      ],
      "text/plain": [
       "<IPython.core.display.HTML object>"
      ]
     },
     "metadata": {},
     "output_type": "display_data"
    },
    {
     "data": {
      "text/html": [
       "<p>&emsp;&emsp;&emsp;&emsp;&emsp;&emsp;&emsp; 89 SP-SUB Subplate zone, subiculum 7 <span style=\"display:inline-block;width:20px;height:12px;padding:0px;background-color:#eafe89;\"></span></p>"
      ],
      "text/plain": [
       "<IPython.core.display.HTML object>"
      ]
     },
     "metadata": {},
     "output_type": "display_data"
    },
    {
     "data": {
      "text/html": [
       "<p>&emsp;&emsp;&emsp;&emsp;&emsp;&emsp;&emsp; 86 SGL-SUB Subpial granular layer, subiculum 7 <span style=\"display:inline-block;width:20px;height:12px;padding:0px;background-color:#b8a98a;\"></span></p>"
      ],
      "text/plain": [
       "<IPython.core.display.HTML object>"
      ]
     },
     "metadata": {},
     "output_type": "display_data"
    },
    {
     "data": {
      "text/html": [
       "<p>&emsp;&emsp;&emsp;&emsp;&emsp;&emsp;&emsp;#Br/FB/Tel/Ctx/AlCTx/HPF/HIP 83 CA Ammon's horn 7 </p>"
      ],
      "text/plain": [
       "<IPython.core.display.HTML object>"
      ]
     },
     "metadata": {},
     "output_type": "display_data"
    },
    {
     "data": {
      "text/html": [
       "<p>&emsp;&emsp;&emsp;&emsp;&emsp;&emsp;&emsp;&emsp; 386 CA1 CA1 field of hippocampus 8 <span style=\"display:inline-block;width:20px;height:12px;padding:0px;background-color:#8DBF6F;\"></span></p>"
      ],
      "text/plain": [
       "<IPython.core.display.HTML object>"
      ]
     },
     "metadata": {},
     "output_type": "display_data"
    },
    {
     "data": {
      "text/html": [
       "<p>&emsp;&emsp;&emsp;&emsp;&emsp;&emsp;&emsp;&emsp; 387 CA2 CA2 field of hippocampus 8 <span style=\"display:inline-block;width:20px;height:12px;padding:0px;background-color:#8DBF6F;\"></span></p>"
      ],
      "text/plain": [
       "<IPython.core.display.HTML object>"
      ]
     },
     "metadata": {},
     "output_type": "display_data"
    },
    {
     "data": {
      "text/html": [
       "<p>&emsp;&emsp;&emsp;&emsp;&emsp;&emsp;&emsp;&emsp; 388 CA3 CA3 field of hippocampus 8 <span style=\"display:inline-block;width:20px;height:12px;padding:0px;background-color:#8DBF6F;\"></span></p>"
      ],
      "text/plain": [
       "<IPython.core.display.HTML object>"
      ]
     },
     "metadata": {},
     "output_type": "display_data"
    },
    {
     "data": {
      "text/html": [
       "<p>&emsp;&emsp;&emsp;&emsp;&emsp;#Br/FB/Tel/Ctx/AlCTx 66 HPF Hippocampal formation 5 </p>"
      ],
      "text/plain": [
       "<IPython.core.display.HTML object>"
      ]
     },
     "metadata": {},
     "output_type": "display_data"
    },
    {
     "data": {
      "text/html": [
       "<p>&emsp;&emsp;&emsp;&emsp;&emsp;&emsp; 68 MZ-HPF Marginal zone, hippocampal formation 6 <span style=\"display:inline-block;width:20px;height:12px;padding:0px;background-color:#de895e;\"></span></p>"
      ],
      "text/plain": [
       "<IPython.core.display.HTML object>"
      ]
     },
     "metadata": {},
     "output_type": "display_data"
    },
    {
     "data": {
      "text/html": [
       "<p>&emsp;&emsp;&emsp;&emsp;&emsp;&emsp; 67 SGL-HPF Subpial granular layer, hippocampal formation 6 <span style=\"display:inline-block;width:20px;height:12px;padding:0px;background-color:#b8a98a;\"></span></p>"
      ],
      "text/plain": [
       "<IPython.core.display.HTML object>"
      ]
     },
     "metadata": {},
     "output_type": "display_data"
    },
    {
     "data": {
      "text/html": [
       "<p>&emsp;&emsp;&emsp;&emsp;&emsp;&emsp; 72 SVZ-HPF Subventricular zone, hippocampal formation 6 <span style=\"display:inline-block;width:20px;height:12px;padding:0px;background-color:#dbabf2;\"></span></p>"
      ],
      "text/plain": [
       "<IPython.core.display.HTML object>"
      ]
     },
     "metadata": {},
     "output_type": "display_data"
    },
    {
     "data": {
      "text/html": [
       "<p>&emsp;&emsp;&emsp;&emsp;&emsp;&emsp; 73 VZ-HPF Ventricular zone, hippocampal formation 6 <span style=\"display:inline-block;width:20px;height:12px;padding:0px;background-color:#e670be;\"></span></p>"
      ],
      "text/plain": [
       "<IPython.core.display.HTML object>"
      ]
     },
     "metadata": {},
     "output_type": "display_data"
    },
    {
     "data": {
      "text/html": [
       "<p>&emsp;&emsp;&emsp;&emsp;&emsp;&emsp;&emsp;&emsp;#Br/FB/Tel/Ctx/AlCTx/HPF/HIP/CA 387 CA2 CA2 field of hippocampus 8 </p>"
      ],
      "text/plain": [
       "<IPython.core.display.HTML object>"
      ]
     },
     "metadata": {},
     "output_type": "display_data"
    },
    {
     "data": {
      "text/html": [
       "<p>&emsp;&emsp;&emsp;&emsp;&emsp;&emsp;&emsp;&emsp;&emsp; 422 SP-CA2 Subplate zone, CA2 field 9 <span style=\"display:inline-block;width:20px;height:12px;padding:0px;background-color:#eafe89;\"></span></p>"
      ],
      "text/plain": [
       "<IPython.core.display.HTML object>"
      ]
     },
     "metadata": {},
     "output_type": "display_data"
    },
    {
     "data": {
      "text/html": [
       "<p>&emsp;&emsp;&emsp;&emsp;&emsp;&emsp;&emsp;&emsp;&emsp; 423 IZ-CA2 Intermediate zone, CA2 field 9 <span style=\"display:inline-block;width:20px;height:12px;padding:0px;background-color:#bcf1ce;\"></span></p>"
      ],
      "text/plain": [
       "<IPython.core.display.HTML object>"
      ]
     },
     "metadata": {},
     "output_type": "display_data"
    },
    {
     "data": {
      "text/html": [
       "<p>&emsp;&emsp;&emsp;&emsp;&emsp;&emsp;&emsp;&emsp;#Br/FB/Tel/Ctx/AlCTx/HPF/HIP/CA 388 CA3 CA3 field of hippocampus 8 </p>"
      ],
      "text/plain": [
       "<IPython.core.display.HTML object>"
      ]
     },
     "metadata": {},
     "output_type": "display_data"
    },
    {
     "data": {
      "text/html": [
       "<p>&emsp;&emsp;&emsp;&emsp;&emsp;&emsp;&emsp;&emsp;&emsp; 424 SP-CA3 Subplate zone, CA3 field 9 <span style=\"display:inline-block;width:20px;height:12px;padding:0px;background-color:#eafe89;\"></span></p>"
      ],
      "text/plain": [
       "<IPython.core.display.HTML object>"
      ]
     },
     "metadata": {},
     "output_type": "display_data"
    },
    {
     "data": {
      "text/html": [
       "<p>&emsp;&emsp;&emsp;&emsp;&emsp;&emsp;&emsp;&emsp;&emsp; 425 IZ-CA3 Intermediate zone, CA3 field 9 <span style=\"display:inline-block;width:20px;height:12px;padding:0px;background-color:#bcf1ce;\"></span></p>"
      ],
      "text/plain": [
       "<IPython.core.display.HTML object>"
      ]
     },
     "metadata": {},
     "output_type": "display_data"
    },
    {
     "data": {
      "text/html": [
       "<p>&emsp;#ft 235 mfb Medial forebrain bundle 1 </p>"
      ],
      "text/plain": [
       "<IPython.core.display.HTML object>"
      ]
     },
     "metadata": {},
     "output_type": "display_data"
    },
    {
     "data": {
      "text/html": [
       "<p>&emsp;&emsp; 247 fx Fornix 2 <span style=\"display:inline-block;width:20px;height:12px;padding:0px;background-color:#9F9F9F;\"></span></p>"
      ],
      "text/plain": [
       "<IPython.core.display.HTML object>"
      ]
     },
     "metadata": {},
     "output_type": "display_data"
    },
    {
     "data": {
      "text/html": [
       "<p>&emsp;&emsp; 245 stt Stria terminalis 2 <span style=\"display:inline-block;width:20px;height:12px;padding:0px;background-color:#9F9F9F;\"></span></p>"
      ],
      "text/plain": [
       "<IPython.core.display.HTML object>"
      ]
     },
     "metadata": {},
     "output_type": "display_data"
    },
    {
     "data": {
      "text/html": [
       "<p># 5000 dev Developmental (transient) structures 0 </p>"
      ],
      "text/plain": [
       "<IPython.core.display.HTML object>"
      ]
     },
     "metadata": {},
     "output_type": "display_data"
    },
    {
     "data": {
      "text/html": [
       "<p>&emsp; 1016 hipg Hippocampal glioepithelium/ependyma 1 <span style=\"display:inline-block;width:20px;height:12px;padding:0px;background-color:#775F5F;\"></span></p>"
      ],
      "text/plain": [
       "<IPython.core.display.HTML object>"
      ]
     },
     "metadata": {},
     "output_type": "display_data"
    },
    {
     "data": {
      "text/html": [
       "<p>&emsp; 1026 tcet Transient cell zone in the external capsule 1 <span style=\"display:inline-block;width:20px;height:12px;padding:0px;background-color:#775F5F;\"></span></p>"
      ],
      "text/plain": [
       "<IPython.core.display.HTML object>"
      ]
     },
     "metadata": {},
     "output_type": "display_data"
    },
    {
     "data": {
      "text/html": [
       "<p>&emsp; 1000 dne Diencephalic neuroepithelium 1 <span style=\"display:inline-block;width:20px;height:12px;padding:0px;background-color:#775F5F;\"></span></p>"
      ],
      "text/plain": [
       "<IPython.core.display.HTML object>"
      ]
     },
     "metadata": {},
     "output_type": "display_data"
    },
    {
     "data": {
      "text/html": [
       "<p>&emsp; 158 GE Ganglionic eminence 1 <span style=\"display:inline-block;width:20px;height:12px;padding:0px;background-color:#775F5F;\"></span></p>"
      ],
      "text/plain": [
       "<IPython.core.display.HTML object>"
      ]
     },
     "metadata": {},
     "output_type": "display_data"
    },
    {
     "data": {
      "text/html": [
       "<p>&emsp;&emsp;&emsp;&emsp;&emsp;&emsp;#Br/FB/Tel/Ctx/AlCTx/HPF 74 HIP Hippocampus 6 </p>"
      ],
      "text/plain": [
       "<IPython.core.display.HTML object>"
      ]
     },
     "metadata": {},
     "output_type": "display_data"
    },
    {
     "data": {
      "text/html": [
       "<p>&emsp;&emsp;&emsp;&emsp;&emsp;&emsp;&emsp; 82 DG Dentate gyrus 7 <span style=\"display:inline-block;width:20px;height:12px;padding:0px;background-color:#67C76C;\"></span></p>"
      ],
      "text/plain": [
       "<IPython.core.display.HTML object>"
      ]
     },
     "metadata": {},
     "output_type": "display_data"
    },
    {
     "data": {
      "text/html": [
       "<p>&emsp;&emsp;&emsp;&emsp;&emsp;&emsp;&emsp;&emsp;#Br/FB/Tel/Ctx/AlCTx/HPF/HIP/CA 386 CA1 CA1 field of hippocampus 8 </p>"
      ],
      "text/plain": [
       "<IPython.core.display.HTML object>"
      ]
     },
     "metadata": {},
     "output_type": "display_data"
    },
    {
     "data": {
      "text/html": [
       "<p>&emsp;&emsp;&emsp;&emsp;&emsp;&emsp;&emsp;&emsp;&emsp; 421 IZ-CA1 Intermediate zone, CA1 field 9 <span style=\"display:inline-block;width:20px;height:12px;padding:0px;background-color:#bcf1ce;\"></span></p>"
      ],
      "text/plain": [
       "<IPython.core.display.HTML object>"
      ]
     },
     "metadata": {},
     "output_type": "display_data"
    },
    {
     "data": {
      "text/html": [
       "<p>&emsp;&emsp;&emsp;&emsp;&emsp;&emsp;&emsp;&emsp;&emsp; 420 SP-CA1 Subplate zone, CA1 field 9 <span style=\"display:inline-block;width:20px;height:12px;padding:0px;background-color:#eafe89;\"></span></p>"
      ],
      "text/plain": [
       "<IPython.core.display.HTML object>"
      ]
     },
     "metadata": {},
     "output_type": "display_data"
    },
    {
     "data": {
      "text/html": [
       "<p>&emsp;&emsp;&emsp;&emsp;&emsp;&emsp;#Br/FB/Tel/Ctx/AlCTx/HPF 101 PARA Parasubiculum 6 </p>"
      ],
      "text/plain": [
       "<IPython.core.display.HTML object>"
      ]
     },
     "metadata": {},
     "output_type": "display_data"
    },
    {
     "data": {
      "text/html": [
       "<p>&emsp;&emsp;&emsp;&emsp;&emsp;&emsp;&emsp; 102 SGL-PARA Subpial granular layer, parasubiculum 7 <span style=\"display:inline-block;width:20px;height:12px;padding:0px;background-color:#b8a98a;\"></span></p>"
      ],
      "text/plain": [
       "<IPython.core.display.HTML object>"
      ]
     },
     "metadata": {},
     "output_type": "display_data"
    },
    {
     "data": {
      "text/html": [
       "<p>&emsp;&emsp;&emsp;&emsp;&emsp;&emsp;&emsp; 103 MZ-PARA Marginal zone, parasubiculum 7 <span style=\"display:inline-block;width:20px;height:12px;padding:0px;background-color:#de895e;\"></span></p>"
      ],
      "text/plain": [
       "<IPython.core.display.HTML object>"
      ]
     },
     "metadata": {},
     "output_type": "display_data"
    },
    {
     "data": {
      "text/html": [
       "<p>&emsp;&emsp;&emsp;&emsp;&emsp;&emsp;&emsp; 107 SVZ-PARA Subventricular zone, parasubiculum 7 <span style=\"display:inline-block;width:20px;height:12px;padding:0px;background-color:#dbabf2;\"></span></p>"
      ],
      "text/plain": [
       "<IPython.core.display.HTML object>"
      ]
     },
     "metadata": {},
     "output_type": "display_data"
    },
    {
     "data": {
      "text/html": [
       "<p>&emsp;&emsp;&emsp;&emsp;&emsp;&emsp;&emsp; 106 IZ-PARA Intermediate zone, parasubiculum 7 <span style=\"display:inline-block;width:20px;height:12px;padding:0px;background-color:#bcf1ce;\"></span></p>"
      ],
      "text/plain": [
       "<IPython.core.display.HTML object>"
      ]
     },
     "metadata": {},
     "output_type": "display_data"
    },
    {
     "data": {
      "text/html": [
       "<p>&emsp;&emsp;&emsp;&emsp;&emsp;&emsp;&emsp; 108 VZ-PARA Ventricular zone, parasubiculum 7 <span style=\"display:inline-block;width:20px;height:12px;padding:0px;background-color:#e670be;\"></span></p>"
      ],
      "text/plain": [
       "<IPython.core.display.HTML object>"
      ]
     },
     "metadata": {},
     "output_type": "display_data"
    },
    {
     "data": {
      "text/html": [
       "<p>&emsp;&emsp;&emsp;&emsp;&emsp;&emsp;&emsp; 104 CP-PARA Cortical plate, parasubiculum 7 <span style=\"display:inline-block;width:20px;height:12px;padding:0px;background-color:#f6ca72;\"></span></p>"
      ],
      "text/plain": [
       "<IPython.core.display.HTML object>"
      ]
     },
     "metadata": {},
     "output_type": "display_data"
    },
    {
     "data": {
      "text/html": [
       "<p>&emsp;&emsp;&emsp;&emsp;&emsp;&emsp;&emsp; 105 SP-PARA Subplate zone, parasubiculum 7 <span style=\"display:inline-block;width:20px;height:12px;padding:0px;background-color:#eafe89;\"></span></p>"
      ],
      "text/plain": [
       "<IPython.core.display.HTML object>"
      ]
     },
     "metadata": {},
     "output_type": "display_data"
    },
    {
     "data": {
      "text/html": [
       "<p>&emsp;&emsp;&emsp;&emsp;#Br/FB/Tel/Ctx 38 OCC Occipital cortex 4 </p>"
      ],
      "text/plain": [
       "<IPython.core.display.HTML object>"
      ]
     },
     "metadata": {},
     "output_type": "display_data"
    },
    {
     "data": {
      "text/html": [
       "<p>&emsp;&emsp;&emsp;&emsp;&emsp; 42 SP-OCC Subplate zone, occipital cortex 5 <span style=\"display:inline-block;width:20px;height:12px;padding:0px;background-color:#eafe89;\"></span></p>"
      ],
      "text/plain": [
       "<IPython.core.display.HTML object>"
      ]
     },
     "metadata": {},
     "output_type": "display_data"
    },
    {
     "data": {
      "text/html": [
       "<p>&emsp;&emsp;&emsp;&emsp;&emsp; 41 CP-OCC Cortical plate, occipital cortex 5 <span style=\"display:inline-block;width:20px;height:12px;padding:0px;background-color:#f6ca72;\"></span></p>"
      ],
      "text/plain": [
       "<IPython.core.display.HTML object>"
      ]
     },
     "metadata": {},
     "output_type": "display_data"
    },
    {
     "data": {
      "text/html": [
       "<p>&emsp;&emsp;&emsp;&emsp;&emsp; 40 MZ-OCC Marginal zone, occipital cortex 5 <span style=\"display:inline-block;width:20px;height:12px;padding:0px;background-color:#de895e;\"></span></p>"
      ],
      "text/plain": [
       "<IPython.core.display.HTML object>"
      ]
     },
     "metadata": {},
     "output_type": "display_data"
    },
    {
     "data": {
      "text/html": [
       "<p>&emsp;&emsp;&emsp;&emsp;&emsp; 39 SGL-OCC Subpial granular layer, occipital cortex 5 <span style=\"display:inline-block;width:20px;height:12px;padding:0px;background-color:#b8a98a;\"></span></p>"
      ],
      "text/plain": [
       "<IPython.core.display.HTML object>"
      ]
     },
     "metadata": {},
     "output_type": "display_data"
    },
    {
     "data": {
      "text/html": [
       "<p>&emsp;&emsp;&emsp;&emsp;&emsp; 43 IZ-OCC Intermediate zone, occipital cortex 5 <span style=\"display:inline-block;width:20px;height:12px;padding:0px;background-color:#bcf1ce;\"></span></p>"
      ],
      "text/plain": [
       "<IPython.core.display.HTML object>"
      ]
     },
     "metadata": {},
     "output_type": "display_data"
    },
    {
     "data": {
      "text/html": [
       "<p>&emsp;&emsp;&emsp;&emsp;&emsp; 44 SVZ-OCC Subventricular zone, occipital cortex 5 <span style=\"display:inline-block;width:20px;height:12px;padding:0px;background-color:#dbabf2;\"></span></p>"
      ],
      "text/plain": [
       "<IPython.core.display.HTML object>"
      ]
     },
     "metadata": {},
     "output_type": "display_data"
    },
    {
     "data": {
      "text/html": [
       "<p>&emsp;&emsp;&emsp;&emsp;&emsp; 45 VZ-OCC Ventricular zone, occipital cortex 5 <span style=\"display:inline-block;width:20px;height:12px;padding:0px;background-color:#e670be;\"></span></p>"
      ],
      "text/plain": [
       "<IPython.core.display.HTML object>"
      ]
     },
     "metadata": {},
     "output_type": "display_data"
    },
    {
     "data": {
      "text/html": [
       "<p>&emsp;&emsp;#Br/CB 216 CBX Cerebellar cortex 2 </p>"
      ],
      "text/plain": [
       "<IPython.core.display.HTML object>"
      ]
     },
     "metadata": {},
     "output_type": "display_data"
    },
    {
     "data": {
      "text/html": [
       "<p>&emsp;&emsp;&emsp; 219 HEM Cerebellar hemispheres 3 <span style=\"display:inline-block;width:20px;height:12px;padding:0px;background-color:#FF9F9F;\"></span></p>"
      ],
      "text/plain": [
       "<IPython.core.display.HTML object>"
      ]
     },
     "metadata": {},
     "output_type": "display_data"
    },
    {
     "data": {
      "text/html": [
       "<p># 3000 ft Fiber tracts 0 </p>"
      ],
      "text/plain": [
       "<IPython.core.display.HTML object>"
      ]
     },
     "metadata": {},
     "output_type": "display_data"
    },
    {
     "data": {
      "text/html": [
       "<p>&emsp; 244 ext External capsule 1 <span style=\"display:inline-block;width:20px;height:12px;padding:0px;background-color:#9F9F9F;\"></span></p>"
      ],
      "text/plain": [
       "<IPython.core.display.HTML object>"
      ]
     },
     "metadata": {},
     "output_type": "display_data"
    },
    {
     "data": {
      "text/html": [
       "<p>&emsp; 243 ac Anterior commissure 1 <span style=\"display:inline-block;width:20px;height:12px;padding:0px;background-color:#9F9F9F;\"></span></p>"
      ],
      "text/plain": [
       "<IPython.core.display.HTML object>"
      ]
     },
     "metadata": {},
     "output_type": "display_data"
    },
    {
     "data": {
      "text/html": [
       "<p>&emsp; 253 wmf White matter fibers 1 <span style=\"display:inline-block;width:20px;height:12px;padding:0px;background-color:#9F9F9F;\"></span></p>"
      ],
      "text/plain": [
       "<IPython.core.display.HTML object>"
      ]
     },
     "metadata": {},
     "output_type": "display_data"
    },
    {
     "data": {
      "text/html": [
       "<p>&emsp; 417 emlth External medullary lamina of the thalamus 1 <span style=\"display:inline-block;width:20px;height:12px;padding:0px;background-color:#9F9F9F;\"></span></p>"
      ],
      "text/plain": [
       "<IPython.core.display.HTML object>"
      ]
     },
     "metadata": {},
     "output_type": "display_data"
    },
    {
     "data": {
      "text/html": [
       "<p>&emsp;&emsp;&emsp;&emsp;#Br/FB/Tel/Ctx 21 ORB Orbital cortex 4 </p>"
      ],
      "text/plain": [
       "<IPython.core.display.HTML object>"
      ]
     },
     "metadata": {},
     "output_type": "display_data"
    },
    {
     "data": {
      "text/html": [
       "<p>&emsp;&emsp;&emsp;&emsp;&emsp; 22 SGL-ORB Subpial granular layer, orbital cortex 5 <span style=\"display:inline-block;width:20px;height:12px;padding:0px;background-color:#b8a98a;\"></span></p>"
      ],
      "text/plain": [
       "<IPython.core.display.HTML object>"
      ]
     },
     "metadata": {},
     "output_type": "display_data"
    },
    {
     "data": {
      "text/html": [
       "<p>&emsp;&emsp;&emsp;&emsp;&emsp; 23 MZ-ORB Marginal zone, orbital cortex 5 <span style=\"display:inline-block;width:20px;height:12px;padding:0px;background-color:#de895e;\"></span></p>"
      ],
      "text/plain": [
       "<IPython.core.display.HTML object>"
      ]
     },
     "metadata": {},
     "output_type": "display_data"
    },
    {
     "data": {
      "text/html": [
       "<p>&emsp;&emsp;&emsp;&emsp;&emsp; 25 SP-ORB Subplate zone, orbital cortex 5 <span style=\"display:inline-block;width:20px;height:12px;padding:0px;background-color:#eafe89;\"></span></p>"
      ],
      "text/plain": [
       "<IPython.core.display.HTML object>"
      ]
     },
     "metadata": {},
     "output_type": "display_data"
    },
    {
     "data": {
      "text/html": [
       "<p>&emsp;&emsp;&emsp;&emsp;&emsp; 24 CP-ORB Cortical plate, orbital cortex 5 <span style=\"display:inline-block;width:20px;height:12px;padding:0px;background-color:#f6ca72;\"></span></p>"
      ],
      "text/plain": [
       "<IPython.core.display.HTML object>"
      ]
     },
     "metadata": {},
     "output_type": "display_data"
    },
    {
     "data": {
      "text/html": [
       "<p>&emsp;&emsp;&emsp;#Br/FB/Tel 4 Ctx Cerebral cortex 3 </p>"
      ],
      "text/plain": [
       "<IPython.core.display.HTML object>"
      ]
     },
     "metadata": {},
     "output_type": "display_data"
    },
    {
     "data": {
      "text/html": [
       "<p>&emsp;&emsp;&emsp;&emsp; 131 CLA Claustrum 4 <span style=\"display:inline-block;width:20px;height:12px;padding:0px;background-color:#DFECD0;\"></span></p>"
      ],
      "text/plain": [
       "<IPython.core.display.HTML object>"
      ]
     },
     "metadata": {},
     "output_type": "display_data"
    },
    {
     "data": {
      "text/html": [
       "<p>&emsp;&emsp;&emsp;&emsp; 134 OLF Olfactory cortex 4 <span style=\"display:inline-block;width:20px;height:12px;padding:0px;background-color:#D1EBDD;\"></span></p>"
      ],
      "text/plain": [
       "<IPython.core.display.HTML object>"
      ]
     },
     "metadata": {},
     "output_type": "display_data"
    },
    {
     "data": {
      "text/html": [
       "<p>&emsp;&emsp;&emsp;&emsp;#Br/FB/Tel/BN 141 Str Striatum 4 </p>"
      ],
      "text/plain": [
       "<IPython.core.display.HTML object>"
      ]
     },
     "metadata": {},
     "output_type": "display_data"
    },
    {
     "data": {
      "text/html": [
       "<p>&emsp;&emsp;&emsp;&emsp;&emsp; 143 Put Putamen 5 <span style=\"display:inline-block;width:20px;height:12px;padding:0px;background-color:#F0DB90;\"></span></p>"
      ],
      "text/plain": [
       "<IPython.core.display.HTML object>"
      ]
     },
     "metadata": {},
     "output_type": "display_data"
    },
    {
     "data": {
      "text/html": [
       "<p>&emsp;&emsp;&emsp;&emsp;&emsp; 142 Cau Caudate nucleus 5 <span style=\"display:inline-block;width:20px;height:12px;padding:0px;background-color:#F8F9BB;\"></span></p>"
      ],
      "text/plain": [
       "<IPython.core.display.HTML object>"
      ]
     },
     "metadata": {},
     "output_type": "display_data"
    },
    {
     "data": {
      "text/html": [
       "<p>&emsp;#dev 442 Mss Migratory streams 1 </p>"
      ],
      "text/plain": [
       "<IPython.core.display.HTML object>"
      ]
     },
     "metadata": {},
     "output_type": "display_data"
    },
    {
     "data": {
      "text/html": [
       "<p>&emsp;&emsp; 156 Lms Lateral migratory stream 2 <span style=\"display:inline-block;width:20px;height:12px;padding:0px;background-color:#775F5F;\"></span></p>"
      ],
      "text/plain": [
       "<IPython.core.display.HTML object>"
      ]
     },
     "metadata": {},
     "output_type": "display_data"
    },
    {
     "data": {
      "text/html": [
       "<p>&emsp;&emsp; 441 Ms-g Migratory stream, general 2 <span style=\"display:inline-block;width:20px;height:12px;padding:0px;background-color:#775F5F;\"></span></p>"
      ],
      "text/plain": [
       "<IPython.core.display.HTML object>"
      ]
     },
     "metadata": {},
     "output_type": "display_data"
    },
    {
     "data": {
      "text/html": [
       "<p>&emsp;&emsp;&emsp;&emsp;#Br/FB/Tel/AMY 137 CMX Corticomedial complex of the amygdala 4 </p>"
      ],
      "text/plain": [
       "<IPython.core.display.HTML object>"
      ]
     },
     "metadata": {},
     "output_type": "display_data"
    },
    {
     "data": {
      "text/html": [
       "<p>&emsp;&emsp;&emsp;&emsp;&emsp; 290 COA Cortical nucleus of the amygdala 5 <span style=\"display:inline-block;width:20px;height:12px;padding:0px;background-color:#AFDFD7;\"></span></p>"
      ],
      "text/plain": [
       "<IPython.core.display.HTML object>"
      ]
     },
     "metadata": {},
     "output_type": "display_data"
    },
    {
     "data": {
      "text/html": [
       "<p>&emsp;&emsp;&emsp;&emsp;&emsp; 289 AAA Anterior amygdaloid area 5 <span style=\"display:inline-block;width:20px;height:12px;padding:0px;background-color:#AADEE4;\"></span></p>"
      ],
      "text/plain": [
       "<IPython.core.display.HTML object>"
      ]
     },
     "metadata": {},
     "output_type": "display_data"
    },
    {
     "data": {
      "text/html": [
       "<p>&emsp;&emsp;&emsp;#Br/FB/Tel 135 AMY Amygdala 3 </p>"
      ],
      "text/plain": [
       "<IPython.core.display.HTML object>"
      ]
     },
     "metadata": {},
     "output_type": "display_data"
    },
    {
     "data": {
      "text/html": [
       "<p>&emsp;&emsp;&emsp;&emsp; 293 PAC Periamygdaloid cortex 4 <span style=\"display:inline-block;width:20px;height:12px;padding:0px;background-color:#A5F8F9;\"></span></p>"
      ],
      "text/plain": [
       "<IPython.core.display.HTML object>"
      ]
     },
     "metadata": {},
     "output_type": "display_data"
    },
    {
     "data": {
      "text/html": [
       "<p>&emsp;&emsp;&emsp;&emsp; 393 AStr Amygdalo-striatal area 4 <span style=\"display:inline-block;width:20px;height:12px;padding:0px;background-color:#ADE0E1;\"></span></p>"
      ],
      "text/plain": [
       "<IPython.core.display.HTML object>"
      ]
     },
     "metadata": {},
     "output_type": "display_data"
    },
    {
     "data": {
      "text/html": [
       "<p>&emsp;&emsp;&emsp;&emsp; 295 CEA Central nucleus of the amygdala 4 <span style=\"display:inline-block;width:20px;height:12px;padding:0px;background-color:#AADEE4;\"></span></p>"
      ],
      "text/plain": [
       "<IPython.core.display.HTML object>"
      ]
     },
     "metadata": {},
     "output_type": "display_data"
    },
    {
     "data": {
      "text/html": [
       "<p>&emsp;&emsp;&emsp;&emsp;#Br/FB/Tel/Ctx 12 FCtx Frontal cortex 4 </p>"
      ],
      "text/plain": [
       "<IPython.core.display.HTML object>"
      ]
     },
     "metadata": {},
     "output_type": "display_data"
    },
    {
     "data": {
      "text/html": [
       "<p>&emsp;&emsp;&emsp;&emsp;&emsp; 13 SGL-FCTx Subpial granular layer, frontal cortex 5 <span style=\"display:inline-block;width:20px;height:12px;padding:0px;background-color:#b8a98a;\"></span></p>"
      ],
      "text/plain": [
       "<IPython.core.display.HTML object>"
      ]
     },
     "metadata": {},
     "output_type": "display_data"
    },
    {
     "data": {
      "text/html": [
       "<p>&emsp;&emsp;&emsp;&emsp;&emsp; 14 MZ-FCTx Marginal zone, frontal cortex 5 <span style=\"display:inline-block;width:20px;height:12px;padding:0px;background-color:#de895e;\"></span></p>"
      ],
      "text/plain": [
       "<IPython.core.display.HTML object>"
      ]
     },
     "metadata": {},
     "output_type": "display_data"
    },
    {
     "data": {
      "text/html": [
       "<p>&emsp;&emsp;&emsp;&emsp;&emsp; 15 CP-FCTx Cortical plate, frontal cortex 5 <span style=\"display:inline-block;width:20px;height:12px;padding:0px;background-color:#f6ca72;\"></span></p>"
      ],
      "text/plain": [
       "<IPython.core.display.HTML object>"
      ]
     },
     "metadata": {},
     "output_type": "display_data"
    },
    {
     "data": {
      "text/html": [
       "<p>&emsp;&emsp;&emsp;&emsp;&emsp; 16 SP-FCTx Subplate zone, frontal cortex 5 <span style=\"display:inline-block;width:20px;height:12px;padding:0px;background-color:#eafe89;\"></span></p>"
      ],
      "text/plain": [
       "<IPython.core.display.HTML object>"
      ]
     },
     "metadata": {},
     "output_type": "display_data"
    },
    {
     "data": {
      "text/html": [
       "<p>&emsp;&emsp;&emsp;&emsp;&emsp; 18 SVZ-FCTx Subventricular zone, frontal cortex 5 <span style=\"display:inline-block;width:20px;height:12px;padding:0px;background-color:#dbabf2;\"></span></p>"
      ],
      "text/plain": [
       "<IPython.core.display.HTML object>"
      ]
     },
     "metadata": {},
     "output_type": "display_data"
    },
    {
     "data": {
      "text/html": [
       "<p>&emsp;&emsp;&emsp;&emsp;&emsp; 19 VZ-FCTx Ventricular zone, frontal cortex 5 <span style=\"display:inline-block;width:20px;height:12px;padding:0px;background-color:#e670be;\"></span></p>"
      ],
      "text/plain": [
       "<IPython.core.display.HTML object>"
      ]
     },
     "metadata": {},
     "output_type": "display_data"
    },
    {
     "data": {
      "text/html": [
       "<p>&emsp;&emsp;&emsp;&emsp;&emsp; 17 IZ-FCTx Intermediate zone, frontal cortex 5 <span style=\"display:inline-block;width:20px;height:12px;padding:0px;background-color:#bcf1ce;\"></span></p>"
      ],
      "text/plain": [
       "<IPython.core.display.HTML object>"
      ]
     },
     "metadata": {},
     "output_type": "display_data"
    },
    {
     "data": {
      "text/html": [
       "<p>&emsp;&emsp;&emsp;&emsp;#Br/FB/Di/TH 259 POT Posterior complex of the thalamus 4 </p>"
      ],
      "text/plain": [
       "<IPython.core.display.HTML object>"
      ]
     },
     "metadata": {},
     "output_type": "display_data"
    },
    {
     "data": {
      "text/html": [
       "<p>&emsp;&emsp;&emsp;&emsp;&emsp; 167 LGN Lateral geniculate nucleus 5 <span style=\"display:inline-block;width:20px;height:12px;padding:0px;background-color:#F7D0BB;\"></span></p>"
      ],
      "text/plain": [
       "<IPython.core.display.HTML object>"
      ]
     },
     "metadata": {},
     "output_type": "display_data"
    },
    {
     "data": {
      "text/html": [
       "<p>&emsp;&emsp;&emsp;#Br/FB/Di 160 TH Thalamus 3 </p>"
      ],
      "text/plain": [
       "<IPython.core.display.HTML object>"
      ]
     },
     "metadata": {},
     "output_type": "display_data"
    },
    {
     "data": {
      "text/html": [
       "<p>&emsp;&emsp;&emsp;&emsp; 176 RT Reticular nucleus of the thalamus 4 <span style=\"display:inline-block;width:20px;height:12px;padding:0px;background-color:#B067A9;\"></span></p>"
      ],
      "text/plain": [
       "<IPython.core.display.HTML object>"
      ]
     },
     "metadata": {},
     "output_type": "display_data"
    },
    {
     "data": {
      "text/html": [
       "<p>&emsp;&emsp;&emsp;&emsp;#Br/FB/Tel/Ctx 29 PAR Parietal cortex 4 </p>"
      ],
      "text/plain": [
       "<IPython.core.display.HTML object>"
      ]
     },
     "metadata": {},
     "output_type": "display_data"
    },
    {
     "data": {
      "text/html": [
       "<p>&emsp;&emsp;&emsp;&emsp;&emsp; 35 SVZ-PAR Subventricular zone, parietal cortex 5 <span style=\"display:inline-block;width:20px;height:12px;padding:0px;background-color:#dbabf2;\"></span></p>"
      ],
      "text/plain": [
       "<IPython.core.display.HTML object>"
      ]
     },
     "metadata": {},
     "output_type": "display_data"
    },
    {
     "data": {
      "text/html": [
       "<p>&emsp;&emsp;&emsp;&emsp;&emsp; 36 VZ-PAR Ventricular zone, parietal cortex 5 <span style=\"display:inline-block;width:20px;height:12px;padding:0px;background-color:#e670be;\"></span></p>"
      ],
      "text/plain": [
       "<IPython.core.display.HTML object>"
      ]
     },
     "metadata": {},
     "output_type": "display_data"
    },
    {
     "data": {
      "text/html": [
       "<p>&emsp;&emsp;&emsp;&emsp;&emsp; 30 SGL-PAR Subpial granular layer, parietal cortex 5 <span style=\"display:inline-block;width:20px;height:12px;padding:0px;background-color:#b8a98a;\"></span></p>"
      ],
      "text/plain": [
       "<IPython.core.display.HTML object>"
      ]
     },
     "metadata": {},
     "output_type": "display_data"
    },
    {
     "data": {
      "text/html": [
       "<p>&emsp;&emsp;&emsp;&emsp;&emsp; 31 MZ-PAR Marginal zone, parietal cortex 5 <span style=\"display:inline-block;width:20px;height:12px;padding:0px;background-color:#de895e;\"></span></p>"
      ],
      "text/plain": [
       "<IPython.core.display.HTML object>"
      ]
     },
     "metadata": {},
     "output_type": "display_data"
    },
    {
     "data": {
      "text/html": [
       "<p>&emsp;&emsp;&emsp;&emsp;&emsp; 32 CP-PAR Cortical plate, parietal cortex 5 <span style=\"display:inline-block;width:20px;height:12px;padding:0px;background-color:#f6ca72;\"></span></p>"
      ],
      "text/plain": [
       "<IPython.core.display.HTML object>"
      ]
     },
     "metadata": {},
     "output_type": "display_data"
    },
    {
     "data": {
      "text/html": [
       "<p>&emsp;&emsp;&emsp;&emsp;&emsp; 33 SP-PAR Subplate zone, parietal cortex 5 <span style=\"display:inline-block;width:20px;height:12px;padding:0px;background-color:#eafe89;\"></span></p>"
      ],
      "text/plain": [
       "<IPython.core.display.HTML object>"
      ]
     },
     "metadata": {},
     "output_type": "display_data"
    },
    {
     "data": {
      "text/html": [
       "<p>&emsp;&emsp;&emsp;&emsp;&emsp; 34 IZ-PAR Intermediate zone, parietal cortex 5 <span style=\"display:inline-block;width:20px;height:12px;padding:0px;background-color:#bcf1ce;\"></span></p>"
      ],
      "text/plain": [
       "<IPython.core.display.HTML object>"
      ]
     },
     "metadata": {},
     "output_type": "display_data"
    },
    {
     "data": {
      "text/html": [
       "<p># 6000 Vs Ventricles 0 </p>"
      ],
      "text/plain": [
       "<IPython.core.display.HTML object>"
      ]
     },
     "metadata": {},
     "output_type": "display_data"
    },
    {
     "data": {
      "text/html": [
       "<p>&emsp; 229 Chp Choroid plexus 1 <span style=\"display:inline-block;width:20px;height:12px;padding:0px;background-color:#872601;\"></span></p>"
      ],
      "text/plain": [
       "<IPython.core.display.HTML object>"
      ]
     },
     "metadata": {},
     "output_type": "display_data"
    },
    {
     "data": {
      "text/html": [
       "<p>&emsp; 226 LV Lateral ventricle 1 <span style=\"display:inline-block;width:20px;height:12px;padding:0px;background-color:#231F20;\"></span></p>"
      ],
      "text/plain": [
       "<IPython.core.display.HTML object>"
      ]
     },
     "metadata": {},
     "output_type": "display_data"
    },
    {
     "data": {
      "text/html": [
       "<p>&emsp;#ft 232 cortf Corticofugal tract 1 </p>"
      ],
      "text/plain": [
       "<IPython.core.display.HTML object>"
      ]
     },
     "metadata": {},
     "output_type": "display_data"
    },
    {
     "data": {
      "text/html": [
       "<p>&emsp;&emsp; 236 int Internal capsule 2 <span style=\"display:inline-block;width:20px;height:12px;padding:0px;background-color:#9F9F9F;\"></span></p>"
      ],
      "text/plain": [
       "<IPython.core.display.HTML object>"
      ]
     },
     "metadata": {},
     "output_type": "display_data"
    },
    {
     "data": {
      "text/html": [
       "<p>&emsp;&emsp;#Br/FB 3 Tel Telencephalon 2 </p>"
      ],
      "text/plain": [
       "<IPython.core.display.HTML object>"
      ]
     },
     "metadata": {},
     "output_type": "display_data"
    },
    {
     "data": {
      "text/html": [
       "<p>&emsp;&emsp;&emsp; 135 AMY Amygdala 3 <span style=\"display:inline-block;width:20px;height:12px;padding:0px;background-color:#CAEEF2;\"></span></p>"
      ],
      "text/plain": [
       "<IPython.core.display.HTML object>"
      ]
     },
     "metadata": {},
     "output_type": "display_data"
    },
    {
     "data": {
      "text/html": [
       "<p>&emsp;&emsp;&emsp;&emsp;#Br/FB/Tel/Ctx 47 TEMP Temporal cortex 4 </p>"
      ],
      "text/plain": [
       "<IPython.core.display.HTML object>"
      ]
     },
     "metadata": {},
     "output_type": "display_data"
    },
    {
     "data": {
      "text/html": [
       "<p>&emsp;&emsp;&emsp;&emsp;&emsp; 54 VZ-TEMP Ventricular zone, temporal cortex 5 <span style=\"display:inline-block;width:20px;height:12px;padding:0px;background-color:#e670be;\"></span></p>"
      ],
      "text/plain": [
       "<IPython.core.display.HTML object>"
      ]
     },
     "metadata": {},
     "output_type": "display_data"
    },
    {
     "data": {
      "text/html": [
       "<p>&emsp;&emsp;&emsp;&emsp;&emsp; 50 CP-TEMP Cortical plate, temporal cortex 5 <span style=\"display:inline-block;width:20px;height:12px;padding:0px;background-color:#f6ca72;\"></span></p>"
      ],
      "text/plain": [
       "<IPython.core.display.HTML object>"
      ]
     },
     "metadata": {},
     "output_type": "display_data"
    },
    {
     "data": {
      "text/html": [
       "<p>&emsp;&emsp;&emsp;&emsp;&emsp; 48 SGL-TEMP Subpial granular layer, temporal cortex 5 <span style=\"display:inline-block;width:20px;height:12px;padding:0px;background-color:#b8a98a;\"></span></p>"
      ],
      "text/plain": [
       "<IPython.core.display.HTML object>"
      ]
     },
     "metadata": {},
     "output_type": "display_data"
    },
    {
     "data": {
      "text/html": [
       "<p>&emsp;&emsp;&emsp;&emsp;&emsp; 51 SP-TEMP Subplate zone, temporal cortex 5 <span style=\"display:inline-block;width:20px;height:12px;padding:0px;background-color:#eafe89;\"></span></p>"
      ],
      "text/plain": [
       "<IPython.core.display.HTML object>"
      ]
     },
     "metadata": {},
     "output_type": "display_data"
    },
    {
     "data": {
      "text/html": [
       "<p>&emsp;&emsp;&emsp;&emsp;&emsp; 52 IZ-TEMP Intermediate zone, temporal cortex 5 <span style=\"display:inline-block;width:20px;height:12px;padding:0px;background-color:#bcf1ce;\"></span></p>"
      ],
      "text/plain": [
       "<IPython.core.display.HTML object>"
      ]
     },
     "metadata": {},
     "output_type": "display_data"
    },
    {
     "data": {
      "text/html": [
       "<p>&emsp;&emsp;&emsp;&emsp;&emsp; 53 SVZ-TEMP Subventricular zone, temporal cortex 5 <span style=\"display:inline-block;width:20px;height:12px;padding:0px;background-color:#dbabf2;\"></span></p>"
      ],
      "text/plain": [
       "<IPython.core.display.HTML object>"
      ]
     },
     "metadata": {},
     "output_type": "display_data"
    },
    {
     "data": {
      "text/html": [
       "<p>&emsp;&emsp;&emsp;&emsp;&emsp; 49 MZ-TEMP Marginal zone, temporal cortex 5 <span style=\"display:inline-block;width:20px;height:12px;padding:0px;background-color:#de895e;\"></span></p>"
      ],
      "text/plain": [
       "<IPython.core.display.HTML object>"
      ]
     },
     "metadata": {},
     "output_type": "display_data"
    },
    {
     "data": {
      "text/html": [
       "<p>&emsp;&emsp;&emsp;&emsp;#Br/FB/Tel/AMY 136 BLA Basolateral complex of the amygdala 4 </p>"
      ],
      "text/plain": [
       "<IPython.core.display.HTML object>"
      ]
     },
     "metadata": {},
     "output_type": "display_data"
    },
    {
     "data": {
      "text/html": [
       "<p>&emsp;&emsp;&emsp;&emsp;&emsp; 286 BL Basal nucleus of the amygdala 5 <span style=\"display:inline-block;width:20px;height:12px;padding:0px;background-color:#C6E2E8;\"></span></p>"
      ],
      "text/plain": [
       "<IPython.core.display.HTML object>"
      ]
     },
     "metadata": {},
     "output_type": "display_data"
    },
    {
     "data": {
      "text/html": [
       "<p>&emsp;&emsp;&emsp;&emsp;&emsp; 287 BM Basomedial nucleus of the amygdala 5 <span style=\"display:inline-block;width:20px;height:12px;padding:0px;background-color:#BBDCE3;\"></span></p>"
      ],
      "text/plain": [
       "<IPython.core.display.HTML object>"
      ]
     },
     "metadata": {},
     "output_type": "display_data"
    },
    {
     "data": {
      "text/html": [
       "<p>&emsp;&emsp;&emsp;&emsp;&emsp;#Br/FB/Tel/Ctx/PARG 56 ENT Entorhinal cortex 5 </p>"
      ],
      "text/plain": [
       "<IPython.core.display.HTML object>"
      ]
     },
     "metadata": {},
     "output_type": "display_data"
    },
    {
     "data": {
      "text/html": [
       "<p>&emsp;&emsp;&emsp;&emsp;&emsp;&emsp; 61 IZ-ENT Intermediate zone, entorhinal cortex 6 <span style=\"display:inline-block;width:20px;height:12px;padding:0px;background-color:#bcf1ce;\"></span></p>"
      ],
      "text/plain": [
       "<IPython.core.display.HTML object>"
      ]
     },
     "metadata": {},
     "output_type": "display_data"
    },
    {
     "data": {
      "text/html": [
       "<p>&emsp;&emsp;&emsp;&emsp;&emsp;&emsp; 58 MZ-ENT Marginal zone, entorhinal cortex 6 <span style=\"display:inline-block;width:20px;height:12px;padding:0px;background-color:#de895e;\"></span></p>"
      ],
      "text/plain": [
       "<IPython.core.display.HTML object>"
      ]
     },
     "metadata": {},
     "output_type": "display_data"
    },
    {
     "data": {
      "text/html": [
       "<p>&emsp;&emsp;&emsp;&emsp;&emsp;&emsp; 59 CP-ENT Cortical plate, entorhinal cortex 6 <span style=\"display:inline-block;width:20px;height:12px;padding:0px;background-color:#f6ca72;\"></span></p>"
      ],
      "text/plain": [
       "<IPython.core.display.HTML object>"
      ]
     },
     "metadata": {},
     "output_type": "display_data"
    },
    {
     "data": {
      "text/html": [
       "<p>&emsp;&emsp;&emsp;&emsp;&emsp;&emsp; 60 SP-ENT Subplate zone, entorhinal cortex 6 <span style=\"display:inline-block;width:20px;height:12px;padding:0px;background-color:#eafe89;\"></span></p>"
      ],
      "text/plain": [
       "<IPython.core.display.HTML object>"
      ]
     },
     "metadata": {},
     "output_type": "display_data"
    },
    {
     "data": {
      "text/html": [
       "<p>&emsp;&emsp;&emsp;&emsp;&emsp;&emsp; 57 SGL-ENT Subpial granular layer, entorhinal cortex 6 <span style=\"display:inline-block;width:20px;height:12px;padding:0px;background-color:#b8a98a;\"></span></p>"
      ],
      "text/plain": [
       "<IPython.core.display.HTML object>"
      ]
     },
     "metadata": {},
     "output_type": "display_data"
    },
    {
     "data": {
      "text/html": [
       "<p>&emsp;&emsp;&emsp;&emsp;#Br/FB/Tel/BN 145 GP Globus pallidus 4 </p>"
      ],
      "text/plain": [
       "<IPython.core.display.HTML object>"
      ]
     },
     "metadata": {},
     "output_type": "display_data"
    },
    {
     "data": {
      "text/html": [
       "<p>&emsp;&emsp;&emsp;&emsp;&emsp; 146 GPl Globus pallidus lateral segment 5 <span style=\"display:inline-block;width:20px;height:12px;padding:0px;background-color:#D9E543;\"></span></p>"
      ],
      "text/plain": [
       "<IPython.core.display.HTML object>"
      ]
     },
     "metadata": {},
     "output_type": "display_data"
    },
    {
     "data": {
      "image/png": "[encoded data removed]",
      "text/plain": [
       "<Figure size 1200x800 with 2 Axes>"
      ]
     },
     "metadata": {},
     "output_type": "display_data"
    }
   ],
   "source": [
    "displayed_ann = display_annotation(im_arr, annot, ontohelper)"
   ]
  },
  {
   "cell_type": "code",
   "execution_count": 15,
   "metadata": {},
   "outputs": [],
   "source": [
    "from annotation_handling import get_level_ids, get_reachable_parents, get_nonreachable"
   ]
  },
  {
   "cell_type": "code",
   "execution_count": 73,
   "metadata": {},
   "outputs": [],
   "source": [
    "reachable = get_reachable_parents2(annot, ontohelper)"
   ]
  },
  {
   "cell_type": "code",
   "execution_count": 72,
   "metadata": {},
   "outputs": [],
   "source": [
    "def get_reachable_parents2(annot:'Annotation', ontohelper:TreeHelper):\n",
    "    reachable1 = defaultdict(list) # parent: [annotated]\n",
    "    reachable2 = defaultdict(list) # parent: [aggregatable]\n",
    "\n",
    "    for ontoid in annot:\n",
    "        \n",
    "        par = ontohelper.onto_lookup[ontoid].parentid\n",
    "        if ontoid not in reachable1[par]:\n",
    "            reachable1[par].append(ontoid)\n",
    "\n",
    "        anclist = list(reversed(ontohelper.get_ancestor_ids(ontoid)))\n",
    "        oid = par # same as anclist[0]\n",
    "        for ii in range(1,len(anclist)): \n",
    "            par = anclist[ii]\n",
    "            if oid not in reachable2[par] and oid not in annot:\n",
    "                reachable2[par].append(oid)\n",
    "            oid = par\n",
    "\n",
    "    reachable = {}\n",
    "    for k in reachable1:\n",
    "        reachable[k]=[reachable1[k],[]]\n",
    "\n",
    "    for k in reachable2:\n",
    "        if k in reachable:\n",
    "            reachable[k][1]=reachable2[k]\n",
    "        else:\n",
    "            reachable[k]=[[],reachable2[k]]\n",
    "\n",
    "    return reachable\n"
   ]
  },
  {
   "cell_type": "code",
   "execution_count": 74,
   "metadata": {},
   "outputs": [
    {
     "data": {
      "text/plain": [
       "{93: [[98, 94, 95, 96, 97, 99, 100], []],\n",
       " 85: [[90, 91, 92, 88, 87, 89, 86], []],\n",
       " 83: [[386, 387, 388], []],\n",
       " 66: [[68, 67, 72, 73], [93, 85, 74, 101]],\n",
       " 387: [[422, 423], []],\n",
       " 388: [[424, 425], []],\n",
       " 235: [[247, 245], []],\n",
       " 5000: [[1016, 1026, 1000, 158], [442]],\n",
       " 74: [[82], [83]],\n",
       " 386: [[421, 420], []],\n",
       " 101: [[102, 103, 107, 106, 108, 104, 105], []],\n",
       " 38: [[42, 41, 40, 39, 43, 44, 45], []],\n",
       " 216: [[219], []],\n",
       " 3000: [[244, 243, 253, 417], [235, 232]],\n",
       " 21: [[22, 23, 25, 24], []],\n",
       " 4: [[131, 134], [64, 38, 21, 12, 29, 47, 55]],\n",
       " 141: [[143, 142], []],\n",
       " 442: [[156, 441], []],\n",
       " 137: [[290, 289], []],\n",
       " 135: [[293, 393, 295], [137, 136]],\n",
       " 12: [[13, 14, 15, 16, 18, 19, 17], []],\n",
       " 259: [[167], []],\n",
       " 160: [[176], [259]],\n",
       " 29: [[35, 36, 30, 31, 32, 33, 34], []],\n",
       " 6000: [[229, 226], []],\n",
       " 232: [[236], []],\n",
       " 3: [[135], [4, 140]],\n",
       " 47: [[54, 50, 48, 51, 52, 53, 49], []],\n",
       " 136: [[286, 287], []],\n",
       " 56: [[61, 58, 59, 60, 57], []],\n",
       " 145: [[146], []],\n",
       " 64: [[], [66]],\n",
       " 2: [[], [3, 159]],\n",
       " 1: [[], [2, 215]],\n",
       " 215: [[], [216]],\n",
       " 140: [[], [141, 145]],\n",
       " 159: [[], [160]],\n",
       " 55: [[], [56]]}"
      ]
     },
     "execution_count": 74,
     "metadata": {},
     "output_type": "execute_result"
    }
   ],
   "source": [
    "reachable"
   ]
  },
  {
   "cell_type": "code",
   "execution_count": 36,
   "metadata": {},
   "outputs": [],
   "source": [
    "nonreachable, nrleaves = get_nonreachable(annot,ontohelper)"
   ]
  },
  {
   "cell_type": "code",
   "execution_count": 37,
   "metadata": {
    "scrolled": true
   },
   "outputs": [
    {
     "data": {
      "text/plain": [
       "defaultdict(list,\n",
       "            {389: [426, 427],\n",
       "             109: [110, 111, 112, 113, 114, 115, 116],\n",
       "             118: [500, 501, 502, 503, 504, 505, 506],\n",
       "             120: [121, 122, 123, 124, 125, 126, 127, 128, 129],\n",
       "             148: [149, 153, 154, 313],\n",
       "             149: [150, 151],\n",
       "             155: [439],\n",
       "             254: [161, 459, 162, 416, 255],\n",
       "             260: [171, 333, 391, 170],\n",
       "             256: [163, 164, 165],\n",
       "             257: [258, 166, 395, 390],\n",
       "             282: [329, 330, 383, 331, 332, 401, 402, 380, 174, 175],\n",
       "             380: [381, 382],\n",
       "             172: [394, 399],\n",
       "             177: [413,\n",
       "              384,\n",
       "              178,\n",
       "              179,\n",
       "              418,\n",
       "              180,\n",
       "              181,\n",
       "              182,\n",
       "              183,\n",
       "              184,\n",
       "              185,\n",
       "              298,\n",
       "              299,\n",
       "              409,\n",
       "              410,\n",
       "              306,\n",
       "              186,\n",
       "              187,\n",
       "              411,\n",
       "              412,\n",
       "              302,\n",
       "              303,\n",
       "              304,\n",
       "              307,\n",
       "              308,\n",
       "              309,\n",
       "              188,\n",
       "              189,\n",
       "              190,\n",
       "              191,\n",
       "              280],\n",
       "             185: [407, 408],\n",
       "             186: [300, 301],\n",
       "             440: [192, 204, 210],\n",
       "             192: [203, 193, 196, 377],\n",
       "             203: [322, 323, 324, 325, 326],\n",
       "             193: [194, 195],\n",
       "             195: [318, 319, 385],\n",
       "             196: [320,\n",
       "              321,\n",
       "              197,\n",
       "              200,\n",
       "              285,\n",
       "              444,\n",
       "              403,\n",
       "              404,\n",
       "              263,\n",
       "              262,\n",
       "              261,\n",
       "              201,\n",
       "              428,\n",
       "              449,\n",
       "              283,\n",
       "              453],\n",
       "             197: [198, 199],\n",
       "             283: [450, 451, 452, 454],\n",
       "             204: [205, 211],\n",
       "             205: [429, 264, 265, 266, 206, 207, 208, 267, 268, 269, 209, 372],\n",
       "             206: [464, 465],\n",
       "             211: [378,\n",
       "              374,\n",
       "              375,\n",
       "              376,\n",
       "              314,\n",
       "              315,\n",
       "              316,\n",
       "              270,\n",
       "              273,\n",
       "              274,\n",
       "              275,\n",
       "              276,\n",
       "              277,\n",
       "              278,\n",
       "              373,\n",
       "              279,\n",
       "              212,\n",
       "              213,\n",
       "              214,\n",
       "              305,\n",
       "              336,\n",
       "              430],\n",
       "             270: [271, 272],\n",
       "             210: [448, 445, 446, 447, 460, 461, 462, 463],\n",
       "             218: [348, 352, 357, 358],\n",
       "             348: [349, 350, 351],\n",
       "             352: [353, 354, 355, 356],\n",
       "             360: [361, 362],\n",
       "             217: [220, 221, 222],\n",
       "             231: [317, 367, 368, 369, 370, 371],\n",
       "             237: [345, 340],\n",
       "             238: [239, 240, 241],\n",
       "             251: [249]})"
      ]
     },
     "execution_count": 37,
     "metadata": {},
     "output_type": "execute_result"
    }
   ],
   "source": [
    "nonreachable"
   ]
  },
  {
   "cell_type": "code",
   "execution_count": 40,
   "metadata": {},
   "outputs": [
    {
     "data": {
      "text/plain": [
       "(147, 40)"
      ]
     },
     "execution_count": 40,
     "metadata": {},
     "output_type": "execute_result"
    }
   ],
   "source": [
    "len(nrleaves), len(nonreachable)"
   ]
  },
  {
   "cell_type": "code",
   "execution_count": 79,
   "metadata": {},
   "outputs": [
    {
     "data": {
      "text/plain": [
       "NodeRecord(acronym='OLF', name='Olfactory cortex', color_hex_triplet='#D1EBDD', level=4, parentid=4, numchildren=0)"
      ]
     },
     "execution_count": 79,
     "metadata": {},
     "output_type": "execute_result"
    }
   ],
   "source": [
    "ontohelper.onto_lookup[134]"
   ]
  },
  {
   "cell_type": "code",
   "execution_count": 27,
   "metadata": {},
   "outputs": [
    {
     "data": {
      "text/plain": [
       "[67, 68, 69, 70, 71, 72, 73, 74, 85, 93, 101, 109]"
      ]
     },
     "execution_count": 27,
     "metadata": {},
     "output_type": "execute_result"
    }
   ],
   "source": [
    "ontohelper.get_sibling_ids(109)"
   ]
  },
  {
   "cell_type": "code",
   "execution_count": 76,
   "metadata": {},
   "outputs": [
    {
     "name": "stdout",
     "output_type": "stream",
     "text": [
      "         [4] 134 (OLF) Olfactory cortex\n"
     ]
    }
   ],
   "source": [
    "ontohelper.print_subtree_at_id(134)"
   ]
  },
  {
   "cell_type": "code",
   "execution_count": 19,
   "metadata": {},
   "outputs": [],
   "source": [
    "level_ids = get_level_ids(annot, ontohelper)"
   ]
  },
  {
   "cell_type": "code",
   "execution_count": 31,
   "metadata": {},
   "outputs": [],
   "source": [
    "freq = [0]*(max(level_ids)+1)\n",
    "for lev,ids in sorted(level_ids.items()):\n",
    "    freq[lev]=len(ids)/len(annot)"
   ]
  },
  {
   "cell_type": "code",
   "execution_count": 12,
   "metadata": {},
   "outputs": [],
   "source": [
    "to_draw_list = ontohelper.get_ids_by_level(4)"
   ]
  },
  {
   "cell_type": "code",
   "execution_count": 15,
   "metadata": {},
   "outputs": [],
   "source": [
    "\n",
    "\n",
    "from collections import defaultdict\n",
    "draw_ids = defaultdict(list) # parent:[children]\n",
    "\n",
    "for annot_id in annot:\n",
    "    if annot_id in to_draw_list:\n",
    "        draw_ids[annot_id].append(annot_id)\n",
    "    else:\n",
    "        anclist = ontohelper.get_ancestor_ids(annot_id)\n",
    "        for elt in reversed(anclist):\n",
    "            if elt in to_draw_list:\n",
    "                draw_ids[elt].append(annot_id)\n",
    "                break\n"
   ]
  },
  {
   "cell_type": "code",
   "execution_count": 13,
   "metadata": {},
   "outputs": [
    {
     "data": {
      "text/plain": [
       "dict_keys([64, 38, 21, 131, 134, 141, 137, 293, 12, 259, 176, 29, 47, 136, 55, 393, 145, 295])"
      ]
     },
     "execution_count": 13,
     "metadata": {},
     "output_type": "execute_result"
    }
   ],
   "source": [
    "draw_ids.keys()"
   ]
  },
  {
   "cell_type": "code",
   "execution_count": 19,
   "metadata": {},
   "outputs": [],
   "source": [
    "from annotation_handling import get_supershape"
   ]
  },
  {
   "cell_type": "code",
   "execution_count": 1,
   "metadata": {},
   "outputs": [],
   "source": [
    "# with a list of desired shapes, use get_supershape to merge leaves \n",
    "\n"
   ]
  },
  {
   "cell_type": "code",
   "execution_count": 17,
   "metadata": {},
   "outputs": [],
   "source": [
    "# parshapes = {}\n",
    "# for par, chlist in draw_ids.items():\n",
    "#     print(ontohelper.onto_lookup[par])\n",
    "#     parshp = None\n",
    "#     for chi in chlist:\n",
    "#         print('\\t',ontohelper.onto_lookup[chi])\n",
    "#         if parshp is None:\n",
    "#             parshp = annot[chi]\n",
    "#         else:\n",
    "#             parshp = parshp.union(annot[chi])\n",
    "\n",
    "#     parshapes[par]=parshp"
   ]
  },
  {
   "cell_type": "code",
   "execution_count": 18,
   "metadata": {},
   "outputs": [],
   "source": [
    "# parshapes.keys()"
   ]
  },
  {
   "cell_type": "code",
   "execution_count": 19,
   "metadata": {},
   "outputs": [],
   "source": [
    "# parshapes[134]"
   ]
  },
  {
   "cell_type": "code",
   "execution_count": 20,
   "metadata": {},
   "outputs": [],
   "source": [
    "# plt.figure(figsize=(12,8))\n",
    "# plt.subplot(1,2,1)\n",
    "# plt.imshow(im_arr)\n",
    "\n",
    "# plt.subplot(1,2,2)\n",
    "# plt.imshow(im_arr)\n",
    "# for par,parshp in parshapes.items():\n",
    "    \n",
    "#     color = ontohelper.onto_lookup[par].color_hex_triplet\n",
    "#     plot_shape(parshp,color)\n",
    "#     # break"
   ]
  },
  {
   "cell_type": "markdown",
   "metadata": {},
   "source": [
    "## Temp"
   ]
  },
  {
   "cell_type": "code",
   "execution_count": 17,
   "metadata": {},
   "outputs": [],
   "source": [
    "from collections import defaultdict"
   ]
  },
  {
   "cell_type": "code",
   "execution_count": 29,
   "metadata": {},
   "outputs": [
    {
     "name": "stdout",
     "output_type": "stream",
     "text": [
      "HPF 0.03489960269751205 35\n",
      "ft 0.04479758136773956 7\n",
      "dev 0.004264530697871044 4\n",
      "Ctx 0.5506461216234214 39\n",
      "CB 0.04081355714387512 1\n",
      "AMY_BN 0.09956298019743423 11\n",
      "Mig 0.04205037903498548 2\n",
      "TH 0.016912539815769893 2\n",
      "Vs 0.16605270742139103 2\n"
     ]
    }
   ],
   "source": [
    "group_regions = defaultdict(list)\n",
    "group_areas = defaultdict(int)\n",
    "\n",
    "fullarea = 0\n",
    "\n",
    "for ontoid in annot:\n",
    "    grp = ontohelper.get_group_by_ontoid(ontoid)\n",
    "    shapes = annot[ontoid]\n",
    "    count = len(shapes)\n",
    "    area = sum([x.area for x in shapes])\n",
    "    group_regions[grp].append((ontoid,count,area))\n",
    "    group_areas[grp]+=area\n",
    "    fullarea+=area\n",
    "\n",
    "\n",
    "for grp,vals in group_regions.items():\n",
    "    print(grp,group_areas[grp]/fullarea,len(vals))"
   ]
  },
  {
   "cell_type": "code",
   "execution_count": 25,
   "metadata": {},
   "outputs": [
    {
     "data": {
      "text/plain": [
       "defaultdict(int,\n",
       "            {'HPF': 206219.43943257746,\n",
       "             'ft': 264705.9394246085,\n",
       "             'dev': 25198.829269786453,\n",
       "             'Ctx': 3253731.4396132063,\n",
       "             'CB': 241164.6043196761,\n",
       "             'AMY_BN': 588311.0516331289,\n",
       "             'Mig': 248472.9029061497,\n",
       "             'TH': 99935.07692389424,\n",
       "             'Vs': 981194.4433150298})"
      ]
     },
     "execution_count": 25,
     "metadata": {},
     "output_type": "execute_result"
    }
   ],
   "source": [
    "group_areas"
   ]
  },
  {
   "cell_type": "code",
   "execution_count": null,
   "metadata": {},
   "outputs": [],
   "source": []
  }
 ],
 "metadata": {
  "kernelspec": {
   "display_name": "Python 3 (ipykernel)",
   "language": "python",
   "name": "python3"
  },
  "language_info": {
   "codemirror_mode": {
    "name": "ipython",
    "version": 3
   },
   "file_extension": ".py",
   "mimetype": "text/x-python",
   "name": "python",
   "nbconvert_exporter": "python",
   "pygments_lexer": "ipython3",
   "version": "3.8.10"
  }
 },
 "nbformat": 4,
 "nbformat_minor": 4
}
